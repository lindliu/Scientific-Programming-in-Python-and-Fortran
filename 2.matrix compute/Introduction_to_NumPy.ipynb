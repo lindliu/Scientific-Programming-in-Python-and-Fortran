{
  "nbformat": 4,
  "nbformat_minor": 0,
  "metadata": {
    "colab": {
      "provenance": [],
      "collapsed_sections": []
    },
    "kernelspec": {
      "display_name": "Python 3",
      "language": "python",
      "name": "python3"
    },
    "language_info": {
      "codemirror_mode": {
        "name": "ipython",
        "version": 3
      },
      "file_extension": ".py",
      "mimetype": "text/x-python",
      "name": "python",
      "nbconvert_exporter": "python",
      "pygments_lexer": "ipython3",
      "version": "3.7.3"
    },
    "nbTranslate": {
      "displayLangs": [
        "en"
      ],
      "hotkey": "alt-t",
      "langInMainMenu": true,
      "sourceLang": "sv",
      "targetLang": "en",
      "useGoogleTranslate": true
    }
  },
  "cells": [
    {
      "cell_type": "markdown",
      "metadata": {
        "lang": "en",
        "id": "voVBo3tphhWi"
      },
      "source": [
        "# About NumPy\n",
        "\n",
        "* Python extensions to handle large arrays of the same data types.\n",
        " * Vectors\n",
        " * Matrices\n",
        " * ...\n",
        "  \n",
        "* Normal data structures in Python are flexible, but too slow for numeric operations."
      ]
    },
    {
      "cell_type": "markdown",
      "metadata": {
        "lang": "en",
        "id": "zyOEduVbhhWl"
      },
      "source": [
        "# Using NumPy\n",
        "\n",
        "NumPy is imported according to the following convention."
      ]
    },
    {
      "cell_type": "code",
      "metadata": {
        "id": "ibj88ipqJ_Ez"
      },
      "source": [
        "import numpy as np"
      ],
      "execution_count": null,
      "outputs": []
    },
    {
      "cell_type": "markdown",
      "metadata": {
        "lang": "en",
        "id": "I7_shhtXhhWx"
      },
      "source": [
        "The reason don't import **numpy**, but import **np**, is to avoid writing **numpy.** before each every numpy function. It is also not recommended to use **from** to import NumPy as it may conflict with other features of Python."
      ]
    },
    {
      "cell_type": "markdown",
      "metadata": {
        "lang": "en",
        "id": "XB6RUnnOhhWy"
      },
      "source": [
        "# Array object\n",
        "\n",
        "The array object is the main data type in NumPy. For efficient numerical operations, all array objects are allocated as continuous blocks of values in memory."
      ]
    },
    {
      "cell_type": "markdown",
      "metadata": {
        "lang": "en",
        "id": "vbmYmKzChhW1"
      },
      "source": [
        "## Create array objects\n",
        "\n",
        "New array objects can be created using the **np.array()** function. The first argument contains a list or a nested list of values. The last argument specifies the data type of the array."
      ]
    },
    {
      "cell_type": "code",
      "metadata": {
        "id": "-OCYjJq8J_FH",
        "colab": {
          "base_uri": "https://localhost:8080/"
        },
        "outputId": "c05d11a2-7e1e-46a0-b73e-de2adddb90f1"
      },
      "source": [
        "a = np.array([1, 2, 3], float)\n",
        "print(a)"
      ],
      "execution_count": null,
      "outputs": [
        {
          "output_type": "stream",
          "name": "stdout",
          "text": [
            "[1. 2. 3.]\n"
          ]
        }
      ]
    },
    {
      "cell_type": "markdown",
      "metadata": {
        "lang": "en",
        "id": "DDHmy5vphhW8"
      },
      "source": [
        "If no data type is specified, NumPy will determine the data type depending on what is specified as input to the function."
      ]
    },
    {
      "cell_type": "code",
      "metadata": {
        "id": "8PpHYLOTJ_FU",
        "colab": {
          "base_uri": "https://localhost:8080/"
        },
        "outputId": "ada10802-65ad-417e-a381-5d620dcf284a"
      },
      "source": [
        "a = np.array([1, 2, 3])\n",
        "print(a)"
      ],
      "execution_count": null,
      "outputs": [
        {
          "output_type": "stream",
          "name": "stdout",
          "text": [
            "[1 2 3]\n"
          ]
        }
      ]
    },
    {
      "cell_type": "code",
      "metadata": {
        "id": "IjC2QvEMJ_Fe",
        "colab": {
          "base_uri": "https://localhost:8080/"
        },
        "outputId": "2a0a1a1d-9e23-4c1c-b6a5-b3fbf627ce47"
      },
      "source": [
        "a = np.array([1.0, 2.0, 3.0])\n",
        "print(a)"
      ],
      "execution_count": null,
      "outputs": [
        {
          "output_type": "stream",
          "name": "stdout",
          "text": [
            "[1. 2. 3.]\n"
          ]
        }
      ]
    },
    {
      "cell_type": "markdown",
      "metadata": {
        "lang": "en",
        "id": "GZIszxUbhhXG"
      },
      "source": [
        "Compared to lists, array objects can only contain values ​​of the same type."
      ]
    },
    {
      "cell_type": "markdown",
      "metadata": {
        "lang": "en",
        "id": "949_0gvEhhXI"
      },
      "source": [
        "### Multidimensional arrays"
      ]
    },
    {
      "cell_type": "markdown",
      "metadata": {
        "lang": "en",
        "id": "jREGxoEHhhXJ"
      },
      "source": [
        "Multidimensional arrays can be created by specifying nested lists in the **np.array ()** function."
      ]
    },
    {
      "cell_type": "code",
      "metadata": {
        "id": "SYm_hUI4J_Fx",
        "colab": {
          "base_uri": "https://localhost:8080/"
        },
        "outputId": "abdd5985-67e7-4d41-d2e8-0f221275080d"
      },
      "source": [
        "a = np.array([[1,2],[3,4]])\n",
        "print(a)\n",
        "\n",
        "b = np.array([[1,2,3,4],[5,6,7,8]], float)\n",
        "print(b)"
      ],
      "execution_count": null,
      "outputs": [
        {
          "output_type": "stream",
          "name": "stdout",
          "text": [
            "[[1 2]\n",
            " [3 4]]\n",
            "[[1. 2. 3. 4.]\n",
            " [5. 6. 7. 8.]]\n"
          ]
        }
      ]
    },
    {
      "cell_type": "markdown",
      "metadata": {
        "lang": "en",
        "id": "Q5M6PguuhhXQ"
      },
      "source": [
        "## Using arrays"
      ]
    },
    {
      "cell_type": "markdown",
      "metadata": {
        "lang": "en",
        "id": "h3SOJ28XhhXR"
      },
      "source": [
        "Arrays are always stored as 1-dimensional blocks of values in memory. Array dimensions are really just a way to access different positions in the 1-dimensional block.\n",
        "\n",
        "NumPy stores arrays in memory row-wise, which also how C and C++ store two-dimensional arrays. Fortran stores arrays column by column. The following figure shows how this happens in memory:\n",
        "\n",
        "![variable references 1](https://github.com/jonaslindemann/guide_to_python/blob/master/chapters/kapitel5/notebooks/images/array1.png?raw=1)"
      ]
    },
    {
      "cell_type": "markdown",
      "metadata": {
        "lang": "en",
        "id": "JwCwab2rhhXT"
      },
      "source": [
        "### Array information\n",
        "\n",
        "There are several ways to query information about array objects. One of the more important properties is the shape of the array object, which can be obtained through the **.shape** properties."
      ]
    },
    {
      "cell_type": "code",
      "metadata": {
        "id": "oXSwCceTJ_GJ",
        "colab": {
          "base_uri": "https://localhost:8080/"
        },
        "outputId": "dfeb3f33-f1ce-461c-da66-794f4c95bc54"
      },
      "source": [
        "a = np.array([1,2,3,4])\n",
        "b = np.array([[1,2],[3,4]])\n",
        "c = np.array([[[1,2,3,4],\n",
        "               [5,6,7,8]],\n",
        "              [[1,2,3,4],\n",
        "               [5,6,7,8]]],float)\n",
        "\n",
        "print(a.shape)\n",
        "print(b.shape)\n",
        "print(c.shape)"
      ],
      "execution_count": null,
      "outputs": [
        {
          "output_type": "stream",
          "name": "stdout",
          "text": [
            "(4,)\n",
            "(2, 2)\n",
            "(2, 2, 4)\n"
          ]
        }
      ]
    },
    {
      "cell_type": "markdown",
      "metadata": {
        "lang": "en",
        "id": "lJ57JwWUhhXZ"
      },
      "source": [
        "For two-dimensional array objects, the number of rows and columns can be assigned to variables using the following code:"
      ]
    },
    {
      "cell_type": "code",
      "metadata": {
        "id": "dPfM8Kq1J_GS",
        "colab": {
          "base_uri": "https://localhost:8080/"
        },
        "outputId": "1a493961-7535-471b-9cc7-eabca34fd2b2"
      },
      "source": [
        "r, c = b.shape\n",
        "print(r, c)"
      ],
      "execution_count": null,
      "outputs": [
        {
          "output_type": "stream",
          "name": "stdout",
          "text": [
            "2 2\n"
          ]
        }
      ]
    },
    {
      "cell_type": "markdown",
      "metadata": {
        "lang": "en",
        "id": "yxmyxF03hhXi"
      },
      "source": [
        "The number of dimensions for an array object is queried by the **.ndim** property"
      ]
    },
    {
      "cell_type": "code",
      "metadata": {
        "id": "IFHVmyVRJ_GZ",
        "colab": {
          "base_uri": "https://localhost:8080/"
        },
        "outputId": "dd3f58c3-a494-48f4-911c-7a0227c64d71"
      },
      "source": [
        "print(b.ndim)"
      ],
      "execution_count": null,
      "outputs": [
        {
          "output_type": "stream",
          "name": "stdout",
          "text": [
            "2\n"
          ]
        }
      ]
    },
    {
      "cell_type": "markdown",
      "metadata": {
        "lang": "en",
        "id": "8jxA-phvhhXm"
      },
      "source": [
        "There are several other properties that can be queried. Some of these are shown in the following example:"
      ]
    },
    {
      "cell_type": "code",
      "metadata": {
        "id": "jb7YvtmHJ_Gk",
        "colab": {
          "base_uri": "https://localhost:8080/"
        },
        "outputId": "47e0ab40-fb2e-47dc-9b20-2ee3b6d27f0b"
      },
      "source": [
        "b = np.array([[1,2],[3,4]])\n",
        "print(\"array shape =\", b.shape) # Size\n",
        "print(\"array ndim =\", b.ndim)   # Number of dimensions\n",
        "print(\"array dtype =\", b.dtype) # Data type\n",
        "print(\"array size =\", b.size)   # Number of elements in the array\n",
        "print(\"array itemsize =\", b.itemsize) # Size of an element in bytes"
      ],
      "execution_count": null,
      "outputs": [
        {
          "output_type": "stream",
          "name": "stdout",
          "text": [
            "array shape = (2, 2)\n",
            "array ndim = 2\n",
            "array dtype = int64\n",
            "array size = 4\n",
            "array itemsize = 8\n"
          ]
        }
      ]
    },
    {
      "cell_type": "markdown",
      "metadata": {
        "lang": "en",
        "id": "DzTTRGcyhhXr"
      },
      "source": [
        "### Change the shape of an array"
      ]
    },
    {
      "cell_type": "markdown",
      "metadata": {
        "lang": "en",
        "id": "9MmTx20vhhXu"
      },
      "source": [
        "The **.reshape()** method can be used to change the shape of an array. As long as the number of values in an array is not changed, NumPy will not reallocate the memory for the array. To verify this, we first define a function that returns the array object's memory address:"
      ]
    },
    {
      "cell_type": "code",
      "metadata": {
        "id": "4zot9DrrJ_Gv"
      },
      "source": [
        "def memory_of(a):\n",
        "    return a.__array_interface__[\"data\"][0]"
      ],
      "execution_count": null,
      "outputs": []
    },
    {
      "cell_type": "markdown",
      "metadata": {
        "lang": "en",
        "id": "Hqfuec9KhhXz"
      },
      "source": [
        "In the following example, we change the shape of an array object and examine whether memory allocation changes through it."
      ]
    },
    {
      "cell_type": "code",
      "metadata": {
        "id": "cTL5iYeeJ_G5",
        "colab": {
          "base_uri": "https://localhost:8080/"
        },
        "outputId": "58951892-c729-4ed7-aecc-3129aed9ba8d"
      },
      "source": [
        "a = np.array([[1,2],[3,4]])\n",
        "\n",
        "print(a)\n",
        "print(memory_of(a))\n",
        "\n",
        "a_flat = np.reshape(a, [4,1])\n",
        "\n",
        "print(a_flat)\n",
        "print(memory_of(a_flat))"
      ],
      "execution_count": null,
      "outputs": [
        {
          "output_type": "stream",
          "name": "stdout",
          "text": [
            "[[1 2]\n",
            " [3 4]]\n",
            "39538208\n",
            "[[1]\n",
            " [2]\n",
            " [3]\n",
            " [4]]\n",
            "39538208\n"
          ]
        }
      ]
    },
    {
      "cell_type": "markdown",
      "metadata": {
        "lang": "en",
        "id": "X5EgyEUQhhX4"
      },
      "source": [
        "Here we can see that the memory of the array objects is not changed and both __a__ and **a_flat** point to the same memory location."
      ]
    },
    {
      "cell_type": "markdown",
      "metadata": {
        "lang": "en",
        "id": "T3LR5CbXhhX5"
      },
      "source": [
        "Changing values in __a__ will also change values in **a_flat**."
      ]
    },
    {
      "cell_type": "code",
      "metadata": {
        "id": "rXdFWeWbJ_HR",
        "colab": {
          "base_uri": "https://localhost:8080/"
        },
        "outputId": "1d5db39a-d7db-418d-d2cd-4a58dfa1a036"
      },
      "source": [
        "a[0,0] = 42\n",
        "\n",
        "print(a)\n",
        "print(a_flat)"
      ],
      "execution_count": null,
      "outputs": [
        {
          "output_type": "stream",
          "name": "stdout",
          "text": [
            "[[42  2]\n",
            " [ 3  4]]\n",
            "[[42]\n",
            " [ 2]\n",
            " [ 3]\n",
            " [ 4]]\n"
          ]
        }
      ]
    },
    {
      "cell_type": "markdown",
      "metadata": {
        "lang": "en",
        "id": "Gr12n-l2hhX-"
      },
      "source": [
        "If you don't want this behavior when making array assignments, you must use the **.copy()** method to create a copy of the array object."
      ]
    },
    {
      "cell_type": "code",
      "metadata": {
        "id": "J-vueTobJ_Hd",
        "colab": {
          "base_uri": "https://localhost:8080/"
        },
        "outputId": "f6f7c40b-f24f-48bf-c1fb-50024d6917e1"
      },
      "source": [
        "c = a.copy()\n",
        "c[0,0] = 84\n",
        "\n",
        "print(c)\n",
        "print(memory_of(c))\n",
        "\n",
        "print(a)\n",
        "print(memory_of(a))"
      ],
      "execution_count": null,
      "outputs": [
        {
          "output_type": "stream",
          "name": "stdout",
          "text": [
            "[[84  2]\n",
            " [ 3  4]]\n",
            "33406208\n",
            "[[42  2]\n",
            " [ 3  4]]\n",
            "39538208\n"
          ]
        }
      ]
    },
    {
      "cell_type": "markdown",
      "metadata": {
        "lang": "en",
        "id": "vPQD01wQhhYE"
      },
      "source": [
        "Now, __c__ does not refer to the same memory address as **a**."
      ]
    },
    {
      "cell_type": "markdown",
      "metadata": {
        "lang": "en",
        "id": "BG_sUtnLhhYF"
      },
      "source": [
        "More examples:"
      ]
    },
    {
      "cell_type": "code",
      "metadata": {
        "id": "PkgKMC6pJ_Hp",
        "colab": {
          "base_uri": "https://localhost:8080/"
        },
        "outputId": "1ef3dfb4-f3d9-42d3-eca9-9384ab1eb84b"
      },
      "source": [
        "b = np.array([[1,2,3,4],[5,6,7,8]], float)\n",
        "print(b)\n",
        "\n",
        "b_shaped = np.reshape(b, [8,])\n",
        "print(b_shaped)\n",
        "\n",
        "b_shaped = np.reshape(b, [4,2])\n",
        "print(b_shaped)\n",
        "\n",
        "# **Please note** this is not the same as:\n",
        "b_trans = np.transpose(b)\n",
        "print(b_trans)"
      ],
      "execution_count": null,
      "outputs": [
        {
          "output_type": "stream",
          "name": "stdout",
          "text": [
            "[[1. 2. 3. 4.]\n",
            " [5. 6. 7. 8.]]\n",
            "[1. 2. 3. 4. 5. 6. 7. 8.]\n",
            "[[1. 2.]\n",
            " [3. 4.]\n",
            " [5. 6.]\n",
            " [7. 8.]]\n",
            "[[1. 5.]\n",
            " [2. 6.]\n",
            " [3. 7.]\n",
            " [4. 8.]]\n"
          ]
        }
      ]
    },
    {
      "cell_type": "markdown",
      "metadata": {
        "lang": "en",
        "id": "bB_ENbERhhYJ"
      },
      "source": [
        "### Change the size of an array"
      ]
    },
    {
      "cell_type": "markdown",
      "metadata": {
        "lang": "en",
        "id": "Isk1pm60hhYK"
      },
      "source": [
        "The **.resize()** method is used to resize an already existing array object. Existing value will be retained to the extent possible. New values will be populated with values from the previous array object."
      ]
    },
    {
      "cell_type": "code",
      "metadata": {
        "id": "MCUb1CTUJ_Hy",
        "colab": {
          "base_uri": "https://localhost:8080/"
        },
        "outputId": "5d4065b4-2c2c-4841-be13-54d61c4e70c3"
      },
      "source": [
        "base = np.array([[1,2],[3,4]])\n",
        "print(base)\n",
        "\n",
        "big = np.resize(base, [9,9])\n",
        "print(big)\n",
        "\n",
        "big = np.resize(base, [4,4])\n",
        "print(big)\n",
        "\n",
        "big = np.resize(base, [4,2])\n",
        "print(big)"
      ],
      "execution_count": null,
      "outputs": [
        {
          "output_type": "stream",
          "name": "stdout",
          "text": [
            "[[1 2]\n",
            " [3 4]]\n",
            "[[1 2 3 4 1 2 3 4 1]\n",
            " [2 3 4 1 2 3 4 1 2]\n",
            " [3 4 1 2 3 4 1 2 3]\n",
            " [4 1 2 3 4 1 2 3 4]\n",
            " [1 2 3 4 1 2 3 4 1]\n",
            " [2 3 4 1 2 3 4 1 2]\n",
            " [3 4 1 2 3 4 1 2 3]\n",
            " [4 1 2 3 4 1 2 3 4]\n",
            " [1 2 3 4 1 2 3 4 1]]\n",
            "[[1 2 3 4]\n",
            " [1 2 3 4]\n",
            " [1 2 3 4]\n",
            " [1 2 3 4]]\n",
            "[[1 2]\n",
            " [3 4]\n",
            " [1 2]\n",
            " [3 4]]\n"
          ]
        }
      ]
    },
    {
      "cell_type": "markdown",
      "metadata": {
        "lang": "en",
        "id": "bJ6AjAVIhhYR"
      },
      "source": [
        "## Functions for creating array objects"
      ]
    },
    {
      "cell_type": "markdown",
      "metadata": {
        "lang": "en",
        "id": "suyq9lk-hhYZ"
      },
      "source": [
        "In many cases, it is impossible to create arrays using the **np.array()** function. To create larger arrays, NumPy includes a number of features for creating different types of arrays of different sizes."
      ]
    },
    {
      "cell_type": "markdown",
      "metadata": {
        "lang": "en",
        "id": "W_7JEPs3hhYa"
      },
      "source": [
        "### Arrays filled with zeros\n",
        "\n",
        "A common type of array object is an arrays filled with zeros. These can be created with the **np.zeros()** function. The function takes the shape of the array object to be created as an argument and an argument for the data type."
      ]
    },
    {
      "cell_type": "code",
      "metadata": {
        "id": "mRRlEqL8J_H8",
        "colab": {
          "base_uri": "https://localhost:8080/"
        },
        "outputId": "b207f8e2-c09e-4d63-8d72-bce223f41fb6"
      },
      "source": [
        "a = np.zeros([4,4])\n",
        "print(a)"
      ],
      "execution_count": null,
      "outputs": [
        {
          "output_type": "stream",
          "name": "stdout",
          "text": [
            "[[0. 0. 0. 0.]\n",
            " [0. 0. 0. 0.]\n",
            " [0. 0. 0. 0.]\n",
            " [0. 0. 0. 0.]]\n"
          ]
        }
      ]
    },
    {
      "cell_type": "code",
      "metadata": {
        "id": "lce4xQZvJ_IG",
        "colab": {
          "base_uri": "https://localhost:8080/"
        },
        "outputId": "243ca06f-cc80-4ae4-c065-ce9d48de9c43"
      },
      "source": [
        "b = np.zeros([4,4], int)\n",
        "print(b)"
      ],
      "execution_count": null,
      "outputs": [
        {
          "output_type": "stream",
          "name": "stdout",
          "text": [
            "[[0 0 0 0]\n",
            " [0 0 0 0]\n",
            " [0 0 0 0]\n",
            " [0 0 0 0]]\n"
          ]
        }
      ]
    },
    {
      "cell_type": "markdown",
      "metadata": {
        "lang": "en",
        "id": "bI-uYCDghhYi"
      },
      "source": [
        "### Array objects consisting of ones"
      ]
    },
    {
      "cell_type": "markdown",
      "metadata": {
        "lang": "en",
        "id": "dN4yhU9zhhYi"
      },
      "source": [
        "Arrays containing ones are created in a similar way with the function **np.ones()**."
      ]
    },
    {
      "cell_type": "code",
      "metadata": {
        "id": "3wfOCjbbJ_IP",
        "colab": {
          "base_uri": "https://localhost:8080/"
        },
        "outputId": "e4f1753d-6687-4165-d7bd-0499a3e6a6c9"
      },
      "source": [
        "c = np.ones([5,10], float)\n",
        "print(c)"
      ],
      "execution_count": null,
      "outputs": [
        {
          "output_type": "stream",
          "name": "stdout",
          "text": [
            "[[1. 1. 1. 1. 1. 1. 1. 1. 1. 1.]\n",
            " [1. 1. 1. 1. 1. 1. 1. 1. 1. 1.]\n",
            " [1. 1. 1. 1. 1. 1. 1. 1. 1. 1.]\n",
            " [1. 1. 1. 1. 1. 1. 1. 1. 1. 1.]\n",
            " [1. 1. 1. 1. 1. 1. 1. 1. 1. 1.]]\n"
          ]
        }
      ]
    },
    {
      "cell_type": "markdown",
      "metadata": {
        "lang": "en",
        "id": "jwmm1LdVhhYo"
      },
      "source": [
        "It is also possible to create arrays with a specific value using **np.ones()**:"
      ]
    },
    {
      "cell_type": "code",
      "metadata": {
        "id": "wpkW8PjwJ_IU",
        "colab": {
          "base_uri": "https://localhost:8080/"
        },
        "outputId": "885d7da0-e9d0-4368-bc29-8e04e57cd8ec"
      },
      "source": [
        "c = np.ones([5,10], float) * 42.0\n",
        "print(c)"
      ],
      "execution_count": null,
      "outputs": [
        {
          "output_type": "stream",
          "name": "stdout",
          "text": [
            "[[42. 42. 42. 42. 42. 42. 42. 42. 42. 42.]\n",
            " [42. 42. 42. 42. 42. 42. 42. 42. 42. 42.]\n",
            " [42. 42. 42. 42. 42. 42. 42. 42. 42. 42.]\n",
            " [42. 42. 42. 42. 42. 42. 42. 42. 42. 42.]\n",
            " [42. 42. 42. 42. 42. 42. 42. 42. 42. 42.]]\n"
          ]
        }
      ]
    },
    {
      "cell_type": "markdown",
      "metadata": {
        "id": "Vo2LKEtsJ_IY"
      },
      "source": [
        "### Array ranges"
      ]
    },
    {
      "cell_type": "markdown",
      "metadata": {
        "lang": "en",
        "id": "aW0V0YSuhhYs"
      },
      "source": [
        "In many applications, there is a need to create array objects with ranges of numeric values. This can be acomplished with the **np.arange()** function, which is similar to the standard python function **range()**. An array of 10 elements and values from 0 to 9 is created with:"
      ]
    },
    {
      "cell_type": "code",
      "metadata": {
        "id": "ESEtuFrqJ_Ib",
        "colab": {
          "base_uri": "https://localhost:8080/"
        },
        "outputId": "a7a95c2b-115a-4b3c-c4a1-ecae7b7a2141"
      },
      "source": [
        "a = np.arange(10)\n",
        "print(a)"
      ],
      "execution_count": null,
      "outputs": [
        {
          "output_type": "stream",
          "name": "stdout",
          "text": [
            "[0 1 2 3 4 5 6 7 8 9]\n"
          ]
        }
      ]
    },
    {
      "cell_type": "markdown",
      "metadata": {
        "lang": "en",
        "id": "817FJtVzhhYx"
      },
      "source": [
        "By combining **np.arange()** with **np.reshape()**, it is possible to create different array objects filled with value ranges:"
      ]
    },
    {
      "cell_type": "code",
      "metadata": {
        "id": "UYStj7p-J_If",
        "colab": {
          "base_uri": "https://localhost:8080/"
        },
        "outputId": "1f1ab852-7b66-415c-b715-8e775d026038"
      },
      "source": [
        "b = np.reshape(np.arange(100), [10,10])\n",
        "print(b)"
      ],
      "execution_count": null,
      "outputs": [
        {
          "output_type": "stream",
          "name": "stdout",
          "text": [
            "[[ 0  1  2  3  4  5  6  7  8  9]\n",
            " [10 11 12 13 14 15 16 17 18 19]\n",
            " [20 21 22 23 24 25 26 27 28 29]\n",
            " [30 31 32 33 34 35 36 37 38 39]\n",
            " [40 41 42 43 44 45 46 47 48 49]\n",
            " [50 51 52 53 54 55 56 57 58 59]\n",
            " [60 61 62 63 64 65 66 67 68 69]\n",
            " [70 71 72 73 74 75 76 77 78 79]\n",
            " [80 81 82 83 84 85 86 87 88 89]\n",
            " [90 91 92 93 94 95 96 97 98 99]]\n"
          ]
        }
      ]
    },
    {
      "cell_type": "markdown",
      "metadata": {
        "lang": "en",
        "id": "jto-1v8ThhY0"
      },
      "source": [
        "It is possible to give start, end and step lengths just like the **range()** function"
      ]
    },
    {
      "cell_type": "code",
      "metadata": {
        "id": "uy-Ae4qJJ_Im",
        "colab": {
          "base_uri": "https://localhost:8080/"
        },
        "outputId": "c64b512c-d91a-4536-b645-8df59dbf5204"
      },
      "source": [
        "a = np.arange(-10,10, dtype=float)\n",
        "print(a)\n",
        "\n",
        "a = np.arange(-10,10,2)\n",
        "print(a)"
      ],
      "execution_count": null,
      "outputs": [
        {
          "output_type": "stream",
          "name": "stdout",
          "text": [
            "[-10.  -9.  -8.  -7.  -6.  -5.  -4.  -3.  -2.  -1.   0.   1.   2.   3.\n",
            "   4.   5.   6.   7.   8.   9.]\n",
            "[-10  -8  -6  -4  -2   0   2   4   6   8]\n"
          ]
        }
      ]
    },
    {
      "cell_type": "markdown",
      "metadata": {
        "lang": "en",
        "id": "LCjjOAuYhhY3"
      },
      "source": [
        "As with **np.array()**, it is also possible to specify the data type for the range array."
      ]
    },
    {
      "cell_type": "code",
      "metadata": {
        "id": "wm9o2koCJ_Iv"
      },
      "source": [
        "a = np.arange(-10,10,2, dtype=float)\n",
        "print(a)"
      ],
      "execution_count": null,
      "outputs": []
    },
    {
      "cell_type": "markdown",
      "metadata": {
        "lang": "en",
        "id": "RpCN7fo1hhY7"
      },
      "source": [
        "### Identity Arrays"
      ]
    },
    {
      "cell_type": "markdown",
      "metadata": {
        "lang": "en",
        "id": "4kEOs0PIhhY7"
      },
      "source": [
        "Another common array type is the identity array, which is easily be created with the **np.identity()** function. The function takes the size as input and an optional argument for the data type."
      ]
    },
    {
      "cell_type": "code",
      "metadata": {
        "id": "StkWZMyhJ_I-",
        "colab": {
          "base_uri": "https://localhost:8080/"
        },
        "outputId": "1690f788-ede0-423c-825d-d71afb158627"
      },
      "source": [
        "i = np.identity(10)\n",
        "print(i)"
      ],
      "execution_count": null,
      "outputs": [
        {
          "output_type": "stream",
          "name": "stdout",
          "text": [
            "[[1. 0. 0. 0. 0. 0. 0. 0. 0. 0.]\n",
            " [0. 1. 0. 0. 0. 0. 0. 0. 0. 0.]\n",
            " [0. 0. 1. 0. 0. 0. 0. 0. 0. 0.]\n",
            " [0. 0. 0. 1. 0. 0. 0. 0. 0. 0.]\n",
            " [0. 0. 0. 0. 1. 0. 0. 0. 0. 0.]\n",
            " [0. 0. 0. 0. 0. 1. 0. 0. 0. 0.]\n",
            " [0. 0. 0. 0. 0. 0. 1. 0. 0. 0.]\n",
            " [0. 0. 0. 0. 0. 0. 0. 1. 0. 0.]\n",
            " [0. 0. 0. 0. 0. 0. 0. 0. 1. 0.]\n",
            " [0. 0. 0. 0. 0. 0. 0. 0. 0. 1.]]\n"
          ]
        }
      ]
    },
    {
      "cell_type": "markdown",
      "metadata": {
        "lang": "en",
        "id": "9ErKYvn9hhY9"
      },
      "source": [
        "### Array objects with linear variation"
      ]
    },
    {
      "cell_type": "markdown",
      "metadata": {
        "lang": "en",
        "id": "gTylES1ZhhY9"
      },
      "source": [
        "**np.arange()** works best if the range is integer. If you need a more precise range, it is better to use the **np.linspace()** function. The function takes the start, end value and number of values as input. The values between start and end are interpolated by the function."
      ]
    },
    {
      "cell_type": "code",
      "metadata": {
        "id": "rWXVzlERJ_JG",
        "colab": {
          "base_uri": "https://localhost:8080/"
        },
        "outputId": "8613b854-af0b-4d06-830f-5cd3441896c0"
      },
      "source": [
        "x = np.linspace(0,1.0,10)\n",
        "print(x)\n",
        "\n",
        "x = np.linspace(0,1.0,20)\n",
        "print(x)"
      ],
      "execution_count": null,
      "outputs": [
        {
          "output_type": "stream",
          "name": "stdout",
          "text": [
            "[0.         0.11111111 0.22222222 0.33333333 0.44444444 0.55555556\n",
            " 0.66666667 0.77777778 0.88888889 1.        ]\n",
            "[0.         0.05263158 0.10526316 0.15789474 0.21052632 0.26315789\n",
            " 0.31578947 0.36842105 0.42105263 0.47368421 0.52631579 0.57894737\n",
            " 0.63157895 0.68421053 0.73684211 0.78947368 0.84210526 0.89473684\n",
            " 0.94736842 1.        ]\n"
          ]
        }
      ]
    },
    {
      "cell_type": "markdown",
      "metadata": {
        "lang": "en",
        "id": "kgt_meryhhZC"
      },
      "source": [
        "# Array expressions"
      ]
    },
    {
      "cell_type": "markdown",
      "metadata": {
        "lang": "en",
        "id": "9w-3R_S0hhZC"
      },
      "source": [
        "All Python operators can be used with arrays. All operations are performed elementwise on the values in the array object."
      ]
    },
    {
      "cell_type": "code",
      "metadata": {
        "id": "YA5haTJZJ_JO",
        "colab": {
          "base_uri": "https://localhost:8080/"
        },
        "outputId": "c72be6d2-2f41-4d08-b0ea-16d8fd6be52d"
      },
      "source": [
        "a = np.arange(25).reshape([5,5])\n",
        "print(a)"
      ],
      "execution_count": null,
      "outputs": [
        {
          "output_type": "stream",
          "name": "stdout",
          "text": [
            "[[ 0  1  2  3  4]\n",
            " [ 5  6  7  8  9]\n",
            " [10 11 12 13 14]\n",
            " [15 16 17 18 19]\n",
            " [20 21 22 23 24]]\n"
          ]
        }
      ]
    },
    {
      "cell_type": "markdown",
      "metadata": {
        "lang": "en",
        "id": "sCRa_XU1hhZF"
      },
      "source": [
        "Elemental addition:"
      ]
    },
    {
      "cell_type": "code",
      "metadata": {
        "id": "zIwSF3DeJ_Ji",
        "colab": {
          "base_uri": "https://localhost:8080/"
        },
        "outputId": "79087f1a-2448-4aa3-db8f-7525902f755f"
      },
      "source": [
        "print(a+3)"
      ],
      "execution_count": null,
      "outputs": [
        {
          "output_type": "stream",
          "name": "stdout",
          "text": [
            "[[ 3  4  5  6  7]\n",
            " [ 8  9 10 11 12]\n",
            " [13 14 15 16 17]\n",
            " [18 19 20 21 22]\n",
            " [23 24 25 26 27]]\n"
          ]
        }
      ]
    },
    {
      "cell_type": "markdown",
      "metadata": {
        "lang": "en",
        "id": "vrAbTH_3hhZI"
      },
      "source": [
        "Elemental Multiplication:"
      ]
    },
    {
      "cell_type": "code",
      "metadata": {
        "id": "LVzBua0bJ_Jp",
        "colab": {
          "base_uri": "https://localhost:8080/"
        },
        "outputId": "6ba2fce8-5a94-428d-9414-41222161a8bd"
      },
      "source": [
        "print(a*3)"
      ],
      "execution_count": null,
      "outputs": [
        {
          "output_type": "stream",
          "name": "stdout",
          "text": [
            "[[ 0  3  6  9 12]\n",
            " [15 18 21 24 27]\n",
            " [30 33 36 39 42]\n",
            " [45 48 51 54 57]\n",
            " [60 63 66 69 72]]\n"
          ]
        }
      ]
    },
    {
      "cell_type": "markdown",
      "metadata": {
        "lang": "en",
        "id": "0VSufpeVhhZK"
      },
      "source": [
        "You can also use the usual math functions on array objects:"
      ]
    },
    {
      "cell_type": "code",
      "metadata": {
        "id": "6wcJWlHyJ_Ju",
        "colab": {
          "base_uri": "https://localhost:8080/"
        },
        "outputId": "e8a02855-b3f3-4676-8084-f72cafaa24c8"
      },
      "source": [
        "print(np.sin(a))"
      ],
      "execution_count": null,
      "outputs": [
        {
          "output_type": "stream",
          "name": "stdout",
          "text": [
            "[[ 0.          0.84147098  0.90929743  0.14112001 -0.7568025 ]\n",
            " [-0.95892427 -0.2794155   0.6569866   0.98935825  0.41211849]\n",
            " [-0.54402111 -0.99999021 -0.53657292  0.42016704  0.99060736]\n",
            " [ 0.65028784 -0.28790332 -0.96139749 -0.75098725  0.14987721]\n",
            " [ 0.91294525  0.83665564 -0.00885131 -0.8462204  -0.90557836]]\n"
          ]
        }
      ]
    },
    {
      "cell_type": "markdown",
      "metadata": {
        "id": "cgzaPjfKJ_J1"
      },
      "source": [
        "Negation:"
      ]
    },
    {
      "cell_type": "code",
      "metadata": {
        "id": "QJ_tlH4IJ_J2",
        "colab": {
          "base_uri": "https://localhost:8080/"
        },
        "outputId": "48c07f8f-00b7-44f6-e5ff-8030fe22b5a0"
      },
      "source": [
        "print(-a)"
      ],
      "execution_count": null,
      "outputs": [
        {
          "output_type": "stream",
          "name": "stdout",
          "text": [
            "[[  0  -1  -2  -3  -4]\n",
            " [ -5  -6  -7  -8  -9]\n",
            " [-10 -11 -12 -13 -14]\n",
            " [-15 -16 -17 -18 -19]\n",
            " [-20 -21 -22 -23 -24]]\n"
          ]
        }
      ]
    },
    {
      "cell_type": "markdown",
      "metadata": {
        "lang": "en",
        "id": "c5N9ZS8IhhZR"
      },
      "source": [
        "You can also use operators on array objects:"
      ]
    },
    {
      "cell_type": "code",
      "metadata": {
        "id": "M998URqBJ_J6",
        "colab": {
          "base_uri": "https://localhost:8080/"
        },
        "outputId": "83543076-8d2e-4b7d-954e-b4ad1e800671"
      },
      "source": [
        "print(a+a)"
      ],
      "execution_count": null,
      "outputs": [
        {
          "output_type": "stream",
          "name": "stdout",
          "text": [
            "[[ 0  2  4  6  8]\n",
            " [10 12 14 16 18]\n",
            " [20 22 24 26 28]\n",
            " [30 32 34 36 38]\n",
            " [40 42 44 46 48]]\n"
          ]
        }
      ]
    },
    {
      "cell_type": "markdown",
      "metadata": {
        "lang": "en",
        "id": "PBlnX0EyhhZV"
      },
      "source": [
        "The array sizes do not have to be the same. The operations on the smaller array will be repeated on the larger array:"
      ]
    },
    {
      "cell_type": "code",
      "metadata": {
        "id": "uWIQ0TWJJ_KA",
        "colab": {
          "base_uri": "https://localhost:8080/"
        },
        "outputId": "afbd032d-ef17-4925-8369-3eedb9fe3845"
      },
      "source": [
        "a = np.array([1,2,3]) \n",
        "b = np.ones([5,3])\n",
        "print(a)\n",
        "print(b)\n",
        "print(a+b)"
      ],
      "execution_count": null,
      "outputs": [
        {
          "output_type": "stream",
          "name": "stdout",
          "text": [
            "[1 2 3]\n",
            "[[1. 1. 1.]\n",
            " [1. 1. 1.]\n",
            " [1. 1. 1.]\n",
            " [1. 1. 1.]\n",
            " [1. 1. 1.]]\n",
            "[[2. 3. 4.]\n",
            " [2. 3. 4.]\n",
            " [2. 3. 4.]\n",
            " [2. 3. 4.]\n",
            " [2. 3. 4.]]\n"
          ]
        }
      ]
    },
    {
      "cell_type": "markdown",
      "metadata": {
        "lang": "en",
        "id": "V_OvCWMnhhZX"
      },
      "source": [
        "## Matrix Multiplication"
      ]
    },
    {
      "cell_type": "markdown",
      "metadata": {
        "id": "lFgFEQCFJ_KJ",
        "lang": "sv"
      },
      "source": [
        "**\\*** operatorn för arrayer är ekvivalent till elementvis multiplikation. För att utföra en matrismultiplikation används istället funktionen **.dot()** eller **@**-operatorn.\n"
      ]
    },
    {
      "cell_type": "markdown",
      "metadata": {
        "lang": "en",
        "id": "34E7uV1nhhZZ"
      },
      "source": [
        "The __*__ array operator is equivalent to elemental multiplication. To perform a matrix multiplication, the **.dot()** or **@** operator is used instead."
      ]
    },
    {
      "cell_type": "code",
      "metadata": {
        "id": "wIIGT9XxJ_KK",
        "colab": {
          "base_uri": "https://localhost:8080/"
        },
        "outputId": "39ff1130-1ab2-41be-ee06-d3c075874045"
      },
      "source": [
        "a = np.reshape(np.arange(16), [4,4])\n",
        "print(a)\n",
        "print(a.dot(a))\n",
        "print(a @ a)"
      ],
      "execution_count": null,
      "outputs": [
        {
          "output_type": "stream",
          "name": "stdout",
          "text": [
            "[[ 0  1  2  3]\n",
            " [ 4  5  6  7]\n",
            " [ 8  9 10 11]\n",
            " [12 13 14 15]]\n",
            "[[ 56  62  68  74]\n",
            " [152 174 196 218]\n",
            " [248 286 324 362]\n",
            " [344 398 452 506]]\n",
            "[[ 56  62  68  74]\n",
            " [152 174 196 218]\n",
            " [248 286 324 362]\n",
            " [344 398 452 506]]\n"
          ]
        }
      ]
    },
    {
      "cell_type": "markdown",
      "metadata": {
        "lang": "en",
        "id": "rIgLvSfjhhZb"
      },
      "source": [
        "# Slices or sub-arrays"
      ]
    },
    {
      "cell_type": "markdown",
      "metadata": {
        "lang": "en",
        "id": "6IDWpejuhhZb"
      },
      "source": [
        "Reaching specific elements in an array is used by Python's normal index operator **[]**"
      ]
    },
    {
      "cell_type": "code",
      "metadata": {
        "id": "TBNaDerPJ_Kb",
        "colab": {
          "base_uri": "https://localhost:8080/"
        },
        "outputId": "611c95b2-6532-46c2-981d-23ccc4e81191"
      },
      "source": [
        "a = np.arange(25)\n",
        "print(a)\n",
        "print(a[2])\n",
        "\n",
        "b = np.arange(25).reshape([5,5])\n",
        "\n",
        "print(b)\n",
        "print(b[1][2])\n",
        "print(b[1,2])"
      ],
      "execution_count": null,
      "outputs": [
        {
          "output_type": "stream",
          "name": "stdout",
          "text": [
            "[ 0  1  2  3  4  5  6  7  8  9 10 11 12 13 14 15 16 17 18 19 20 21 22 23\n",
            " 24]\n",
            "2\n",
            "[[ 0  1  2  3  4]\n",
            " [ 5  6  7  8  9]\n",
            " [10 11 12 13 14]\n",
            " [15 16 17 18 19]\n",
            " [20 21 22 23 24]]\n",
            "7\n",
            "7\n"
          ]
        }
      ]
    },
    {
      "cell_type": "markdown",
      "metadata": {
        "lang": "en",
        "id": "GsbfNQ03hhZe"
      },
      "source": [
        "Assignment of value in an array is done in the same way:"
      ]
    },
    {
      "cell_type": "code",
      "metadata": {
        "id": "1CC7oLdbJ_Kh",
        "colab": {
          "base_uri": "https://localhost:8080/"
        },
        "outputId": "4678dc08-a668-40c7-8e91-e03b27ee3c12"
      },
      "source": [
        "a[2] = 42\n",
        "b[1,2] = 42\n",
        "\n",
        "print(a)\n",
        "print(b)"
      ],
      "execution_count": null,
      "outputs": [
        {
          "output_type": "stream",
          "name": "stdout",
          "text": [
            "[ 0  1 42  3  4  5  6  7  8  9 10 11 12 13 14 15 16 17 18 19 20 21 22 23\n",
            " 24]\n",
            "[[ 0  1  2  3  4]\n",
            " [ 5  6 42  8  9]\n",
            " [10 11 12 13 14]\n",
            " [15 16 17 18 19]\n",
            " [20 21 22 23 24]]\n"
          ]
        }
      ]
    },
    {
      "cell_type": "markdown",
      "metadata": {
        "lang": "en",
        "id": "WPIwPPpshhZg"
      },
      "source": [
        "It is also possible to refer to sub-arrays or slices. The notation is described in the following points:\n",
        "\n",
        "* a [start:end] - values between *start* and *end-1* \n",
        "* a [start:] - values between *start* to the *end*\n",
        "* a [:end] - values up to *end-1*\n",
        "* a [:] - All values"
      ]
    },
    {
      "cell_type": "code",
      "metadata": {
        "id": "tfEa2uLmJ_Kk",
        "colab": {
          "base_uri": "https://localhost:8080/"
        },
        "outputId": "7c25621f-522e-4a70-8733-a27e387c54d6"
      },
      "source": [
        "a = np.arange(25)\n",
        "print(a)\n",
        "print(a[1:5])"
      ],
      "execution_count": null,
      "outputs": [
        {
          "output_type": "stream",
          "name": "stdout",
          "text": [
            "[ 0  1  2  3  4  5  6  7  8  9 10 11 12 13 14 15 16 17 18 19 20 21 22 23\n",
            " 24]\n",
            "[1 2 3 4]\n"
          ]
        }
      ]
    },
    {
      "cell_type": "markdown",
      "metadata": {
        "lang": "en",
        "id": "I_KHjJBAhhZk"
      },
      "source": [
        "In most cases, NumPy tries to re-use allocated memory when creating sub-arrays or slices, but it is not always possible, which is illustrated in the following example:"
      ]
    },
    {
      "cell_type": "code",
      "metadata": {
        "id": "3AKtKsqZJ_Ks",
        "colab": {
          "base_uri": "https://localhost:8080/"
        },
        "outputId": "ea670ab6-f71a-4e50-f0be-b09f9600811c"
      },
      "source": [
        "a = np.arange(25)\n",
        "\n",
        "print(a)\n",
        "print(memory_of(a))\n",
        "print(a.data)\n",
        "\n",
        "b = a[1:5]\n",
        "\n",
        "print(b)\n",
        "print(memory_of(b))\n",
        "print(b.data)\n",
        "\n",
        "b[0] = 42\n",
        "\n",
        "print(a)\n",
        "print(b)"
      ],
      "execution_count": null,
      "outputs": [
        {
          "output_type": "stream",
          "name": "stdout",
          "text": [
            "[ 0  1  2  3  4  5  6  7  8  9 10 11 12 13 14 15 16 17 18 19 20 21 22 23\n",
            " 24]\n",
            "33580464\n",
            "<memory at 0x7f7591101a10>\n",
            "[1 2 3 4]\n",
            "33580472\n",
            "<memory at 0x7f7591101a10>\n",
            "[ 0 42  2  3  4  5  6  7  8  9 10 11 12 13 14 15 16 17 18 19 20 21 22 23\n",
            " 24]\n",
            "[42  2  3  4]\n"
          ]
        }
      ]
    },
    {
      "cell_type": "markdown",
      "metadata": {
        "lang": "en",
        "id": "wMOfzoWuhhZm"
      },
      "source": [
        "More examples of sub-areas:"
      ]
    },
    {
      "cell_type": "code",
      "metadata": {
        "id": "dULN08DUJ_Ky",
        "colab": {
          "base_uri": "https://localhost:8080/"
        },
        "outputId": "325f45d4-6dea-44cd-f5cd-52f5872d5dcc"
      },
      "source": [
        "a = np.arange(16)\n",
        "\n",
        "print(a)\n",
        "print(a[:-1])    # All elements except the last\n",
        "print(a[:-2])    # All elements except the last 2\n",
        "print(a[-1])     # Last element of a\n",
        "print(a[4:10:2]) # Elements 4 till 9 with a step of 2\n",
        "print(a[::-1])   # All elements i a in reversed order"
      ],
      "execution_count": null,
      "outputs": [
        {
          "output_type": "stream",
          "name": "stdout",
          "text": [
            "[ 0  1  2  3  4  5  6  7  8  9 10 11 12 13 14 15]\n",
            "[ 0  1  2  3  4  5  6  7  8  9 10 11 12 13 14]\n",
            "[ 0  1  2  3  4  5  6  7  8  9 10 11 12 13]\n",
            "15\n",
            "[4 6 8]\n",
            "[15 14 13 12 11 10  9  8  7  6  5  4  3  2  1  0]\n"
          ]
        }
      ]
    },
    {
      "cell_type": "markdown",
      "metadata": {
        "lang": "en",
        "id": "BZavifM5hhZr"
      },
      "source": [
        "Sub arrays and slices can be used in multidimensional arrays as well:"
      ]
    },
    {
      "cell_type": "code",
      "metadata": {
        "id": "DalYUZcKJ_K2",
        "colab": {
          "base_uri": "https://localhost:8080/"
        },
        "outputId": "7198dc11-b568-4515-8fcb-74a763ead2e8"
      },
      "source": [
        "b = np.reshape(a, (4,4))\n",
        "\n",
        "print(b)\n",
        "print(b[:,0])   # All rows in column 0\n",
        "print(b[:,0:2]) # All rows in column 0 and 1\n",
        "print(b[0,:])   # Rows 0\n",
        "print(b[0:2,:]) # Rows 0 to 1\n",
        "print(b[-1,:])  # Last row in b\n",
        "print(b[:,-1])  # Last column in b\n",
        "print(b[::2,:]) # Every other row in b\n",
        "print(b[:,::2]) # Every other column in b"
      ],
      "execution_count": null,
      "outputs": [
        {
          "output_type": "stream",
          "name": "stdout",
          "text": [
            "[[ 0  1  2  3]\n",
            " [ 4  5  6  7]\n",
            " [ 8  9 10 11]\n",
            " [12 13 14 15]]\n",
            "[ 0  4  8 12]\n",
            "[[ 0  1]\n",
            " [ 4  5]\n",
            " [ 8  9]\n",
            " [12 13]]\n",
            "[0 1 2 3]\n",
            "[[0 1 2 3]\n",
            " [4 5 6 7]]\n",
            "[12 13 14 15]\n",
            "[ 3  7 11 15]\n",
            "[[ 0  1  2  3]\n",
            " [ 8  9 10 11]]\n",
            "[[ 0  2]\n",
            " [ 4  6]\n",
            " [ 8 10]\n",
            " [12 14]]\n"
          ]
        }
      ]
    },
    {
      "cell_type": "markdown",
      "metadata": {
        "lang": "en",
        "id": "EtHSVYIchhZt"
      },
      "source": [
        "It is also possible to mix array objects and lists when creating array objects:"
      ]
    },
    {
      "cell_type": "code",
      "metadata": {
        "id": "ZrLTI_VgJ_LG"
      },
      "source": [
        "b[1] = [42,42,42,42]"
      ],
      "execution_count": null,
      "outputs": []
    },
    {
      "cell_type": "code",
      "metadata": {
        "id": "8raPKq43J_LI"
      },
      "source": [
        "b[:,2] = [42,42,42,42]"
      ],
      "execution_count": null,
      "outputs": []
    },
    {
      "cell_type": "code",
      "metadata": {
        "id": "yye1u9LcJ_LO",
        "colab": {
          "base_uri": "https://localhost:8080/"
        },
        "outputId": "640e525c-cb01-423a-8405-3af8e73752a7"
      },
      "source": [
        "print(b)"
      ],
      "execution_count": null,
      "outputs": [
        {
          "output_type": "stream",
          "name": "stdout",
          "text": [
            "[[ 0  1 42  3]\n",
            " [42 42 42 42]\n",
            " [ 8  9 42 11]\n",
            " [12 13 42 15]]\n"
          ]
        }
      ]
    },
    {
      "cell_type": "markdown",
      "metadata": {
        "lang": "en",
        "id": "6NkByzVphhZz"
      },
      "source": [
        "# Array methods"
      ]
    },
    {
      "cell_type": "markdown",
      "metadata": {
        "lang": "en",
        "id": "xdR__flohhZ0"
      },
      "source": [
        "There are a number of features that can be important when working with array objects:"
      ]
    },
    {
      "cell_type": "markdown",
      "metadata": {
        "lang": "en",
        "id": "OEhvZIughhZ0"
      },
      "source": [
        "## Calculate the sum of values ​​in arrays"
      ]
    },
    {
      "cell_type": "markdown",
      "metadata": {
        "lang": "en",
        "id": "1SMg3IkBhhZ1"
      },
      "source": [
        "The **.sum()** method can be used to calculate the sum of arrays in different ways:"
      ]
    },
    {
      "cell_type": "code",
      "metadata": {
        "id": "sq3WkwpeJ_LW",
        "colab": {
          "base_uri": "https://localhost:8080/"
        },
        "outputId": "e05d2fb9-79d8-47d5-f62f-f152db490237"
      },
      "source": [
        "a = np.arange(36).reshape(6,6)\n",
        "\n",
        "print(a)\n",
        "print(a.sum())"
      ],
      "execution_count": null,
      "outputs": [
        {
          "output_type": "stream",
          "name": "stdout",
          "text": [
            "[[ 0  1  2  3  4  5]\n",
            " [ 6  7  8  9 10 11]\n",
            " [12 13 14 15 16 17]\n",
            " [18 19 20 21 22 23]\n",
            " [24 25 26 27 28 29]\n",
            " [30 31 32 33 34 35]]\n",
            "630\n"
          ]
        }
      ]
    },
    {
      "cell_type": "code",
      "metadata": {
        "id": "XUtRdxN_J_LZ",
        "colab": {
          "base_uri": "https://localhost:8080/"
        },
        "outputId": "bbbbc803-f91a-4f7a-fefe-52e49122771c"
      },
      "source": [
        "print(a.sum(0)) # Summera kolumner\n",
        "print(a.sum(1)) # Summera rader"
      ],
      "execution_count": null,
      "outputs": [
        {
          "output_type": "stream",
          "name": "stdout",
          "text": [
            "[ 90  96 102 108 114 120]\n",
            "[ 15  51  87 123 159 195]\n"
          ]
        }
      ]
    },
    {
      "cell_type": "markdown",
      "metadata": {
        "lang": "en",
        "id": "EEyNjXmohhZ5"
      },
      "source": [
        "## Calculate the product of an array"
      ]
    },
    {
      "cell_type": "markdown",
      "metadata": {
        "lang": "en",
        "id": "1qNFGfZ0hhZ5"
      },
      "source": [
        "The **.prod()** method can be used in the same way as **.sum()**, but instead calculates the product of the values in the array."
      ]
    },
    {
      "cell_type": "code",
      "metadata": {
        "id": "4yWTknMPJ_Lp",
        "colab": {
          "base_uri": "https://localhost:8080/"
        },
        "outputId": "d92b6969-8cba-4a37-e0fb-66d154a0ff2f"
      },
      "source": [
        "a = np.arange(1,37,dtype=float).reshape(6,6)\n",
        "print(a)\n",
        "print(a.prod())"
      ],
      "execution_count": null,
      "outputs": [
        {
          "output_type": "stream",
          "name": "stdout",
          "text": [
            "[[ 1.  2.  3.  4.  5.  6.]\n",
            " [ 7.  8.  9. 10. 11. 12.]\n",
            " [13. 14. 15. 16. 17. 18.]\n",
            " [19. 20. 21. 22. 23. 24.]\n",
            " [25. 26. 27. 28. 29. 30.]\n",
            " [31. 32. 33. 34. 35. 36.]]\n",
            "3.719933267899012e+41\n"
          ]
        }
      ]
    },
    {
      "cell_type": "code",
      "metadata": {
        "id": "eJUrEyfUJ_Lv",
        "colab": {
          "base_uri": "https://localhost:8080/"
        },
        "outputId": "6b825ba2-81f8-40d8-ef54-fcc57828abfb"
      },
      "source": [
        "print(a.prod(0)) # The product of the columns\n",
        "print(a.prod(1)) # The product of the rows"
      ],
      "execution_count": null,
      "outputs": [
        {
          "output_type": "stream",
          "name": "stdout",
          "text": [
            "[ 1339975.  3727360.  7577955. 13404160. 21827575. 33592320.]\n",
            "[7.20000000e+02 6.65280000e+05 1.33660800e+07 9.69091200e+07\n",
            " 4.27518000e+08 1.40241024e+09]\n"
          ]
        }
      ]
    },
    {
      "cell_type": "markdown",
      "metadata": {
        "lang": "en",
        "id": "6v3n35-zhhZ8"
      },
      "source": [
        "# Matrix Objects (Matrix)"
      ]
    },
    {
      "cell_type": "markdown",
      "metadata": {
        "lang": "en",
        "id": "CXZ-bbFehhZ8"
      },
      "source": [
        "NumPy also contains special data types for handling matrices according to the mathematical definition. Matrices are created by using the **np.matrix** class, which inherits its functionality from the array class. The class implements many common operations in linear algebra."
      ]
    },
    {
      "cell_type": "code",
      "metadata": {
        "id": "jPEv9fqvJ_L5"
      },
      "source": [
        "A = np.matrix( [[1,2,3],[11,12,13],[21,22,23]])\n",
        "x = np.matrix( [[1],[2],[3]] )\n",
        "y = np.matrix( [[1,2,3]] )\n",
        "\n",
        "print(A)\n",
        "print(x)\n",
        "print(y)\n",
        "print(A.T) # Matrix transpose\n",
        "print(A*x) # Matrix mulitply A * x\n",
        "print(A.I) # Matrix inverse"
      ],
      "execution_count": null,
      "outputs": []
    },
    {
      "cell_type": "markdown",
      "metadata": {
        "lang": "en",
        "id": "NVTqzsc5hhaA"
      },
      "source": [
        "# Reading and writing arrays"
      ]
    },
    {
      "cell_type": "markdown",
      "metadata": {
        "lang": "en",
        "id": "r6rV30hqhhaA"
      },
      "source": [
        "NumPy has many ways to handle the writing and reading of array objects:\n",
        "\n",
        "* Write arrays in NumPy's own binary format NPY / NPZ.\n",
        "* Text files with values row by row.\n",
        "* Direct reading and writing of binary files."
      ]
    },
    {
      "cell_type": "markdown",
      "metadata": {
        "lang": "en",
        "id": "iLflUx98hhaC"
      },
      "source": [
        "## Reading and writing NPY / NPZ files"
      ]
    },
    {
      "cell_type": "markdown",
      "metadata": {
        "lang": "en",
        "id": "yOvzHbYthhaC"
      },
      "source": [
        "### Writing NPY files"
      ]
    },
    {
      "cell_type": "code",
      "metadata": {
        "id": "q-INhBioJ_L_"
      },
      "source": [
        "import numpy as np\n",
        "\n",
        "x = np.linspace(0.0, 1.0, 100)\n",
        "y = np.random.uniform(0.0, 1.0, 100)\n",
        "\n",
        "np.save(\"x.npy\", x)\n",
        "np.save(\"y.npy\", y)"
      ],
      "execution_count": null,
      "outputs": []
    },
    {
      "cell_type": "code",
      "metadata": {
        "id": "y7fVrMb1aj6O",
        "colab": {
          "base_uri": "https://localhost:8080/"
        },
        "outputId": "65c4fa61-056c-4cb3-f105-17bd023e75a7"
      },
      "source": [
        "!ls"
      ],
      "execution_count": null,
      "outputs": [
        {
          "output_type": "stream",
          "name": "stdout",
          "text": [
            "sample_data  x.npy  y.npy\n"
          ]
        }
      ]
    },
    {
      "cell_type": "code",
      "metadata": {
        "id": "TpUA9CYdFJ5C",
        "colab": {
          "base_uri": "https://localhost:8080/"
        },
        "outputId": "acdc61d7-b6d2-407d-e4aa-33309aeedba8"
      },
      "source": [
        "!cat x.npy"
      ],
      "execution_count": null,
      "outputs": [
        {
          "output_type": "stream",
          "name": "stdout",
          "text": [
            "�NUMPY\u0001\u0000v\u0000{'descr': '<f8', 'fortran_order': False, 'shape': (100,), }                                                          \n",
            "\u0000\u0000\u0000\u0000\u0000\u0000\u0000\u0000[�R�֯�?[�R�֯�?\b\u001f|��\u0007�?[�R�֯�?2ogH�۩?\b\u001f|��\u0007�?pgH��\u0019�?[�R�֯�?F\u0017]t�E�?2ogH�۹?\u001d�q\u001c�q�?\b\u001f|��\u0007�?z;Cb���?pgH��\u0019�?e�M6�d�?[�R�֯�?Q�W\n",
            "���?F\u0017]t�E�?<Cb�ΐ�?2ogH���?'�l��&�?\u001d�q\u001c�q�?\u0013�v�ļ�?\b\u001f|��\u0007�?�@�_)�?z;Cb���?u�E\u0017]t�?pgH��\u0019�?j�J�Z��?e�M6�d�?`)P�W\n",
            "�?[�R�֯�?VUUUUU�?Q�W\n",
            "���?L�Z�R��?F\u0017]t�E�?A�_)P��?<Cb�ΐ�?7�d�M6�?2ogH���?-\u0005j�J��?'�l��&�?\"1ogH��?\u001d�q\u001c�q�?\u0018]t�E\u0017�?\u0013�v�ļ�?\u000e�y;Cb�?\b\u001f|��\u0007�?\u0003�~�@��?�@�_)�?}��\u0007\u001f|�?z;Cb���?w�ļ�!�?u�E\u0017]t�?r\u001c�q\u001c��?pgH��\u0019�?m��&�l�?j�J�Z��?hH��\u0019\u0012�?e�M6�d�?c�ΐ���?`)P�W\n",
            "�?^t�E\u0017]�?[�R�֯�?X\n",
            "���\u0002�?VUUUUU�?S�֯\u0014��?Q�W\n",
            "���?N6�d�M�?L�Z�R��?I��\u0019\u0012��?F\u0017]t�E�?Db�ΐ��?A�_)P��??���\u000f>�?<Cb�ΐ�?9��8���?7�d�M6�?4$��\f��?2ogH���?/�袋.�?-\u0005j�J��?*P�W\n",
            "��?'�l��&�?%��\f�y�?\"1ogH��? |��\u0007\u001f�?\u001d�q\u001c�q�?\u001b\u0012�v���?\u0018]t�E\u0017�?\u0015��+\u0005j�?\u0013�v�ļ�?\u0010>���\u000f�?\u000e�y;Cb�?\u000b���\u0002��?\b\u001f|��\u0007�?\u0006j�J�Z�?\u0003�~�@��?\u0000\u0000\u0000\u0000\u0000\u0000�?"
          ]
        }
      ]
    },
    {
      "cell_type": "markdown",
      "metadata": {
        "lang": "en",
        "id": "76MiZyn8hhaF"
      },
      "source": [
        "### Reading NPY files"
      ]
    },
    {
      "cell_type": "code",
      "metadata": {
        "id": "PSxxVJe0J_MC",
        "colab": {
          "base_uri": "https://localhost:8080/",
          "height": 282
        },
        "outputId": "c80df8eb-7485-44d1-c4f4-b896ff4ede27"
      },
      "source": [
        "import matplotlib.pyplot as plt\n",
        "\n",
        "x = np.load(\"x.npy\")\n",
        "y = np.load(\"y.npy\")\n",
        "\n",
        "plt.plot(x, y, 'o')"
      ],
      "execution_count": null,
      "outputs": [
        {
          "output_type": "execute_result",
          "data": {
            "text/plain": [
              "[<matplotlib.lines.Line2D at 0x7f758cdc5690>]"
            ]
          },
          "metadata": {},
          "execution_count": 49
        },
        {
          "output_type": "display_data",
          "data": {
            "text/plain": [
              "<Figure size 432x288 with 1 Axes>"
            ],
            "image/png": "[encoded data removed]"
          },
          "metadata": {
            "needs_background": "light"
          }
        }
      ]
    },
    {
      "cell_type": "markdown",
      "metadata": {
        "lang": "en",
        "id": "E7bTIRfjhhaI"
      },
      "source": [
        "### Using file objects with NPY files"
      ]
    },
    {
      "cell_type": "code",
      "metadata": {
        "id": "ZtBIE_2DJ_MH"
      },
      "source": [
        "x = np.linspace(0.0, 1.0, 100)\n",
        "y = np.random.uniform(0.0, 1.0, 100)\n",
        "\n",
        "with open(\"xy.dat\", \"wb\") as f:\n",
        "    np.save(f, x)\n",
        "    np.save(f, y)"
      ],
      "execution_count": null,
      "outputs": []
    },
    {
      "cell_type": "code",
      "metadata": {
        "id": "efbmJfkEJ_MJ",
        "colab": {
          "base_uri": "https://localhost:8080/",
          "height": 282
        },
        "outputId": "c06135f1-8b46-463e-d18e-7aaf909b5d23"
      },
      "source": [
        "import matplotlib.pyplot as plt\n",
        "\n",
        "with open(\"xy.dat\", \"rb\") as f:\n",
        "    x = np.load(f)\n",
        "    y = np.load(f)\n",
        "\n",
        "plt.plot(x, y, 'o')"
      ],
      "execution_count": null,
      "outputs": [
        {
          "output_type": "execute_result",
          "data": {
            "text/plain": [
              "[<matplotlib.lines.Line2D at 0x7f758c2ae510>]"
            ]
          },
          "metadata": {},
          "execution_count": 51
        },
        {
          "output_type": "display_data",
          "data": {
            "text/plain": [
              "<Figure size 432x288 with 1 Axes>"
            ],
            "image/png": "[encoded data removed]"
          },
          "metadata": {
            "needs_background": "light"
          }
        }
      ]
    },
    {
      "cell_type": "markdown",
      "metadata": {
        "id": "ZE8aDjIs2_PC"
      },
      "source": [
        "## Reading and writing text files"
      ]
    },
    {
      "cell_type": "code",
      "metadata": {
        "id": "2G2Sv1PZ4KLi",
        "colab": {
          "base_uri": "https://localhost:8080/"
        },
        "outputId": "bbbed5ca-7b40-44bc-a353-dc1a9d31d91e"
      },
      "source": [
        "!wget https://github.com/jonaslindemann/compute-course-public/raw/master/data/uvw.dat"
      ],
      "execution_count": null,
      "outputs": [
        {
          "output_type": "stream",
          "name": "stdout",
          "text": [
            "--2022-09-01 09:46:24--  https://github.com/jonaslindemann/compute-course-public/raw/master/data/uvw.dat\n",
            "Resolving github.com (github.com)... 140.82.112.3\n",
            "Connecting to github.com (github.com)|140.82.112.3|:443... connected.\n",
            "HTTP request sent, awaiting response... 302 Found\n",
            "Location: https://raw.githubusercontent.com/jonaslindemann/compute-course-public/master/data/uvw.dat [following]\n",
            "--2022-09-01 09:46:24--  https://raw.githubusercontent.com/jonaslindemann/compute-course-public/master/data/uvw.dat\n",
            "Resolving raw.githubusercontent.com (raw.githubusercontent.com)... 185.199.108.133, 185.199.109.133, 185.199.110.133, ...\n",
            "Connecting to raw.githubusercontent.com (raw.githubusercontent.com)|185.199.108.133|:443... connected.\n",
            "HTTP request sent, awaiting response... 200 OK\n",
            "Length: 16996800 (16M) [text/plain]\n",
            "Saving to: ‘uvw.dat’\n",
            "\n",
            "uvw.dat             100%[===================>]  16.21M  --.-KB/s    in 0.1s    \n",
            "\n",
            "2022-09-01 09:46:25 (139 MB/s) - ‘uvw.dat’ saved [16996800/16996800]\n",
            "\n"
          ]
        }
      ]
    },
    {
      "cell_type": "markdown",
      "metadata": {
        "id": "f6K_XNs64TkI"
      },
      "source": [
        "Often you need to read arrays from text files with the typical format like in the uvw.dat file:\n",
        "\n",
        "    variables=\"x\",\"y\",\"z\",\"u\",\"v\",\"w\"\n",
        "    zone i=96,j=65,k=48,f=point\n",
        "    0 -1 0 -7.00895e-05 2.28715e-05 7.11905e-05\n",
        "    0.0327249 -1 0 -8.01278e-05 1.89072e-05 4.83821e-05\n",
        "    0.0654498 -1 0 -6.8715e-05 8.60358e-06 -1.31806e-06\n",
        "    0.0981748 -1 0 -3.79768e-05 -4.03025e-06 -5.09628e-05\n",
        "    0.1309 -1 0 -8.62436e-06 -1.93002e-05 -9.18307e-05\n",
        "    0.163625 -1 0 5.18301e-06 -2.96726e-05 -8.77444e-05\n",
        "    0.19635 -1 0 3.97951e-06 -2.64684e-05 -4.38229e-05\n",
        "\n",
        "In this case we need to skip the first 2 lines of header information. The file can be read in NumPy using the loadtxt() function. This function has a special argument, skiprows, which tells loadtxt to skip a specific number of rows. \n",
        "\n",
        "Loading the array from the uvw.dat file then becomes:"
      ]
    },
    {
      "cell_type": "code",
      "metadata": {
        "id": "I0lDLu0k4ZvI",
        "colab": {
          "base_uri": "https://localhost:8080/"
        },
        "outputId": "bf5c86de-a938-479e-e4f1-db68e48d812a"
      },
      "source": [
        "uvw_arr = np.loadtxt('uvw.dat', skiprows=2)\n",
        "print(uvw_arr.shape) # Rows and columsn of uwv_arr\n",
        "print(uvw_arr[0])    # First row\n",
        "\n",
        "#uw_file = open(\"uvw.dat\", \"r\")\n",
        "#count = 0\n",
        "#lines = []\n",
        "#for line in uw_file:\n",
        "#    if count>1:\n",
        "#        numbers = [float(i) for i in line.split()]\n",
        "#        lines.append(numbers)\n",
        "#    count+=1\n",
        "#print(count)\n",
        "#print(lines[0])"
      ],
      "execution_count": null,
      "outputs": [
        {
          "output_type": "stream",
          "name": "stdout",
          "text": [
            "(299520, 6)\n",
            "[ 0.00000e+00 -1.00000e+00  0.00000e+00 -7.00895e-05  2.28715e-05\n",
            "  7.11905e-05]\n"
          ]
        }
      ]
    },
    {
      "cell_type": "markdown",
      "metadata": {
        "id": "BH-ngrPk49-Q"
      },
      "source": [
        "All the data input functions in this section are implemented i C and very efficient. Try to use the built-in functions before implementing your own data reading functions.\n",
        "\n",
        "It is also possible to write an array to a text file for further processing in other software packages, this is done using the savetxt() function.\n"
      ]
    },
    {
      "cell_type": "code",
      "metadata": {
        "id": "LyQhbNEM5IBJ"
      },
      "source": [
        "text_array = np.random.rand(10,4)\n",
        "np.savetxt('text_array.txt', text_array)\n",
        "%pycat text_array.txt"
      ],
      "execution_count": null,
      "outputs": []
    },
    {
      "cell_type": "code",
      "metadata": {
        "id": "4LBKgl6s5M1x"
      },
      "source": [
        "text_array = np.random.rand(10,4)\n",
        "np.savetxt('text_array.txt', text_array, delimiter=',')\n",
        "%pycat text_array.txt"
      ],
      "execution_count": null,
      "outputs": []
    },
    {
      "cell_type": "code",
      "metadata": {
        "id": "qB7p1GrJ5OTo"
      },
      "source": [
        "text_array = np.random.rand(10,4)\n",
        "np.savetxt('text_array.txt', text_array, delimiter=',', fmt='%.4f')\n",
        "%pycat text_array.txt"
      ],
      "execution_count": null,
      "outputs": []
    },
    {
      "cell_type": "code",
      "metadata": {
        "id": "DPpdpl4i5Rf8"
      },
      "source": [
        "text_array = np.random.rand(10,4)\n",
        "np.savetxt('text_array.txt', \n",
        "           text_array, delimiter=',', \n",
        "           fmt='%.4f', \n",
        "           header = 'This is the header', \n",
        "           footer='This is the footer')\n",
        "%pycat text_array.txt"
      ],
      "execution_count": null,
      "outputs": []
    },
    {
      "cell_type": "code",
      "metadata": {
        "id": "G1YylsT4mYCT"
      },
      "source": [],
      "execution_count": null,
      "outputs": []
    },
    {
      "cell_type": "markdown",
      "metadata": {
        "id": "TVgA9ABI5Tsg"
      },
      "source": [
        "## Reading and writing binary files\n",
        "\n",
        "Binary files are files that store data exactly as they are represented in memory, thus preserving full precision of floating point values. These files can also be important to achieve performance when reading and writing files."
      ]
    },
    {
      "cell_type": "code",
      "metadata": {
        "id": "VmCM2oUE6Ly5",
        "colab": {
          "base_uri": "https://localhost:8080/"
        },
        "outputId": "6c83a963-d476-47ee-d633-fa9e290e94be"
      },
      "source": [
        "import matplotlib.pyplot as plt\n",
        "import imageio\n",
        "\n",
        "!rm *.png\n",
        "!wget https://raw.githubusercontent.com/jonaslindemann/compute-course-public/master/data/MOS6581.png"
      ],
      "execution_count": null,
      "outputs": [
        {
          "output_type": "stream",
          "name": "stdout",
          "text": [
            "rm: cannot remove '*.png': No such file or directory\n",
            "--2022-09-01 09:50:47--  https://raw.githubusercontent.com/jonaslindemann/compute-course-public/master/data/MOS6581.png\n",
            "Resolving raw.githubusercontent.com (raw.githubusercontent.com)... 185.199.108.133, 185.199.109.133, 185.199.110.133, ...\n",
            "Connecting to raw.githubusercontent.com (raw.githubusercontent.com)|185.199.108.133|:443... connected.\n",
            "HTTP request sent, awaiting response... 200 OK\n",
            "Length: 488814 (477K) [image/png]\n",
            "Saving to: ‘MOS6581.png’\n",
            "\n",
            "MOS6581.png         100%[===================>] 477.36K  --.-KB/s    in 0.04s   \n",
            "\n",
            "2022-09-01 09:50:47 (12.9 MB/s) - ‘MOS6581.png’ saved [488814/488814]\n",
            "\n"
          ]
        }
      ]
    },
    {
      "cell_type": "markdown",
      "metadata": {
        "id": "lud0Nwzk6V-N"
      },
      "source": [
        "Images are often binary files stored in a structured format. SciPy can read images using the **imread** function in the **scipy.misc** module.\n",
        "\n",
        "In the following example we read the PNG file MOS6581 into an array."
      ]
    },
    {
      "cell_type": "code",
      "metadata": {
        "id": "7CXeWC2a9ieB",
        "colab": {
          "base_uri": "https://localhost:8080/"
        },
        "outputId": "36d3c42c-0ee4-4036-dac9-92df5bc01af1"
      },
      "source": [
        "!ls -la MOS6581.png\n",
        "mos_image = imageio.imread('MOS6581.png')\n",
        "print(mos_image.shape, mos_image.dtype)"
      ],
      "execution_count": null,
      "outputs": [
        {
          "output_type": "stream",
          "name": "stdout",
          "text": [
            "-rw-r--r-- 1 root root 488814 Sep  1 09:50 MOS6581.png\n",
            "(359, 500, 3) uint8\n"
          ]
        }
      ]
    },
    {
      "cell_type": "markdown",
      "metadata": {
        "id": "Gjv45vuvCrD6"
      },
      "source": [
        "The image loaded and stored in the **mos_image** array where each element is of the **uint8** (unsigned 8 bit values). \n",
        "\n",
        "The array can be written as a binary file using the NumPy method **.tofile(...)** "
      ]
    },
    {
      "cell_type": "code",
      "metadata": {
        "id": "vGd17ZbUDZLg",
        "colab": {
          "base_uri": "https://localhost:8080/"
        },
        "outputId": "28c9c517-5e8f-4584-c668-3419b14aecd0"
      },
      "source": [
        "mos_image.tofile('MOS6581.raw')\n",
        "%ls -la MOS6581.raw"
      ],
      "execution_count": null,
      "outputs": [
        {
          "output_type": "stream",
          "name": "stdout",
          "text": [
            "-rw-r--r-- 1 root root 538500 Sep  1 09:52 MOS6581.raw\n"
          ]
        }
      ]
    },
    {
      "cell_type": "markdown",
      "metadata": {
        "id": "ryWS4fDEDfCo"
      },
      "source": [
        "We can see that the files is somewhat larger than before as it is stored without any compression as in a PNG-file.\n",
        "\n",
        "When loading an array from a binary file we must add the data type to the NumPy method **.fromfile(...)."
      ]
    },
    {
      "cell_type": "code",
      "metadata": {
        "id": "wXeeLaTaDz7N",
        "colab": {
          "base_uri": "https://localhost:8080/"
        },
        "outputId": "af34bb10-fa50-4926-cda0-a539cb10e96f"
      },
      "source": [
        "image = np.fromfile('MOS6581.raw', dtype='uint8')\n",
        "print(image.shape, image.dtype)"
      ],
      "execution_count": null,
      "outputs": [
        {
          "output_type": "stream",
          "name": "stdout",
          "text": [
            "(538500,) uint8\n"
          ]
        }
      ]
    },
    {
      "cell_type": "markdown",
      "metadata": {
        "id": "swVbSvGzD4k0"
      },
      "source": [
        "Also notice how the read array does not have the same shape as the original array. This is due to the fact that it is only the array data that is written to file. Shape information and data type is not written.\n",
        "\n",
        "The array can be reshaped and plotted to actually verify that we loaded the correct data:"
      ]
    },
    {
      "cell_type": "code",
      "metadata": {
        "id": "WnxuGebnEOyk",
        "colab": {
          "base_uri": "https://localhost:8080/",
          "height": 286
        },
        "outputId": "ff0ec7f4-d587-484c-ef9e-f1e6bb779211"
      },
      "source": [
        "image_arr = image.reshape(359,500,3)\n",
        "print(image_arr.shape, image_arr.dtype)\n",
        "plt.imshow(image_arr)\n",
        "plt.show()"
      ],
      "execution_count": null,
      "outputs": [
        {
          "output_type": "stream",
          "name": "stdout",
          "text": [
            "(359, 500, 3) uint8\n"
          ]
        },
        {
          "output_type": "display_data",
          "data": {
            "text/plain": [
              "<Figure size 432x288 with 1 Axes>"
            ],
            "image/png": "[encoded data removed]"
          },
          "metadata": {
            "needs_background": "light"
          }
        }
      ]
    },
    {
      "cell_type": "markdown",
      "metadata": {
        "id": "Q-gESmx7EkJg"
      },
      "source": [
        "## Using a DataSource object to read from URLs\n",
        "\n",
        "Some times data files are located at external URL:s and needs to be downloaded. NumPy supports downloading from external URL:s using the DataSource class. When a URL is opened using this class it is downloaded locally first and can then be accessed like a normal file object in Python. Remember to open as a binary file if the file is binary.\n"
      ]
    },
    {
      "cell_type": "code",
      "metadata": {
        "id": "Wph9kwmNErNw",
        "colab": {
          "base_uri": "https://localhost:8080/",
          "height": 169
        },
        "outputId": "727f0732-be83-4353-8b61-a1bb6c5d33b6"
      },
      "source": [
        "ds = np.DataSource()\n",
        "fp = ds.open('http://www.w3schools.com/css/trolltunga.jpg', 'rb')\n",
        "print(ds.abspath('http://www.w3schools.com/css/trolltunga.jpg'))\n",
        "troll_image = imageio.imread(fp)\n",
        "plt.imshow(troll_image)\n",
        "plt.show()"
      ],
      "execution_count": null,
      "outputs": [
        {
          "output_type": "stream",
          "name": "stdout",
          "text": [
            "/content/www.w3schools.com/css/trolltunga.jpg\n"
          ]
        },
        {
          "output_type": "display_data",
          "data": {
            "text/plain": [
              "<Figure size 432x288 with 1 Axes>"
            ],
            "image/png": "[encoded data removed]"
          },
          "metadata": {
            "needs_background": "light"
          }
        }
      ]
    },
    {
      "cell_type": "markdown",
      "metadata": {
        "lang": "en",
        "id": "eMonmZvIhhaV"
      },
      "source": [
        "# Solve equation systems"
      ]
    },
    {
      "cell_type": "markdown",
      "metadata": {
        "lang": "en",
        "id": "QkMau46KhhaV"
      },
      "source": [
        "A common operation in linear algebra and engineering tasks is to be able to solve equation systems of this type\n",
        "\n",
        "\n",
        "Ax = b\n",
        "\n",
        "NumPy contains a function for this, **np.linalg()**."
      ]
    },
    {
      "cell_type": "code",
      "metadata": {
        "id": "tPRmFPXOJ_MP",
        "colab": {
          "base_uri": "https://localhost:8080/"
        },
        "outputId": "2557a9a7-96a2-43ed-b0f8-ff057b6ef140"
      },
      "source": [
        "A = np.matrix(\n",
        "    [[1, 2, 3], \n",
        "     [11, 12, 13], \n",
        "     [21, 22, 23]]\n",
        ")\n",
        "\n",
        "b = np.matrix(\n",
        "    [[1], \n",
        "     [2], \n",
        "     [3]])\n",
        "\n",
        "print(A)\n",
        "print(b)\n",
        "\n",
        "x = np.linalg.solve(A, b)\n",
        "\n",
        "print(x)"
      ],
      "execution_count": null,
      "outputs": [
        {
          "output_type": "stream",
          "name": "stdout",
          "text": [
            "[[ 1  2  3]\n",
            " [11 12 13]\n",
            " [21 22 23]]\n",
            "[[1]\n",
            " [2]\n",
            " [3]]\n",
            "[[-0.01875]\n",
            " [-0.6625 ]\n",
            " [ 0.78125]]\n"
          ]
        }
      ]
    },
    {
      "cell_type": "code",
      "metadata": {
        "id": "wcEUb1VEHgfz"
      },
      "source": [],
      "execution_count": null,
      "outputs": []
    }
  ]
}