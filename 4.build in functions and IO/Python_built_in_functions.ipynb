{
  "nbformat": 4,
  "nbformat_minor": 0,
  "metadata": {
    "kernelspec": {
      "display_name": "Python 3",
      "language": "python",
      "name": "python3"
    },
    "language_info": {
      "codemirror_mode": {
        "name": "ipython",
        "version": 3
      },
      "file_extension": ".py",
      "mimetype": "text/x-python",
      "name": "python",
      "nbconvert_exporter": "python",
      "pygments_lexer": "ipython3",
      "version": "3.6.8"
    },
    "nbTranslate": {
      "displayLangs": [
        "*"
      ],
      "hotkey": "alt-t",
      "langInMainMenu": true,
      "sourceLang": "en",
      "targetLang": "fr",
      "useGoogleTranslate": true
    },
    "colab": {
      "provenance": [],
      "collapsed_sections": []
    }
  },
  "cells": [
    {
      "cell_type": "markdown",
      "metadata": {
        "id": "OODwR6sIk555"
      },
      "source": [
        "# System functions"
      ]
    },
    {
      "cell_type": "markdown",
      "metadata": {
        "id": "WgZp8PEvk558"
      },
      "source": [
        "## Environment variables\n",
        "\n",
        "Environment variables are variables defined in the operating environment. Users can modify these to control behavior of applications and software. In Python the dirctionary os.environ contains these variables."
      ]
    },
    {
      "cell_type": "code",
      "metadata": {
        "id": "gLE-Divnk55-",
        "colab": {
          "base_uri": "https://localhost:8080/"
        },
        "outputId": "7ad1ce0f-2dd8-4b3d-ecd4-5eeaa819bfc5"
      },
      "source": [
        "import os\n",
        "\n",
        "print(os.environ[\"PATH\"])\n",
        "\n",
        "for variable in os.environ:\n",
        "    print(\"%s = %s\" % (variable, os.environ[variable]))\n",
        "\n",
        "os.environ[\"TEST\"] = \"Nytt värde\"\n",
        "print(os.environ[\"TEST\"])"
      ],
      "execution_count": null,
      "outputs": [
        {
          "output_type": "stream",
          "name": "stdout",
          "text": [
            "/opt/bin:/usr/local/nvidia/bin:/usr/local/cuda/bin:/usr/local/sbin:/usr/local/bin:/usr/sbin:/usr/bin:/sbin:/bin:/tools/node/bin:/tools/google-cloud-sdk/bin\n",
            "NV_LIBCUBLAS_DEV_VERSION = 11.3.0.106-1\n",
            "NV_CUDA_COMPAT_PACKAGE = cuda-compat-11-1\n",
            "NV_CUDNN_PACKAGE_DEV = libcudnn8-dev=8.0.5.39-1+cuda11.1\n",
            "LD_LIBRARY_PATH = /usr/local/nvidia/lib:/usr/local/nvidia/lib64\n",
            "NV_LIBNCCL_DEV_PACKAGE = libnccl-dev=2.8.4-1+cuda11.1\n",
            "CLOUDSDK_PYTHON = python3\n",
            "LANG = en_US.UTF-8\n",
            "NV_LIBNPP_DEV_PACKAGE = libnpp-dev-11-1=11.1.2.301-1\n",
            "HOSTNAME = 8dcc7b96e000\n",
            "OLDPWD = /\n",
            "CLOUDSDK_CONFIG = /content/.config\n",
            "NV_LIBNPP_VERSION = 11.1.2.301-1\n",
            "NV_NVPROF_DEV_PACKAGE = cuda-nvprof-11-1=11.1.105-1\n",
            "NVIDIA_VISIBLE_DEVICES = all\n",
            "NV_NVPROF_VERSION = 11.1.105-1\n",
            "NV_LIBCUSPARSE_VERSION = 11.3.0.10-1\n",
            "DATALAB_SETTINGS_OVERRIDES = {\"kernelManagerProxyPort\":6000,\"kernelManagerProxyHost\":\"172.28.0.3\",\"jupyterArgs\":[\"--ip=172.28.0.2\"],\"debugAdapterMultiplexerPath\":\"/usr/local/bin/dap_multiplexer\",\"enableLsp\":true}\n",
            "NV_LIBCUBLAS_DEV_PACKAGE = libcublas-dev-11-1=11.3.0.106-1\n",
            "ENV = /root/.bashrc\n",
            "NCCL_VERSION = 2.8.4-1\n",
            "TF_FORCE_GPU_ALLOW_GROWTH = true\n",
            "NO_GCE_CHECK = False\n",
            "PWD = /\n",
            "NVARCH = x86_64\n",
            "HOME = /root\n",
            "NV_LIBCUSPARSE_DEV_VERSION = 11.3.0.10-1\n",
            "LAST_FORCED_REBUILD = 20220830\n",
            "NV_LIBNCCL_PACKAGE_VERSION = 2.8.4-1\n",
            "NV_LIBNCCL_PACKAGE = libnccl2=2.8.4-1+cuda11.1\n",
            "DEBIAN_FRONTEND = noninteractive\n",
            "NV_LIBNCCL_DEV_PACKAGE_NAME = libnccl-dev\n",
            "NV_CUDA_LIB_VERSION = 11.1.1-1\n",
            "NV_LIBNPP_PACKAGE = libnpp-11-1=11.1.2.301-1\n",
            "NV_LIBNCCL_PACKAGE_NAME = libnccl2\n",
            "LIBRARY_PATH = /usr/local/cuda/lib64/stubs\n",
            "NV_NVTX_VERSION = 11.1.74-1\n",
            "NV_LIBCUBLAS_VERSION = 11.3.0.106-1\n",
            "NV_LIBCUBLAS_PACKAGE = libcublas-11-1=11.3.0.106-1\n",
            "GCE_METADATA_TIMEOUT = 3\n",
            "NV_CUDNN_VERSION = 8.0.5.39\n",
            "NV_CUDA_CUDART_DEV_VERSION = 11.1.74-1\n",
            "GLIBCPP_FORCE_NEW = 1\n",
            "TBE_CREDS_ADDR = 172.28.0.1:8008\n",
            "SHELL = /bin/bash\n",
            "GCS_READ_CACHE_BLOCK_SIZE_MB = 16\n",
            "NV_NVML_DEV_VERSION = 11.1.74-1\n",
            "PYTHONWARNINGS = ignore:::pip._internal.cli.base_command\n",
            "CUDA_VERSION = 11.1.1\n",
            "NV_LIBCUBLAS_PACKAGE_NAME = libcublas-11-1\n",
            "NVIDIA_DRIVER_CAPABILITIES = compute,utility\n",
            "SHLVL = 0\n",
            "PYTHONPATH = /env/python\n",
            "NV_LIBCUBLAS_DEV_PACKAGE_NAME = libcublas-dev-11-1\n",
            "NVIDIA_REQUIRE_CUDA = cuda>=11.1 brand=tesla,driver>=418,driver<419 brand=tesla,driver>=450,driver<451\n",
            "NV_LIBNPP_DEV_VERSION = 11.1.2.301-1\n",
            "TBE_EPHEM_CREDS_ADDR = 172.28.0.1:8009\n",
            "NV_CUDA_CUDART_VERSION = 11.1.74-1\n",
            "COLAB_GPU = 0\n",
            "NV_CUDNN_PACKAGE_NAME = libcudnn8\n",
            "GLIBCXX_FORCE_NEW = 1\n",
            "PATH = /opt/bin:/usr/local/nvidia/bin:/usr/local/cuda/bin:/usr/local/sbin:/usr/local/bin:/usr/sbin:/usr/bin:/sbin:/bin:/tools/node/bin:/tools/google-cloud-sdk/bin\n",
            "NV_LIBNCCL_DEV_PACKAGE_VERSION = 2.8.4-1\n",
            "LD_PRELOAD = /usr/lib/x86_64-linux-gnu/libtcmalloc.so.4\n",
            "NV_CUDNN_PACKAGE = libcudnn8=8.0.5.39-1+cuda11.1\n",
            "JPY_PARENT_PID = 44\n",
            "TERM = xterm-color\n",
            "CLICOLOR = 1\n",
            "PAGER = cat\n",
            "GIT_PAGER = cat\n",
            "MPLBACKEND = module://ipykernel.pylab.backend_inline\n",
            "ENABLE_DIRECTORYPREFETCHER = 1\n",
            "USE_AUTH_EPHEM = 1\n",
            "PYDEVD_USE_FRAME_EVAL = NO\n",
            "Nytt värde\n"
          ]
        }
      ]
    },
    {
      "cell_type": "markdown",
      "metadata": {
        "id": "Gy2lZ_fik56J"
      },
      "source": [
        "## Accessing the system path\n",
        "\n",
        "The system path controls how the operating system searches for executables in the file system. Python has a neutral way of querying these from the system."
      ]
    },
    {
      "cell_type": "code",
      "metadata": {
        "id": "Fq1uC5Csk56L",
        "colab": {
          "base_uri": "https://localhost:8080/"
        },
        "outputId": "3fde8e94-b7e3-4c78-89f6-71b2026b2c93"
      },
      "source": [
        "import os\n",
        "\n",
        "exe_path_list = os.get_exec_path()\n",
        "\n",
        "for path in exe_path_list:\n",
        "    print(path)"
      ],
      "execution_count": null,
      "outputs": [
        {
          "output_type": "stream",
          "name": "stdout",
          "text": [
            "/opt/bin\n",
            "/usr/local/nvidia/bin\n",
            "/usr/local/cuda/bin\n",
            "/usr/local/sbin\n",
            "/usr/local/bin\n",
            "/usr/sbin\n",
            "/usr/bin\n",
            "/sbin\n",
            "/bin\n",
            "/tools/node/bin\n",
            "/tools/google-cloud-sdk/bin\n"
          ]
        }
      ]
    },
    {
      "cell_type": "markdown",
      "metadata": {
        "id": "Flytb4lfk56Q"
      },
      "source": [
        "## Changing and querying the working directory\n",
        "\n",
        "The working directory is the directory where your application is started. Python has functions for changing and querying the working directory."
      ]
    },
    {
      "cell_type": "code",
      "metadata": {
        "id": "TvvVK01Fk56a",
        "colab": {
          "base_uri": "https://localhost:8080/"
        },
        "outputId": "be9dd4cd-e1c4-4d69-df01-62ffc1d29dca"
      },
      "source": [
        "import os\n",
        "\n",
        "cwd = os.getcwd()\n",
        "print(cwd)\n",
        "\n",
        "os.chdir(\"..\")\n",
        "print(os.getcwd())\n",
        "os.chdir(cwd)\n",
        "print(os.getcwd())"
      ],
      "execution_count": null,
      "outputs": [
        {
          "output_type": "stream",
          "name": "stdout",
          "text": [
            "/content\n",
            "/\n",
            "/content\n"
          ]
        }
      ]
    },
    {
      "cell_type": "markdown",
      "metadata": {
        "id": "6nM_Xp8xk56e"
      },
      "source": [
        "## Listing files in a directory\n",
        "\n",
        "For many applications it can be important to query what files and directories are available. The os.listdir() function implements this in Python."
      ]
    },
    {
      "cell_type": "code",
      "metadata": {
        "id": "AzDd_3FHGQPh"
      },
      "source": [
        "!touch testfile"
      ],
      "execution_count": null,
      "outputs": []
    },
    {
      "cell_type": "code",
      "metadata": {
        "id": "ujHpvBdyk56g",
        "colab": {
          "base_uri": "https://localhost:8080/"
        },
        "outputId": "b15e2442-c20c-4f28-fabc-4780d58ebe20"
      },
      "source": [
        "import os\n",
        "\n",
        "for item in os.listdir():\n",
        "    print(item)\n",
        "\n",
        "for item in os.listdir():\n",
        "    if os.path.isdir(item):\n",
        "        print(\"Katalog:\", item)\n",
        "    if os.path.isfile(item):\n",
        "        print(\"Fil    :\", item)"
      ],
      "execution_count": null,
      "outputs": [
        {
          "output_type": "stream",
          "name": "stdout",
          "text": [
            ".config\n",
            "testfile\n",
            "sample_data\n",
            "Katalog: .config\n",
            "Fil    : testfile\n",
            "Katalog: sample_data\n"
          ]
        }
      ]
    },
    {
      "cell_type": "markdown",
      "metadata": {
        "id": "QW2guNh1k56k"
      },
      "source": [
        "## Directory manipulation\n",
        "\n",
        "Python also has a lot of functions for creating and manipulating directories."
      ]
    },
    {
      "cell_type": "code",
      "metadata": {
        "id": "CvxAe9ujk56n",
        "colab": {
          "base_uri": "https://localhost:8080/"
        },
        "outputId": "73433920-0d02-44b0-e143-8ee99e5808a3"
      },
      "source": [
        "import os\n",
        "\n",
        "cwd = os.getcwd()\n",
        "\n",
        "if not os.path.exists(\"os5\"):\n",
        "    os.mkdir(\"os5\")\n",
        "\n",
        "os.chdir(\"os5\")\n",
        "\n",
        "os.mkdir(\"testdir\")\n",
        "\n",
        "with open(\"testfile\", \"w\") as f:\n",
        "    f.write(\"testfile\")\n",
        "\n",
        "print(os.listdir())\n",
        "\n",
        "os.rename(\"testfile\", \"testfile2\")\n",
        "\n",
        "print(os.listdir())\n",
        "\n",
        "os.rmdir(\"testdir\")\n",
        "os.remove(\"testfile2\")\n",
        "\n",
        "print(os.listdir())\n",
        "\n",
        "os.chdir(cwd)"
      ],
      "execution_count": null,
      "outputs": [
        {
          "output_type": "stream",
          "name": "stdout",
          "text": [
            "['testfile', 'testdir']\n",
            "['testdir', 'testfile2']\n",
            "[]\n"
          ]
        }
      ]
    },
    {
      "cell_type": "markdown",
      "metadata": {
        "id": "c9Hr8du2k56s"
      },
      "source": [
        "## Listing and querying file information\n",
        "\n",
        "The os.scandir() function can be used to query more detailed information on the a file or directory."
      ]
    },
    {
      "cell_type": "code",
      "metadata": {
        "id": "YSP78KjBk56t",
        "colab": {
          "base_uri": "https://localhost:8080/"
        },
        "outputId": "900b825d-376a-4aef-b540-39adbca9f451"
      },
      "source": [
        "import os\n",
        "\n",
        "with os.scandir() as it:\n",
        "    for entry in it:\n",
        "        print(\"------------------------\")\n",
        "        print(\"name\", entry.name)\n",
        "        print(\"path\", entry.path)\n",
        "        print(\"is_dir\", entry.is_dir())\n",
        "        print(\"is_file\", entry.is_file())"
      ],
      "execution_count": null,
      "outputs": [
        {
          "output_type": "stream",
          "name": "stdout",
          "text": [
            "------------------------\n",
            "name .config\n",
            "path ./.config\n",
            "is_dir True\n",
            "is_file False\n",
            "------------------------\n",
            "name os5\n",
            "path ./os5\n",
            "is_dir True\n",
            "is_file False\n",
            "------------------------\n",
            "name testfile\n",
            "path ./testfile\n",
            "is_dir False\n",
            "is_file True\n",
            "------------------------\n",
            "name sample_data\n",
            "path ./sample_data\n",
            "is_dir True\n",
            "is_file False\n"
          ]
        }
      ]
    },
    {
      "cell_type": "markdown",
      "metadata": {
        "id": "VMFpNgc4k56y"
      },
      "source": [
        "## Walking directories with os.walk()\n",
        "\n",
        "The os.walk() function enables you to traverse directories as an iteration using the for-statement."
      ]
    },
    {
      "cell_type": "code",
      "metadata": {
        "id": "GDVZkfB-k560",
        "colab": {
          "base_uri": "https://localhost:8080/"
        },
        "outputId": "c7722e2f-aebd-4ff6-a975-4655bae8493b"
      },
      "source": [
        "import os\n",
        "\n",
        "for root, dirs, files in os.walk(\".\"):\n",
        "    print(\"--->\")\n",
        "    print(root)\n",
        "    print(dirs)\n",
        "    print(files)\n",
        "    print(\"<---\")"
      ],
      "execution_count": null,
      "outputs": [
        {
          "output_type": "stream",
          "name": "stdout",
          "text": [
            "--->\n",
            ".\n",
            "['.config', 'os5', 'sample_data']\n",
            "['testfile']\n",
            "<---\n",
            "--->\n",
            "./.config\n",
            "['logs', 'configurations']\n",
            "['.last_update_check.json', 'active_config', '.last_survey_prompt.yaml', 'config_sentinel', 'gce', '.last_opt_in_prompt.yaml']\n",
            "<---\n",
            "--->\n",
            "./.config/logs\n",
            "['2022.08.31']\n",
            "[]\n",
            "<---\n",
            "--->\n",
            "./.config/logs/2022.08.31\n",
            "[]\n",
            "['13.47.33.413502.log', '13.47.03.944288.log', '13.46.43.989608.log', '13.46.22.077074.log', '13.47.11.927057.log', '13.47.32.611835.log']\n",
            "<---\n",
            "--->\n",
            "./.config/configurations\n",
            "[]\n",
            "['config_default']\n",
            "<---\n",
            "--->\n",
            "./os5\n",
            "[]\n",
            "[]\n",
            "<---\n",
            "--->\n",
            "./sample_data\n",
            "[]\n",
            "['README.md', 'anscombe.json', 'california_housing_train.csv', 'mnist_test.csv', 'mnist_train_small.csv', 'california_housing_test.csv']\n",
            "<---\n"
          ]
        }
      ]
    },
    {
      "cell_type": "markdown",
      "metadata": {
        "id": "16u6Vtmzk566"
      },
      "source": [
        "## Querying file information\n",
        "\n",
        "On Unix-based platform the os.stat() function can return detailed information on files and directories."
      ]
    },
    {
      "cell_type": "code",
      "metadata": {
        "id": "0fBG_b4kk567",
        "colab": {
          "base_uri": "https://localhost:8080/"
        },
        "outputId": "a910d63c-0269-49d8-af78-514ad686b48a"
      },
      "source": [
        "import os\n",
        "\n",
        "with open(\"testfile\", \"w\") as f:\n",
        "    f.write(\"testfile\")\n",
        "    \n",
        "os.mkdir(\"testdir2\")\n",
        "\n",
        "statinfo_file = os.stat(\"testfile\")\n",
        "statinfo_dir = os.stat(\"testdir2\")\n",
        "\n",
        "print(statinfo_file)\n",
        "print(statinfo_dir)"
      ],
      "execution_count": null,
      "outputs": [
        {
          "output_type": "stream",
          "name": "stdout",
          "text": [
            "os.stat_result(st_mode=33188, st_ino=3932259, st_dev=38, st_nlink=1, st_uid=0, st_gid=0, st_size=8, st_atime=1662376865, st_mtime=1662377097, st_ctime=1662377097)\n",
            "os.stat_result(st_mode=16877, st_ino=3932262, st_dev=38, st_nlink=2, st_uid=0, st_gid=0, st_size=4096, st_atime=1662377097, st_mtime=1662377097, st_ctime=1662377097)\n"
          ]
        }
      ]
    },
    {
      "cell_type": "markdown",
      "metadata": {
        "id": "g4xHhx2tk57A"
      },
      "source": [
        "## Path manipulation\n",
        "\n",
        "The os.path module contains even more functions for manipulating paths and querying file information."
      ]
    },
    {
      "cell_type": "code",
      "metadata": {
        "id": "autiiqIBk57C",
        "colab": {
          "base_uri": "https://localhost:8080/"
        },
        "outputId": "bf60a4d9-194c-4844-c9ef-05a991959bb1"
      },
      "source": [
        "import os\n",
        "\n",
        "print(os.path.abspath('.'))\n",
        "print(os.path.basename('/home/user/test.txt'))\n",
        "print(os.path.dirname('/home/user/test.txt'))\n",
        "\n",
        "with open(\"testfile_path\", \"w\") as f:\n",
        "    f.write(\"testfile\")\n",
        "\n",
        "if os.path.exists('/home/user/test.txt'):\n",
        "    print('test.txt is valid')\n",
        "else:\n",
        "    print('test.txt is not valid')\n",
        "\n",
        "print(os.path.expanduser('~'))\n",
        "\n",
        "print(os.path.getatime('testfile_path'))\n",
        "print(os.path.getmtime('testfile_path'))\n",
        "print(os.path.getctime('testfile_path'))\n",
        "\n",
        "print(os.path.getsize('testfile_path'))\n",
        "\n",
        "if os.path.isabs('testfile_path'):\n",
        "    print('Absolute path')\n",
        "else:\n",
        "    print('No absolute path')\n",
        "\n",
        "if os.path.isabs(\"C:/Users/jonas/Development/python_book/examples/rtl/ospath1.py\"):\n",
        "    print('Absolute path')\n",
        "else:\n",
        "    print('No absolute path')\n",
        "\n",
        "if os.path.isfile('testfile_path'):\n",
        "    print('ospath1.py is a file')\n",
        "else:\n",
        "    print('ospath1.py is not a file')\n",
        "\n",
        "if os.path.isdir('testfile_path'):\n",
        "    print('ospath1.py is a directory')\n",
        "else:\n",
        "    print('ospath1.py is not a directory')\n",
        "\n",
        "dir_name = 'c:\\\\Users\\\\jonas'\n",
        "file_name = 'test.txt'\n",
        "\n",
        "file_path = os.path.join(dir_name, file_name)\n",
        "\n",
        "print(file_path)\n",
        "print(os.path.split(file_path))\n",
        "print(os.path.splitdrive(file_path))\n",
        "print(os.path.splitext(file_path))"
      ],
      "execution_count": null,
      "outputs": [
        {
          "output_type": "stream",
          "name": "stdout",
          "text": [
            "/content\n",
            "test.txt\n",
            "/home/user\n",
            "test.txt is not valid\n",
            "/root\n",
            "1662377281.611487\n",
            "1662377281.612487\n",
            "1662377281.612487\n",
            "8\n",
            "No absolute path\n",
            "No absolute path\n",
            "ospath1.py is a file\n",
            "ospath1.py is not a directory\n",
            "c:\\Users\\jonas/test.txt\n",
            "('c:\\\\Users\\\\jonas', 'test.txt')\n",
            "('', 'c:\\\\Users\\\\jonas/test.txt')\n",
            "('c:\\\\Users\\\\jonas/test', '.txt')\n"
          ]
        }
      ]
    },
    {
      "cell_type": "markdown",
      "metadata": {
        "id": "Ujj6QCEak57F"
      },
      "source": [
        "## Path manipulation using pathlib\n",
        "\n",
        "pathlib is a module implemting OO-based file manipulation."
      ]
    },
    {
      "cell_type": "code",
      "metadata": {
        "id": "C0UZgHozk57G"
      },
      "source": [
        "import pathlib as pl\n",
        "\n",
        "p = pl.Path('.')\n",
        "p = p / \"test\"\n",
        "print(p)\n",
        "\n",
        "print(p.exists())\n",
        "\n",
        "q = p.resolve()\n",
        "print(q)\n",
        "\n",
        "\n",
        "print(q.parts)\n",
        "print(q.drive)\n",
        "\n",
        "r = pl.Path.cwd()\n",
        "print(r)\n",
        "\n",
        "print(r.exists())\n",
        "print(r.is_dir())\n",
        "print(r.is_file())\n",
        "\n",
        "\n",
        "s = pl.Path.home()\n",
        "print(s)"
      ],
      "execution_count": null,
      "outputs": []
    },
    {
      "cell_type": "markdown",
      "metadata": {
        "id": "r42g0I1Qk57M"
      },
      "source": [
        "## Iterating with pathlib"
      ]
    },
    {
      "cell_type": "code",
      "metadata": {
        "id": "L-1sZQL2k57P"
      },
      "source": [
        "import pathlib as pl\n",
        "\n",
        "p = pl.Path(\".\")\n",
        "\n",
        "for x in p.iterdir():\n",
        "    if x.is_dir():\n",
        "        print(x,'- katalog')\n",
        "    else:\n",
        "        print(x,'- fil')"
      ],
      "execution_count": null,
      "outputs": []
    },
    {
      "cell_type": "markdown",
      "metadata": {
        "id": "mUXxwg5Fk57U"
      },
      "source": [
        "## Current path manipulation using pathlib"
      ]
    },
    {
      "cell_type": "code",
      "metadata": {
        "id": "Bp6q29C7k57V"
      },
      "source": [
        "import os\n",
        "import pathlib as pl\n",
        "\n",
        "p = pl.Path('..')\n",
        "\n",
        "os.chdir(p)\n",
        "\n",
        "q = pl.Path.cwd()\n",
        "print(q)"
      ],
      "execution_count": null,
      "outputs": []
    },
    {
      "cell_type": "code",
      "metadata": {
        "id": "Ig9LvYxMk57Z"
      },
      "source": [
        "import os\n",
        "import pathlib as pl\n",
        "\n",
        "new_path = pl.Path('..')\n",
        "old_path = pl.Path.cwd()\n",
        "\n",
        "os.chdir(new_path)\n",
        "\n",
        "print(pl.Path.cwd())\n",
        "\n",
        "os.chdir(old_path)\n",
        "\n",
        "print(pl.Path.cwd())"
      ],
      "execution_count": null,
      "outputs": []
    },
    {
      "cell_type": "markdown",
      "metadata": {
        "id": "dd0Ju_91k57e"
      },
      "source": [
        "## Temporary files\n",
        "\n",
        "In many applications you need to create temporary files. In Python there are functions for securely creating temporary files."
      ]
    },
    {
      "cell_type": "code",
      "metadata": {
        "id": "lD9ZYJwOk57f",
        "colab": {
          "base_uri": "https://localhost:8080/"
        },
        "outputId": "97f5eded-3e3b-40fa-e923-765662f60c5d"
      },
      "source": [
        "import os, tempfile\n",
        "\n",
        "temp_fd, temp_path = tempfile.mkstemp()\n",
        "\n",
        "print('Temporär fil', temp_path, 'skapad.')\n",
        "print('Är det en faktiskt fil:', os.path.isfile(temp_path))\n",
        "\n",
        "try:\n",
        "    with open(temp_fd, 'w+t') as temp_file:\n",
        "        temp_file = open(temp_fd, 'w+t')\n",
        "        temp_file.write('this is written to the temp file')\n",
        "        temp_file.seek(0)\n",
        "        print(temp_file.read())\n",
        "finally:\n",
        "    os.remove(temp_path)\n",
        "\n",
        "print(os.path.isfile(temp_path))"
      ],
      "execution_count": null,
      "outputs": [
        {
          "output_type": "stream",
          "name": "stdout",
          "text": [
            "Temporär fil /tmp/tmpav9qb_s9 skapad.\n",
            "Är det en faktiskt fil: True\n",
            "this is written to the temp file\n",
            "False\n"
          ]
        }
      ]
    },
    {
      "cell_type": "code",
      "metadata": {
        "id": "uKsauPKIk57j",
        "colab": {
          "base_uri": "https://localhost:8080/"
        },
        "outputId": "b1a244db-27b5-4097-a42b-8ef3106ab12a"
      },
      "source": [
        "import os, tempfile\n",
        "\n",
        "with tempfile.TemporaryFile() as temp_file:\n",
        "    print('Temporär fil', temp_file.name, 'skapad.')\n",
        "    print(os.path.isfile(temp_file.name))\n",
        "    temp_file.write(b'this is written to the temp file')\n",
        "    temp_file.seek(0)\n",
        "\n",
        "print(os.path.isfile(temp_file.name))"
      ],
      "execution_count": null,
      "outputs": [
        {
          "output_type": "stream",
          "name": "stdout",
          "text": [
            "Temporär fil 59 skapad.\n",
            "True\n",
            "False\n"
          ]
        }
      ]
    },
    {
      "cell_type": "markdown",
      "metadata": {
        "id": "8iG2tOqZk57n"
      },
      "source": [
        "# Starting other programs from Python"
      ]
    },
    {
      "cell_type": "markdown",
      "metadata": {
        "id": "bFALBpiok57o"
      },
      "source": [
        "## Starting program using the subprocess module\n",
        "\n",
        "In many cases there is a need for a Python script to execute other applications and scripts. Python implements a multitude of functions for executing processes. Most of them are implemented in the subprocess module."
      ]
    },
    {
      "cell_type": "code",
      "metadata": {
        "id": "aX1lQm9dk57r",
        "colab": {
          "base_uri": "https://localhost:8080/"
        },
        "outputId": "f41f3232-01fd-41f5-bb5b-cf3aaec67131"
      },
      "source": [
        "import subprocess\n",
        "\n",
        "result = subprocess.run(['ls', '-la'])\n",
        "\n",
        "if result.returncode == 0:\n",
        "    print('Processen returnerade 0')\n",
        "else:\n",
        "    print('Processen returnerade felkoden = ', result.returncode)"
      ],
      "execution_count": null,
      "outputs": [
        {
          "output_type": "stream",
          "name": "stdout",
          "text": [
            "Processen returnerade 0\n"
          ]
        }
      ]
    },
    {
      "cell_type": "code",
      "metadata": {
        "id": "FvE7HCjpk57v",
        "colab": {
          "base_uri": "https://localhost:8080/"
        },
        "outputId": "8f987411-103d-4b6a-8447-3a3eb4e0cfb0"
      },
      "source": [
        "import subprocess\n",
        "\n",
        "result = subprocess.run('ls -la', shell=True, stdout=subprocess.PIPE, universal_newlines=True)\n",
        "\n",
        "if result.returncode == 0:\n",
        "    print('Processen returnerade 0')\n",
        "    print('Utdata:')\n",
        "    print(result.stdout)\n",
        "else:\n",
        "    print('Processen returnerade felkoden = ', result.returncode)"
      ],
      "execution_count": null,
      "outputs": [
        {
          "output_type": "stream",
          "name": "stdout",
          "text": [
            "Processen returnerade 0\n",
            "Utdata:\n",
            "total 32\n",
            "drwxr-xr-x 1 root root 4096 Sep  5 11:28 .\n",
            "drwxr-xr-x 1 root root 4096 Sep  5 11:07 ..\n",
            "drwxr-xr-x 4 root root 4096 Aug 31 13:47 .config\n",
            "drwxr-xr-x 2 root root 4096 Sep  5 11:23 os5\n",
            "drwxr-xr-x 1 root root 4096 Aug 31 13:47 sample_data\n",
            "drwxr-xr-x 2 root root 4096 Sep  5 11:24 testdir2\n",
            "-rw-r--r-- 1 root root    8 Sep  5 11:24 testfile\n",
            "-rw-r--r-- 1 root root    8 Sep  5 11:28 testfile_path\n",
            "\n"
          ]
        }
      ]
    },
    {
      "cell_type": "code",
      "metadata": {
        "id": "l5bAo28Pk57z",
        "colab": {
          "base_uri": "https://localhost:8080/"
        },
        "outputId": "1f61e2b9-d75b-469b-a5ae-6c40b8b402bb"
      },
      "source": [
        "import subprocess\n",
        "\n",
        "p = subprocess.Popen(['ls', '-la'])\n",
        "\n",
        "# Other processing here...\n",
        "\n",
        "p.wait()\n",
        "\n",
        "if p.returncode == 0:\n",
        "    print('Processen returnerade 0')\n",
        "else:\n",
        "    print('Processen returnerade felkoden = ', p.returncode)"
      ],
      "execution_count": null,
      "outputs": [
        {
          "output_type": "stream",
          "name": "stdout",
          "text": [
            "Processen returnerade 0\n"
          ]
        }
      ]
    },
    {
      "cell_type": "code",
      "metadata": {
        "id": "w6x0QlC3k573",
        "colab": {
          "base_uri": "https://localhost:8080/"
        },
        "outputId": "b45f2c83-2efd-455e-eb0e-4f9cdb3beb1e"
      },
      "source": [
        "import subprocess, time\n",
        "\n",
        "p = subprocess.Popen(['sleep', '5'])\n",
        "\n",
        "while p.poll() is None:\n",
        "    print('Väntar...')\n",
        "    time.sleep(1)\n",
        "\n",
        "if p.returncode == 0:\n",
        "    print('Processen returnerade 0')\n",
        "else:\n",
        "    print('Processen returnerade felkoden = ', p.returncode)"
      ],
      "execution_count": null,
      "outputs": [
        {
          "output_type": "stream",
          "name": "stdout",
          "text": [
            "Väntar...\n",
            "Väntar...\n",
            "Väntar...\n",
            "Väntar...\n",
            "Väntar...\n",
            "Processen returnerade 0\n"
          ]
        }
      ]
    },
    {
      "cell_type": "code",
      "metadata": {
        "id": "xK6nTacsk577",
        "colab": {
          "base_uri": "https://localhost:8080/"
        },
        "outputId": "e5a2aef7-bd12-4ede-ebb1-7b8961b80e93"
      },
      "source": [
        "import subprocess, time\n",
        "\n",
        "p = subprocess.Popen('ls -la; sleep 4', shell=True, stdout=subprocess.PIPE, stderr=subprocess.PIPE, universal_newlines=True)\n",
        "\n",
        "while p.poll() is None:\n",
        "    print('Väntar...')\n",
        "    time.sleep(1)\n",
        "\n",
        "stdout, stderr = p.communicate()\n",
        "\n",
        "if p.returncode == 0:\n",
        "    print('Processen returnerade 0')\n",
        "    print('standard output:')\n",
        "    print(stdout)\n",
        "    print('standard error:')\n",
        "    print(stderr)\n",
        "else:\n",
        "    print('Processen returnerade felkoden = ', p.returncode)"
      ],
      "execution_count": null,
      "outputs": [
        {
          "output_type": "stream",
          "name": "stdout",
          "text": [
            "Väntar...\n",
            "Väntar...\n",
            "Väntar...\n",
            "Väntar...\n",
            "Väntar...\n",
            "Processen returnerade 0\n",
            "standard output:\n",
            "\n",
            "standard error:\n",
            "/bin/sh: 1: lsu: not found\n",
            "\n"
          ]
        }
      ]
    },
    {
      "cell_type": "code",
      "metadata": {
        "id": "m4wGVh7ck579",
        "colab": {
          "base_uri": "https://localhost:8080/"
        },
        "outputId": "3f44b975-bb7c-4c42-83af-044ff38a70fc"
      },
      "source": [
        "import subprocess\n",
        "\n",
        "with subprocess.Popen('ls -la', shell=True, stdout=subprocess.PIPE, stderr=subprocess.PIPE, universal_newlines=True) as p:\n",
        "    stdout, stderr = p.communicate()\n",
        "\n",
        "    if p.returncode == 0:\n",
        "        print('Processen returnerade 0')\n",
        "        print('standard output:')\n",
        "        print(stdout)\n",
        "        print('standard error:')\n",
        "        print(stderr)\n",
        "    else:\n",
        "        print('Processen returnerade felkoden = ', p.returncode)"
      ],
      "execution_count": null,
      "outputs": [
        {
          "output_type": "stream",
          "name": "stdout",
          "text": [
            "Processen returnerade 0\n",
            "standard output:\n",
            "total 32\n",
            "drwxr-xr-x 1 root root 4096 Sep  5 11:28 .\n",
            "drwxr-xr-x 1 root root 4096 Sep  5 11:07 ..\n",
            "drwxr-xr-x 4 root root 4096 Aug 31 13:47 .config\n",
            "drwxr-xr-x 2 root root 4096 Sep  5 11:23 os5\n",
            "drwxr-xr-x 1 root root 4096 Aug 31 13:47 sample_data\n",
            "drwxr-xr-x 2 root root 4096 Sep  5 11:24 testdir2\n",
            "-rw-r--r-- 1 root root    8 Sep  5 11:24 testfile\n",
            "-rw-r--r-- 1 root root    8 Sep  5 11:28 testfile_path\n",
            "\n",
            "standard error:\n",
            "\n"
          ]
        }
      ]
    },
    {
      "cell_type": "code",
      "metadata": {
        "id": "nLRZk2Spk58C",
        "colab": {
          "base_uri": "https://localhost:8080/"
        },
        "outputId": "5a223dda-faed-483a-c899-3acf945956e7"
      },
      "source": [
        "import subprocess\n",
        "\n",
        "\n",
        "def execute_with_output(cmd):\n",
        "\n",
        "    with subprocess.Popen(cmd, shell=True, stdout=subprocess.PIPE, universal_newlines=True) as p:\n",
        "        stdout, _ = p.communicate()\n",
        "\n",
        "        if p.returncode == 0:\n",
        "            return stdout\n",
        "        else:\n",
        "            return None\n",
        "\n",
        "\n",
        "if __name__ == \"__main__\":\n",
        "\n",
        "    output = execute_with_output('ls')\n",
        "\n",
        "    if output is not None:\n",
        "\n",
        "        lines = output.split(\"\\n\")\n",
        "\n",
        "        for line in lines:\n",
        "            print('>' + line)\n",
        "    else:\n",
        "        print('Ingen utdata returnerades.')"
      ],
      "execution_count": null,
      "outputs": [
        {
          "output_type": "stream",
          "name": "stdout",
          "text": [
            ">os5\n",
            ">sample_data\n",
            ">testdir2\n",
            ">testfile\n",
            ">testfile_path\n",
            ">\n"
          ]
        }
      ]
    },
    {
      "cell_type": "markdown",
      "metadata": {
        "id": "mf-M4LOnk58G"
      },
      "source": [
        "# Structured logging of events\n",
        "\n",
        "For larger applications there is often a need to create log entries in a more structured way. The logging module in Python implements this functionality."
      ]
    },
    {
      "cell_type": "code",
      "metadata": {
        "id": "jh42Byxok58G",
        "colab": {
          "base_uri": "https://localhost:8080/"
        },
        "outputId": "71b6c00c-df77-462a-bdb6-976fe94b15a7"
      },
      "source": [
        "import logging\n",
        "\n",
        "def do_some_logging():\n",
        "    logging.debug(\"Detta är ett testmeddelande...\")\n",
        "    logging.info(\"Detta är ett informationsmeddelande...\")\n",
        "    logging.warning(\"Detta är en varning...\")\n",
        "    logging.error(\"Detta är ett felmeddelande...\")\n",
        "    logging.critical(\"Detta är ett kritiskt fel...\")\n",
        "    logging.critical(\"-----------------------------\")\n",
        "\n",
        "#logging.getLogger().setLevel(logging.DEBUG)\n",
        "\n",
        "#do_some_logging()\n",
        "\n",
        "logging.getLogger().setLevel(logging.ERROR)\n",
        "\n",
        "do_some_logging()"
      ],
      "execution_count": null,
      "outputs": [
        {
          "output_type": "stream",
          "name": "stderr",
          "text": [
            "ERROR:root:Detta är ett felmeddelande...\n",
            "CRITICAL:root:Detta är ett kritiskt fel...\n",
            "CRITICAL:root:-----------------------------\n"
          ]
        }
      ]
    },
    {
      "cell_type": "code",
      "metadata": {
        "id": "aZZGqxF_k58L"
      },
      "source": [
        "import logging\n",
        "\n",
        "def do_some_logging2(logger):\n",
        "    logger.debug(\"Detta är ett testmeddelande...\")\n",
        "    logger.info(\"Detta är ett informationsmeddelande...\")\n",
        "    logger.warning(\"Detta är en varning...\")\n",
        "    logger.error(\"Detta är ett felmeddelande...\")\n",
        "    logger.critical(\"Detta är ett kritiskt fel...\")\n",
        "    logger.critical(\"-----------------------------\")\n",
        "\n",
        "\n",
        "mylog = logging.getLogger(\"mylog\")\n",
        "mylog.setLevel(logging.DEBUG)\n",
        "\n",
        "do_some_logging2(mylog)\n",
        "\n",
        "print(\"Loglevel ERROR\")\n",
        "\n",
        "mylog.setLevel(logging.ERROR)\n",
        "\n",
        "do_some_logging2(mylog)"
      ],
      "execution_count": null,
      "outputs": []
    },
    {
      "cell_type": "code",
      "metadata": {
        "id": "xfV1cWWak58O",
        "colab": {
          "base_uri": "https://localhost:8080/"
        },
        "outputId": "de71cd32-9d6f-4049-cc33-47d7b04636cc"
      },
      "source": [
        "import logging\n",
        "\n",
        "def do_some_logging(logger):\n",
        "    logger.debug(\"Detta är ett testmeddelande...\")\n",
        "    logger.info(\"Detta är ett informationsmeddelande...\")\n",
        "    logger.warning(\"Detta är en varning...\")\n",
        "    logger.error(\"Detta är ett felmeddelande...\")\n",
        "    logger.critical(\"Detta är ett kritiskt fel...\")\n",
        "\n",
        "logging.basicConfig(level=logging.DEBUG, format='%(asctime)-15s %(name)-10s %(levelname)-8s %(message)s')\n",
        "\n",
        "mylog = logging.getLogger(\"mylog\")\n",
        "mylog.setLevel(logging.DEBUG)\n",
        "\n",
        "do_some_logging(mylog)"
      ],
      "execution_count": null,
      "outputs": [
        {
          "output_type": "stream",
          "name": "stderr",
          "text": [
            "DEBUG:mylog:Detta är ett testmeddelande...\n",
            "INFO:mylog:Detta är ett informationsmeddelande...\n",
            "WARNING:mylog:Detta är en varning...\n",
            "ERROR:mylog:Detta är ett felmeddelande...\n",
            "CRITICAL:mylog:Detta är ett kritiskt fel...\n"
          ]
        }
      ]
    },
    {
      "cell_type": "code",
      "metadata": {
        "id": "FfFmZuB4k58Q"
      },
      "source": [
        "def my_func2(p1):\n",
        "    print(\"my_func2() p1=\", p1)\n",
        "\n",
        "    if p1 < 0:\n",
        "        print(\"p1 mindre än 0\")\n",
        "\n",
        "def my_func1(p1):\n",
        "    print(\"my_func() p1 =\", p1)\n",
        "    my_func2(p1)\n",
        "\n",
        "    for i in range(5):\n",
        "        print(\"i =\", i)\n",
        "\n",
        "my_func1(-2)\n",
        "my_func1(1)"
      ],
      "execution_count": null,
      "outputs": []
    },
    {
      "cell_type": "markdown",
      "metadata": {
        "id": "ZfH1kclDk58S"
      },
      "source": [
        "# Storing variables and data structures\n",
        "\n",
        "Python has built in functions for writing data types to disk. If readability is important the Javascript Object Notation or json can be used as a storage format. In Python this functionality is found in the json-module."
      ]
    },
    {
      "cell_type": "code",
      "metadata": {
        "id": "255CI2sPk58T",
        "colab": {
          "base_uri": "https://localhost:8080/"
        },
        "outputId": "d6267d7d-6fa2-4e33-f32d-c4d3a659264e"
      },
      "source": [
        "import json\n",
        "\n",
        "my_data = {\"a number\": 42, \"a list\": [1, 2, 3, 4], \"a dict\": {'a': 1, 'b': 2}}\n",
        "\n",
        "with open(\"mydata.json\", \"w\") as my_file:\n",
        "    json.dump(my_data, my_file)\n",
        "\n",
        "with open(\"mydata.json\", \"r\") as my_file:\n",
        "    my_data_copy = json.load(my_file)\n",
        "\n",
        "print(my_data_copy)\n",
        "!cat mydata.json"
      ],
      "execution_count": null,
      "outputs": [
        {
          "output_type": "stream",
          "name": "stdout",
          "text": [
            "{'a number': 42, 'a list': [1, 2, 3, 4], 'a dict': {'a': 1, 'b': 2}}\n",
            "{\"a number\": 42, \"a list\": [1, 2, 3, 4], \"a dict\": {\"a\": 1, \"b\": 2}}"
          ]
        }
      ]
    },
    {
      "cell_type": "code",
      "metadata": {
        "id": "Uyxthzg8k58V",
        "colab": {
          "base_uri": "https://localhost:8080/"
        },
        "outputId": "becd666f-fc0f-4605-a05a-11f4811c9a16"
      },
      "source": [
        "import json\n",
        "\n",
        "my_data = {\"a number\": 42, \"a list\": [1, 2, 3, 4], \"a dict\": {'a': 1, 'b': 2}}\n",
        "\n",
        "json_string = json.dumps(my_data)\n",
        "\n",
        "print(json_string)\n",
        "\n",
        "my_data_copy = json.loads(json_string)\n",
        "\n",
        "print(my_data_copy)"
      ],
      "execution_count": null,
      "outputs": [
        {
          "output_type": "stream",
          "name": "stdout",
          "text": [
            "{\"a number\": 42, \"a list\": [1, 2, 3, 4], \"a dict\": {\"a\": 1, \"b\": 2}}\n",
            "{'a number': 42, 'a list': [1, 2, 3, 4], 'a dict': {'a': 1, 'b': 2}}\n"
          ]
        }
      ]
    },
    {
      "cell_type": "code",
      "metadata": {
        "id": "XmN6yxGyk58Y",
        "colab": {
          "base_uri": "https://localhost:8080/"
        },
        "outputId": "b3cdcd02-bd78-4ef6-ddbc-0b5a5735f036"
      },
      "source": [
        "import json\n",
        "\n",
        "my_data = {\"a number\": 42, \"a list\": [1, 2, 3, 4], \"a dict\": {'a': 1, 'b': 2}}\n",
        "\n",
        "print(json.dumps(my_data, sort_keys=True, indent=4))"
      ],
      "execution_count": null,
      "outputs": [
        {
          "output_type": "stream",
          "name": "stdout",
          "text": [
            "{\n",
            "    \"a dict\": {\n",
            "        \"a\": 1,\n",
            "        \"b\": 2\n",
            "    },\n",
            "    \"a list\": [\n",
            "        1,\n",
            "        2,\n",
            "        3,\n",
            "        4\n",
            "    ],\n",
            "    \"a number\": 42\n",
            "}\n"
          ]
        }
      ]
    },
    {
      "cell_type": "markdown",
      "metadata": {
        "id": "r0AXSkFCpFin"
      },
      "source": [
        "## Storing data structures using the standard pickle-format\n",
        "\n",
        "The pickle-module is the standard way of storing Python data types in Python. It is used in the same way as the json-module."
      ]
    },
    {
      "cell_type": "code",
      "metadata": {
        "id": "rvzu6zPbk58b",
        "colab": {
          "base_uri": "https://localhost:8080/"
        },
        "outputId": "354a7054-9caa-4d41-cb0d-015575d14959"
      },
      "source": [
        "import pickle\n",
        "\n",
        "my_data = {\"a number\": 42, \"a list\": [1, 2, 3, 4], \"a dict\": {'a': 1, 'b': 2}}\n",
        "\n",
        "with open(\"my_data.pkl\", \"wb\") as my_file:\n",
        "    pickle.dump(my_data, my_file)\n",
        "\n",
        "with open(\"my_data.pkl\", \"rb\") as my_file:\n",
        "    my_data_copy = pickle.load(my_file)\n",
        "\n",
        "print(my_data_copy)"
      ],
      "execution_count": null,
      "outputs": [
        {
          "output_type": "stream",
          "name": "stdout",
          "text": [
            "{'a number': 42, 'a list': [1, 2, 3, 4], 'a dict': {'a': 1, 'b': 2}}\n"
          ]
        }
      ]
    },
    {
      "cell_type": "code",
      "metadata": {
        "scrolled": true,
        "id": "aoF_7wQOk58d"
      },
      "source": [
        "import pickle\n",
        "\n",
        "my_data = {\"a number\": 42, \"a list\": [1, 2, 3, 4], \"a dict\": {'a': 1, 'b': 2}}\n",
        "\n",
        "with open(\"my_data_text.pkl\", \"wb\") as my_file:\n",
        "    pickle.dump(my_data, my_file, protocol=0)\n",
        "\n",
        "with open(\"my_data_text.pkl\", \"rb\") as my_file:\n",
        "    my_data_copy = pickle.load(my_file)\n",
        "\n",
        "print(my_data_copy)"
      ],
      "execution_count": null,
      "outputs": []
    },
    {
      "cell_type": "code",
      "metadata": {
        "id": "_dApSDlMk58f",
        "colab": {
          "base_uri": "https://localhost:8080/"
        },
        "outputId": "c76b9f3e-141e-4c61-b0dc-f4942f7ada07"
      },
      "source": [
        "import pickle\n",
        "\n",
        "my_data = {\"a number\": 42, \"a list\": [1, 2, 3, 4], \"a dict\": {'a': 1, 'b': 2}}\n",
        "\n",
        "my_data_dump = pickle.dumps(my_data)\n",
        "\n",
        "print(my_data_dump)\n",
        "\n",
        "my_data_copy = pickle.loads(my_data_dump)\n",
        "\n",
        "print(my_data_copy)"
      ],
      "execution_count": null,
      "outputs": [
        {
          "output_type": "stream",
          "name": "stdout",
          "text": [
            "b'\\x80\\x03}q\\x00(X\\x08\\x00\\x00\\x00a numberq\\x01K*X\\x06\\x00\\x00\\x00a listq\\x02]q\\x03(K\\x01K\\x02K\\x03K\\x04eX\\x06\\x00\\x00\\x00a dictq\\x04}q\\x05(X\\x01\\x00\\x00\\x00aq\\x06K\\x01X\\x01\\x00\\x00\\x00bq\\x07K\\x02uu.'\n",
            "{'a number': 42, 'a list': [1, 2, 3, 4], 'a dict': {'a': 1, 'b': 2}}\n"
          ]
        }
      ]
    },
    {
      "cell_type": "markdown",
      "metadata": {
        "id": "FzYPB-klk58h"
      },
      "source": [
        "# Data archiving and compression"
      ]
    },
    {
      "cell_type": "markdown",
      "metadata": {
        "id": "DNUUS_W4BjSN"
      },
      "source": [
        "## Tarfiles"
      ]
    },
    {
      "cell_type": "code",
      "metadata": {
        "id": "TCEs6g5oTbaR",
        "colab": {
          "base_uri": "https://localhost:8080/"
        },
        "outputId": "e75f809c-a096-47b5-9bf8-c352761bf126"
      },
      "source": [
        "!wget https://fossbytes.com/wp-content/uploads/2016/10/commodore64.jpg -O bild1.jpg"
      ],
      "execution_count": null,
      "outputs": [
        {
          "output_type": "stream",
          "name": "stdout",
          "text": [
            "--2022-09-05 11:52:21--  https://fossbytes.com/wp-content/uploads/2016/10/commodore64.jpg\n",
            "Resolving fossbytes.com (fossbytes.com)... 104.21.28.5, 172.67.170.30, 2606:4700:3031::ac43:aa1e, ...\n",
            "Connecting to fossbytes.com (fossbytes.com)|104.21.28.5|:443... connected.\n",
            "HTTP request sent, awaiting response... 200 OK\n",
            "Length: 73687 (72K) [image/jpeg]\n",
            "Saving to: ‘bild1.jpg’\n",
            "\n",
            "bild1.jpg           100%[===================>]  71.96K  --.-KB/s    in 0.01s   \n",
            "\n",
            "2022-09-05 11:52:21 (5.51 MB/s) - ‘bild1.jpg’ saved [73687/73687]\n",
            "\n"
          ]
        }
      ]
    },
    {
      "cell_type": "code",
      "metadata": {
        "id": "J99kEJouThob",
        "colab": {
          "base_uri": "https://localhost:8080/"
        },
        "outputId": "60fa7829-b37f-4da6-bcf0-646d2274d6d3"
      },
      "source": [
        "!wget https://ichef.bbci.co.uk/news/640/media/images/68628000/jpg/_68628283_apple-1.jpg -O bild2.jpg"
      ],
      "execution_count": null,
      "outputs": [
        {
          "output_type": "stream",
          "name": "stdout",
          "text": [
            "--2022-09-05 11:52:24--  https://ichef.bbci.co.uk/news/640/media/images/68628000/jpg/_68628283_apple-1.jpg\n",
            "Resolving ichef.bbci.co.uk (ichef.bbci.co.uk)... 23.197.20.140, 2600:1408:5400:58d::f33, 2600:1408:5400:591::f33, ...\n",
            "Connecting to ichef.bbci.co.uk (ichef.bbci.co.uk)|23.197.20.140|:443... connected.\n",
            "HTTP request sent, awaiting response... 200 OK\n",
            "Cookie coming from ichef.bbci.co.uk attempted to set domain to bbc.co.uk\n",
            "Length: 45249 (44K) [image/jpeg]\n",
            "Saving to: ‘bild2.jpg’\n",
            "\n",
            "bild2.jpg           100%[===================>]  44.19K  --.-KB/s    in 0.03s   \n",
            "\n",
            "2022-09-05 11:52:24 (1.28 MB/s) - ‘bild2.jpg’ saved [45249/45249]\n",
            "\n"
          ]
        }
      ]
    },
    {
      "cell_type": "code",
      "metadata": {
        "id": "A3ipY6B6k58i",
        "colab": {
          "base_uri": "https://localhost:8080/"
        },
        "outputId": "b32a3ea9-4c56-4122-dc04-c54303e21a0a"
      },
      "source": [
        "import tarfile as tf\n",
        "\n",
        "with tf.TarFile(\"myarchive.tar.gz\", \"w\") as mytar:\n",
        "    mytar.add(\"bild1.jpg\")\n",
        "    mytar.add(\"bild2.jpg\")\n",
        "\n",
        "with tf.TarFile(\"myarchive.tar.gz\", \"r\") as mytar:\n",
        "    print(mytar.getnames())\n",
        "    print(mytar.getmembers())\n",
        "    mytar.extract(\"bild1.jpg\", \"mytar\")\n",
        "    mytar.extractall(\"mytar_all\")\n",
        "    mytar.list(verbose=True)"
      ],
      "execution_count": null,
      "outputs": [
        {
          "output_type": "stream",
          "name": "stdout",
          "text": [
            "['bild1.jpg', 'bild2.jpg']\n",
            "[<TarInfo 'bild1.jpg' at 0x7f2a51419530>, <TarInfo 'bild2.jpg' at 0x7f2a51419c80>]\n",
            "?rw-r--r-- root/root      73687 2016-10-01 12:24:24 bild1.jpg \n",
            "?rw-r--r-- root/root      45249 2022-09-05 11:52:24 bild2.jpg \n"
          ]
        }
      ]
    },
    {
      "cell_type": "code",
      "metadata": {
        "id": "ESIUf8mmk58k",
        "colab": {
          "base_uri": "https://localhost:8080/"
        },
        "outputId": "9b537a4b-4cc9-4f32-f226-f50460c3b97a"
      },
      "source": [
        "!ls"
      ],
      "execution_count": null,
      "outputs": [
        {
          "output_type": "stream",
          "name": "stdout",
          "text": [
            "bild1.jpg  myarchive.tar.gz  my_data.pkl  mytar_all  sample_data  testfile\n",
            "bild2.jpg  mydata.json\t     mytar\t  os5\t     testdir2\t  testfile_path\n"
          ]
        }
      ]
    },
    {
      "cell_type": "markdown",
      "metadata": {
        "id": "vscAuho1BmPa"
      },
      "source": [
        "## Zip-files"
      ]
    },
    {
      "cell_type": "code",
      "metadata": {
        "id": "omnYDOank58n",
        "colab": {
          "base_uri": "https://localhost:8080/",
          "height": 327
        },
        "outputId": "5607ef35-24e5-41e2-966d-068b6fe41c6a"
      },
      "source": [
        "import zipfile as zf\n",
        "import matplotlib.pyplot as plt\n",
        "\n",
        "with zf.ZipFile(\"myarchive.zip\", \"w\") as myzip:\n",
        "    myzip.write(\"bild1.jpg\")\n",
        "    myzip.write(\"bild2.jpg\")\n",
        "\n",
        "with zf.ZipFile(\"myarchive.zip\", \"r\") as myzip:\n",
        "    print(myzip.namelist())\n",
        "    print(myzip.getinfo(\"bild1.jpg\"))\n",
        "    myzip.extract(\"bild2.jpg\", \"myzip\")\n",
        "    myzip.extractall(\"myzip_all\")\n",
        "    myzip.printdir()\n",
        "    with myzip.open(\"bild1.jpg\") as myfile:\n",
        "        image1 = plt.imread(myfile)        \n",
        "    with myzip.open(\"bild2.jpg\") as myfile:\n",
        "        image2 = plt.imread(myfile)        \n",
        "    plt.imshow(image1)\n",
        "    plt.imshow(image2)\n",
        "    plt.show()"
      ],
      "execution_count": null,
      "outputs": [
        {
          "output_type": "stream",
          "name": "stdout",
          "text": [
            "['bild1.jpg', 'bild2.jpg']\n",
            "<ZipInfo filename='bild1.jpg' filemode='-rw-r--r--' file_size=73687>\n",
            "File Name                                             Modified             Size\n",
            "bild1.jpg                                      2016-10-01 12:24:24        73687\n",
            "bild2.jpg                                      2022-09-05 11:52:24        45249\n"
          ]
        },
        {
          "output_type": "display_data",
          "data": {
            "text/plain": [
              "<Figure size 432x288 with 1 Axes>"
            ],
            "image/png": "[encoded data removed]"
          },
          "metadata": {
            "needs_background": "light"
          }
        }
      ]
    },
    {
      "cell_type": "markdown",
      "metadata": {
        "id": "D2WuVFrQBzB6"
      },
      "source": [
        "## Pickle files"
      ]
    },
    {
      "cell_type": "code",
      "metadata": {
        "id": "WqU66lguk58r",
        "colab": {
          "base_uri": "https://localhost:8080/"
        },
        "outputId": "d70ff42a-2b69-4ecc-9c94-18ad923e4c03"
      },
      "source": [
        "import pickle, zlib\n",
        "\n",
        "my_data = {\"a number\": 42, \"a list\": list(range(1000)), \"a dict\": {'a': 1, 'b': 2}}\n",
        "\n",
        "my_data_dump = pickle.dumps(my_data)\n",
        "print(len(my_data_dump))\n",
        "\n",
        "my_data_compressed = zlib.compress(my_data_dump)\n",
        "print(len(my_data_compressed))\n",
        "\n",
        "my_data_uncompressed = zlib.decompress(my_data_compressed)\n",
        "\n",
        "my_data_copy = pickle.loads(my_data_uncompressed)\n",
        "print(my_data_copy)"
      ],
      "execution_count": null,
      "outputs": [
        {
          "output_type": "stream",
          "name": "stdout",
          "text": [
            "2825\n",
            "1926\n",
            "{'a number': 42, 'a list': [0, 1, 2, 3, 4, 5, 6, 7, 8, 9, 10, 11, 12, 13, 14, 15, 16, 17, 18, 19, 20, 21, 22, 23, 24, 25, 26, 27, 28, 29, 30, 31, 32, 33, 34, 35, 36, 37, 38, 39, 40, 41, 42, 43, 44, 45, 46, 47, 48, 49, 50, 51, 52, 53, 54, 55, 56, 57, 58, 59, 60, 61, 62, 63, 64, 65, 66, 67, 68, 69, 70, 71, 72, 73, 74, 75, 76, 77, 78, 79, 80, 81, 82, 83, 84, 85, 86, 87, 88, 89, 90, 91, 92, 93, 94, 95, 96, 97, 98, 99, 100, 101, 102, 103, 104, 105, 106, 107, 108, 109, 110, 111, 112, 113, 114, 115, 116, 117, 118, 119, 120, 121, 122, 123, 124, 125, 126, 127, 128, 129, 130, 131, 132, 133, 134, 135, 136, 137, 138, 139, 140, 141, 142, 143, 144, 145, 146, 147, 148, 149, 150, 151, 152, 153, 154, 155, 156, 157, 158, 159, 160, 161, 162, 163, 164, 165, 166, 167, 168, 169, 170, 171, 172, 173, 174, 175, 176, 177, 178, 179, 180, 181, 182, 183, 184, 185, 186, 187, 188, 189, 190, 191, 192, 193, 194, 195, 196, 197, 198, 199, 200, 201, 202, 203, 204, 205, 206, 207, 208, 209, 210, 211, 212, 213, 214, 215, 216, 217, 218, 219, 220, 221, 222, 223, 224, 225, 226, 227, 228, 229, 230, 231, 232, 233, 234, 235, 236, 237, 238, 239, 240, 241, 242, 243, 244, 245, 246, 247, 248, 249, 250, 251, 252, 253, 254, 255, 256, 257, 258, 259, 260, 261, 262, 263, 264, 265, 266, 267, 268, 269, 270, 271, 272, 273, 274, 275, 276, 277, 278, 279, 280, 281, 282, 283, 284, 285, 286, 287, 288, 289, 290, 291, 292, 293, 294, 295, 296, 297, 298, 299, 300, 301, 302, 303, 304, 305, 306, 307, 308, 309, 310, 311, 312, 313, 314, 315, 316, 317, 318, 319, 320, 321, 322, 323, 324, 325, 326, 327, 328, 329, 330, 331, 332, 333, 334, 335, 336, 337, 338, 339, 340, 341, 342, 343, 344, 345, 346, 347, 348, 349, 350, 351, 352, 353, 354, 355, 356, 357, 358, 359, 360, 361, 362, 363, 364, 365, 366, 367, 368, 369, 370, 371, 372, 373, 374, 375, 376, 377, 378, 379, 380, 381, 382, 383, 384, 385, 386, 387, 388, 389, 390, 391, 392, 393, 394, 395, 396, 397, 398, 399, 400, 401, 402, 403, 404, 405, 406, 407, 408, 409, 410, 411, 412, 413, 414, 415, 416, 417, 418, 419, 420, 421, 422, 423, 424, 425, 426, 427, 428, 429, 430, 431, 432, 433, 434, 435, 436, 437, 438, 439, 440, 441, 442, 443, 444, 445, 446, 447, 448, 449, 450, 451, 452, 453, 454, 455, 456, 457, 458, 459, 460, 461, 462, 463, 464, 465, 466, 467, 468, 469, 470, 471, 472, 473, 474, 475, 476, 477, 478, 479, 480, 481, 482, 483, 484, 485, 486, 487, 488, 489, 490, 491, 492, 493, 494, 495, 496, 497, 498, 499, 500, 501, 502, 503, 504, 505, 506, 507, 508, 509, 510, 511, 512, 513, 514, 515, 516, 517, 518, 519, 520, 521, 522, 523, 524, 525, 526, 527, 528, 529, 530, 531, 532, 533, 534, 535, 536, 537, 538, 539, 540, 541, 542, 543, 544, 545, 546, 547, 548, 549, 550, 551, 552, 553, 554, 555, 556, 557, 558, 559, 560, 561, 562, 563, 564, 565, 566, 567, 568, 569, 570, 571, 572, 573, 574, 575, 576, 577, 578, 579, 580, 581, 582, 583, 584, 585, 586, 587, 588, 589, 590, 591, 592, 593, 594, 595, 596, 597, 598, 599, 600, 601, 602, 603, 604, 605, 606, 607, 608, 609, 610, 611, 612, 613, 614, 615, 616, 617, 618, 619, 620, 621, 622, 623, 624, 625, 626, 627, 628, 629, 630, 631, 632, 633, 634, 635, 636, 637, 638, 639, 640, 641, 642, 643, 644, 645, 646, 647, 648, 649, 650, 651, 652, 653, 654, 655, 656, 657, 658, 659, 660, 661, 662, 663, 664, 665, 666, 667, 668, 669, 670, 671, 672, 673, 674, 675, 676, 677, 678, 679, 680, 681, 682, 683, 684, 685, 686, 687, 688, 689, 690, 691, 692, 693, 694, 695, 696, 697, 698, 699, 700, 701, 702, 703, 704, 705, 706, 707, 708, 709, 710, 711, 712, 713, 714, 715, 716, 717, 718, 719, 720, 721, 722, 723, 724, 725, 726, 727, 728, 729, 730, 731, 732, 733, 734, 735, 736, 737, 738, 739, 740, 741, 742, 743, 744, 745, 746, 747, 748, 749, 750, 751, 752, 753, 754, 755, 756, 757, 758, 759, 760, 761, 762, 763, 764, 765, 766, 767, 768, 769, 770, 771, 772, 773, 774, 775, 776, 777, 778, 779, 780, 781, 782, 783, 784, 785, 786, 787, 788, 789, 790, 791, 792, 793, 794, 795, 796, 797, 798, 799, 800, 801, 802, 803, 804, 805, 806, 807, 808, 809, 810, 811, 812, 813, 814, 815, 816, 817, 818, 819, 820, 821, 822, 823, 824, 825, 826, 827, 828, 829, 830, 831, 832, 833, 834, 835, 836, 837, 838, 839, 840, 841, 842, 843, 844, 845, 846, 847, 848, 849, 850, 851, 852, 853, 854, 855, 856, 857, 858, 859, 860, 861, 862, 863, 864, 865, 866, 867, 868, 869, 870, 871, 872, 873, 874, 875, 876, 877, 878, 879, 880, 881, 882, 883, 884, 885, 886, 887, 888, 889, 890, 891, 892, 893, 894, 895, 896, 897, 898, 899, 900, 901, 902, 903, 904, 905, 906, 907, 908, 909, 910, 911, 912, 913, 914, 915, 916, 917, 918, 919, 920, 921, 922, 923, 924, 925, 926, 927, 928, 929, 930, 931, 932, 933, 934, 935, 936, 937, 938, 939, 940, 941, 942, 943, 944, 945, 946, 947, 948, 949, 950, 951, 952, 953, 954, 955, 956, 957, 958, 959, 960, 961, 962, 963, 964, 965, 966, 967, 968, 969, 970, 971, 972, 973, 974, 975, 976, 977, 978, 979, 980, 981, 982, 983, 984, 985, 986, 987, 988, 989, 990, 991, 992, 993, 994, 995, 996, 997, 998, 999], 'a dict': {'a': 1, 'b': 2}}\n"
          ]
        }
      ]
    },
    {
      "cell_type": "markdown",
      "metadata": {
        "id": "7AFAAUV9B2q1"
      },
      "source": [
        "## JSON files"
      ]
    },
    {
      "cell_type": "code",
      "metadata": {
        "id": "L5xvEkRXB51r"
      },
      "source": [
        "import json\n",
        "\n",
        "my_data = {\"a number\": 42, \"a list\": list(range(1000)), \"a dict\": {'a': 1, 'b': 2}}\n",
        "\n",
        "my_data_dump = json.dumps(my_data)\n",
        "print(len(my_data_dump))\n",
        "\n",
        "my_data_copy = json.loads(my_data_dump)\n",
        "print(my_data_copy)\n",
        "\n",
        "with open(\"mydata.json\", \"w\") as json_file:\n",
        "    json.dump(my_data, json_file)\n",
        "\n",
        "with open(\"mydata.json\", \"r\") as json_file:\n",
        "    my_data_copy = json.load(json_file)"
      ],
      "execution_count": null,
      "outputs": []
    },
    {
      "cell_type": "code",
      "metadata": {
        "id": "8mHbZWgMCkrL"
      },
      "source": [
        "!ls\n",
        "!cat mydata.json"
      ],
      "execution_count": null,
      "outputs": []
    },
    {
      "cell_type": "markdown",
      "metadata": {
        "id": "nnsGIpEvk58t"
      },
      "source": [
        "# Special file formats"
      ]
    },
    {
      "cell_type": "markdown",
      "metadata": {
        "id": "uajZWbZ3BVpF"
      },
      "source": [
        "## Configuration files"
      ]
    },
    {
      "cell_type": "code",
      "metadata": {
        "id": "llYMf62dk58v",
        "colab": {
          "base_uri": "https://localhost:8080/"
        },
        "outputId": "928bedfc-10c9-49f4-e3ca-ca744d3f7777"
      },
      "source": [
        "config_file = \"\"\"[DEFAULT]\n",
        "ServerAliveInterval = 45\n",
        "Compression = yes\n",
        "CompressionLevel = 9\n",
        "ForwardX11 = yes\n",
        "\n",
        "[bitbucket.org]\n",
        "User = hg\n",
        "\n",
        "[topsecret.server.com]\n",
        "Port = 50022\n",
        "ForwardX11 = no\"\"\"\n",
        "\n",
        "\n",
        "with open(\"config1.ini\", \"w\") as f:\n",
        "    f.write(config_file)\n",
        "    \n",
        "import configparser\n",
        "\n",
        "config = configparser.ConfigParser()\n",
        "config.read(\"config1.ini\")\n",
        "\n",
        "sections = config.sections()\n",
        "print(sections)\n",
        "\n",
        "print(config[\"bitbucket.org\"][\"user\"])\n",
        "\n",
        "for section in config.sections():\n",
        "    print(\"section =\", section)\n",
        "    keys = config[section].keys()\n",
        "    for key in keys:\n",
        "        print(key, \"=\", config[section][key])\n",
        "        \n",
        "config[\"bitbucket.org\"][\"user\"] = \"jonas\"\n",
        "print(config[\"bitbucket.org\"][\"user\"])\n",
        "\n",
        "with open(\"config2.ini\", \"w\") as config_file:\n",
        "    config.write(config_file)"
      ],
      "execution_count": null,
      "outputs": [
        {
          "output_type": "stream",
          "name": "stdout",
          "text": [
            "['bitbucket.org', 'topsecret.server.com']\n",
            "hg\n",
            "section = bitbucket.org\n",
            "user = hg\n",
            "serveraliveinterval = 45\n",
            "compression = yes\n",
            "compressionlevel = 9\n",
            "forwardx11 = yes\n",
            "section = topsecret.server.com\n",
            "port = 50022\n",
            "forwardx11 = no\n",
            "serveraliveinterval = 45\n",
            "compression = yes\n",
            "compressionlevel = 9\n",
            "jonas\n"
          ]
        }
      ]
    },
    {
      "cell_type": "code",
      "metadata": {
        "id": "RHVANkg8k58y"
      },
      "source": [
        "\n",
        "import configparser\n",
        "\n",
        "config = configparser.ConfigParser()\n",
        "\n",
        "config[\"DEFAULT\"] = {\n",
        "        \"Rating\":\"No rating\",\n",
        "        \"Length\":\"No length\"\n",
        "        }\n",
        "\n",
        "config[\"Dr Who\"] = {\"Rating\":\"9/9\"}\n",
        "config[\"Firefly\"] = {\"Length\":\"Too long\"}\n",
        "\n",
        "with open(\"config3.ini\", \"w\") as config_file:\n",
        "    config.write(config_file)\n",
        "    "
      ],
      "execution_count": null,
      "outputs": []
    },
    {
      "cell_type": "code",
      "metadata": {
        "id": "X651E6vVk585"
      },
      "source": [
        "!cat config3.ini"
      ],
      "execution_count": null,
      "outputs": []
    },
    {
      "cell_type": "markdown",
      "metadata": {
        "id": "wnfL80ldBdGL"
      },
      "source": [
        "## Comma separated files - CSV"
      ]
    },
    {
      "cell_type": "code",
      "metadata": {
        "id": "6d_kqcMUU48h",
        "colab": {
          "base_uri": "https://localhost:8080/"
        },
        "outputId": "a5e6d789-d3ce-4ba7-f022-3f0b6811cfaf"
      },
      "source": [
        "!rm example1.csv\n",
        "!wget https://raw.githubusercontent.com/jonaslindemann/guide_to_python/master/chapters/kapitel4/notebook/example1.csv"
      ],
      "execution_count": null,
      "outputs": [
        {
          "output_type": "stream",
          "name": "stdout",
          "text": [
            "rm: cannot remove 'example1.csv': No such file or directory\n",
            "--2022-09-05 12:00:04--  https://raw.githubusercontent.com/jonaslindemann/guide_to_python/master/chapters/kapitel4/notebook/example1.csv\n",
            "Resolving raw.githubusercontent.com (raw.githubusercontent.com)... 185.199.109.133, 185.199.108.133, 185.199.110.133, ...\n",
            "Connecting to raw.githubusercontent.com (raw.githubusercontent.com)|185.199.109.133|:443... connected.\n",
            "HTTP request sent, awaiting response... 200 OK\n",
            "Length: 256 [text/plain]\n",
            "Saving to: ‘example1.csv’\n",
            "\n",
            "example1.csv        100%[===================>]     256  --.-KB/s    in 0s      \n",
            "\n",
            "2022-09-05 12:00:04 (10.7 MB/s) - ‘example1.csv’ saved [256/256]\n",
            "\n"
          ]
        }
      ]
    },
    {
      "cell_type": "code",
      "metadata": {
        "id": "pTg4i19fk589",
        "colab": {
          "base_uri": "https://localhost:8080/"
        },
        "outputId": "0c731c20-b027-4edb-ba61-4e5c58c09e87"
      },
      "source": [
        "import csv\n",
        "\n",
        "with open('example1.csv', 'r') as csv_file:\n",
        "    csv_data = csv.reader(csv_file, delimiter=',')\n",
        "    for row in csv_data:\n",
        "        print(row)\n",
        "\n",
        "with open('example2.csv', 'w') as csv_file:\n",
        "    csv_writer = csv.writer(csv_file, delimiter=',')\n",
        "    csv_writer.writerow(['Beteckning', 'Antal'])\n",
        "    csv_writer.writerow(['Gurka', '2'])\n",
        "    csv_writer.writerow(['Tomat', '4'])\n",
        "    \n",
        "l = [[\"Beteckning\", \"Antal\"],[\"Gurka\", \"2\"], [\"Tomat\", \"4\"]]\n",
        "\n",
        "with open('example3.csv', 'w') as csv_file:\n",
        "    csv_writer = csv.writer(csv_file, delimiter=',')\n",
        "    csv_writer.writerows(l)"
      ],
      "execution_count": null,
      "outputs": [
        {
          "output_type": "stream",
          "name": "stdout",
          "text": [
            "['Year', 'Make', 'Model', 'Description', 'Price']\n",
            "['1997', 'Ford', 'E350', 'ac, abs, moon', '3000.00']\n",
            "['1999', 'Chevy', 'Venture \"Extended Edition\"', '', '4900.00']\n",
            "['1999', 'Chevy', 'Venture \"Extended Edition, Very Large\"', '', '5000.00']\n",
            "['1996', 'Jeep', 'Grand Cherokee', 'MUST SELL!air, moon roof, loaded', '4799.00']\n"
          ]
        }
      ]
    }
  ]
}