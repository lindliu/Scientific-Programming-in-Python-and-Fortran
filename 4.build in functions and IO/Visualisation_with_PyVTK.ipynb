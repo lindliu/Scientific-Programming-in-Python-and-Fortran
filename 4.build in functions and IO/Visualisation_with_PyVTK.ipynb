{
  "nbformat": 4,
  "nbformat_minor": 0,
  "metadata": {
    "kernelspec": {
      "display_name": "Python 3",
      "language": "python",
      "name": "python3"
    },
    "language_info": {
      "codemirror_mode": {
        "name": "ipython",
        "version": 3
      },
      "file_extension": ".py",
      "mimetype": "text/x-python",
      "name": "python",
      "nbconvert_exporter": "python",
      "pygments_lexer": "ipython3",
      "version": "3.6.1"
    },
    "colab": {
      "provenance": [],
      "collapsed_sections": []
    }
  },
  "cells": [
    {
      "cell_type": "markdown",
      "metadata": {
        "id": "egIjsdg4GcI0"
      },
      "source": [
        "# PyVTK "
      ]
    },
    {
      "cell_type": "markdown",
      "metadata": {
        "id": "G9ZFPu3RGcI1"
      },
      "source": [
        "PyVTK is a Python library for creating files for use with ParaView or VTK toolkit."
      ]
    },
    {
      "cell_type": "markdown",
      "metadata": {
        "id": "jfme4fLcGcI1"
      },
      "source": [
        "VTK supports the following data types:\n",
        "\n",
        "![alt text](https://raw.githubusercontent.com/jonaslindemann/compute-course-public/master/dataviz/datatypes1.jpg \"VTK data structures\")"
      ]
    },
    {
      "cell_type": "code",
      "metadata": {
        "id": "05PiyFlFumMk",
        "colab": {
          "base_uri": "https://localhost:8080/"
        },
        "outputId": "29bb199d-07e2-4d4b-a05a-d422d6e1c612"
      },
      "source": [
        "!pip install pyvtk\n",
        "!wget https://raw.githubusercontent.com/jonaslindemann/compute-course-public/master/dataviz/perlin3d.py"
      ],
      "execution_count": null,
      "outputs": [
        {
          "output_type": "stream",
          "name": "stdout",
          "text": [
            "Looking in indexes: https://pypi.org/simple, https://us-python.pkg.dev/colab-wheels/public/simple/\n",
            "Collecting pyvtk\n",
            "  Downloading PyVTK-0.5.18.zip (31 kB)\n",
            "Requirement already satisfied: six in /usr/local/lib/python3.7/dist-packages (from pyvtk) (1.15.0)\n",
            "Building wheels for collected packages: pyvtk\n",
            "  Building wheel for pyvtk (setup.py) ... \u001b[?25l\u001b[?25hdone\n",
            "  Created wheel for pyvtk: filename=PyVTK-0.5.18-py3-none-any.whl size=24735 sha256=5fcfe767140d91a3f72513425b133c0ea9d74c3321ad8d02150b89e7efb6b352\n",
            "  Stored in directory: /root/.cache/pip/wheels/83/bb/df/9d8af5e23c0eb53cc886ded8ce7765973ddc7442423cf7890c\n",
            "Successfully built pyvtk\n",
            "Installing collected packages: pyvtk\n",
            "Successfully installed pyvtk-0.5.18\n",
            "--2022-09-12 12:15:57--  https://raw.githubusercontent.com/jonaslindemann/compute-course-public/master/dataviz/perlin3d.py\n",
            "Resolving raw.githubusercontent.com (raw.githubusercontent.com)... 185.199.108.133, 185.199.111.133, 185.199.109.133, ...\n",
            "Connecting to raw.githubusercontent.com (raw.githubusercontent.com)|185.199.108.133|:443... connected.\n",
            "HTTP request sent, awaiting response... 200 OK\n",
            "Length: 3447 (3.4K) [text/plain]\n",
            "Saving to: ‘perlin3d.py’\n",
            "\n",
            "perlin3d.py         100%[===================>]   3.37K  --.-KB/s    in 0s      \n",
            "\n",
            "2022-09-12 12:15:57 (57.3 MB/s) - ‘perlin3d.py’ saved [3447/3447]\n",
            "\n"
          ]
        }
      ]
    },
    {
      "cell_type": "markdown",
      "metadata": {
        "id": "PkjYmrI0GcI2"
      },
      "source": [
        "# Example 1\n",
        "\n",
        "From https://github.com/pearu/pyvtk/tree/master/examples"
      ]
    },
    {
      "cell_type": "markdown",
      "metadata": {
        "id": "-ZOwL-K7GcI2"
      },
      "source": [
        "Define the structure"
      ]
    },
    {
      "cell_type": "code",
      "metadata": {
        "id": "XdwoU_0DGcI3"
      },
      "source": [
        "from pyvtk import *\n",
        "\n",
        "structure = PolyData(points=[[0,0,0],[1,0,0],[1,1,0],[0,1,0],\n",
        "                             [0,0,1],[1,0,1],[1,1,1],[0,1,1]],\n",
        "                     polygons=[[0,1,2,3],[4,5,6,7],[0,1,5,4],\n",
        "                               [2,3,7,6],[0,4,7,3],[1,2,6,5]])"
      ],
      "execution_count": null,
      "outputs": []
    },
    {
      "cell_type": "markdown",
      "metadata": {
        "id": "LkHKbkj_GcI6"
      },
      "source": [
        "Add data to points"
      ]
    },
    {
      "cell_type": "code",
      "metadata": {
        "id": "Gf-OCBaxGcI7"
      },
      "source": [
        "pointdata = PointData(\\\n",
        "    Scalars([0,1,2,3,4,5,6,7],\n",
        "            name='sample_scalars'))"
      ],
      "execution_count": null,
      "outputs": []
    },
    {
      "cell_type": "markdown",
      "metadata": {
        "id": "bSu9R5-zGcI9"
      },
      "source": [
        "Add data to cells"
      ]
    },
    {
      "cell_type": "code",
      "metadata": {
        "id": "YzJVJx4nGcI-"
      },
      "source": [
        "celldata = CellData(\\\n",
        "    Scalars([0,1,2,3,4,5],\n",
        "            name='cell_scalars'),\n",
        "    Normals([[0,0,1],[0,0,1],[0,-1,0],\n",
        "             [0,1,0],[-1,0,0],[1,0,0]],\n",
        "            name='cell_normals'),\n",
        "    Field('FieldData',\n",
        "          cellIds=[[0],[1],[2],[3],[4],[5]],\n",
        "          faceAttributes=[[0,1],[1,2],[2,3],[3,4],[4,5],[5,6]]))"
      ],
      "execution_count": null,
      "outputs": []
    },
    {
      "cell_type": "markdown",
      "metadata": {
        "id": "coK08C5wGcJC"
      },
      "source": [
        "Create VtkData object to write data to disk. This will create text based or binary vtk files."
      ]
    },
    {
      "cell_type": "code",
      "metadata": {
        "id": "IE9WRX30GcJD"
      },
      "source": [
        "vtk = VtkData(structure,pointdata,celldata)\n",
        "vtk.tofile('example1','ascii')\n",
        "vtk.tofile('example1b','binary')"
      ],
      "execution_count": null,
      "outputs": []
    },
    {
      "cell_type": "markdown",
      "metadata": {
        "id": "bfO18f7TGcJG"
      },
      "source": [
        "A vtk-file has the following structure:"
      ]
    },
    {
      "cell_type": "code",
      "metadata": {
        "id": "s9PVpaJyGcJG"
      },
      "source": [
        "%pycat example1.vtk"
      ],
      "execution_count": null,
      "outputs": []
    },
    {
      "cell_type": "markdown",
      "metadata": {
        "id": "8UNlTkZMGcJL"
      },
      "source": [
        "# Example 2"
      ]
    },
    {
      "cell_type": "code",
      "metadata": {
        "id": "3z8_QjMKGcJL"
      },
      "source": [
        "vtk = VtkData(StructuredPoints([3,4,6]),\n",
        "              PointData(Scalars([0,0,0,0,0,0,0,0,0,0,0,0,\n",
        "                                 0,5,10,15,20,25,25,20,15,10,5,0,\n",
        "                                 0,10,20,30,40,50,50,40,30,20,10,0,\n",
        "                                 0,10,20,30,40,50,50,40,30,20,10,0,\n",
        "                                 0,5,10,15,20,25,25,20,15,10,5,0,\n",
        "                                 0,0,0,0,0,0,0,0,0,0,0,0\n",
        "                                 ])))\n",
        "\n",
        "vtk.tofile('example2')"
      ],
      "execution_count": null,
      "outputs": []
    },
    {
      "cell_type": "markdown",
      "metadata": {
        "id": "Kv85Pb4BGcJN"
      },
      "source": [
        "# Example 3"
      ]
    },
    {
      "cell_type": "code",
      "metadata": {
        "id": "Zn6vwdOrGcJO"
      },
      "source": [
        "vtk = VtkData('example2',only_structure = 1)\n",
        "\n",
        "def f(x,y,z):\n",
        "    return x*y*z\n",
        "    \n",
        "vtk.point_data.append(vtk.structure.Scalars(f,'x*y*z'))\n",
        "vtk.tofile('example2f_sp')"
      ],
      "execution_count": null,
      "outputs": []
    },
    {
      "cell_type": "markdown",
      "metadata": {
        "id": "XmGZ6tcPGcJR"
      },
      "source": [
        "# Example 4"
      ]
    },
    {
      "cell_type": "code",
      "metadata": {
        "id": "AqdH0rmUGcJR"
      },
      "source": [
        "pp = [(i*2,j*2,k*2) for k in range(6) for j in range(4) for i in range(3)]\n",
        "\n",
        "print(pp)\n",
        "\n",
        "vtk = VtkData(StructuredGrid([3,4,6],pp))\n",
        "vtk.point_data.append(vtk.structure.Scalars(f,'x*y*z'))\n",
        "vtk.tofile('example2f_sg')"
      ],
      "execution_count": null,
      "outputs": []
    },
    {
      "cell_type": "markdown",
      "metadata": {
        "id": "jtTH_0WQGcJU"
      },
      "source": [
        "# Example 5"
      ]
    },
    {
      "cell_type": "code",
      "metadata": {
        "id": "xTESGN1WGcJU"
      },
      "source": [
        "vtk = VtkData(RectilinearGrid(range(6),range(8),range(12)))\n",
        "vtk.point_data.append(vtk.structure.Scalars(f,'x*y*z'))\n",
        "vtk.tofile('example2f_rg')"
      ],
      "execution_count": null,
      "outputs": []
    },
    {
      "cell_type": "markdown",
      "metadata": {
        "id": "a_A0uAt2GcJY"
      },
      "source": [
        "# Example 6"
      ]
    },
    {
      "cell_type": "code",
      "metadata": {
        "id": "NkwulYQDGcJZ"
      },
      "source": [
        "voxels = []\n",
        "points = []\n",
        "n = 0\n",
        "for k in range(6):\n",
        "    for j in range(4):\n",
        "        for i in range(3):\n",
        "            points.append((i,j,k))\n",
        "            if not (k==5 or j==3 or i==2):\n",
        "                voxels.append([n,n+1,n+3,n+3+1,n+3*4,n+3*4+1,n+3*4+3,n+3*4+3+1])\n",
        "            n += 1\n",
        "vtk = VtkData(UnstructuredGrid(points, voxel=voxels))\n",
        "vtk.point_data.append(vtk.structure.Scalars(f,'x*y*z'))\n",
        "vtk.tofile('example2f_usg')"
      ],
      "execution_count": null,
      "outputs": []
    },
    {
      "cell_type": "markdown",
      "metadata": {
        "id": "C219AX_zGcJc"
      },
      "source": [
        "# Example 7"
      ]
    },
    {
      "cell_type": "code",
      "metadata": {
        "id": "SnUDUdw0GcJc"
      },
      "source": [
        "points = [[0,0,0],[1,0,0],[2,0,0],[0,1,0],[1,1,0],[2,1,0],\n",
        "          [0,0,1],[1,0,1],[2,0,1],[0,1,1],[1,1,1],[2,1,1],\n",
        "          [0,1,2],[1,1,2],[2,1,2],[0,1,3],[1,1,3],[2,1,3],\n",
        "          [0,1,4],[1,1,4],[2,1,4],[0,1,5],[1,1,5],[2,1,5],\n",
        "          [0,1,6],[1,1,6],[2,1,6]\n",
        "          ]\n",
        "vectors = [[1,0,0],[1,1,0],[0,2,0],[1,0,0],[1,1,0],[0,2,0],\n",
        "           [1,0,0],[1,1,0],[0,2,0],[1,0,0],[1,1,0],[0,2,0],\n",
        "           [0,0,1],[0,0,1],[0,0,1],[0,0,1],[0,0,1],[0,0,1],\n",
        "           [0,0,1],[0,0,1],[0,0,1],[0,0,1],[0,0,1],[0,0,1],\n",
        "           [0,0,1],[0,0,1],[0,0,1]\n",
        "           ]\n",
        "vtk = VtkData(\\\n",
        "        UnstructuredGrid(points,\n",
        "                         hexahedron=[[0,1,4,3,6,7,10,9],\n",
        "                                     [1,2,5,4,7,8,11,10]],\n",
        "                         tetra=[[6,10,9,12],\n",
        "                                [5,11,10,14]],\n",
        "                         polygon=[15,16,17,14,13,12],\n",
        "                         triangle_strip=[18,15,19,16,20,17],\n",
        "                         quad=[22,23,20,19],\n",
        "                         triangle=[[21,22,18],\n",
        "                                   [22,19,18]],\n",
        "                         line=[26,25],\n",
        "                         vertex=[24]\n",
        "                         ),\n",
        "        PointData(Vectors(vectors),Scalars(range(27))),\n",
        "        'Unstructured Grid Example'\n",
        "        )\n",
        "vtk.tofile('example3')"
      ],
      "execution_count": null,
      "outputs": []
    },
    {
      "cell_type": "markdown",
      "metadata": {
        "id": "mQ0mcD2iuN8Z"
      },
      "source": [
        "# Example 8 - Loading and converting data"
      ]
    },
    {
      "cell_type": "code",
      "metadata": {
        "id": "m_GMjCPLuY3Z",
        "colab": {
          "base_uri": "https://localhost:8080/"
        },
        "outputId": "bfaad128-4797-41a1-959c-bbb1b1036072"
      },
      "source": [
        "!wget https://raw.githubusercontent.com/jonaslindemann/compute-course-public/master/dataviz/uvw.dat\n",
        "!head uvw.dat"
      ],
      "execution_count": null,
      "outputs": [
        {
          "output_type": "stream",
          "name": "stdout",
          "text": [
            "--2022-09-12 12:30:09--  https://raw.githubusercontent.com/jonaslindemann/compute-course-public/master/dataviz/uvw.dat\n",
            "Resolving raw.githubusercontent.com (raw.githubusercontent.com)... 185.199.108.133, 185.199.109.133, 185.199.110.133, ...\n",
            "Connecting to raw.githubusercontent.com (raw.githubusercontent.com)|185.199.108.133|:443... connected.\n",
            "HTTP request sent, awaiting response... 200 OK\n",
            "Length: 16996800 (16M) [text/plain]\n",
            "Saving to: ‘uvw.dat’\n",
            "\n",
            "uvw.dat             100%[===================>]  16.21M  --.-KB/s    in 0.06s   \n",
            "\n",
            "2022-09-12 12:30:09 (250 MB/s) - ‘uvw.dat’ saved [16996800/16996800]\n",
            "\n",
            "variables=\"x\",\"y\",\"z\",\"u\",\"v\",\"w\"\n",
            "zone i=96,j=65,k=48,f=point\n",
            "0 -1 0 -7.00895e-05 2.28715e-05 7.11905e-05\n",
            "0.0327249 -1 0 -8.01278e-05 1.89072e-05 4.83821e-05\n",
            "0.0654498 -1 0 -6.8715e-05 8.60358e-06 -1.31806e-06\n",
            "0.0981748 -1 0 -3.79768e-05 -4.03025e-06 -5.09628e-05\n",
            "0.1309 -1 0 -8.62436e-06 -1.93002e-05 -9.18307e-05\n",
            "0.163625 -1 0 5.18301e-06 -2.96726e-05 -8.77444e-05\n",
            "0.19635 -1 0 3.97951e-06 -2.64684e-05 -4.38229e-05\n",
            "0.229074 -1 0 -8.44003e-06 -1.01639e-05 -7.55249e-06\n"
          ]
        }
      ]
    },
    {
      "cell_type": "code",
      "metadata": {
        "id": "nhlgDTGOuVmn",
        "colab": {
          "base_uri": "https://localhost:8080/"
        },
        "outputId": "3c5f7a2f-9dee-4c36-b66f-eb9ae163253b"
      },
      "source": [
        "import numpy as np\n",
        "import pyvtk as vtk\n",
        "\n",
        "print(\"Reading from uvw.dat...\")\n",
        "xyzuvw = np.loadtxt('uvw.dat', skiprows=2)\n",
        "\n",
        "print(\"Converting to points and vectors\")\n",
        "points = xyzuvw[:, 0:3].tolist()\n",
        "vectors = xyzuvw[:, 3:].tolist() \n",
        "\n",
        "#pointdata = vtk.PointData(vtk.Vectors(vectors, name=\"vec1\"), vtk.Vectors(vectors, name=\"vec2\"))\n",
        "pointdata = vtk.PointData(vtk.Vectors(vectors, name=\"vec1\"))\n",
        "data = vtk.VtkData(vtk.StructuredGrid([96, 65, 48], points), pointdata)\n",
        "data.tofile('uvw','ascii')"
      ],
      "execution_count": null,
      "outputs": [
        {
          "output_type": "stream",
          "name": "stdout",
          "text": [
            "Reading from uvw.dat...\n",
            "Converting to points and vectors\n"
          ]
        }
      ]
    },
    {
      "cell_type": "markdown",
      "metadata": {
        "id": "X2KQSCD1wU0k"
      },
      "source": [
        "# Example 9 - Loading elevation data"
      ]
    },
    {
      "cell_type": "code",
      "metadata": {
        "id": "rS-9ixo5uid7",
        "colab": {
          "base_uri": "https://localhost:8080/"
        },
        "outputId": "0a2036bd-1b52-40ab-f865-f733aa7280e4"
      },
      "source": [
        "!wget https://github.com/jonaslindemann/compute-course-public/raw/master/dataviz/colorado_elev.vit"
      ],
      "execution_count": null,
      "outputs": [
        {
          "output_type": "stream",
          "name": "stdout",
          "text": [
            "--2022-09-12 12:37:52--  https://github.com/jonaslindemann/compute-course-public/raw/master/dataviz/colorado_elev.vit\n",
            "Resolving github.com (github.com)... 140.82.113.3\n",
            "Connecting to github.com (github.com)|140.82.113.3|:443... connected.\n",
            "HTTP request sent, awaiting response... 302 Found\n",
            "Location: https://raw.githubusercontent.com/jonaslindemann/compute-course-public/master/dataviz/colorado_elev.vit [following]\n",
            "--2022-09-12 12:37:53--  https://raw.githubusercontent.com/jonaslindemann/compute-course-public/master/dataviz/colorado_elev.vit\n",
            "Resolving raw.githubusercontent.com (raw.githubusercontent.com)... 185.199.108.133, 185.199.109.133, 185.199.110.133, ...\n",
            "Connecting to raw.githubusercontent.com (raw.githubusercontent.com)|185.199.108.133|:443... connected.\n",
            "HTTP request sent, awaiting response... 200 OK\n",
            "Length: 160268 (157K) [application/octet-stream]\n",
            "Saving to: ‘colorado_elev.vit’\n",
            "\n",
            "\rcolorado_elev.vit     0%[                    ]       0  --.-KB/s               \rcolorado_elev.vit   100%[===================>] 156.51K  --.-KB/s    in 0.002s  \n",
            "\n",
            "2022-09-12 12:37:53 (62.0 MB/s) - ‘colorado_elev.vit’ saved [160268/160268]\n",
            "\n"
          ]
        }
      ]
    },
    {
      "cell_type": "code",
      "metadata": {
        "id": "HWub7WszwnVx",
        "colab": {
          "base_uri": "https://localhost:8080/",
          "height": 304
        },
        "outputId": "f656ddf2-2543-439e-f0ef-dade4f75ab91"
      },
      "source": [
        "import numpy as np\n",
        "import matplotlib.pyplot as plt\n",
        "import pyvtk as vtk\n",
        "import os\n",
        "\n",
        "f = open(\"colorado_elev.vit\", \"rb\")  # reopen the file\n",
        "f.seek(268, os.SEEK_SET)  # seek\n",
        "\n",
        "x = np.fromfile(f, dtype=np.ubyte)  # read the data into numpy\n",
        "print(x.shape)\n",
        "\n",
        "elevation = np.reshape(x, (400,400))\n",
        "plt.imshow(elevation)\n",
        "\n",
        "plt.show()\n",
        "\n",
        "pointdata = vtk.PointData(vtk.Scalars(x))\n",
        "data = vtk.VtkData(vtk.StructuredPoints([400,400]), pointdata)\n",
        "data.tofile('elevation','ascii')\n",
        "\n"
      ],
      "execution_count": null,
      "outputs": [
        {
          "output_type": "stream",
          "name": "stdout",
          "text": [
            "(160000,)\n"
          ]
        },
        {
          "output_type": "display_data",
          "data": {
            "text/plain": [
              "<Figure size 432x288 with 1 Axes>"
            ],
            "image/png": "[encoded data removed]"
          },
          "metadata": {
            "needs_background": "light"
          }
        },
        {
          "output_type": "stream",
          "name": "stderr",
          "text": [
            "WARNING:pyvtk.common:filling with default value (1) to obtain size=3\n"
          ]
        }
      ]
    },
    {
      "cell_type": "markdown",
      "metadata": {
        "id": "77kg8mm_xR-t"
      },
      "source": [
        "# Example 10 - 3D Perlin data"
      ]
    },
    {
      "cell_type": "code",
      "metadata": {
        "id": "IlPHbAkexMrF"
      },
      "source": [
        "import numpy as np\n",
        "import matplotlib.pyplot as plt\n",
        "import perlin3d as pn\n",
        "import pyvtk as vtk\n",
        "\n",
        "noise = pn.generate_perlin_noise_3d((128, 128, 128), (8, 8, 8))\n",
        "\n",
        "pointdata = vtk.PointData(vtk.Scalars(noise.reshape((128*128*128,))))\n",
        "\n",
        "# pointdata = vtk.PointData(vtk.Scalars(...), vtk.Vectors(...))\n",
        "\n",
        "data = vtk.VtkData(vtk.StructuredPoints([128,128,128]), pointdata)\n",
        "data.tofile('perlin3d', 'ascii')"
      ],
      "execution_count": null,
      "outputs": []
    },
    {
      "cell_type": "code",
      "metadata": {
        "id": "7rnT2_ntxnwQ"
      },
      "source": [],
      "execution_count": null,
      "outputs": []
    }
  ]
}