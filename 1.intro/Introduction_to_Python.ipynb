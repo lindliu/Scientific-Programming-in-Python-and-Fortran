{
  "nbformat": 4,
  "nbformat_minor": 0,
  "metadata": {
    "colab": {
      "provenance": [],
      "collapsed_sections": []
    },
    "kernelspec": {
      "display_name": "Python 3",
      "language": "python",
      "name": "python3"
    },
    "language_info": {
      "codemirror_mode": {
        "name": "ipython",
        "version": 3
      },
      "file_extension": ".py",
      "mimetype": "text/x-python",
      "name": "python",
      "nbconvert_exporter": "python",
      "pygments_lexer": "ipython3",
      "version": "3.7.3"
    }
  },
  "cells": [
    {
      "cell_type": "markdown",
      "metadata": {
        "id": "mO1RI4KNXdrT"
      },
      "source": [
        "# Language history\n",
        "\n",
        "* Created by Guido van Rossum in 1991\n",
        "* Wanted a language that supported code readability, to be able to write large applications in a clear and logical style.\n",
        "\n",
        "# Language features\n",
        "\n",
        "* Dynamically typed (described in detailed later in this notebook)\n",
        "* Supports multiple programming paradigms\n",
        "  * Structured/procedural\n",
        "  * object-oriented\n",
        "  * functional\n",
        "\n",
        "# Language versions\n",
        "\n",
        "* Python version 2.0 released in 2000\n",
        "* Python version 3.0 released in 2008 (Not entirely backwards compatible)\n",
        "* Latest 2.x version is 2.7.18 have reached end of life and new developments on this version should be avoided.\n",
        "* Latest 3.x version is 3.10.3. We will be using 3.9 in this course.\n",
        "\n",
        "Main Python page: https://www.python.org\n",
        "\n",
        "Anaconda Python distribution: https://www.anaconda.com/\n",
        "\n",
        "WinPython: https://winpython.github.io/\n",
        "\n",
        "# Language philosophy\n",
        "\n",
        "* Beautiful is better than ugly.\n",
        "* Explicit is better than implicit.\n",
        "* Simple is better than complex.\n",
        "* Complex is better than complicated.\n",
        "* Readability counts.\n",
        "\n",
        "More information on Python history can be found here:\n",
        "\n",
        "https://en.wikipedia.org/wiki/Python_(programming_language)"
      ]
    },
    {
      "cell_type": "markdown",
      "metadata": {
        "id": "Jl5r47mermbo"
      },
      "source": [
        "# Program structure"
      ]
    },
    {
      "cell_type": "markdown",
      "metadata": {
        "id": "-3MWVUPRrmbt"
      },
      "source": [
        "* Python programs are text files that contain rows of statements.\n",
        "* The text files are translated into computer instructions using a Python interpreter.\n",
        "* Empty lines are ignored.\n",
        "* The text files with statements have the extension .py.\n",
        "* The text files with statements are also called source code files.\n",
        "* Punkter..."
      ]
    },
    {
      "cell_type": "code",
      "metadata": {
        "id": "gmpLn2Pcrmbx",
        "colab": {
          "base_uri": "https://localhost:8080/"
        },
        "outputId": "60883fdd-fd3e-4283-e0b2-6c929874f3c0"
      },
      "source": [
        "#!/usr/bin/env python3\n",
        "# -*- coding: utf-8 -*-\n",
        "\n",
        "# Detta är en kommentar\n",
        "\n",
        "for i in range(10):\n",
        "    print(i)"
      ],
      "execution_count": null,
      "outputs": [
        {
          "output_type": "stream",
          "name": "stdout",
          "text": [
            "0\n",
            "1\n",
            "2\n",
            "3\n",
            "4\n",
            "5\n",
            "6\n",
            "7\n",
            "8\n",
            "9\n"
          ]
        }
      ]
    },
    {
      "cell_type": "markdown",
      "metadata": {
        "id": "A20KXJtPrmb-"
      },
      "source": [
        "# Built-in functions"
      ]
    },
    {
      "cell_type": "markdown",
      "metadata": {
        "id": "x2uwLwvJrmcB"
      },
      "source": [
        "* Much of the functionality of a language is provided as functions.\n",
        "* Python contains a variety of function libraries for printing, numeric functions, string management and file management.\n",
        "* A function is called by giving its name followed by a list of parameters within parentheses ()."
      ]
    },
    {
      "cell_type": "code",
      "metadata": {
        "id": "Iq7qCIP7rmcE"
      },
      "source": [
        "print(\"This is the print-function\", 42)"
      ],
      "execution_count": null,
      "outputs": []
    },
    {
      "cell_type": "markdown",
      "metadata": {
        "id": "G12vNJfOrmcO"
      },
      "source": [
        "Not all functions have parameters. In this case, an empty parenthesis indicates that no parameters are given."
      ]
    },
    {
      "cell_type": "code",
      "metadata": {
        "id": "Hfzyel4MrmcQ"
      },
      "source": [
        "print()"
      ],
      "execution_count": null,
      "outputs": []
    },
    {
      "cell_type": "markdown",
      "metadata": {
        "id": "FT-z1B9Xrmce"
      },
      "source": [
        "All functions in Python can have return values. Return values are assigned by using an equal sign (=) to the left of the function call."
      ]
    },
    {
      "cell_type": "code",
      "metadata": {
        "id": "DcLDqMfzrmcg",
        "colab": {
          "base_uri": "https://localhost:8080/"
        },
        "outputId": "eacdc313-4b41-4d1a-ebb4-0c7b5cb5e291"
      },
      "source": [
        "y = abs(-4)\n",
        "print(y)"
      ],
      "execution_count": null,
      "outputs": [
        {
          "output_type": "stream",
          "name": "stdout",
          "text": [
            "4\n"
          ]
        }
      ]
    },
    {
      "cell_type": "markdown",
      "metadata": {
        "id": "xmHkqwVKrmco"
      },
      "source": [
        "Functions can also have one or more return values. These are assigned through multiple variable references separated by commas to the left of the equal sign."
      ]
    },
    {
      "cell_type": "code",
      "metadata": {
        "id": "fuM4pAcMrmcr",
        "colab": {
          "base_uri": "https://localhost:8080/"
        },
        "outputId": "f81b3fb0-8bcc-41f6-fa25-0bbe045be920"
      },
      "source": [
        "q, r = divmod(100,47)\n",
        "print(q, r)"
      ],
      "execution_count": null,
      "outputs": [
        {
          "output_type": "stream",
          "name": "stdout",
          "text": [
            "2 6\n"
          ]
        }
      ]
    },
    {
      "cell_type": "markdown",
      "metadata": {
        "id": "eQdTWxsgrmc0"
      },
      "source": [
        "# Storing and referencing data"
      ]
    },
    {
      "cell_type": "markdown",
      "metadata": {
        "id": "COvUmQrPrmc6"
      },
      "source": [
        "A fundamental feature of programming is the ability to work with stored data in different ways. In Python, variables are used to refer to data. In Python, it is not the variable itself that stores data, but variables are references to data in the computer's memory. It can be compared to a wardrobe ticket (variable reference) that allows the wardrobe to find your clothes in the wardrobe (computer memory)\n",
        "\n",
        "Some key features of Python variable references:\n",
        "\n",
        "* Python does not need to specify data types when assigning variables.\n",
        "* The data type is determined by the data type in the assignment.\n",
        "* A variable reference can refer to different data types during program execution."
      ]
    },
    {
      "cell_type": "code",
      "metadata": {
        "id": "-kAz5nPurmc7"
      },
      "source": [
        "# integer variables\n",
        "\n",
        "a = 1\n",
        "b = 15\n",
        "\n",
        "# floating point variables\n",
        "\n",
        "c = 14.2\n",
        "d = 42.32\n",
        "\n",
        "# Strings\n",
        "\n",
        "e = \"Hejsan\"\n",
        "\n",
        "# Lists\n",
        "\n",
        "f = [1, 2, 4, \"A\"]\n",
        "\n",
        "# Assignment of new type and value\n",
        "\n",
        "a = \"Hej på dig!\""
      ],
      "execution_count": null,
      "outputs": []
    },
    {
      "cell_type": "markdown",
      "metadata": {
        "id": "3sRUirPprmdJ"
      },
      "source": [
        "## Naming of variables"
      ]
    },
    {
      "cell_type": "markdown",
      "metadata": {
        "id": "DoJoS6D5rmdL"
      },
      "source": [
        "The following rules apply when naming variables in Python:\n",
        "\n",
        "* Only letters from the English alphabet\n",
        "* Numbers\n",
        "* No special characters except underscores (_)\n",
        "* Can't start with a number.\n",
        "* Variables are case sensitive.\n",
        "\n",
        "Allowed variable names\n",
        "\n",
        "* first_name\n",
        "* last_name\n",
        "* number\n",
        "* i2\n",
        "\n",
        "Not allowed variable names\n",
        "\n",
        "* 1var\n",
        "* år"
      ]
    },
    {
      "cell_type": "markdown",
      "metadata": {
        "id": "i49AisqsrmdN"
      },
      "source": [
        "## More on variables"
      ]
    },
    {
      "cell_type": "markdown",
      "metadata": {
        "id": "oWlVNLgFrmdP"
      },
      "source": [
        "Variables in Python are always **references** to the underlying data\n",
        "\n",
        "When a variable is assigned a value, the following happens:\n",
        "\n",
        "1. Memory is allocated for the value to be stored.\n",
        "2. A named variable reference is created - the variable.\n",
        "3. The variable refers to the memory for the value.\n",
        "\n",
        "Look at the following code:"
      ]
    },
    {
      "cell_type": "code",
      "metadata": {
        "id": "diVyccCtrmdR"
      },
      "source": [
        "a = 42\n",
        "b = 84"
      ],
      "execution_count": null,
      "outputs": []
    },
    {
      "cell_type": "markdown",
      "metadata": {
        "id": "khFmhG7Drmdc"
      },
      "source": [
        "In this example, variables **a** and **b** are assigned values 42 and 84. In memory, it will look like the following figure:\n",
        "\n",
        "![variable references 1](https://github.com/jonaslindemann/guide_to_python/blob/master/chapters/kapitel3/notebooks/images/variable1.png?raw=1)\n",
        "\n",
        "Two variable references pointing to 2 different memory locations.\n",
        "\n",
        "What happens in the following example:"
      ]
    },
    {
      "cell_type": "code",
      "metadata": {
        "id": "fTNUynNUrmdf",
        "colab": {
          "base_uri": "https://localhost:8080/"
        },
        "outputId": "d16c0be7-c34f-4aba-8f5f-dd7b7784efae"
      },
      "source": [
        "a = b\n",
        "print(a)\n",
        "print(b)"
      ],
      "execution_count": null,
      "outputs": [
        {
          "output_type": "stream",
          "name": "stdout",
          "text": [
            "84\n",
            "84\n"
          ]
        }
      ]
    },
    {
      "cell_type": "markdown",
      "metadata": {
        "id": "WI_F88jSrmdr"
      },
      "source": [
        "We get what we expected. **a** has the same value as **b**. Behind the scenes is the following:\n",
        "\n",
        "![variabla referenser 1](https://github.com/jonaslindemann/guide_to_python/blob/master/chapters/kapitel3/notebooks/images/variable2.png?raw=1)\n",
        "\n",
        "An assignment of a variable reference assigns the reference. **a** now points to the same data 84.\n",
        "\n",
        "The memory occupied by the value 42 will be automatically deleted by Python. If we now assign **a** another value:"
      ]
    },
    {
      "cell_type": "code",
      "metadata": {
        "id": "_bAAYLoMrmdt"
      },
      "source": [
        "a = 21"
      ],
      "execution_count": null,
      "outputs": []
    },
    {
      "cell_type": "markdown",
      "metadata": {
        "id": "l9s1__JNrmdy"
      },
      "source": [
        " We get the following situation:\n",
        "\n",
        "![variable references 1](https://github.com/jonaslindemann/guide_to_python/blob/master/chapters/kapitel3/notebooks/images/variable3.png?raw=1)"
      ]
    },
    {
      "cell_type": "markdown",
      "metadata": {
        "id": "QXjMomtbrmdz"
      },
      "source": [
        "It is possible to check this with the **id()** function in Python. The function returns the unique identifier for the variable reference. We perform the previous operations and simultaneously print the id of the variables."
      ]
    },
    {
      "cell_type": "code",
      "metadata": {
        "id": "uIAERpxFrmd0",
        "colab": {
          "base_uri": "https://localhost:8080/"
        },
        "outputId": "e5e73453-eee9-434e-8ca7-818169f9c06d"
      },
      "source": [
        "a = 42\n",
        "b = 84\n",
        "\n",
        "print(a, id(a))\n",
        "print(b, id(b))\n",
        "\n",
        "a = b\n",
        "\n",
        "print('a = b')\n",
        "print(a, id(a))\n",
        "print(b, id(b))\n",
        "\n",
        "a = 21\n",
        "\n",
        "print('a = 21')\n",
        "print(a, id(a))\n",
        "print(b, id(b))"
      ],
      "execution_count": null,
      "outputs": [
        {
          "output_type": "stream",
          "name": "stdout",
          "text": [
            "42 11257376\n",
            "84 11258720\n",
            "a = b\n",
            "84 11258720\n",
            "84 11258720\n",
            "a = 21\n",
            "21 11256704\n",
            "84 11258720\n"
          ]
        }
      ]
    },
    {
      "cell_type": "markdown",
      "metadata": {
        "id": "jEoD3t96rmd8"
      },
      "source": [
        "We see the first assignments generate unique IDs. After the assignment **a = b** , the ID is the same for **a and b**. After **a = 21**, a gets a new ID and b retains its ID."
      ]
    },
    {
      "cell_type": "markdown",
      "metadata": {
        "id": "i_Qr1iubrmd-"
      },
      "source": [
        "# Data types in Python"
      ]
    },
    {
      "cell_type": "markdown",
      "metadata": {
        "id": "K9OwgOhjrmeD"
      },
      "source": [
        "## Integer and floating point values"
      ]
    },
    {
      "cell_type": "code",
      "metadata": {
        "id": "mTxrx_pIrmeI"
      },
      "source": [
        "a = 42 # integer variable\n",
        "a"
      ],
      "execution_count": null,
      "outputs": []
    },
    {
      "cell_type": "code",
      "metadata": {
        "id": "pcXmdr0ArmeT"
      },
      "source": [
        "b = 42.0 # floating point variable\n",
        "b"
      ],
      "execution_count": null,
      "outputs": []
    },
    {
      "cell_type": "markdown",
      "metadata": {
        "id": "vG9vusMBrmec"
      },
      "source": [
        "## Operators and expressions\n",
        "\n",
        "Operators are evaluated in the following order:\n",
        "\n",
        "1. Exponentiation - (**\\****)\n",
        "2. Unary operations - (**+x**, **-x**)\n",
        "3. Multiplication, division, floor, modulus (**\\***, **/**, **//**, **%**)\n",
        "4. Addition, subtraction (**+**, **-**)\n",
        "5. Comparisons (**==**, **!=**, **<**, **<=**, **>**, **>=**, **is**, **is not**)\n",
        "6. Boolean **not**\n",
        "7. Boolean **and**\n",
        "8. Boolean **or**"
      ]
    },
    {
      "cell_type": "code",
      "metadata": {
        "id": "ORU7QPtArmef",
        "colab": {
          "base_uri": "https://localhost:8080/"
        },
        "outputId": "69dfb056-c752-4f75-e342-c619f2f8f60c"
      },
      "source": [
        "2+2"
      ],
      "execution_count": null,
      "outputs": [
        {
          "output_type": "execute_result",
          "data": {
            "text/plain": [
              "4"
            ]
          },
          "metadata": {},
          "execution_count": 9
        }
      ]
    },
    {
      "cell_type": "code",
      "metadata": {
        "id": "Pc5QbvKPrmer",
        "colab": {
          "base_uri": "https://localhost:8080/"
        },
        "outputId": "7b4a635f-9506-45ce-f522-3e1f7c9f277f"
      },
      "source": [
        "(50-5*6)/4"
      ],
      "execution_count": null,
      "outputs": [
        {
          "output_type": "execute_result",
          "data": {
            "text/plain": [
              "5.0"
            ]
          },
          "metadata": {},
          "execution_count": 10
        }
      ]
    },
    {
      "cell_type": "code",
      "metadata": {
        "id": "HMQiIBKkrmez",
        "colab": {
          "base_uri": "https://localhost:8080/"
        },
        "outputId": "7a97da38-6c9c-492f-c1f6-bc86b3108a3b"
      },
      "source": [
        "7/3"
      ],
      "execution_count": null,
      "outputs": [
        {
          "output_type": "execute_result",
          "data": {
            "text/plain": [
              "2.3333333333333335"
            ]
          },
          "metadata": {},
          "execution_count": 11
        }
      ]
    },
    {
      "cell_type": "code",
      "metadata": {
        "id": "IIwJB4azrme9",
        "colab": {
          "base_uri": "https://localhost:8080/"
        },
        "outputId": "67cfce09-71cb-4297-d4a1-1415625b9648"
      },
      "source": [
        "7/-3"
      ],
      "execution_count": null,
      "outputs": [
        {
          "output_type": "execute_result",
          "data": {
            "text/plain": [
              "-2.3333333333333335"
            ]
          },
          "metadata": {},
          "execution_count": 12
        }
      ]
    },
    {
      "cell_type": "code",
      "metadata": {
        "id": "d7LNPu4ormfC",
        "colab": {
          "base_uri": "https://localhost:8080/"
        },
        "outputId": "d5262175-f27d-43be-9a03-79df58a5275d"
      },
      "source": [
        "3*3.75/1.5"
      ],
      "execution_count": null,
      "outputs": [
        {
          "output_type": "execute_result",
          "data": {
            "text/plain": [
              "7.5"
            ]
          },
          "metadata": {},
          "execution_count": 13
        }
      ]
    },
    {
      "cell_type": "markdown",
      "metadata": {
        "id": "XDnwO0w4rmfI"
      },
      "source": [
        "## Flags and boolean variables"
      ]
    },
    {
      "cell_type": "markdown",
      "metadata": {
        "id": "jayc2oi4rmfI"
      },
      "source": [
        "* Indicates an off or on position or something is true or false.\n",
        "* **True** or **False** is used to assign a Boolean value to a variable reference."
      ]
    },
    {
      "cell_type": "code",
      "metadata": {
        "id": "GTVu6GFsrmfR"
      },
      "source": [
        "c = True  # c now is a boolean variables\n",
        "c"
      ],
      "execution_count": null,
      "outputs": []
    },
    {
      "cell_type": "code",
      "metadata": {
        "id": "LzhVGhmPrmfV"
      },
      "source": [
        "d = False\n",
        "d"
      ],
      "execution_count": null,
      "outputs": []
    },
    {
      "cell_type": "markdown",
      "metadata": {
        "id": "I7DIYOegrmfb"
      },
      "source": [
        "## Lists"
      ]
    },
    {
      "cell_type": "markdown",
      "metadata": {
        "id": "Af2m3VFZrmfc"
      },
      "source": [
        "List is a data type that can contain a list of values with different data types. Lists are defined with an initial \\[and an ending \\]. An empty list can be created by assigning an empty []."
      ]
    },
    {
      "cell_type": "code",
      "metadata": {
        "id": "BdyXvpsGrmfe",
        "colab": {
          "base_uri": "https://localhost:8080/"
        },
        "outputId": "813aa410-b803-43d8-f28b-35da675834ff"
      },
      "source": [
        "values = [] # Empty list\n",
        "values"
      ],
      "execution_count": null,
      "outputs": [
        {
          "output_type": "execute_result",
          "data": {
            "text/plain": [
              "[]"
            ]
          },
          "metadata": {},
          "execution_count": 14
        }
      ]
    },
    {
      "cell_type": "markdown",
      "metadata": {
        "id": "228u5Ycurmfi"
      },
      "source": [
        "Initial values in the list can be assigned by listing values between \\[and \\]:"
      ]
    },
    {
      "cell_type": "code",
      "metadata": {
        "id": "sILJJ1y5rmfi",
        "colab": {
          "base_uri": "https://localhost:8080/"
        },
        "outputId": "36a48a24-7e44-46e5-b09d-db30788ccb38"
      },
      "source": [
        "values = [1, 3, 6, 4, 'hej', 1.0]\n",
        "values"
      ],
      "execution_count": null,
      "outputs": [
        {
          "output_type": "execute_result",
          "data": {
            "text/plain": [
              "[1, 3, 6, 4, 'hej', 1.0]"
            ]
          },
          "metadata": {},
          "execution_count": 15
        }
      ]
    },
    {
      "cell_type": "markdown",
      "metadata": {
        "id": "WRR0apw9rmfo"
      },
      "source": [
        "Individual values in a list are reached by entering the name of the list followed by an index between \\[and \\]."
      ]
    },
    {
      "cell_type": "code",
      "metadata": {
        "id": "1z4aMeIBrmfp",
        "colab": {
          "base_uri": "https://localhost:8080/"
        },
        "outputId": "fd87c95f-ee94-4130-94a1-575b66d01055"
      },
      "source": [
        "print(values[2])"
      ],
      "execution_count": null,
      "outputs": [
        {
          "output_type": "stream",
          "name": "stdout",
          "text": [
            "6\n"
          ]
        }
      ]
    },
    {
      "cell_type": "markdown",
      "metadata": {
        "id": "iqPPBZztrmfv"
      },
      "source": [
        "Lists can be changed by assigning values to a specific index:"
      ]
    },
    {
      "cell_type": "code",
      "metadata": {
        "id": "5hKrDmCsrmfv",
        "colab": {
          "base_uri": "https://localhost:8080/"
        },
        "outputId": "aab8b55e-6ab0-489d-f309-8793a65fbdec"
      },
      "source": [
        "values[4] = 'hopp'\n",
        "print(values)"
      ],
      "execution_count": null,
      "outputs": [
        {
          "output_type": "stream",
          "name": "stdout",
          "text": [
            "[1, 3, 6, 4, 'hopp', 1.0]\n"
          ]
        }
      ]
    },
    {
      "cell_type": "markdown",
      "metadata": {
        "id": "4Bu1C0aErmfz"
      },
      "source": [
        "Indexes in lists start at 0. That is, the first element is 0. Negative indexes indicate values from the end of the list."
      ]
    },
    {
      "cell_type": "code",
      "metadata": {
        "id": "uUU-OHGRrmf1",
        "colab": {
          "base_uri": "https://localhost:8080/"
        },
        "outputId": "258eeeae-b314-44a9-e285-1b500caf1480"
      },
      "source": [
        "print(values[-1]) # Last element in list"
      ],
      "execution_count": null,
      "outputs": [
        {
          "output_type": "stream",
          "name": "stdout",
          "text": [
            "1.0\n"
          ]
        }
      ]
    },
    {
      "cell_type": "code",
      "metadata": {
        "id": "CGOICfJurmf6",
        "colab": {
          "base_uri": "https://localhost:8080/"
        },
        "outputId": "dc0d5cdb-23ea-4eab-c587-8c786094b7c0"
      },
      "source": [
        "print(values[-3]) # Third last element in list."
      ],
      "execution_count": null,
      "outputs": [
        {
          "output_type": "stream",
          "name": "stdout",
          "text": [
            "4\n"
          ]
        }
      ]
    },
    {
      "cell_type": "markdown",
      "metadata": {
        "id": "b0az1calrmf_"
      },
      "source": [
        "### Lists and variable references"
      ]
    },
    {
      "cell_type": "markdown",
      "metadata": {
        "id": "71RT14lsrmgA"
      },
      "source": [
        "* A list consists of references to data in memory\n",
        "* Data is not stored in the list.\n",
        "\n",
        "The following figure and code example illustrate this:\n",
        "\n",
        "![variable references 1](https://github.com/jonaslindemann/guide_to_python/blob/master/chapters/kapitel3/notebooks/images/variable4.png?raw=1)\n",
        "\n"
      ]
    },
    {
      "cell_type": "code",
      "metadata": {
        "id": "Cnhl4txFrmgA",
        "colab": {
          "base_uri": "https://localhost:8080/"
        },
        "outputId": "309f37a0-f3ff-4e58-cdac-0f98ab897829"
      },
      "source": [
        "values = [1, 3, 6, 4, 'hej', 1.0, 42]\n",
        "\n",
        "b = values[4]\n",
        "\n",
        "print(b, id(b))\n",
        "print(values[4], id(values[4]))"
      ],
      "execution_count": null,
      "outputs": [
        {
          "output_type": "stream",
          "name": "stdout",
          "text": [
            "hej 140366202685040\n",
            "hej 140366202685040\n",
            "hej\n"
          ]
        }
      ]
    },
    {
      "cell_type": "markdown",
      "metadata": {
        "id": "eQGzOefQrmgK"
      },
      "source": [
        "In this example, b is assigned the reference stored in position 4 in the ** values ** list. After this assignment, b and ** values [4] ** point to the same data at the same memory location as in the following figure:\n",
        "\n",
        "![variable references 1](https://github.com/jonaslindemann/guide_to_python/blob/master/chapters/kapitel3/notebooks/images/variable5.png?raw=1)"
      ]
    },
    {
      "cell_type": "markdown",
      "metadata": {
        "id": "G50qkBI5rmgL"
      },
      "source": [
        "In most cases, variables work intuitively without the need for much thought, but it is good to know the underlying mechanisms."
      ]
    },
    {
      "cell_type": "markdown",
      "metadata": {
        "id": "GAulmMgZuH7M"
      },
      "source": []
    },
    {
      "cell_type": "markdown",
      "metadata": {
        "id": "OoalEahermgM"
      },
      "source": [
        "### Index-notation and lists"
      ]
    },
    {
      "cell_type": "markdown",
      "metadata": {
        "id": "58-qhdYlrmgM"
      },
      "source": [
        "It is possible to extract sub-areas of lists using index notation:"
      ]
    },
    {
      "cell_type": "code",
      "metadata": {
        "id": "d5EWjjTnrmgU",
        "colab": {
          "base_uri": "https://localhost:8080/"
        },
        "outputId": "6bd2530c-df59-45d6-dae0-4915cbed286d"
      },
      "source": [
        "# Range from 1 >= idx < 3\n",
        "print(values[1:3])\n",
        "\n",
        "# Range from 1 >= idx < len(values)-2\n",
        "print(values[1:-1])\n",
        "\n",
        "# Range idx >= 3\n",
        "print(values[3:])\n",
        "\n",
        "# All elements in the list\n",
        "print(values[:])\n",
        "\n",
        "# Range from 0 >= idx < len(values)-2\n",
        "print(values[:-2])\n",
        "\n",
        "# Range from len(values)-3 >= idx < len(values)-1\n",
        "print(values[-3:])"
      ],
      "execution_count": null,
      "outputs": [
        {
          "output_type": "stream",
          "name": "stdout",
          "text": [
            "[3, 6]\n",
            "[3, 6, 4, 'hejdå', 1.0]\n",
            "[4, 'hejdå', 1.0, 42]\n",
            "[1, 3, 6, 4, 'hejdå', 1.0, 42]\n",
            "[1, 3, 6, 4, 'hejdå']\n",
            "['hejdå', 1.0, 42]\n"
          ]
        }
      ]
    },
    {
      "cell_type": "markdown",
      "metadata": {
        "id": "yEC-Jaq5rmga"
      },
      "source": [
        "### Sizes of lists"
      ]
    },
    {
      "cell_type": "markdown",
      "metadata": {
        "id": "AvmGjw81rmge"
      },
      "source": [
        "The number of elements in a list can be obtained using the generic function **len()** in Python."
      ]
    },
    {
      "cell_type": "code",
      "metadata": {
        "id": "zE4nzcDqrmge",
        "colab": {
          "base_uri": "https://localhost:8080/"
        },
        "outputId": "a533c745-746b-4805-8278-4b4138d06bc6"
      },
      "source": [
        "print(len(values))"
      ],
      "execution_count": null,
      "outputs": [
        {
          "output_type": "stream",
          "name": "stdout",
          "text": [
            "7\n"
          ]
        }
      ]
    },
    {
      "cell_type": "markdown",
      "metadata": {
        "id": "oiVJdc3Lrmgj"
      },
      "source": [
        "### Adding values to lists"
      ]
    },
    {
      "cell_type": "markdown",
      "metadata": {
        "id": "rQbweAm3rmgk"
      },
      "source": [
        "Values can be added to a list using the **.append()** method"
      ]
    },
    {
      "cell_type": "code",
      "metadata": {
        "id": "E0F0sld1rmgk",
        "colab": {
          "base_uri": "https://localhost:8080/"
        },
        "outputId": "b58496b7-2ad7-4b67-bfe5-5bc02005572a"
      },
      "source": [
        "values.append(42)\n",
        "print(values)"
      ],
      "execution_count": null,
      "outputs": [
        {
          "output_type": "stream",
          "name": "stdout",
          "text": [
            "[1, 'squeeze', 3, 6, 4, 'hejdå', 1.0, 42, 42]\n"
          ]
        }
      ]
    },
    {
      "cell_type": "markdown",
      "metadata": {
        "id": "xWRQqefUrmgm"
      },
      "source": [
        "Values can be inserted into lists at specific positions using the **.insert()** method."
      ]
    },
    {
      "cell_type": "code",
      "metadata": {
        "id": "wFxqysTMrmgn",
        "colab": {
          "base_uri": "https://localhost:8080/"
        },
        "outputId": "cb3d1991-eb9a-4818-c862-2bc55f1f0b3e"
      },
      "source": [
        "values.insert(1, \"squeeze\")\n",
        "print(values)"
      ],
      "execution_count": null,
      "outputs": [
        {
          "output_type": "stream",
          "name": "stdout",
          "text": [
            "[1, 'squeeze', 'squeeze', 3, 6, 4, 'hejdå', 1.0, 42, 42]\n"
          ]
        }
      ]
    },
    {
      "cell_type": "markdown",
      "metadata": {
        "id": "WJFCxDQarmgp"
      },
      "source": [
        "### Removing items from a list"
      ]
    },
    {
      "cell_type": "markdown",
      "metadata": {
        "id": "nHTPwP9armgq"
      },
      "source": [
        "Values in a list can be removed using the **.remove()** method."
      ]
    },
    {
      "cell_type": "code",
      "metadata": {
        "id": "a3JLn7Ltrmgq",
        "colab": {
          "base_uri": "https://localhost:8080/"
        },
        "outputId": "00cbb67f-25b3-4b59-c63d-1f3e60420495"
      },
      "source": [
        "print(\"Before remove()\")\n",
        "print(values)\n",
        "\n",
        "values.remove(\"squeeze\") # first value with \"squeeze\"\n",
        "\n",
        "print(\"After remove()\")\n",
        "print(values)"
      ],
      "execution_count": null,
      "outputs": [
        {
          "output_type": "stream",
          "name": "stdout",
          "text": [
            "Before remove()\n",
            "[1, 'squeeze', 3, 6, 4, 'hejdå', 1.0, 42, 42]\n",
            "After remove()\n",
            "[1, 3, 6, 4, 'hejdå', 1.0, 42, 42]\n"
          ]
        }
      ]
    },
    {
      "cell_type": "markdown",
      "metadata": {
        "id": "v2E9a_01rmgt"
      },
      "source": [
        "They are also possible to use the generic **del** function to delete values in a list."
      ]
    },
    {
      "cell_type": "code",
      "metadata": {
        "id": "oCqNiQ1grmgu",
        "colab": {
          "base_uri": "https://localhost:8080/"
        },
        "outputId": "dbe60043-845b-45a4-ca40-ffd32b39c6f6"
      },
      "source": [
        "print(\"Before del[0]\")\n",
        "print(values)\n",
        "\n",
        "del(values[0])\n",
        "\n",
        "print(\"After del[0]\")\n",
        "print(values)"
      ],
      "execution_count": null,
      "outputs": [
        {
          "output_type": "stream",
          "name": "stdout",
          "text": [
            "Before del[0]\n",
            "[1, 3, 6, 4, 'hejdå', 1.0, 42, 42]\n",
            "After del[0]\n",
            "[3, 6, 4, 'hejdå', 1.0, 42, 42]\n"
          ]
        }
      ]
    },
    {
      "cell_type": "markdown",
      "metadata": {
        "id": "HSt8lycGrmgy"
      },
      "source": [
        "It is also possible to remove sub-ranges in a list with **del**."
      ]
    },
    {
      "cell_type": "code",
      "metadata": {
        "id": "OW-hB1Kcrmgy",
        "colab": {
          "base_uri": "https://localhost:8080/"
        },
        "outputId": "87bc8496-a2e1-4388-e2dc-a15ee3d66fbf"
      },
      "source": [
        "print(\"Före del[3:]\")\n",
        "print(values)\n",
        "\n",
        "del(values[3:])\n",
        "\n",
        "print(\"Efter del[3:]\")\n",
        "print(values)"
      ],
      "execution_count": null,
      "outputs": [
        {
          "output_type": "stream",
          "name": "stdout",
          "text": [
            "Före del[3:]\n",
            "[3, 6, 4, 'hejdå', 1.0, 42, 42]\n",
            "Efter del[3:]\n",
            "[3, 6, 4]\n"
          ]
        }
      ]
    },
    {
      "cell_type": "markdown",
      "metadata": {
        "id": "ZmnvRn6nrmg1"
      },
      "source": [
        "It is also possible to use the list as a \"stack\" data type, i.e. a data type where data is added and deleted from the end of the list. A Python list has a special method, **.pop()** for this purpose:"
      ]
    },
    {
      "cell_type": "code",
      "metadata": {
        "id": "SWE1DEfmrmg2",
        "colab": {
          "base_uri": "https://localhost:8080/"
        },
        "outputId": "b6ba974e-1de7-43f8-91a9-e754ed3b8df7"
      },
      "source": [
        "print(\"List before pop()\")\n",
        "print(values)\n",
        "\n",
        "v = values.pop()\n",
        "\n",
        "print(\"Value returned from pop()\")\n",
        "print(v)\n",
        "print(\"List after pop()\")\n",
        "print(values)"
      ],
      "execution_count": null,
      "outputs": [
        {
          "output_type": "stream",
          "name": "stdout",
          "text": [
            "List before pop()\n",
            "[3, 6, 4]\n",
            "Value returned from pop()\n",
            "4\n",
            "List after pop()\n",
            "[3, 6]\n"
          ]
        }
      ]
    },
    {
      "cell_type": "markdown",
      "metadata": {
        "id": "7EEFsVnlrmg5"
      },
      "source": [
        "### Clearing a list"
      ]
    },
    {
      "cell_type": "markdown",
      "metadata": {
        "id": "iKQ_19Xjrmg5"
      },
      "source": [
        "A list can be cleared by using the **.clear()** method or by assigning an empty list to a variable reference."
      ]
    },
    {
      "cell_type": "code",
      "metadata": {
        "id": "dUtcUVv7rmg5"
      },
      "source": [
        "a = [4, 6, 3, 7, 9]\n",
        "a = []"
      ],
      "execution_count": null,
      "outputs": []
    },
    {
      "cell_type": "markdown",
      "metadata": {
        "id": "rvtgOzVsrmhA"
      },
      "source": [
        "However, it is important to understand that in the above example, there may still be variable references that point to values in the list. An example of this is shown below:"
      ]
    },
    {
      "cell_type": "code",
      "metadata": {
        "id": "zB7q2VjwrmhA",
        "colab": {
          "base_uri": "https://localhost:8080/"
        },
        "outputId": "db9ad422-591f-4903-da33-93386721859b"
      },
      "source": [
        "a = [4, 6, 3, 7, 9]\n",
        "b = a\n",
        "a = []\n",
        "print(b)"
      ],
      "execution_count": null,
      "outputs": [
        {
          "output_type": "stream",
          "name": "stdout",
          "text": [
            "[4, 6, 3, 7, 9]\n"
          ]
        }
      ]
    },
    {
      "cell_type": "markdown",
      "metadata": {
        "id": "i7Xq5MtRrmhH"
      },
      "source": [
        "To really clear a list, the **.clear()** method is preferably used as follows:"
      ]
    },
    {
      "cell_type": "code",
      "metadata": {
        "id": "zrp2S8x7rmhI",
        "colab": {
          "base_uri": "https://localhost:8080/"
        },
        "outputId": "4a2e310c-9f54-4ad6-baba-781a1f4b8109"
      },
      "source": [
        "a = [4, 6, 3, 7, 9]\n",
        "b = a\n",
        "\n",
        "a.clear()\n",
        "\n",
        "print(b)"
      ],
      "execution_count": null,
      "outputs": [
        {
          "output_type": "stream",
          "name": "stdout",
          "text": [
            "[]\n"
          ]
        }
      ]
    },
    {
      "cell_type": "markdown",
      "metadata": {
        "id": "d9LYutHwrmhK"
      },
      "source": [
        "### Nested lists"
      ]
    },
    {
      "cell_type": "markdown",
      "metadata": {
        "id": "rWuZg45GrmhK"
      },
      "source": [
        "Lists are a very flexible data type in Python, which can contain any data type, including other lists. In the following example, a list of 5 elements is created, the second element contains a list of 2 elements:"
      ]
    },
    {
      "cell_type": "code",
      "metadata": {
        "id": "7hH7Y-LwrmhK",
        "colab": {
          "base_uri": "https://localhost:8080/"
        },
        "outputId": "39bad8b4-fab9-475d-af79-3199bc336189"
      },
      "source": [
        "a = [1, 2, [3, 4], 5, 6]\n",
        "\n",
        "print(a[2])"
      ],
      "execution_count": null,
      "outputs": [
        {
          "output_type": "stream",
          "name": "stdout",
          "text": [
            "[3, 4]\n"
          ]
        }
      ]
    },
    {
      "cell_type": "markdown",
      "metadata": {
        "id": "rrnVzzVIrmhQ"
      },
      "source": [
        "To reach a value in a nested list, you do this by adding an additional index operator as shown below:"
      ]
    },
    {
      "cell_type": "code",
      "metadata": {
        "id": "8_32QRsdrmhT",
        "colab": {
          "base_uri": "https://localhost:8080/"
        },
        "outputId": "da690d02-4eb0-4f34-884d-fb7f5fabdcf9"
      },
      "source": [
        "a = [1, 2, [3, 4], 5, 6]\n",
        "\n",
        "print(a[2][0])\n",
        "print(a[2][1])"
      ],
      "execution_count": null,
      "outputs": [
        {
          "output_type": "stream",
          "name": "stdout",
          "text": [
            "3\n",
            "4\n"
          ]
        }
      ]
    },
    {
      "cell_type": "markdown",
      "metadata": {
        "id": "fWus1eB6rmhX"
      },
      "source": [
        "In this way, we can quickly create two-dimensional data structures in a simple way:"
      ]
    },
    {
      "cell_type": "code",
      "metadata": {
        "id": "IBW5vNH8rmhX",
        "colab": {
          "base_uri": "https://localhost:8080/"
        },
        "outputId": "7a9c1f30-4cb4-4d13-d9a0-8110149899db"
      },
      "source": [
        "spread_sheet = []\n",
        "spread_sheet.append([0]*10)\n",
        "spread_sheet.append([0]*10)\n",
        "spread_sheet.append([0]*10)\n",
        "spread_sheet.append([0]*10)\n",
        "print(spread_sheet)\n",
        "print(len(spread_sheet))\n",
        "print(spread_sheet[0][5])"
      ],
      "execution_count": null,
      "outputs": [
        {
          "output_type": "stream",
          "name": "stdout",
          "text": [
            "[[0, 0, 0, 0, 0, 0, 0, 0, 0, 0], [0, 0, 0, 0, 0, 0, 0, 0, 0, 0], [0, 0, 0, 0, 0, 0, 0, 0, 0, 0], [0, 0, 0, 0, 0, 0, 0, 0, 0, 0]]\n",
            "4\n",
            "0\n"
          ]
        }
      ]
    },
    {
      "cell_type": "markdown",
      "metadata": {
        "id": "T_lq9Nkzrmhb"
      },
      "source": [
        "It is important to remember that all values in lists are actually references to data in memory. This is illustrated in the following examples:"
      ]
    },
    {
      "cell_type": "code",
      "metadata": {
        "id": "WUrzMpmFrmhd",
        "colab": {
          "base_uri": "https://localhost:8080/"
        },
        "outputId": "687d7a11-2cdb-45c2-dbb0-511ef448bd2c"
      },
      "source": [
        "b = [3, 4]\n",
        "a = [1, 2, b, 5, 6] # List b is added to list a\n",
        "b[0] = -1           # a values is assigned index 0 in b\n",
        "\n",
        "print(b)\n",
        "print(a)"
      ],
      "execution_count": null,
      "outputs": [
        {
          "output_type": "stream",
          "name": "stdout",
          "text": [
            "[-1, 4]\n",
            "[1, 2, [-1, 4], 5, 6]\n"
          ]
        }
      ]
    },
    {
      "cell_type": "markdown",
      "metadata": {
        "id": "2ddZ9PfQrmhh"
      },
      "source": [
        "In the example, the value in the list a also changes when b is assigned, which is illustrated in the following figure:\n",
        "\n",
        "![variable references 1](https://github.com/jonaslindemann/guide_to_python/blob/master/chapters/kapitel3/notebooks/images/variable6.png?raw=1)"
      ]
    },
    {
      "cell_type": "markdown",
      "metadata": {
        "id": "81u75NXMrmhn"
      },
      "source": [
        "If you do not want this effect, you can use the **.copy()** method to make a copy of the list you add."
      ]
    },
    {
      "cell_type": "code",
      "metadata": {
        "id": "GJpUGgG7rmho",
        "colab": {
          "base_uri": "https://localhost:8080/"
        },
        "outputId": "e7354f51-20c7-4c7e-8df8-a9e04399d0e0"
      },
      "source": [
        "b = [3, 4]\n",
        "a = [1, 2, b.copy(), 5, 6]\n",
        "\n",
        "b[0] = -1\n",
        "\n",
        "print(b)\n",
        "print(a)"
      ],
      "execution_count": null,
      "outputs": [
        {
          "output_type": "stream",
          "name": "stdout",
          "text": [
            "[-1, 4]\n",
            "[1, 2, [3, 4], 5, 6]\n"
          ]
        }
      ]
    },
    {
      "cell_type": "markdown",
      "metadata": {
        "id": "Sxb5-gDOrmhr"
      },
      "source": [
        "The memory layout after the assignments is shown in the following figure:\n",
        "\n",
        "![variable references 1](https://github.com/jonaslindemann/guide_to_python/blob/master/chapters/kapitel3/notebooks/images/variable7.png?raw=1)"
      ]
    },
    {
      "cell_type": "markdown",
      "metadata": {
        "id": "x6o3akxG08-y"
      },
      "source": [
        "## Tuples\n",
        "\n",
        "Tuples is a special form of list. However, there are some properties that make it different from a list:\n",
        "\n",
        "* A Tuple is ordered.\n",
        "* A Tuple can't be changed (immutable).\n",
        "* Tuples are surrounded by parentesis (1, 2, 3)\n",
        "* Iteration is faster than lists. \n",
        "\n",
        "Tuples are accessed in the same way as lists using the []-operator."
      ]
    },
    {
      "cell_type": "code",
      "metadata": {
        "id": "hBd2aMYn1s97",
        "colab": {
          "base_uri": "https://localhost:8080/"
        },
        "outputId": "eed363ce-bb1e-45f7-9053-58d8a74a1513"
      },
      "source": [
        "a = (4, 6, 3, 7, 9, 'hello')\n",
        "print(a)\n",
        "print(a[2])"
      ],
      "execution_count": null,
      "outputs": [
        {
          "output_type": "stream",
          "name": "stdout",
          "text": [
            "(4, 6, 3, 7, 9, 'hello')\n",
            "3\n"
          ]
        }
      ]
    },
    {
      "cell_type": "code",
      "metadata": {
        "id": "9sqH21zb1-3i",
        "colab": {
          "base_uri": "https://localhost:8080/",
          "height": 166
        },
        "outputId": "78541e3f-cfad-4d3e-9c78-a4d949cc88b4"
      },
      "source": [
        "a[0] = 42"
      ],
      "execution_count": null,
      "outputs": [
        {
          "output_type": "error",
          "ename": "TypeError",
          "evalue": "ignored",
          "traceback": [
            "\u001b[0;31m---------------------------------------------------------------------------\u001b[0m",
            "\u001b[0;31mTypeError\u001b[0m                                 Traceback (most recent call last)",
            "\u001b[0;32m<ipython-input-42-1648fad9c8fa>\u001b[0m in \u001b[0;36m<module>\u001b[0;34m\u001b[0m\n\u001b[0;32m----> 1\u001b[0;31m \u001b[0ma\u001b[0m\u001b[0;34m[\u001b[0m\u001b[0;36m0\u001b[0m\u001b[0;34m]\u001b[0m \u001b[0;34m=\u001b[0m \u001b[0;36m42\u001b[0m\u001b[0;34m\u001b[0m\u001b[0;34m\u001b[0m\u001b[0m\n\u001b[0m",
            "\u001b[0;31mTypeError\u001b[0m: 'tuple' object does not support item assignment"
          ]
        }
      ]
    },
    {
      "cell_type": "markdown",
      "metadata": {
        "id": "_x_h9HY62cg0"
      },
      "source": [
        "Consider the following statements:"
      ]
    },
    {
      "cell_type": "code",
      "metadata": {
        "id": "s6x6FKGc2Eug",
        "colab": {
          "base_uri": "https://localhost:8080/"
        },
        "outputId": "4447c98d-4789-4b45-b988-f2d3e89dc022"
      },
      "source": [
        "a = a + (42,)\n",
        "print(a)"
      ],
      "execution_count": null,
      "outputs": [
        {
          "output_type": "stream",
          "name": "stdout",
          "text": [
            "(4, 6, 3, 7, 9, 'hello', 42)\n"
          ]
        }
      ]
    },
    {
      "cell_type": "markdown",
      "metadata": {
        "id": "7L-XM9HN2kLP"
      },
      "source": [
        "Does this append to a tuple? \n",
        "\n",
        "Line 1 above creates a **new** tuple from to separate tuples. **a** is essentially a new tuple."
      ]
    },
    {
      "cell_type": "markdown",
      "metadata": {
        "id": "POVoq1KFrmhu"
      },
      "source": [
        "## Strings"
      ]
    },
    {
      "cell_type": "markdown",
      "metadata": {
        "id": "36Vtn9cRrmhu"
      },
      "source": [
        "* Stores sequences of letters.\n",
        "* Many ways to create strings in Python.\n",
        "* Strings cannot be changed when created (Immutable)"
      ]
    },
    {
      "cell_type": "code",
      "metadata": {
        "id": "S1zjVNBtrmhu",
        "colab": {
          "base_uri": "https://localhost:8080/"
        },
        "outputId": "59fcb81e-3fb0-4848-9255-c6e295f126df"
      },
      "source": [
        "full_name = \"Guido van Rossum\"\n",
        "print(full_name)"
      ],
      "execution_count": null,
      "outputs": [
        {
          "output_type": "stream",
          "name": "stdout",
          "text": [
            "Guido van Rossum\n"
          ]
        }
      ]
    },
    {
      "cell_type": "code",
      "metadata": {
        "id": "8hm6MVnjrmhx",
        "colab": {
          "base_uri": "https://localhost:8080/"
        },
        "outputId": "6720b19d-7946-434e-ba57-d8dfbb206163"
      },
      "source": [
        "full_name = 'Guido van Rossum'\n",
        "print(full_name)"
      ],
      "execution_count": null,
      "outputs": [
        {
          "output_type": "stream",
          "name": "stdout",
          "text": [
            "Guido van Rossum\n"
          ]
        }
      ]
    },
    {
      "cell_type": "markdown",
      "metadata": {
        "id": "SDeB606Urmhz"
      },
      "source": [
        "If you need to use a particular quote character in a string, simply use the second quote character as a delimiter."
      ]
    },
    {
      "cell_type": "code",
      "metadata": {
        "id": "Xlfkemhkrmh0",
        "colab": {
          "base_uri": "https://localhost:8080/"
        },
        "outputId": "126235ec-2776-4f99-8825-a9a86e06c698"
      },
      "source": [
        "title = \"don't give up\"\n",
        "print(title)"
      ],
      "execution_count": null,
      "outputs": [
        {
          "output_type": "stream",
          "name": "stdout",
          "text": [
            "don't give up\n"
          ]
        }
      ]
    },
    {
      "cell_type": "code",
      "metadata": {
        "id": "6jDCnhGBrmh2",
        "colab": {
          "base_uri": "https://localhost:8080/"
        },
        "outputId": "4c08606c-3154-4910-cf2e-f15d971f4189"
      },
      "source": [
        "sentence = 'He used the \"Aguamenti\" spell.'\n",
        "print(sentence)"
      ],
      "execution_count": null,
      "outputs": [
        {
          "output_type": "stream",
          "name": "stdout",
          "text": [
            "He used the \"Aguamenti\" spell.\n"
          ]
        }
      ]
    },
    {
      "cell_type": "markdown",
      "metadata": {
        "id": "o24ElnXtrmiF"
      },
      "source": [
        "Special control characters can be used to create special characters in a string. Some of these are shown in the following table:\n",
        "\n",
        "![variable references 1](https://github.com/jonaslindemann/guide_to_python/blob/master/chapters/kapitel3/notebooks/images/strings1.png?raw=1)"
      ]
    },
    {
      "cell_type": "code",
      "metadata": {
        "id": "CGaKTIG2rmiF",
        "colab": {
          "base_uri": "https://localhost:8080/"
        },
        "outputId": "2a90f080-8b41-4c24-857c-8e992e733ea5"
      },
      "source": [
        "full_name = \"Guido van Rossum\\nPython Creator\" # Newline control character\n",
        "print(full_name)"
      ],
      "execution_count": null,
      "outputs": [
        {
          "output_type": "stream",
          "name": "stdout",
          "text": [
            "Guido van Rossum\n",
            "Python Creator\n"
          ]
        }
      ]
    },
    {
      "cell_type": "markdown",
      "metadata": {
        "id": "k1nD2q4jrmiI"
      },
      "source": [
        "Sometimes it may be desirable that Python does not interpret any control characters in the string. This can be achieved with so-called raw strands. These are indicated by the **r** prefix."
      ]
    },
    {
      "cell_type": "code",
      "metadata": {
        "id": "7g32xVWKrmiJ",
        "colab": {
          "base_uri": "https://localhost:8080/"
        },
        "outputId": "16a89a89-ac0b-4e2e-8127-809f8ec7013e"
      },
      "source": [
        "raw_string = r\"Row1\\nRow2\"\n",
        "std_string = \"Row1\\nRow2\"\n",
        "print(raw_string)\n",
        "print(std_string)"
      ],
      "execution_count": null,
      "outputs": [
        {
          "output_type": "stream",
          "name": "stdout",
          "text": [
            "Row1\\nRow2\n",
            "Row1\n",
            "Row2\n"
          ]
        }
      ]
    },
    {
      "cell_type": "markdown",
      "metadata": {
        "id": "EzBh16_KrmiL"
      },
      "source": [
        "Another option for specifying more precisely how a string should be constructed is to use triple-quoted strings. These strings are interpreted by the control characters used when the string was created. Best illustrated with an example:"
      ]
    },
    {
      "cell_type": "code",
      "metadata": {
        "id": "rMLrHHE6rmiM",
        "colab": {
          "base_uri": "https://localhost:8080/"
        },
        "outputId": "018ced52-fd07-416c-e040-f2d5b67f1d20"
      },
      "source": [
        "full_name = \"\"\"Guido van Rossum\n",
        "Python Creator\n",
        "Python är fantastiskt\"\"\"\n",
        "print(full_name)"
      ],
      "execution_count": null,
      "outputs": [
        {
          "output_type": "stream",
          "name": "stdout",
          "text": [
            "Guido van Rossum\n",
            "    Python Creator\n",
            "Python är fantastiskt\n"
          ]
        }
      ]
    },
    {
      "cell_type": "markdown",
      "metadata": {
        "id": "En5RA4ojrmiO"
      },
      "source": [
        "In the example, the line breaks given when the string is assigned are retained."
      ]
    },
    {
      "cell_type": "markdown",
      "metadata": {
        "id": "Dt2I4jn_rmiP"
      },
      "source": [
        "### Length of strings"
      ]
    },
    {
      "cell_type": "markdown",
      "metadata": {
        "id": "mm28gH6frmiQ"
      },
      "source": [
        "The length of a string can be obtained by using the generic function **len()**, which is also can be used for lists:"
      ]
    },
    {
      "cell_type": "code",
      "metadata": {
        "id": "TwPXolf6rmiQ",
        "colab": {
          "base_uri": "https://localhost:8080/"
        },
        "outputId": "40c1a033-faad-45c0-e36d-abcd0d269f59"
      },
      "source": [
        "s1 = \"Detta är en sträng\"\n",
        "s2 = \"Detta är en längre sträng\"\n",
        "\n",
        "print(s1, len(s1))\n",
        "print(s2, len(s2))"
      ],
      "execution_count": null,
      "outputs": [
        {
          "output_type": "stream",
          "name": "stdout",
          "text": [
            "Detta är en sträng 18\n",
            "Detta är en längre sträng 25\n"
          ]
        }
      ]
    },
    {
      "cell_type": "markdown",
      "metadata": {
        "id": "O6UPAdEIrmiW"
      },
      "source": [
        "### Concatenating strings"
      ]
    },
    {
      "cell_type": "markdown",
      "metadata": {
        "id": "ztgjMHFPrmiW"
      },
      "source": [
        "\\+ operator can be used to put together new strings of existing ones:\n"
      ]
    },
    {
      "cell_type": "code",
      "metadata": {
        "id": "jrNwOnaOrmiX",
        "colab": {
          "base_uri": "https://localhost:8080/"
        },
        "outputId": "97198d48-d1ff-4e7d-ed61-d4c77d22ec07"
      },
      "source": [
        "s1 = \"Det är kul med \"\n",
        "s2 = \"Python\"\n",
        "\n",
        "s3 = s1 + s2\n",
        "\n",
        "print(s3)"
      ],
      "execution_count": null,
      "outputs": [
        {
          "output_type": "stream",
          "name": "stdout",
          "text": [
            "Det är kul med Python\n"
          ]
        }
      ]
    },
    {
      "cell_type": "markdown",
      "metadata": {
        "id": "yqeOxVkzrmiZ"
      },
      "source": [
        "### Repeating strings"
      ]
    },
    {
      "cell_type": "markdown",
      "metadata": {
        "id": "4LhCBwEkrmia"
      },
      "source": [
        "\\* operator can be used to repeat a string a number of times to create longer strings."
      ]
    },
    {
      "cell_type": "code",
      "metadata": {
        "id": "RcvWs44krmia",
        "colab": {
          "base_uri": "https://localhost:8080/"
        },
        "outputId": "feb515c2-90aa-4ec0-a2d6-9757fc2d613b"
      },
      "source": [
        "s1 = \"Detta är en sträng vi vill stryka under\"\n",
        "s2 = \"-\" * len(s1)\n",
        "\n",
        "print(s1)\n",
        "print(s2)"
      ],
      "execution_count": null,
      "outputs": [
        {
          "output_type": "stream",
          "name": "stdout",
          "text": [
            "Detta är en sträng vi vill stryka under\n",
            "---------------------------------------\n"
          ]
        }
      ]
    },
    {
      "cell_type": "markdown",
      "metadata": {
        "id": "g4wxdKaFrmid"
      },
      "source": [
        "### Splitting strings"
      ]
    },
    {
      "cell_type": "markdown",
      "metadata": {
        "id": "4HhHNhBFrmie"
      },
      "source": [
        "The string data type has a method, **.split()**, which can be used to split strings into smaller parts:"
      ]
    },
    {
      "cell_type": "code",
      "metadata": {
        "id": "soZ1copIrmie",
        "colab": {
          "base_uri": "https://localhost:8080/"
        },
        "outputId": "d117b32b-acee-4b4b-9fb5-caefc0fd4f1e"
      },
      "source": [
        "s = \"Detta är en mening med en mängd ord!\"\n",
        "\n",
        "ord_lista = s.split()\n",
        "\n",
        "print(ord_lista)"
      ],
      "execution_count": null,
      "outputs": [
        {
          "output_type": "stream",
          "name": "stdout",
          "text": [
            "['Detta', 'är', 'en', 'mening', 'med', 'en', 'mängd', 'ord!']\n"
          ]
        }
      ]
    },
    {
      "cell_type": "markdown",
      "metadata": {
        "id": "9a1fqACHrmig"
      },
      "source": [
        "The argument to the function specifies which character should split the string."
      ]
    },
    {
      "cell_type": "code",
      "metadata": {
        "id": "Pk2ja4z8rmig",
        "colab": {
          "base_uri": "https://localhost:8080/"
        },
        "outputId": "6a700cd6-2a0c-44fb-a820-8ac1a95ccbd4"
      },
      "source": [
        "s = \"123, 456, 123, 35456, 12, 34\"\n",
        "\n",
        "delar = s.split(\",\")\n",
        "\n",
        "print(delar)"
      ],
      "execution_count": null,
      "outputs": [
        {
          "output_type": "stream",
          "name": "stdout",
          "text": [
            "['123', ' 456', ' 123', ' 35456', ' 12', ' 34']\n"
          ]
        }
      ]
    },
    {
      "cell_type": "markdown",
      "metadata": {
        "id": "u0L2fegcrmii"
      },
      "source": [
        "### Creating strings from lists"
      ]
    },
    {
      "cell_type": "markdown",
      "metadata": {
        "id": "NMwVMIBOrmii"
      },
      "source": [
        "If you have lists of strings, you can combine them into strings using the **.join()** method."
      ]
    },
    {
      "cell_type": "code",
      "metadata": {
        "id": "jTvWULWormik",
        "colab": {
          "base_uri": "https://localhost:8080/"
        },
        "outputId": "aed12bb6-10b1-4967-ff01-a47d21058753"
      },
      "source": [
        "list_of_strings = [\"Detta\", \"är\", \"en\", \"lista\", \"med\", \"ord\"]\n",
        "list_of_things = [\"tree\", \"house\", \"pencil\", \"eraser\"]\n",
        "\n",
        "s1 = \" \".join(list_of_strings) # Append with spaces\n",
        "s2 = \",\".join(list_of_things)  # Append with comma\n",
        "s3 = \"\".join(list_of_things)   # Append withou spacing.\n",
        "\n",
        "print(s1)\n",
        "print(s2)\n",
        "print(s3)"
      ],
      "execution_count": null,
      "outputs": [
        {
          "output_type": "stream",
          "name": "stdout",
          "text": [
            "Detta är en lista med ord\n",
            "tree,house,pencil,eraser\n",
            "treehousepencileraser\n"
          ]
        }
      ]
    },
    {
      "cell_type": "markdown",
      "metadata": {
        "id": "EDJHv9tqrmir"
      },
      "source": [
        "### Searching strings"
      ]
    },
    {
      "cell_type": "markdown",
      "metadata": {
        "id": "OoNzUSVlrmir"
      },
      "source": [
        "A very common operation on strings is to check if a sub string is found in a string. This is most easily done with the operator **in**. If the sub string is found in the string, **returns** **True** otherwise **False**."
      ]
    },
    {
      "cell_type": "code",
      "metadata": {
        "id": "cNGEbId6rmis",
        "colab": {
          "base_uri": "https://localhost:8080/"
        },
        "outputId": "e65d62d9-d23f-4ffe-d92f-61f137a6b16a"
      },
      "source": [
        "s = \"Far far away, behind the word mountains, far from the countries \" \\\n",
        "\"Vokalia and Consonantia, there live the blind texts. Separated they \" \\\n",
        "\"live in Bookmarksgrove right at the coast of the Semantics, a large \" \\\n",
        "\"language ocean.\"\n",
        "print(\"Vokalia\" in s)"
      ],
      "execution_count": null,
      "outputs": [
        {
          "output_type": "stream",
          "name": "stdout",
          "text": [
            "True\n"
          ]
        }
      ]
    },
    {
      "cell_type": "markdown",
      "metadata": {
        "id": "pFZNGxTcrmiu"
      },
      "source": [
        "Another option is to use the **.find()** method, which also returns the location of where the string is found."
      ]
    },
    {
      "cell_type": "code",
      "metadata": {
        "id": "z9NfAJJzrmiu",
        "colab": {
          "base_uri": "https://localhost:8080/"
        },
        "outputId": "d17c2cb6-f441-41a0-8355-0b72c51ee826"
      },
      "source": [
        "s = \"Far far away, behind the word mountains, far from the countries \" \\\n",
        "\"Vokalia and Consonantia, there live the blind texts. Separated they \" \\\n",
        "\"live in Bookmarksgrove right at the coast of the Semantics, a large \" \\\n",
        "\"language ocean.\"\n",
        "pos = s.find(\"far\")\n",
        "print(pos)\n",
        "\n",
        "pos = s.find(\"far\", pos+1)\n",
        "print(pos)\n",
        "\n",
        "pos = s.find(\"python\")\n",
        "print(pos)"
      ],
      "execution_count": null,
      "outputs": [
        {
          "output_type": "stream",
          "name": "stdout",
          "text": [
            "4\n",
            "41\n",
            "-1\n"
          ]
        }
      ]
    },
    {
      "cell_type": "markdown",
      "metadata": {
        "id": "G_zO1LEcrmi-"
      },
      "source": [
        "### Stripping leading and trailing spaces"
      ]
    },
    {
      "cell_type": "markdown",
      "metadata": {
        "id": "ydv9-sztrmi_"
      },
      "source": [
        "In many cases when reading data from files, the lines often contain extra spaces that need to be cleared. This can be done with the **.strip()** method."
      ]
    },
    {
      "cell_type": "code",
      "metadata": {
        "id": "rp7mMzoirmjA",
        "colab": {
          "base_uri": "https://localhost:8080/"
        },
        "outputId": "7f707f7f-e206-4c72-8557-7462bf7e3c37"
      },
      "source": [
        "s1 = \"     Detta är en sträng med extra utrymme. \"\n",
        "s2 = s1.strip()\n",
        "\n",
        "print(\">\" + s1 + \"<\")\n",
        "print(\">\" + s2 + \"<\")"
      ],
      "execution_count": null,
      "outputs": [
        {
          "output_type": "stream",
          "name": "stdout",
          "text": [
            ">     Detta är en sträng med extra utrymme. <\n",
            ">Detta är en sträng med extra utrymme.<\n"
          ]
        }
      ]
    },
    {
      "cell_type": "markdown",
      "metadata": {
        "id": "hsVoE1HjrmjC"
      },
      "source": [
        "There is the special version of this method that cleans the right and left sides of the string, respectively:"
      ]
    },
    {
      "cell_type": "code",
      "metadata": {
        "id": "wgGk22XdrmjD",
        "colab": {
          "base_uri": "https://localhost:8080/"
        },
        "outputId": "5f06ec83-924a-4c92-e3a5-0b470dd96ef1"
      },
      "source": [
        "s1 = \" Detta är en sträng med extra utrymme. \"\n",
        "s2 = s1.rstrip()\n",
        "\n",
        "print(\">\" + s1 + \"<\")\n",
        "print(\">\" + s2 + \"<\")"
      ],
      "execution_count": null,
      "outputs": [
        {
          "output_type": "stream",
          "name": "stdout",
          "text": [
            "> Detta är en sträng med extra utrymme. <\n",
            "> Detta är en sträng med extra utrymme.<\n"
          ]
        }
      ]
    },
    {
      "cell_type": "code",
      "metadata": {
        "id": "PNk1gYTnrmjH",
        "colab": {
          "base_uri": "https://localhost:8080/"
        },
        "outputId": "9563385b-21fe-4ad8-d61f-81cf3a940021"
      },
      "source": [
        "s1 = \" Detta är en sträng med extra utrymme. \"\n",
        "s2 = s1.lstrip()\n",
        "\n",
        "print(\">\" + s1 + \"<\")\n",
        "print(\">\" + s2 + \"<\")"
      ],
      "execution_count": null,
      "outputs": [
        {
          "output_type": "stream",
          "name": "stdout",
          "text": [
            "> Detta är en sträng med extra utrymme. <\n",
            ">Detta är en sträng med extra utrymme. <\n"
          ]
        }
      ]
    },
    {
      "cell_type": "markdown",
      "metadata": {
        "id": "5kHYbSXjrmjI"
      },
      "source": [
        "## Querying the underlying datatype of a variable reference"
      ]
    },
    {
      "cell_type": "markdown",
      "metadata": {
        "id": "IBeqH5JurmjJ"
      },
      "source": [
        "In some cases, you are interested in finding out the underlying data type that a variable refers to. This can be done using the **type()** function, which prints the actual data type."
      ]
    },
    {
      "cell_type": "code",
      "metadata": {
        "id": "JFeXrFYdrmjK",
        "colab": {
          "base_uri": "https://localhost:8080/"
        },
        "outputId": "c35e955d-7e13-425c-caa6-18d35216ab1b"
      },
      "source": [
        "a = 42\n",
        "b = 42.0\n",
        "c = True\n",
        "d = 'Hejsan'\n",
        "print(type(a))\n",
        "print(type(b))\n",
        "print(type(c))\n",
        "print(type(d))"
      ],
      "execution_count": null,
      "outputs": [
        {
          "output_type": "stream",
          "name": "stdout",
          "text": [
            "<class 'int'>\n",
            "<class 'float'>\n",
            "<class 'bool'>\n",
            "<class 'str'>\n"
          ]
        }
      ]
    },
    {
      "cell_type": "markdown",
      "metadata": {
        "id": "X0HYJBT-rmjL"
      },
      "source": [
        "## Dictionaries"
      ]
    },
    {
      "cell_type": "markdown",
      "metadata": {
        "id": "t4MkxuEPrmjM"
      },
      "source": [
        "Dictionaries in Python are a special form of data type where data is stored in key / value pairs. Finding a key in a dictionary is usually a quick operation.\n",
        "\n",
        "Dictionaries use \"curly\" brackets, \\ {\\} instead of [] to define the content.\n",
        "\n",
        "An empty dictionary is created with the following code:"
      ]
    },
    {
      "cell_type": "code",
      "metadata": {
        "id": "FMtbcm3VrmjM"
      },
      "source": [
        "values = {}"
      ],
      "execution_count": null,
      "outputs": []
    },
    {
      "cell_type": "markdown",
      "metadata": {
        "id": "ctzwCdhbrmjP"
      },
      "source": [
        "Initial values can be assigned by listing key / value pairs separately with commas. The value pair is specified with the notation *key:value* notation."
      ]
    },
    {
      "cell_type": "code",
      "metadata": {
        "id": "khPMN0T5rmjP",
        "colab": {
          "base_uri": "https://localhost:8080/"
        },
        "outputId": "1be68e6a-2866-4444-f2c9-6e2af01c4fe9"
      },
      "source": [
        "values = {\n",
        "    \"Petra\":\"9046112\", \"David\":\"1234145\",\n",
        "    \"Olle\":\"534532\"\n",
        "}\n",
        "print(values)"
      ],
      "execution_count": null,
      "outputs": [
        {
          "output_type": "stream",
          "name": "stdout",
          "text": [
            "{'Petra': '9046112', 'David': '1234145', 'Olle': '534532'}\n"
          ]
        }
      ]
    },
    {
      "cell_type": "markdown",
      "metadata": {
        "id": "MU3yb7PMrmjV"
      },
      "source": [
        "The values in a dictionary are reached by using \\[and \\], although the index value is replaced by the key value."
      ]
    },
    {
      "cell_type": "code",
      "metadata": {
        "id": "oIkjN7CyrmjW",
        "colab": {
          "base_uri": "https://localhost:8080/"
        },
        "outputId": "29345334-5b0f-4e5f-91b5-bd72e5baea59"
      },
      "source": [
        "print(values[\"David\"])\n",
        "print(values[\"Petra\"])"
      ],
      "execution_count": null,
      "outputs": [
        {
          "output_type": "stream",
          "name": "stdout",
          "text": [
            "1234145\n",
            "9046112\n"
          ]
        }
      ]
    },
    {
      "cell_type": "markdown",
      "metadata": {
        "id": "tiEnLdkTrmjY"
      },
      "source": [
        "Assigning values in a dictionary is done in the same way as assigning lists. The index value is now instead the key value:"
      ]
    },
    {
      "cell_type": "code",
      "metadata": {
        "id": "tZkvOw-VrmjY",
        "colab": {
          "base_uri": "https://localhost:8080/"
        },
        "outputId": "b67c1c0d-bf4a-4357-d68a-c856d7bf7cff"
      },
      "source": [
        "values[\"Peter\"] = \"734847\"\n",
        "print(values)"
      ],
      "execution_count": null,
      "outputs": [
        {
          "output_type": "stream",
          "name": "stdout",
          "text": [
            "{'Petra': '9046112', 'David': '1234145', 'Olle': '534532', 'Peter': '734847'}\n"
          ]
        }
      ]
    },
    {
      "cell_type": "markdown",
      "metadata": {
        "id": "urxsuxy4rmjc"
      },
      "source": [
        "### Finding values in a dictionary"
      ]
    },
    {
      "cell_type": "markdown",
      "metadata": {
        "id": "7HDsUIh6rmjd"
      },
      "source": [
        "Similar to lists, you can check if a particular key is in a dictionary by using the **in** operator. If the key is in the lookup list, **True** is returned, otherwise **False** is returned."
      ]
    },
    {
      "cell_type": "code",
      "metadata": {
        "id": "shUxrBivrmje",
        "colab": {
          "base_uri": "https://localhost:8080/"
        },
        "outputId": "28f13f3a-ea7d-431b-ecf8-3b230cbfe443"
      },
      "source": [
        "idx = {\n",
        "    'Olle': '534532',\n",
        "    'David': '1234145',\n",
        "    'Petra': '9046112'\n",
        "}\n",
        "print('Petra' in idx)\n",
        "print('Bosse' in idx)"
      ],
      "execution_count": null,
      "outputs": [
        {
          "output_type": "stream",
          "name": "stdout",
          "text": [
            "True\n",
            "False\n"
          ]
        }
      ]
    },
    {
      "cell_type": "markdown",
      "metadata": {
        "id": "Qo__uGskrmjg"
      },
      "source": [
        "### Number of values in a dictionary"
      ]
    },
    {
      "cell_type": "markdown",
      "metadata": {
        "id": "6gc329Wermjg"
      },
      "source": [
        "As before, the number of values in a dictionary can be obtained by the function **len()**."
      ]
    },
    {
      "cell_type": "code",
      "metadata": {
        "id": "Z4wYsB_krmjg",
        "colab": {
          "base_uri": "https://localhost:8080/"
        },
        "outputId": "9294a919-e667-4060-fc98-fa86c0bb3518"
      },
      "source": [
        "print(len(values))"
      ],
      "execution_count": null,
      "outputs": [
        {
          "output_type": "stream",
          "name": "stdout",
          "text": [
            "4\n"
          ]
        }
      ]
    },
    {
      "cell_type": "markdown",
      "metadata": {
        "id": "AJA4izfyrmji"
      },
      "source": [
        "### Adding values to a dictionary"
      ]
    },
    {
      "cell_type": "markdown",
      "metadata": {
        "id": "hE9QQOqgrmji"
      },
      "source": [
        "Values can be added to a list by assigning values to keys:"
      ]
    },
    {
      "cell_type": "code",
      "metadata": {
        "id": "xzINGU_yrmjj"
      },
      "source": [
        "values[\"Guido\"] = \"187493\"\n",
        "print(values)"
      ],
      "execution_count": null,
      "outputs": []
    },
    {
      "cell_type": "markdown",
      "metadata": {
        "id": "3xqMq20grmjm"
      },
      "source": [
        "### Nested dictionaries"
      ]
    },
    {
      "cell_type": "markdown",
      "metadata": {
        "id": "pUvcGnC-rmjn"
      },
      "source": [
        "Similar to lists, dictionaries can also be nested and contain several different types of data structures:"
      ]
    },
    {
      "cell_type": "code",
      "metadata": {
        "id": "nhZebrGzrmjn",
        "colab": {
          "base_uri": "https://localhost:8080/"
        },
        "outputId": "ba2daefe-cd09-47b2-d8d8-6b271d1fc7cc"
      },
      "source": [
        "config = {\n",
        "    \"general\":\n",
        "        {\n",
        "            \"username\":\"olle\",\n",
        "            \"temp_path\":\"C:\\\\TEMP\"\n",
        "        },\n",
        "    \"constants\":\n",
        "        {\n",
        "            \"pi\":3.14159,\n",
        "            \"g\":9.82\n",
        "        },\n",
        "    \"items\":\n",
        "        {\n",
        "            \"values\": [1, 2, 3, 4, 5]\n",
        "        }\n",
        "}\n",
        "\n",
        "print(config[\"general\"][\"username\"])\n",
        "print(config[\"constants\"][\"pi\"])\n",
        "print(config[\"items\"][\"values\"][1])"
      ],
      "execution_count": null,
      "outputs": [
        {
          "output_type": "stream",
          "name": "stdout",
          "text": [
            "olle\n",
            "3.14159\n",
            "2\n"
          ]
        }
      ]
    },
    {
      "cell_type": "markdown",
      "metadata": {
        "id": "LEi8PfrLHYkY"
      },
      "source": [
        "\n",
        "\n",
        "---\n",
        "# Short assignments\n",
        "\n",
        "\n",
        "\n",
        "\n"
      ]
    },
    {
      "cell_type": "markdown",
      "metadata": {
        "id": "6A_aw0c5H4sV"
      },
      "source": [
        "## Task 1\n",
        "\n",
        "Create a integer variable i with the value 47"
      ]
    },
    {
      "cell_type": "code",
      "metadata": {
        "id": "ZeqgQb06H_ic"
      },
      "source": [
        "i=47"
      ],
      "execution_count": null,
      "outputs": []
    },
    {
      "cell_type": "markdown",
      "metadata": {
        "id": "GWhpp-QMIAam"
      },
      "source": [
        "## Task 2\n",
        "\n",
        "Create a string variable, name, and assign it the string \"It is fun with Python\"."
      ]
    },
    {
      "cell_type": "code",
      "metadata": {
        "id": "9rKpLmeGIKE8"
      },
      "source": [],
      "execution_count": null,
      "outputs": []
    },
    {
      "cell_type": "markdown",
      "metadata": {
        "id": "6wvw55pWIN6_"
      },
      "source": [
        "## Task 3\n",
        "\n",
        "Create a variable a with the value 42.0. Use the print-statement to print the value of a."
      ]
    },
    {
      "cell_type": "code",
      "metadata": {
        "id": "sA6ibrwYIWi2"
      },
      "source": [],
      "execution_count": null,
      "outputs": []
    },
    {
      "cell_type": "markdown",
      "metadata": {
        "id": "kQpEvCZOIXLP"
      },
      "source": [
        "## Task 4\n",
        "\n",
        "Create a list variabel, l, containing the values 4, 6, 32."
      ]
    },
    {
      "cell_type": "code",
      "metadata": {
        "id": "Iq1yFul9IfLi"
      },
      "source": [],
      "execution_count": null,
      "outputs": []
    },
    {
      "cell_type": "markdown",
      "metadata": {
        "id": "wkjN-fLgIgrd"
      },
      "source": [
        "## Task 5\n",
        "\n",
        "We have the following list:\n",
        "\n",
        "```python\n",
        "l = ['a', 2, 7, 3.0, 4.5]\n",
        "```\n",
        "\n",
        "Use the print-statement to print the last item without specifying the index of the last value. "
      ]
    },
    {
      "cell_type": "code",
      "metadata": {
        "id": "vHkVH5G5JhqA"
      },
      "source": [],
      "execution_count": null,
      "outputs": []
    },
    {
      "cell_type": "markdown",
      "metadata": {
        "id": "kb7wNPngIiWE"
      },
      "source": [
        "\n",
        "\n",
        "---\n",
        "\n",
        "\n",
        "\n"
      ]
    },
    {
      "cell_type": "markdown",
      "metadata": {
        "id": "QXtPpHSDrmjp"
      },
      "source": [
        "# Loops and conditional statements"
      ]
    },
    {
      "cell_type": "markdown",
      "metadata": {
        "id": "PGjQvy_frmjp"
      },
      "source": [
        "## Code blocks in Python"
      ]
    },
    {
      "cell_type": "markdown",
      "metadata": {
        "id": "1kfaXEQOrmjp"
      },
      "source": [
        "In Python statements are grouped in codeblocks by the structure of the source file. A group of statements in considered grouped if it is proceeded by a : and the following statements are indented."
      ]
    },
    {
      "cell_type": "code",
      "metadata": {
        "id": "jJtmYgc1rmjr",
        "colab": {
          "base_uri": "https://localhost:8080/"
        },
        "outputId": "e6d87b7c-f290-4834-9e5b-901788a378db"
      },
      "source": [
        "for i in range(5): # Markerar start av kodblock\n",
        "    print(i)       # Indraget kodblock.\n",
        "\n",
        "print(\"Denna sats tillhör inte kodblocket\")"
      ],
      "execution_count": null,
      "outputs": [
        {
          "output_type": "stream",
          "name": "stdout",
          "text": [
            "0\n",
            "1\n",
            "2\n",
            "3\n",
            "4\n",
            "Denna sats tillhör inte kodblocket\n"
          ]
        }
      ]
    },
    {
      "cell_type": "markdown",
      "metadata": {
        "id": "qxAR-GeZrmjt"
      },
      "source": [
        "## Loops"
      ]
    },
    {
      "cell_type": "markdown",
      "metadata": {
        "id": "YK-ox5LRrmju"
      },
      "source": [
        "### Repeating a code block a given number of times - for"
      ]
    },
    {
      "cell_type": "code",
      "metadata": {
        "id": "jxVbv0s5rmju",
        "colab": {
          "base_uri": "https://localhost:8080/"
        },
        "outputId": "aebc1265-b339-4fe7-fe1e-50e7121b921a"
      },
      "source": [
        "for i in range(10):  # Sekvens 0 - 9\n",
        "    print(i)"
      ],
      "execution_count": null,
      "outputs": [
        {
          "output_type": "stream",
          "name": "stdout",
          "text": [
            "0\n",
            "1\n",
            "2\n",
            "3\n",
            "4\n",
            "5\n",
            "6\n",
            "7\n",
            "8\n",
            "9\n"
          ]
        }
      ]
    },
    {
      "cell_type": "code",
      "metadata": {
        "id": "-XU-A9oHrmjw",
        "colab": {
          "base_uri": "https://localhost:8080/"
        },
        "outputId": "df072673-af43-43c9-e4ac-d4d0e91ecaa6"
      },
      "source": [
        "for i in range(5, 11): # Sekvens 5 - 10\n",
        "    print(i)"
      ],
      "execution_count": null,
      "outputs": [
        {
          "output_type": "stream",
          "name": "stdout",
          "text": [
            "5\n",
            "6\n",
            "7\n",
            "8\n",
            "9\n",
            "10\n"
          ]
        }
      ]
    },
    {
      "cell_type": "code",
      "metadata": {
        "id": "DaV37oJMrmjz",
        "colab": {
          "base_uri": "https://localhost:8080/"
        },
        "outputId": "8a9190cc-7286-4934-a172-1c7e4f3b2309"
      },
      "source": [
        "for i in range(5,21,3): # Sekvens med steglängd 3\n",
        "    print(i)"
      ],
      "execution_count": null,
      "outputs": [
        {
          "output_type": "stream",
          "name": "stdout",
          "text": [
            "5\n",
            "8\n",
            "11\n",
            "14\n",
            "17\n",
            "20\n"
          ]
        }
      ]
    },
    {
      "cell_type": "markdown",
      "metadata": {
        "id": "V1ucTOJprmj0"
      },
      "source": [
        "### Iterating over a list"
      ]
    },
    {
      "cell_type": "code",
      "metadata": {
        "id": "cUUPWPMYrmj0",
        "colab": {
          "base_uri": "https://localhost:8080/"
        },
        "outputId": "57ccef07-5b5c-417a-f084-a0cea10bf01b"
      },
      "source": [
        "values = [1, 3, 6, 4, 'hej', 1.0, 42]\n",
        "\n",
        "for value in values:\n",
        "    print(value)"
      ],
      "execution_count": null,
      "outputs": [
        {
          "output_type": "stream",
          "name": "stdout",
          "text": [
            "1\n",
            "3\n",
            "6\n",
            "4\n",
            "hej\n",
            "1.0\n",
            "42\n"
          ]
        }
      ]
    },
    {
      "cell_type": "markdown",
      "metadata": {
        "id": "Bi0Vj6wDrmj6"
      },
      "source": [
        "### Iterating over a list with a loop variable"
      ]
    },
    {
      "cell_type": "code",
      "metadata": {
        "id": "M_h_qqGsrmj7",
        "colab": {
          "base_uri": "https://localhost:8080/"
        },
        "outputId": "69d74858-7d1a-4ee5-c9cd-a221f5c2a83a"
      },
      "source": [
        "a = [\"a\", \"b\", \"c\", \"d\", \"e\"]\n",
        "b = [5, 4, 3, 2, 1]\n",
        "for i in range(len(a)):\n",
        "    print(a[i], \",\", b[i])"
      ],
      "execution_count": null,
      "outputs": [
        {
          "output_type": "stream",
          "name": "stdout",
          "text": [
            "a , 5\n",
            "b , 4\n",
            "c , 3\n",
            "d , 2\n",
            "e , 1\n"
          ]
        }
      ]
    },
    {
      "cell_type": "markdown",
      "metadata": {
        "id": "Pg_XFZF5ufvv"
      },
      "source": [
        "### Iterating with indices and the enumerate function"
      ]
    },
    {
      "cell_type": "code",
      "metadata": {
        "id": "yL_BvF_FvMfx",
        "colab": {
          "base_uri": "https://localhost:8080/"
        },
        "outputId": "2b130031-ec29-4e4b-a424-1e4e048850ea"
      },
      "source": [
        "a = [5, 4, 3, 2, 1]\n",
        "for i, value in enumerate(a):\n",
        "    print(i, ', ', value)"
      ],
      "execution_count": null,
      "outputs": [
        {
          "output_type": "stream",
          "name": "stdout",
          "text": [
            "0 ,  5\n",
            "1 ,  4\n",
            "2 ,  3\n",
            "3 ,  2\n",
            "4 ,  1\n"
          ]
        }
      ]
    },
    {
      "cell_type": "markdown",
      "metadata": {
        "id": "tZdLXiVErmkA"
      },
      "source": [
        "### Iterating over multiple lists"
      ]
    },
    {
      "cell_type": "code",
      "metadata": {
        "id": "r-dTxouGrmkA",
        "colab": {
          "base_uri": "https://localhost:8080/"
        },
        "outputId": "f03be88e-bf1a-461c-c269-b7622ee30699"
      },
      "source": [
        "x_pos = [50, 130, 200, 250]\n",
        "y_pos = [50, 70, 220, 300]\n",
        "\n",
        "for x, y in zip(x_pos, y_pos):\n",
        "    print(x, y)\n",
        "\n",
        "print(list(zip(x_pos, y_pos)))"
      ],
      "execution_count": null,
      "outputs": [
        {
          "output_type": "stream",
          "name": "stdout",
          "text": [
            "50 50\n",
            "130 70\n",
            "200 220\n",
            "250 300\n",
            "[(50, 50), (130, 70), (200, 220), (250, 300)]\n"
          ]
        }
      ]
    },
    {
      "cell_type": "markdown",
      "metadata": {
        "id": "7VQU4YwfrmkD"
      },
      "source": [
        "### Iterating over nested lists"
      ]
    },
    {
      "cell_type": "code",
      "metadata": {
        "id": "S45VKUJTrmkD",
        "colab": {
          "base_uri": "https://localhost:8080/"
        },
        "outputId": "3e630ae8-b9d6-4a67-8df1-a66652b3af4f"
      },
      "source": [
        "points = [[50,50], [130,70], [200,220], [250,300]]\n",
        "\n",
        "for p in points:\n",
        "    for coord in p:\n",
        "        print(coord)"
      ],
      "execution_count": null,
      "outputs": [
        {
          "output_type": "stream",
          "name": "stdout",
          "text": [
            "50\n",
            "50\n",
            "130\n",
            "70\n",
            "200\n",
            "220\n",
            "250\n",
            "300\n"
          ]
        }
      ]
    },
    {
      "cell_type": "markdown",
      "metadata": {
        "id": "NqIq_7OhvpNl"
      },
      "source": [
        "### Iterating over dictionaries"
      ]
    },
    {
      "cell_type": "code",
      "metadata": {
        "id": "8aunT4ZPvsS6",
        "colab": {
          "base_uri": "https://localhost:8080/"
        },
        "outputId": "02081a4a-2a38-403b-921c-c0e6a104b4ea"
      },
      "source": [
        "name_dict = {'Petra': '9046112', 'David': '1234145', 'Olle': '534532', 'Peter': 734847}\n",
        "\n",
        "for key, value in name_dict.items():\n",
        "    print(key, ', ', value)"
      ],
      "execution_count": null,
      "outputs": [
        {
          "output_type": "stream",
          "name": "stdout",
          "text": [
            "Petra ,  9046112\n",
            "David ,  1234145\n",
            "Olle ,  534532\n",
            "Peter ,  734847\n"
          ]
        }
      ]
    },
    {
      "cell_type": "code",
      "metadata": {
        "id": "dLYJQbKxwMZP",
        "colab": {
          "base_uri": "https://localhost:8080/"
        },
        "outputId": "e330fe52-8f4f-48fd-bad1-ce21932502c5"
      },
      "source": [
        "name_dict = {'Petra': '9046112', 'David': '1234145', 'Olle': '534532', 'Peter': 734847}\n",
        "\n",
        "for key in name_dict.keys():\n",
        "    print(key, ', ', name_dict[key])"
      ],
      "execution_count": null,
      "outputs": [
        {
          "output_type": "stream",
          "name": "stdout",
          "text": [
            "Petra ,  9046112\n",
            "David ,  1234145\n",
            "Olle ,  534532\n",
            "Peter ,  734847\n"
          ]
        }
      ]
    },
    {
      "cell_type": "code",
      "metadata": {
        "id": "y-_8H8sYwcu7",
        "colab": {
          "base_uri": "https://localhost:8080/"
        },
        "outputId": "7a1299ec-1c0d-4a70-fac1-620fce77b3bf"
      },
      "source": [
        "name_dict = {'Petra': '9046112', 'David': '1234145', 'Olle': '534532', 'Peter': 734847}\n",
        "\n",
        "for value in name_dict.values():\n",
        "    print(value)"
      ],
      "execution_count": null,
      "outputs": [
        {
          "output_type": "stream",
          "name": "stdout",
          "text": [
            "9046112\n",
            "1234145\n",
            "534532\n",
            "734847\n"
          ]
        }
      ]
    },
    {
      "cell_type": "markdown",
      "metadata": {
        "id": "mHLDlBrGrmkF"
      },
      "source": [
        "### Iterating using the while-statement"
      ]
    },
    {
      "cell_type": "code",
      "metadata": {
        "id": "kJxaygfMrmkF",
        "colab": {
          "base_uri": "https://localhost:8080/"
        },
        "outputId": "919ad171-b84b-4298-8533-a74b6e58dfb6"
      },
      "source": [
        "from math import *\n",
        "\n",
        "sum = 0.0\n",
        "err = 1e-2\n",
        "k = 1\n",
        "\n",
        "while abs(pi-4*sum)>err:\n",
        "    sum += pow(-1, k+1) / (2*k-1)\n",
        "    k = k + 1\n",
        "    print(\"Iteration\", k, \"pi = \", 4*sum, \"err = \", abs(-pi-4*sum))"
      ],
      "execution_count": null,
      "outputs": [
        {
          "output_type": "stream",
          "name": "stdout",
          "text": [
            "Iteration 2 pi =  4.0 err =  7.141592653589793\n",
            "Iteration 3 pi =  2.666666666666667 err =  5.80825932025646\n",
            "Iteration 4 pi =  3.466666666666667 err =  6.60825932025646\n",
            "Iteration 5 pi =  2.8952380952380956 err =  6.036830748827889\n",
            "Iteration 6 pi =  3.3396825396825403 err =  6.481275193272333\n",
            "Iteration 7 pi =  2.9760461760461765 err =  6.11763882963597\n",
            "Iteration 8 pi =  3.2837384837384844 err =  6.4253311373282775\n",
            "Iteration 9 pi =  3.017071817071818 err =  6.158664470661611\n",
            "Iteration 10 pi =  3.2523659347188767 err =  6.39395858830867\n",
            "Iteration 11 pi =  3.0418396189294032 err =  6.183432272519196\n",
            "Iteration 12 pi =  3.232315809405594 err =  6.373908462995387\n",
            "Iteration 13 pi =  3.058402765927333 err =  6.199995419517126\n",
            "Iteration 14 pi =  3.2184027659273333 err =  6.359995419517126\n",
            "Iteration 15 pi =  3.0702546177791854 err =  6.2118472713689785\n",
            "Iteration 16 pi =  3.208185652261944 err =  6.349778305851737\n",
            "Iteration 17 pi =  3.079153394197428 err =  6.220746047787221\n",
            "Iteration 18 pi =  3.200365515409549 err =  6.3419581689993425\n",
            "Iteration 19 pi =  3.0860798011238346 err =  6.227672454713628\n",
            "Iteration 20 pi =  3.1941879092319425 err =  6.335780562821736\n",
            "Iteration 21 pi =  3.09162380666784 err =  6.233216460257633\n",
            "Iteration 22 pi =  3.189184782277596 err =  6.33077743586739\n",
            "Iteration 23 pi =  3.0961615264636424 err =  6.237754180053436\n",
            "Iteration 24 pi =  3.1850504153525314 err =  6.3266430689423245\n",
            "Iteration 25 pi =  3.099944032373808 err =  6.241536685963601\n",
            "Iteration 26 pi =  3.1815766854350325 err =  6.323169339024826\n",
            "Iteration 27 pi =  3.1031453128860127 err =  6.244737966475806\n",
            "Iteration 28 pi =  3.1786170109992202 err =  6.320209664589013\n",
            "Iteration 29 pi =  3.1058897382719475 err =  6.247482391861741\n",
            "Iteration 30 pi =  3.1760651768684385 err =  6.317657830458232\n",
            "Iteration 31 pi =  3.108268566698947 err =  6.24986122028874\n",
            "Iteration 32 pi =  3.1738423371907505 err =  6.315434990780544\n",
            "Iteration 33 pi =  3.110350273698687 err =  6.25194292728848\n",
            "Iteration 34 pi =  3.1718887352371485 err =  6.313481388826942\n",
            "Iteration 35 pi =  3.112187242699835 err =  6.253779896289628\n",
            "Iteration 36 pi =  3.1701582571925884 err =  6.311750910782381\n",
            "Iteration 37 pi =  3.1138202290235744 err =  6.255412882613367\n",
            "Iteration 38 pi =  3.1686147495715193 err =  6.3102074031613125\n",
            "Iteration 39 pi =  3.115281416238186 err =  6.25687406982798\n",
            "Iteration 40 pi =  3.167229468186238 err =  6.308822121776031\n",
            "Iteration 41 pi =  3.116596556793833 err =  6.258189210383627\n",
            "Iteration 42 pi =  3.1659792728432157 err =  6.307571926433009\n",
            "Iteration 43 pi =  3.117786501758878 err =  6.259379155348672\n",
            "Iteration 44 pi =  3.1648453252882898 err =  6.306437978878083\n",
            "Iteration 45 pi =  3.118868313794037 err =  6.26046096738383\n",
            "Iteration 46 pi =  3.163812134018756 err =  6.305404787608549\n",
            "Iteration 47 pi =  3.1198560900627124 err =  6.2614487436525055\n",
            "Iteration 48 pi =  3.1628668427508844 err =  6.3044594963406775\n",
            "Iteration 49 pi =  3.1207615795929895 err =  6.262354233182783\n",
            "Iteration 50 pi =  3.161998692995051 err =  6.303591346584844\n",
            "Iteration 51 pi =  3.121594652591011 err =  6.263187306180804\n",
            "Iteration 52 pi =  3.1611986129870506 err =  6.302791266576843\n",
            "Iteration 53 pi =  3.12236366153074 err =  6.263956315120533\n",
            "Iteration 54 pi =  3.160458899625978 err =  6.302051553215771\n",
            "Iteration 55 pi =  3.1230757220558845 err =  6.264668375645678\n",
            "Iteration 56 pi =  3.1597729697623063 err =  6.301365623352099\n",
            "Iteration 57 pi =  3.12373693372627 err =  6.265329587316064\n",
            "Iteration 58 pi =  3.159135163814766 err =  6.3007278174045585\n",
            "Iteration 59 pi =  3.124352555119114 err =  6.2659452087089065\n",
            "Iteration 60 pi =  3.158540589307148 err =  6.3001332428969405\n",
            "Iteration 61 pi =  3.1249271439289967 err =  6.266519797518789\n",
            "Iteration 62 pi =  3.157984995168666 err =  6.29957764875846\n",
            "Iteration 63 pi =  3.125464669965414 err =  6.267057323555207\n",
            "Iteration 64 pi =  3.157464669965414 err =  6.299057323555207\n",
            "Iteration 65 pi =  3.125968606973288 err =  6.267561260563081\n",
            "Iteration 66 pi =  3.1569763589112725 err =  6.298569012501066\n",
            "Iteration 67 pi =  3.1264420077662343 err =  6.268034661356028\n",
            "Iteration 68 pi =  3.156517195736159 err =  6.298109849325952\n",
            "Iteration 69 pi =  3.126887566106529 err =  6.268480219696322\n",
            "Iteration 70 pi =  3.1560846463985 err =  6.297677299988293\n",
            "Iteration 71 pi =  3.127307667981234 err =  6.268900321571027\n",
            "Iteration 72 pi =  3.155676462307475 err =  6.297269115897269\n",
            "Iteration 73 pi =  3.127704434335447 err =  6.26929708792524\n",
            "Iteration 74 pi =  3.155290641231999 err =  6.296883294821792\n",
            "Iteration 75 pi =  3.1280797568782575 err =  6.269672410468051\n",
            "Iteration 76 pi =  3.15492539446215 err =  6.296518048051944\n",
            "Iteration 77 pi =  3.1284353282369843 err =  6.270027981826777\n",
            "Iteration 78 pi =  3.1545791190866574 err =  6.29617177267645\n",
            "Iteration 79 pi =  3.128772667473754 err =  6.270365321063547\n",
            "Iteration 80 pi =  3.1542503744801236 err =  6.295843028069917\n",
            "Iteration 81 pi =  3.129093141775721 err =  6.270685795365514\n",
            "Iteration 82 pi =  3.1539378622726155 err =  6.295530515862408\n",
            "Iteration 83 pi =  3.129397984972002 err =  6.270990638561795\n",
            "Iteration 84 pi =  3.1536404092144266 err =  6.29523306280422\n",
            "Iteration 85 pi =  3.129688313406043 err =  6.271280966995836\n",
            "Iteration 86 pi =  3.1533569524592977 err =  6.294949606049091\n",
            "Iteration 87 pi =  3.129965139593801 err =  6.271557793183594\n",
            "Iteration 88 pi =  3.153086526877038 err =  6.294679180466831\n",
            "Iteration 89 pi =  3.1302293840198954 err =  6.271822037609688\n",
            "Iteration 90 pi =  3.1528282540763923 err =  6.2944209076661854\n",
            "Iteration 91 pi =  3.1304818853613083 err =  6.2720745389511015\n",
            "Iteration 92 pi =  3.1525813328751204 err =  6.294173986464914\n",
            "Iteration 93 pi =  3.1307234093778527 err =  6.272316062967645\n",
            "Iteration 94 pi =  3.1523450309994745 err =  6.293937684589268\n",
            "Iteration 95 pi =  3.1309546566679236 err =  6.272547310257717\n",
            "Iteration 96 pi =  3.152118677831945 err =  6.293711331421738\n",
            "Iteration 97 pi =  3.131176269454982 err =  6.272768923044775\n",
            "Iteration 98 pi =  3.151901658056018 err =  6.293494311645811\n",
            "Iteration 99 pi =  3.1313888375431977 err =  6.272981491132991\n",
            "Iteration 100 pi =  3.1516934060711166 err =  6.293286059660909\n",
            "Iteration 101 pi =  3.1315929035585537 err =  6.273185557148347\n"
          ]
        }
      ]
    },
    {
      "cell_type": "markdown",
      "metadata": {
        "id": "TrXaana3rmkJ"
      },
      "source": [
        "## Conditional statements"
      ]
    },
    {
      "cell_type": "code",
      "metadata": {
        "id": "ah8D8NCirmkJ",
        "colab": {
          "base_uri": "https://localhost:8080/"
        },
        "outputId": "73ab9713-f76c-40db-ceef-edee1d4c0f2d"
      },
      "source": [
        "i = 0\n",
        "if i == 0:\n",
        "    print(\"i = 0\")"
      ],
      "execution_count": null,
      "outputs": [
        {
          "output_type": "stream",
          "name": "stdout",
          "text": [
            "i = 0\n"
          ]
        }
      ]
    },
    {
      "cell_type": "code",
      "metadata": {
        "id": "36Hp7-H4rmkL",
        "colab": {
          "base_uri": "https://localhost:8080/"
        },
        "outputId": "cbaaf52a-bfab-4ce6-9530-96eebdb0409e"
      },
      "source": [
        "i = 1\n",
        "if i == 0:\n",
        "    print(\"i = 0\")\n",
        "else:\n",
        "    print(\"i är inte 0\")"
      ],
      "execution_count": null,
      "outputs": [
        {
          "output_type": "stream",
          "name": "stdout",
          "text": [
            "i är inte 0\n"
          ]
        }
      ]
    },
    {
      "cell_type": "code",
      "metadata": {
        "id": "UNT9WCs6rmkQ",
        "colab": {
          "base_uri": "https://localhost:8080/"
        },
        "outputId": "be8c9561-9c8c-4bd0-bbe8-5121a59bb47d"
      },
      "source": [
        "if i == 0:\n",
        "    print(\"i == 0\")\n",
        "elif i < 1:\n",
        "    print(\"i < 1\")\n",
        "elif i > 1:\n",
        "    print(\"i > 1\")\n",
        "else:\n",
        "    print(\"Mittemellan\")"
      ],
      "execution_count": null,
      "outputs": [
        {
          "output_type": "stream",
          "name": "stdout",
          "text": [
            "Mittemellan\n"
          ]
        }
      ]
    },
    {
      "cell_type": "markdown",
      "metadata": {
        "id": "aYU7QWThrmkT"
      },
      "source": [
        "### Nested if-statements"
      ]
    },
    {
      "cell_type": "code",
      "metadata": {
        "id": "TWHWZuTWrmkT"
      },
      "source": [
        "if i == 0:\n",
        "    print(\"i == 0\")\n",
        "else:\n",
        "    if i > 0:\n",
        "        print(\"i > 0\")\n",
        "    elif i < 0:\n",
        "        print(\"i < 0\")"
      ],
      "execution_count": null,
      "outputs": []
    },
    {
      "cell_type": "markdown",
      "metadata": {
        "id": "UaMItt6mrmkU"
      },
      "source": [
        "## Controlling loop-iterations\n",
        "\n",
        "An iteration can be controlled by:\n",
        "\n",
        "* break - exits the looop\n",
        "* continue - continue to next iteration"
      ]
    },
    {
      "cell_type": "code",
      "metadata": {
        "id": "CcxhLvuWrmkV",
        "colab": {
          "base_uri": "https://localhost:8080/"
        },
        "outputId": "500fc3df-3f0c-41c7-e2a2-26c35d3fd24a"
      },
      "source": [
        "for i in range(20):\n",
        "    if i == 10:\n",
        "        print(\"exits loop\")\n",
        "        break\n",
        "    if i == 5:\n",
        "        print(\"Go to next iteration\")\n",
        "        continue\n",
        "    print(i)\n",
        "\n",
        "print(\"...after the loop\")"
      ],
      "execution_count": null,
      "outputs": [
        {
          "output_type": "stream",
          "name": "stdout",
          "text": [
            "0\n",
            "1\n",
            "2\n",
            "3\n",
            "4\n",
            "Go to next iteration\n",
            "6\n",
            "7\n",
            "8\n",
            "9\n",
            "exits loop\n",
            "...after the loop\n"
          ]
        }
      ]
    },
    {
      "cell_type": "markdown",
      "metadata": {
        "id": "cPpf0Qn1Jpgm"
      },
      "source": [
        "\n",
        "\n",
        "---\n",
        "# Short assignments\n"
      ]
    },
    {
      "cell_type": "markdown",
      "metadata": {
        "id": "5F7_vd_dJtY3"
      },
      "source": [
        "## Task 1\n",
        "\n",
        "Find the errors in the following code:\n",
        "\n",
        "```python\n",
        "for i in range(10):\n",
        "    print(i)\n",
        "     for j in range(20)\n",
        "        print(j, end=\",\"\n",
        "    print()\n",
        "```\n"
      ]
    },
    {
      "cell_type": "markdown",
      "metadata": {
        "id": "0cf30ZJ7A88D"
      },
      "source": [
        "Here you can try your solution:"
      ]
    },
    {
      "cell_type": "code",
      "metadata": {
        "id": "pKl2IngnzYl2"
      },
      "source": [
        "for i in range(10):\n",
        "    print(i)\n",
        "     for j in range(20)\n",
        "        print(j, end=\",\"\n",
        "    print()"
      ],
      "execution_count": null,
      "outputs": []
    },
    {
      "cell_type": "markdown",
      "metadata": {
        "id": "Qecf9O1bBFcz"
      },
      "source": [
        "If you want to show the solution to the task, click **Show code** below."
      ]
    },
    {
      "cell_type": "code",
      "metadata": {
        "id": "xza5K5z6J5Zk"
      },
      "source": [
        "#@title Task 1 - Answer { display-mode: \"form\" }\n",
        "for i in range(10):\n",
        "    print(i)\n",
        "    for j in range(20):\n",
        "        print(j, end=\",\")\n",
        "    print()"
      ],
      "execution_count": null,
      "outputs": []
    },
    {
      "cell_type": "markdown",
      "metadata": {
        "id": "B7sbo3l9J8qK"
      },
      "source": [
        "## Task 2\n",
        "\n",
        "Write a for-loop that iterates over the values int the following list:\n",
        "\n",
        "```python\n",
        "l = [45, 78, 90, 34, 23]\n",
        "```"
      ]
    },
    {
      "cell_type": "markdown",
      "metadata": {
        "id": "X9osqIdGBe0X"
      },
      "source": [
        "Here you can try your solution:"
      ]
    },
    {
      "cell_type": "code",
      "metadata": {
        "id": "rFwIDTrfzhyV"
      },
      "source": [],
      "execution_count": null,
      "outputs": []
    },
    {
      "cell_type": "markdown",
      "metadata": {
        "id": "wsZgqcj5BjP_"
      },
      "source": [
        "If you want to show the solution to the task, click Show code below."
      ]
    },
    {
      "cell_type": "code",
      "metadata": {
        "id": "drX2KIjkN8e_",
        "cellView": "form"
      },
      "source": [
        "#@title Task 2 - Answer\n",
        "l = [45, 78, 90, 34, 23]\n",
        "\n",
        "for value in l:\n",
        "    print(value)"
      ],
      "execution_count": null,
      "outputs": []
    },
    {
      "cell_type": "markdown",
      "metadata": {
        "id": "3tqbuypWKYXb"
      },
      "source": [
        "---\n",
        "\n",
        "\n",
        "\n"
      ]
    },
    {
      "cell_type": "markdown",
      "metadata": {
        "id": "mbQtp1s5rmkX"
      },
      "source": [
        "# Functions and subroutines"
      ]
    },
    {
      "cell_type": "markdown",
      "metadata": {
        "id": "SaLByqeGrmkX"
      },
      "source": [
        "* Functions are defined with the keyword **def** followed by the function name and parameters in brackets () followed by a colon (:)\n",
        "* Function code is defined in subsequent code blocks"
      ]
    },
    {
      "cell_type": "code",
      "metadata": {
        "id": "4g4gCCEVrmkX"
      },
      "source": [
        "def print_doc():\n",
        "    print(\"Detta är en utskrift från en funktion\")"
      ],
      "execution_count": null,
      "outputs": []
    },
    {
      "cell_type": "markdown",
      "metadata": {
        "id": "ebClcZ6ormka"
      },
      "source": [
        "Calling a function"
      ]
    },
    {
      "cell_type": "code",
      "metadata": {
        "id": "LkWsNpbwrmkb",
        "colab": {
          "base_uri": "https://localhost:8080/"
        },
        "outputId": "403f57f8-c78b-47f0-8ba4-7b40ae273666"
      },
      "source": [
        "print_doc()"
      ],
      "execution_count": null,
      "outputs": [
        {
          "output_type": "stream",
          "name": "stdout",
          "text": [
            "Detta är en utskrift från en funktion\n"
          ]
        }
      ]
    },
    {
      "cell_type": "markdown",
      "metadata": {
        "id": "18rMgMVxrmkd"
      },
      "source": [
        "Function with parameters"
      ]
    },
    {
      "cell_type": "code",
      "metadata": {
        "id": "Ck_N1yKdrmkd"
      },
      "source": [
        "def print_value(a):\n",
        "    print(\"Värdet är \"+str(a))"
      ],
      "execution_count": null,
      "outputs": []
    },
    {
      "cell_type": "markdown",
      "metadata": {
        "id": "EToxQclxrmkf"
      },
      "source": [
        "Calling a function with parameters"
      ]
    },
    {
      "cell_type": "code",
      "metadata": {
        "id": "tSabWj9Jrmkg",
        "colab": {
          "base_uri": "https://localhost:8080/"
        },
        "outputId": "006a2a0e-2ca3-41d0-94ed-1785e191a11c"
      },
      "source": [
        "b = 42\n",
        "print_value(b)"
      ],
      "execution_count": null,
      "outputs": [
        {
          "output_type": "stream",
          "name": "stdout",
          "text": [
            "Värdet är Hej\n"
          ]
        }
      ]
    },
    {
      "cell_type": "markdown",
      "metadata": {
        "id": "JOLFFQt1rmki"
      },
      "source": [
        "Changing parameters in function(?)"
      ]
    },
    {
      "cell_type": "code",
      "metadata": {
        "id": "NrH5aKtZrmkj"
      },
      "source": [
        "def print_value(a):\n",
        "    print(\"Värdet är \"+str(a))\n",
        "    a = 84"
      ],
      "execution_count": null,
      "outputs": []
    },
    {
      "cell_type": "markdown",
      "metadata": {
        "id": "cCN1hI18rmkk"
      },
      "source": [
        "Calling a function"
      ]
    },
    {
      "cell_type": "code",
      "metadata": {
        "id": "M4hcDt0Rrmkl",
        "colab": {
          "base_uri": "https://localhost:8080/"
        },
        "outputId": "4512a8ed-a85a-49a4-b8b6-c28a832acb65"
      },
      "source": [
        "b = 42\n",
        "print_value(b)\n",
        "print(b)"
      ],
      "execution_count": null,
      "outputs": [
        {
          "output_type": "stream",
          "name": "stdout",
          "text": [
            "Värdet är 42\n",
            "42\n"
          ]
        }
      ]
    },
    {
      "cell_type": "markdown",
      "metadata": {
        "id": "KZMbBqZcrmkn"
      },
      "source": [
        "## Return values"
      ]
    },
    {
      "cell_type": "code",
      "metadata": {
        "id": "tKNnA1k0rmkn",
        "colab": {
          "base_uri": "https://localhost:8080/"
        },
        "outputId": "451e475d-d4dc-4384-acb2-23805e61b890"
      },
      "source": [
        "from math import *\n",
        "\n",
        "def f(x):\n",
        "    return sin(x)\n",
        "\n",
        "def test(x):\n",
        "    return x, x/2\n",
        "\n",
        "x = pi/2\n",
        "y = f(x)\n",
        "\n",
        "print(y)\n",
        "\n",
        "x, y = test(42)\n",
        "\n",
        "print(x, y)"
      ],
      "execution_count": null,
      "outputs": [
        {
          "output_type": "stream",
          "name": "stdout",
          "text": [
            "1.0\n",
            "42 21.0\n"
          ]
        }
      ]
    },
    {
      "cell_type": "code",
      "metadata": {
        "id": "eoe81y6bNTMO",
        "colab": {
          "base_uri": "https://localhost:8080/"
        },
        "outputId": "f7797067-028b-4a3d-dff2-7af0e8e98109"
      },
      "source": [
        "a = [1, 2, 3, 4]\n",
        "\n",
        "def modify_list(b):\n",
        "    b[0] = 42\n",
        "\n",
        "modify_list(a)\n",
        "\n",
        "print(a)"
      ],
      "execution_count": null,
      "outputs": [
        {
          "output_type": "stream",
          "name": "stdout",
          "text": [
            "[42, 2, 3, 4]\n"
          ]
        }
      ]
    },
    {
      "cell_type": "markdown",
      "metadata": {
        "id": "qtMpmBrxrmkp"
      },
      "source": [
        "Functions can be used in complex expressions."
      ]
    },
    {
      "cell_type": "markdown",
      "metadata": {
        "id": "oBBhJkoIKdv0"
      },
      "source": [
        "\n",
        "\n",
        "---\n",
        "\n",
        "# Short assignments\n"
      ]
    },
    {
      "cell_type": "markdown",
      "metadata": {
        "id": "Ho7tXGlNKhUC"
      },
      "source": [
        "## Task 1\n",
        "\n",
        "Write a function that takes x as input and returns $ f(x) = 2x^2 + 2x + 3$"
      ]
    },
    {
      "cell_type": "code",
      "metadata": {
        "id": "0YFmEz37yF2v"
      },
      "source": [],
      "execution_count": null,
      "outputs": []
    },
    {
      "cell_type": "code",
      "metadata": {
        "id": "JW7q2dgsK6JG"
      },
      "source": [
        "def f(x):\n",
        "    return 2*x*x + 2*x + 3\n",
        "\n",
        "print(f(5))\n",
        "\n",
        "#@title Task 1 - Answer { display-mode: \"form\" }"
      ],
      "execution_count": null,
      "outputs": []
    },
    {
      "cell_type": "markdown",
      "metadata": {
        "id": "ZXx0lS6HK_N-"
      },
      "source": [
        "\n",
        "\n",
        "---\n",
        "\n"
      ]
    },
    {
      "cell_type": "markdown",
      "metadata": {
        "id": "WqoTNNXWrmkq"
      },
      "source": [
        "# Organising code in modules"
      ]
    },
    {
      "cell_type": "markdown",
      "metadata": {
        "id": "VA2tUtoarmkq"
      },
      "source": [
        "## Using modules (import)"
      ]
    },
    {
      "cell_type": "markdown",
      "metadata": {
        "id": "e6MP3WUFrmkq"
      },
      "source": [
        "Modules are library of code in Python. They can be built-in or add-ons. To use a module, it must be imported. In the following example, we import the Python math module **math** with the **import** statement."
      ]
    },
    {
      "cell_type": "code",
      "metadata": {
        "id": "3KveY_43rmkq",
        "colab": {
          "base_uri": "https://localhost:8080/"
        },
        "outputId": "33e46d06-c428-41eb-a09b-7573b8d330e2"
      },
      "source": [
        "import math\n",
        "\n",
        "print(math.sin(math.pi/2))"
      ],
      "execution_count": null,
      "outputs": [
        {
          "output_type": "stream",
          "name": "stdout",
          "text": [
            "1.0\n"
          ]
        }
      ]
    },
    {
      "cell_type": "markdown",
      "metadata": {
        "id": "JJekp5j5rmkt"
      },
      "source": [
        "This form of import requires that all functions in the module are prefixed with the module name. In this case **math**. It is also possible to import all functions into a module without the prefix with the **from** import declaration."
      ]
    },
    {
      "cell_type": "code",
      "metadata": {
        "id": "AubIwk0mrmku",
        "colab": {
          "base_uri": "https://localhost:8080/"
        },
        "outputId": "de69c072-1218-405f-b213-bd3a00668913"
      },
      "source": [
        "from math import *\n",
        "\n",
        "print(sin(pi/2))"
      ],
      "execution_count": null,
      "outputs": [
        {
          "output_type": "stream",
          "name": "stdout",
          "text": [
            "1.0\n"
          ]
        }
      ]
    },
    {
      "cell_type": "markdown",
      "metadata": {
        "id": "KU0RZ4q3rmkw"
      },
      "source": [
        "The \\* in the **from** statement specifies that Python will import all functions from the module. This can be a problem as the import of functions using **from** can collide with already imported functions. It is also possible to explicitly import certain functions by listing them after the import word in a **from** statement."
      ]
    },
    {
      "cell_type": "code",
      "metadata": {
        "id": "-0HcXC50rmkx"
      },
      "source": [
        "from math import sin, sqrt\n",
        "\n",
        "print(sqrt(2))"
      ],
      "execution_count": null,
      "outputs": []
    },
    {
      "cell_type": "markdown",
      "metadata": {
        "id": "Gn2U0e3Rrmk1"
      },
      "source": [
        "All Python source files can be used as modules\n"
      ]
    },
    {
      "cell_type": "markdown",
      "metadata": {
        "id": "5g0hdvhMrmk1"
      },
      "source": [
        "The following code is an example of a module **prime.py** that contains the function **is_prime()** to check if an integer value is a prime number.\n",
        "\n",
        "    # -*- coding: utf-8 -*-\n",
        "\n",
        "    from math import sqrt\n",
        "\n",
        "    def is_prime(n):\n",
        "\n",
        "        prime = True\n",
        "\n",
        "        k = 2\n",
        "        while k<=sqrt(n) and prime:\n",
        "            if (n % k == 0):\n",
        "                prime = False\n",
        "                break\n",
        "            k+=1      \n",
        "\n",
        "        return prime\n",
        "        \n"
      ]
    },
    {
      "cell_type": "markdown",
      "metadata": {
        "id": "fMpQPI3-W5H0"
      },
      "source": [
        "Before we import it, we need to upload it to our notebook:"
      ]
    },
    {
      "cell_type": "code",
      "metadata": {
        "id": "ndIIsZ9oV0dp",
        "colab": {
          "base_uri": "https://localhost:8080/"
        },
        "outputId": "1cfa20f2-ae8c-4fd0-bdb3-7514ad463e74"
      },
      "source": [
        "!wget https://raw.githubusercontent.com/jonaslindemann/guide_to_python/master/chapters/kapitel3/notebooks/prime.py"
      ],
      "execution_count": null,
      "outputs": [
        {
          "output_type": "stream",
          "name": "stdout",
          "text": [
            "--2022-09-01 08:38:43--  https://raw.githubusercontent.com/jonaslindemann/guide_to_python/master/chapters/kapitel3/notebooks/prime.py\n",
            "Resolving raw.githubusercontent.com (raw.githubusercontent.com)... 185.199.108.133, 185.199.109.133, 185.199.110.133, ...\n",
            "Connecting to raw.githubusercontent.com (raw.githubusercontent.com)|185.199.108.133|:443... connected.\n",
            "HTTP request sent, awaiting response... 200 OK\n",
            "Length: 260 [text/plain]\n",
            "Saving to: ‘prime.py’\n",
            "\n",
            "\rprime.py              0%[                    ]       0  --.-KB/s               \rprime.py            100%[===================>]     260  --.-KB/s    in 0s      \n",
            "\n",
            "2022-09-01 08:38:43 (14.4 MB/s) - ‘prime.py’ saved [260/260]\n",
            "\n"
          ]
        }
      ]
    },
    {
      "cell_type": "markdown",
      "metadata": {
        "id": "tccFDPFDXDXz"
      },
      "source": [
        "We can now use this module with the following statements:"
      ]
    },
    {
      "cell_type": "code",
      "metadata": {
        "id": "ugMxigeirmk2",
        "colab": {
          "base_uri": "https://localhost:8080/"
        },
        "outputId": "e337cbb2-fadd-4bb3-df2f-806d0303f14c"
      },
      "source": [
        "import prime"
      ],
      "execution_count": null,
      "outputs": [
        {
          "output_type": "stream",
          "name": "stdout",
          "text": [
            "prime\n"
          ]
        }
      ]
    },
    {
      "cell_type": "markdown",
      "metadata": {
        "id": "Oc8XeGwormk4"
      },
      "source": [
        "We can now use the function in the module:"
      ]
    },
    {
      "cell_type": "code",
      "metadata": {
        "id": "opF4jb1Nrmk5",
        "colab": {
          "base_uri": "https://localhost:8080/"
        },
        "outputId": "c1ac89cc-3c99-4bb4-96cc-b71d08d57352"
      },
      "source": [
        "print(prime.is_prime(3))"
      ],
      "execution_count": null,
      "outputs": [
        {
          "output_type": "stream",
          "name": "stdout",
          "text": [
            "True\n"
          ]
        }
      ]
    },
    {
      "cell_type": "code",
      "metadata": {
        "id": "fO905reVrmk5",
        "colab": {
          "base_uri": "https://localhost:8080/"
        },
        "outputId": "9cb918b8-2f3f-4e7a-bc94-2d34a86071bf"
      },
      "source": [
        "print(prime.is_prime(8))"
      ],
      "execution_count": null,
      "outputs": [
        {
          "output_type": "stream",
          "name": "stdout",
          "text": [
            "False\n"
          ]
        }
      ]
    },
    {
      "cell_type": "markdown",
      "metadata": {
        "id": "ZsRCrGFqrmk7"
      },
      "source": [
        "## Main program and scripts in Python"
      ]
    },
    {
      "cell_type": "markdown",
      "metadata": {
        "id": "9zxL1nmwrmk7"
      },
      "source": [
        "Python executes all code in a module or source file. Most other languages often define a main function that is run by the operating system. In Python, some source file is often considered the main module where the program has its starting point. In many cases, Python modules can be executed as scripts or imported as a module. If a module is imported, you often only want access to the built-in functions and not executable statements to run.\n",
        "\n",
        "When a python source file is imported, a specific variable, **__main__**, is assigned the name of the module. If the same source file is executed as a script, the variable will contain \"main\".\n",
        "\n",
        "We modify copy our prime.py module and create prime_extra.py with an extra print declaration that prints the name variable.\n",
        "\n",
        "    # -*- coding: utf-8 -*-\n",
        "\n",
        "    from math import sqrt\n",
        "    \n",
        "    print(__name__)\n",
        "\n",
        "    def is_prime(n):\n",
        "\n",
        "        prime = True\n",
        "\n",
        "        k = 2\n",
        "        while k<=sqrt(n) and prime:\n",
        "            if (n % k == 0):\n",
        "                prime = False\n",
        "                break\n",
        "            k+=1      \n",
        "\n",
        "        return prime\n",
        "        \n"
      ]
    },
    {
      "cell_type": "code",
      "metadata": {
        "id": "vLjmUnlpYBtP",
        "colab": {
          "base_uri": "https://localhost:8080/"
        },
        "outputId": "c868e5e5-10bf-4917-ef0b-a8e8b2728e5c"
      },
      "source": [
        "!wget https://raw.githubusercontent.com/jonaslindemann/guide_to_python/master/chapters/kapitel3/notebooks/prime_extra.py"
      ],
      "execution_count": null,
      "outputs": [
        {
          "output_type": "stream",
          "name": "stdout",
          "text": [
            "--2022-09-01 08:41:13--  https://raw.githubusercontent.com/jonaslindemann/guide_to_python/master/chapters/kapitel3/notebooks/prime_extra.py\n",
            "Resolving raw.githubusercontent.com (raw.githubusercontent.com)... 185.199.108.133, 185.199.109.133, 185.199.110.133, ...\n",
            "Connecting to raw.githubusercontent.com (raw.githubusercontent.com)|185.199.108.133|:443... connected.\n",
            "HTTP request sent, awaiting response... 200 OK\n",
            "Length: 260 [text/plain]\n",
            "Saving to: ‘prime_extra.py’\n",
            "\n",
            "\rprime_extra.py        0%[                    ]       0  --.-KB/s               \rprime_extra.py      100%[===================>]     260  --.-KB/s    in 0s      \n",
            "\n",
            "2022-09-01 08:41:13 (15.1 MB/s) - ‘prime_extra.py’ saved [260/260]\n",
            "\n"
          ]
        }
      ]
    },
    {
      "cell_type": "code",
      "metadata": {
        "id": "zp5L9Y5DYX91",
        "colab": {
          "base_uri": "https://localhost:8080/"
        },
        "outputId": "cae331e8-e6ed-4928-9e35-9895fa55df8a"
      },
      "source": [
        "!wget https://raw.githubusercontent.com/jonaslindemann/guide_to_python/master/chapters/kapitel3/notebooks/prime_main.py"
      ],
      "execution_count": null,
      "outputs": [
        {
          "output_type": "stream",
          "name": "stdout",
          "text": [
            "--2022-09-01 08:41:17--  https://raw.githubusercontent.com/jonaslindemann/guide_to_python/master/chapters/kapitel3/notebooks/prime_main.py\n",
            "Resolving raw.githubusercontent.com (raw.githubusercontent.com)... 185.199.108.133, 185.199.109.133, 185.199.110.133, ...\n",
            "Connecting to raw.githubusercontent.com (raw.githubusercontent.com)|185.199.108.133|:443... connected.\n",
            "HTTP request sent, awaiting response... 200 OK\n",
            "Length: 124 [text/plain]\n",
            "Saving to: ‘prime_main.py’\n",
            "\n",
            "\rprime_main.py         0%[                    ]       0  --.-KB/s               \rprime_main.py       100%[===================>]     124  --.-KB/s    in 0s      \n",
            "\n",
            "2022-09-01 08:41:17 (6.83 MB/s) - ‘prime_main.py’ saved [124/124]\n",
            "\n"
          ]
        }
      ]
    },
    {
      "cell_type": "code",
      "metadata": {
        "id": "FFo58mOarmk9",
        "colab": {
          "base_uri": "https://localhost:8080/"
        },
        "outputId": "f119ce16-91d4-4238-c967-45cf4078b53e"
      },
      "source": [
        "import prime_extra"
      ],
      "execution_count": null,
      "outputs": [
        {
          "output_type": "stream",
          "name": "stdout",
          "text": [
            "prime_extra\n"
          ]
        }
      ]
    },
    {
      "cell_type": "markdown",
      "metadata": {
        "id": "tnP0zJLKrmk-"
      },
      "source": [
        "If we now execute the same file with the Python interpreter, we get a different result:"
      ]
    },
    {
      "cell_type": "code",
      "metadata": {
        "id": "CT488Kozrmk-",
        "colab": {
          "base_uri": "https://localhost:8080/"
        },
        "outputId": "e7c2d559-7dbd-49da-e73b-ae5d2dd0e251"
      },
      "source": [
        "run prime_extra"
      ],
      "execution_count": null,
      "outputs": [
        {
          "output_type": "stream",
          "name": "stdout",
          "text": [
            "__main__\n"
          ]
        }
      ]
    },
    {
      "cell_type": "markdown",
      "metadata": {
        "id": "BRX-MF27rmlA"
      },
      "source": [
        "That way we can create python source files that can both be imported and used as scripts. This is also a precaution to ensure that a python source file does not execute code incorrectly when imported as a module.\n",
        "\n",
        "Many Python projects often have a main python script to launch the main application. A typical master program (prime_main.py) is shown below:\n",
        "\n",
        "    # -*- coding: utf-8 -*-\n",
        "    \n",
        "    import prime\n",
        "    \n",
        "    if __name__ == \"__main__\":\n",
        "        \n",
        "        print(prime.is_prime(6))\n",
        "        print(prime.is_prime(5))\n",
        "        \n",
        "The code in the if-statement is only executed when run as a script."
      ]
    },
    {
      "cell_type": "code",
      "metadata": {
        "id": "q8iIkAQvrmlA",
        "colab": {
          "base_uri": "https://localhost:8080/"
        },
        "outputId": "d59e0d85-4665-4f92-c248-e243d75bd12f"
      },
      "source": [
        "run prime_main"
      ],
      "execution_count": null,
      "outputs": [
        {
          "output_type": "stream",
          "name": "stdout",
          "text": [
            "False\n",
            "True\n"
          ]
        }
      ]
    },
    {
      "cell_type": "code",
      "metadata": {
        "id": "MkgQmd2xrmlB"
      },
      "source": [
        "import prime_main"
      ],
      "execution_count": null,
      "outputs": []
    },
    {
      "cell_type": "markdown",
      "metadata": {
        "id": "Sk4deUrlrmlD"
      },
      "source": [
        " # Formatting output data"
      ]
    },
    {
      "cell_type": "markdown",
      "metadata": {
        "id": "zl_g_LW5rmlD"
      },
      "source": [
        "When printing, printing is often required in some way. Python contains many ways to do this. In Python 3, this is done using the **.format()** method of a string object. In the following example, values are placed in the string with placeholders \\{ \\}"
      ]
    },
    {
      "cell_type": "code",
      "metadata": {
        "id": "Cc36FPkKrmlD",
        "colab": {
          "base_uri": "https://localhost:8080/"
        },
        "outputId": "91f61a23-02d2-442a-e92c-c0f869e6f13c"
      },
      "source": [
        "a = 2.0\n",
        "b = 45.0\n",
        "c = 1500\n",
        "d = \"My string\"\n",
        "\n",
        "form_string = \"{}, {}, {}, {}\".format(a, b, c, d)\n",
        "\n",
        "print(form_string)"
      ],
      "execution_count": null,
      "outputs": [
        {
          "output_type": "stream",
          "name": "stdout",
          "text": [
            "2.0-45.0-1500-My string\n"
          ]
        }
      ]
    },
    {
      "cell_type": "markdown",
      "metadata": {
        "id": "aN90vIudrmlF"
      },
      "source": [
        "You can also refer to the variable with indices in the placeholders."
      ]
    },
    {
      "cell_type": "code",
      "metadata": {
        "id": "L3CCs1JFrmlG",
        "colab": {
          "base_uri": "https://localhost:8080/"
        },
        "outputId": "f3fba0e6-97f8-4e88-b030-b05aec5f0baf"
      },
      "source": [
        "form_string = \"{3}, {2}, {1}, {0}\".format(a, b, c, d)\n",
        "print(form_string)"
      ],
      "execution_count": null,
      "outputs": [
        {
          "output_type": "stream",
          "name": "stdout",
          "text": [
            "My string, 1500, 45.0, 2.0\n"
          ]
        }
      ]
    },
    {
      "cell_type": "markdown",
      "metadata": {
        "id": "Ca0AptwJrmlI"
      },
      "source": [
        "## String formatting"
      ]
    },
    {
      "cell_type": "markdown",
      "metadata": {
        "id": "VisYAmLrrmlJ"
      },
      "source": [
        "For string variables, a width can be given for printing. The given string will then be placed within the specified width. By default, the string is left-aligned in the field. In the following example, the string \"Python 3\" is placed in a 15-character wide field with different formatting options"
      ]
    },
    {
      "cell_type": "code",
      "metadata": {
        "id": "aKgvkn5DrmlK",
        "colab": {
          "base_uri": "https://localhost:8080/"
        },
        "outputId": "0b57319e-eaad-4426-e6bf-96e1d06123cf"
      },
      "source": [
        "form_string = \">{:15}<\".format(\"Python 3\")\n",
        "print(form_string)"
      ],
      "execution_count": null,
      "outputs": [
        {
          "output_type": "stream",
          "name": "stdout",
          "text": [
            ">Python 3       <\n"
          ]
        }
      ]
    },
    {
      "cell_type": "markdown",
      "metadata": {
        "id": "Bel7TNYTrmlL"
      },
      "source": [
        "Right alignment is done by using > in the placeholder.\n"
      ]
    },
    {
      "cell_type": "code",
      "metadata": {
        "id": "hOhWt8GxrmlL",
        "colab": {
          "base_uri": "https://localhost:8080/"
        },
        "outputId": "5dd8676c-1a90-44f6-91b9-f812c5d6ee81"
      },
      "source": [
        "form_string = \">{:>15}<\".format(\"Python 3\")\n",
        "print(form_string)"
      ],
      "execution_count": null,
      "outputs": [
        {
          "output_type": "stream",
          "name": "stdout",
          "text": [
            ">       Python 3<\n"
          ]
        }
      ]
    },
    {
      "cell_type": "markdown",
      "metadata": {
        "id": "mmgbgwTXrmlO"
      },
      "source": [
        "Centering is achieved by using the ^ operator\n"
      ]
    },
    {
      "cell_type": "code",
      "metadata": {
        "id": "cmvKXekMrmlO",
        "colab": {
          "base_uri": "https://localhost:8080/"
        },
        "outputId": "80e61fc1-b4de-451e-fdbc-fb8b8f1802b0"
      },
      "source": [
        "form_string = \">{:^15}<\".format(\"Python 3\")\n",
        "print(form_string)"
      ],
      "execution_count": null,
      "outputs": [
        {
          "output_type": "stream",
          "name": "stdout",
          "text": [
            ">   Python 3    <\n"
          ]
        }
      ]
    },
    {
      "cell_type": "markdown",
      "metadata": {
        "id": "qmDtDGuTrmlP"
      },
      "source": [
        "To fill in, enter a fill character in the placeholder:\n"
      ]
    },
    {
      "cell_type": "code",
      "metadata": {
        "id": "Y6Qb1GuwrmlQ",
        "colab": {
          "base_uri": "https://localhost:8080/"
        },
        "outputId": "2ccf0d59-8607-4e94-8b76-d50148ce7a4c"
      },
      "source": [
        "form_string = \">{:_^15}<\".format(\"Python 3\")\n",
        "print(form_string)"
      ],
      "execution_count": null,
      "outputs": [
        {
          "output_type": "stream",
          "name": "stdout",
          "text": [
            ">___Python 3____<\n"
          ]
        }
      ]
    },
    {
      "cell_type": "markdown",
      "metadata": {
        "id": "kOsdXBWtrmlR"
      },
      "source": [
        "## Formatting of integers\n"
      ]
    },
    {
      "cell_type": "markdown",
      "metadata": {
        "id": "1pwZ9FPhrmlS"
      },
      "source": [
        "Just as for strings, printing of integers can also be controlled with placeholders. The placeholder for integers is **\\{:d\\}** as shown in the example below:"
      ]
    },
    {
      "cell_type": "code",
      "metadata": {
        "id": "TnxO8WjFrmlS",
        "colab": {
          "base_uri": "https://localhost:8080/"
        },
        "outputId": "dad6c6ea-2d32-45dd-aab2-7aaf8aed4aae"
      },
      "source": [
        "form_string = \">{:d}<\".format(42)\n",
        "print(form_string)"
      ],
      "execution_count": null,
      "outputs": [
        {
          "output_type": "stream",
          "name": "stdout",
          "text": [
            ">42<\n"
          ]
        }
      ]
    },
    {
      "cell_type": "markdown",
      "metadata": {
        "id": "nXZTsittrmlU"
      },
      "source": [
        "The field width can also be controlled just as for strings:"
      ]
    },
    {
      "cell_type": "code",
      "metadata": {
        "id": "qw7HRUIGrmlU",
        "colab": {
          "base_uri": "https://localhost:8080/"
        },
        "outputId": "83de9c0e-a6b9-468f-8bbe-1b1377bb2d84"
      },
      "source": [
        "print(\">{:10d}<\".format(42))\n",
        "print(\">{:>10d}<\".format(42))\n",
        "print(\">{:<10d}<\".format(42))\n",
        "print(\">{:^10d}<\".format(42))\n",
        "print(\">{:_<10d}<\".format(42))\n",
        "print(\">{:0>10d}<\".format(42))"
      ],
      "execution_count": null,
      "outputs": [
        {
          "output_type": "stream",
          "name": "stdout",
          "text": [
            ">        42<\n",
            ">        42<\n",
            ">42        <\n",
            ">    42    <\n",
            ">42________<\n",
            ">0000000042<\n"
          ]
        }
      ]
    },
    {
      "cell_type": "markdown",
      "metadata": {
        "id": "7_Si7LTxrmll"
      },
      "source": [
        "## Formatting floating point values"
      ]
    },
    {
      "cell_type": "markdown",
      "metadata": {
        "id": "oimO9vxJrmll"
      },
      "source": [
        "Fixed form of floating point is formatted using the **\\{:f\\}** placeholder. Field width and number of decimal places can be specified. In the following example, the field width 10 and the number of decimal places are varied from 2 to 6."
      ]
    },
    {
      "cell_type": "code",
      "metadata": {
        "id": "U2_UZntZrmll",
        "colab": {
          "base_uri": "https://localhost:8080/"
        },
        "outputId": "4286b74a-046e-46dc-c5be-4ae9a67c9ad7"
      },
      "source": [
        "print(\">{:10.2f}<\".format(3.141592653589793))\n",
        "print(\">{:10.4f}<\".format(3.141592653589793))\n",
        "print(\">{:10.6f}<\".format(3.141592653589793))"
      ],
      "execution_count": null,
      "outputs": [
        {
          "output_type": "stream",
          "name": "stdout",
          "text": [
            ">      3.14<\n",
            ">    3.1416<\n",
            ">  3.141593<\n"
          ]
        }
      ]
    },
    {
      "cell_type": "markdown",
      "metadata": {
        "id": "762ubqocrmlm"
      },
      "source": [
        "Scientific notation can be specified with the placeholder **{:e}**."
      ]
    },
    {
      "cell_type": "code",
      "metadata": {
        "id": "IDVT5x5Frmln",
        "colab": {
          "base_uri": "https://localhost:8080/"
        },
        "outputId": "cecd3b27-b12a-4fd5-c026-d5790bfb4b99"
      },
      "source": [
        "print(\">{:15.2e}<\".format(3.141592653589793))\n",
        "print(\">{:15.4e}<\".format(3.141592653589793))\n",
        "print(\">{:15.6e}<\".format(3.141592653589793))"
      ],
      "execution_count": null,
      "outputs": [
        {
          "output_type": "stream",
          "name": "stdout",
          "text": [
            ">       3.14e+00<\n",
            ">     3.1416e+00<\n",
            ">   3.141593e+00<\n"
          ]
        }
      ]
    },
    {
      "cell_type": "markdown",
      "metadata": {
        "id": "uq7z_nWBrmlo"
      },
      "source": [
        "## Named placeholders"
      ]
    },
    {
      "cell_type": "markdown",
      "metadata": {
        "id": "FN9umca0rmlo"
      },
      "source": [
        "To support more complex formatting, it is possible to use named placeholders with the **.format()** method. Parameters must then be named in the call to the **.format()** method:"
      ]
    },
    {
      "cell_type": "code",
      "metadata": {
        "id": "nLDhzqeSrmlp",
        "colab": {
          "base_uri": "https://localhost:8080/"
        },
        "outputId": "f4948cde-e44c-4a29-ddd7-2e0123fbc2c5"
      },
      "source": [
        "print(\"({x}, {y})\".format(x = 0.0, y = 2.0))"
      ],
      "execution_count": null,
      "outputs": [
        {
          "output_type": "stream",
          "name": "stdout",
          "text": [
            "(0.0, 2.0)\n"
          ]
        }
      ]
    },
    {
      "cell_type": "markdown",
      "metadata": {
        "id": "m5uc2ebArmlq"
      },
      "source": [
        "It is also possible to directly use a dictionary in the **.format()** method.\n"
      ]
    },
    {
      "cell_type": "code",
      "metadata": {
        "id": "23XemrXPrmlq",
        "colab": {
          "base_uri": "https://localhost:8080/"
        },
        "outputId": "bc069013-17d1-4f35-868e-574d5e479f39"
      },
      "source": [
        "params = {\"value1\": 42, \"value2\": 3.14, \"value3\": \"Python\"}\n",
        "print(\"{value1}, {value2}, {value3}\".format(**params))"
      ],
      "execution_count": null,
      "outputs": [
        {
          "output_type": "stream",
          "name": "stdout",
          "text": [
            "42, 3.14, Python\n"
          ]
        }
      ]
    },
    {
      "cell_type": "markdown",
      "metadata": {
        "id": "tSBxEmuMrmls"
      },
      "source": [
        "Everything in Python is stored in lookup lists, even the variables are defined in a lookup list. In the following example, variables are defined in the script and the glossary of global variables can be returned with the **globals()** function."
      ]
    },
    {
      "cell_type": "code",
      "metadata": {
        "id": "nNPo1Pcs3Kjj",
        "colab": {
          "base_uri": "https://localhost:8080/"
        },
        "outputId": "a319601e-2b05-40fc-8d21-73ab82ef715c"
      },
      "source": [
        "print(globals())"
      ],
      "execution_count": null,
      "outputs": [
        {
          "output_type": "stream",
          "name": "stdout",
          "text": [
            "{'__name__': '__main__', '__doc__': 'Module created for script run in IPython', '__package__': None, '__loader__': None, '__spec__': None, '__builtin__': <module 'builtins' (built-in)>, '__builtins__': <module 'builtins' (built-in)>, '_ih': ['', 'for i in range(5): # Markerar start av kodblock\\n    print(i)       # Indraget kodblock.\\n\\nprint(\"Denna sats tillhör inte kodblocket\")', 'for i in range(5): # Markerar start av kodblock\\n    print(i)       # Indraget kodblock.\\n    print(i*2)\\n\\nprint(\"Denna sats tillhör inte kodblocket\")', 'for i in range(5): # Markerar start av kodblock\\n    print(i)       # Indraget kodblock.\\n\\nprint(\"Denna sats tillhör inte kodblocket\")', 'for i in range(10):  # Sekvens 0 - 9\\n    print(i)', 'for i in range(5, 11): # Sekvens 5 - 10\\n    print(i)', 'for i in range(5,21,3): # Sekvens med steglängd 3\\n    print(i)', \"values = [1, 3, 6, 4, 'hej', 1.0, 42]\\n\\nfor value in values:\\n    print(value)\", 'a = [\"a\", \"b\", \"c\", \"d\", \"e\"]\\nb = [5, 4, 3, 2, 1]\\nfor i in range(len(a)):\\n    print(a[i], \",\", b[i])', \"a = [5, 4, 3, 2, 1]\\nfor i, value in enumerate(a):\\n    print(i, ', ', value)\", 'x_pos = [50, 130, 200, 250]\\ny_pos = [50, 70, 220, 300]\\n\\nfor x, y in zip(x_pos, y_pos):\\n    print(x, y)\\n\\nprint(list(zip(x_pos, y_pos)))', 'points = [[50,50], [130,70], [200,220], [250,300]]\\n\\nfor p in points:\\n    for coord in p:\\n        print(coord)', \"name_dict = {'Petra': '9046112', 'David': '1234145', 'Olle': '534532', 'Peter': 734847}\\n\\nfor key, value in name_dict.items():\\n    print(key, ', ', value)\", \"name_dict = {'Petra': '9046112', 'David': '1234145', 'Olle': '534532', 'Peter': 734847}\\n\\nfor value in name_dict.values():\\n    print(value)\", \"name_dict = {'Petra': '9046112', 'David': '1234145', 'Olle': '534532', 'Peter': 734847}\\n\\nfor key in name_dict.keys():\\n    print(key, ', ', name_dict[key])\", 'from math import *\\n\\nsum = 0.0\\nerr = 1e-2\\nk = 1\\n\\nwhile abs(pi-4*sum)>err:\\n    sum += pow(-1, k+1) / (2*k-1)\\n    k = k + 1\\n    print(\"Iteration\", k, \"pi = \", 4*sum, \"err = \", abs(-pi-4*sum))', 'i = 0\\nif i == 0:\\n    print(\"i = 0\")', 'i = 1\\nif i == 0:\\n    print(\"i = 0\")\\nelse:\\n    print(\"i är inte 0\")', 'if i == 0:\\n    print(\"i == 0\")\\nelif i < 1:\\n    print(\"i < 1\")\\nelif i > 1:\\n    print(\"i > 1\")\\nelse:\\n    print(\"Mittemellan\")', 'for i in range(20):\\n    if i == 10:\\n        print(\"exits loop\")\\n        break\\n    if i == 5:\\n        print(\"Go to next iteration\")\\n        continue\\n    print(i)\\n\\nprint(\"...after the loop\")', 'def print_doc():\\n    print(\"Detta är en utskrift från en funktion\")', 'print_doc()', 'def print_value(a):\\n    print(\"Värdet är \"+str(a))', 'b = 42\\nprint_value(b)', 'b = 42.0\\nprint_value(b)', 'b = True\\nprint_value(b)', 'b = \"Hej\"\\nprint_value(b)', 'def print_value(a):\\n    print(\"Värdet är \"+str(a))\\n    a = 84', 'b = 42\\nprint_value(b)\\nprint(b)', 'from math import *\\n\\ndef f(x):\\n    return sin(x)\\n\\ndef test(x):\\n    return x, x/2\\n\\nx = pi/2\\ny = f(x)\\n\\nprint(y)\\n\\nx, y = test(42)\\n\\nprint(x, y)', 'a = [1, 2, 3, 4]\\n\\ndef modify_list(b):\\n    b[0] = 42\\n\\nmodify_list(a)\\n\\nprint(a)', 'import math\\n\\nprint(math.sin(math.pi/2))', 'from math import *\\n\\nprint(sin(pi/2))', \"get_ipython().system('wget https://raw.githubusercontent.com/jonaslindemann/guide_to_python/master/chapters/kapitel3/notebooks/prime.py')\", 'import prime', 'print(prime.is_prime(3))', 'print(prime.is_prime(8))', \"get_ipython().system('wget https://raw.githubusercontent.com/jonaslindemann/guide_to_python/master/chapters/kapitel3/notebooks/prime_extra.py')\", \"get_ipython().system('wget https://raw.githubusercontent.com/jonaslindemann/guide_to_python/master/chapters/kapitel3/notebooks/prime_main.py')\", 'import prime_extra', \"get_ipython().run_line_magic('run', 'prime_extra')\", \"get_ipython().run_line_magic('run', 'prime_main')\", 'import prime_main', 'a = 2.0\\nb = 45.0\\nc = 1500\\nd = \"My string\"\\n\\nform_string = \"{}, {}, {}, {}\".format(a, b, c, d)\\n\\nprint(form_string)', 'a = 2.0\\nb = 45.0\\nc = 1500\\nd = \"My string\"\\n\\nform_string = \"{}-{}-{}-{}\".format(a, b, c, d)\\n\\nprint(form_string)', 'form_string = \"{3}, {2}, {1}, {0}\".format(a, b, c, d)\\nprint(form_string)', 'form_string = \">{:15}<\".format(\"Python 3\")\\nprint(form_string)', 'form_string = \">{:>15}<\".format(\"Python 3\")\\nprint(form_string)', 'form_string = \">{:^15}<\".format(\"Python 3\")\\nprint(form_string)', 'form_string = \">{:_^15}<\".format(\"Python 3\")\\nprint(form_string)', 'form_string = \">{:d}<\".format(42)\\nprint(form_string)', 'print(\">{:10d}<\".format(42))\\nprint(\">{:>10d}<\".format(42))\\nprint(\">{:<10d}<\".format(42))\\nprint(\">{:^10d}<\".format(42))\\nprint(\">{:_<10d}<\".format(42))\\nprint(\">{:0>10d}<\".format(42))', 'print(\">{:10.2f}<\".format(3.141592653589793))\\nprint(\">{:10.4f}<\".format(3.141592653589793))\\nprint(\">{:10.6f}<\".format(3.141592653589793))', 'print(\">{:15.2e}<\".format(3.141592653589793))\\nprint(\">{:15.4e}<\".format(3.141592653589793))\\nprint(\">{:15.6e}<\".format(3.141592653589793))', 'print(\"({x}, {y})\".format(x = 0.0, y = 2.0))', 'params = {\"value1\": 42, \"value2\": 3.14, \"value3\": \"Python\"}\\nprint(\"{value1}, {value2}, {value3}\".format(**params))', 'print(globals())'], '_oh': {}, '_dh': ['/content'], 'In': ['', 'for i in range(5): # Markerar start av kodblock\\n    print(i)       # Indraget kodblock.\\n\\nprint(\"Denna sats tillhör inte kodblocket\")', 'for i in range(5): # Markerar start av kodblock\\n    print(i)       # Indraget kodblock.\\n    print(i*2)\\n\\nprint(\"Denna sats tillhör inte kodblocket\")', 'for i in range(5): # Markerar start av kodblock\\n    print(i)       # Indraget kodblock.\\n\\nprint(\"Denna sats tillhör inte kodblocket\")', 'for i in range(10):  # Sekvens 0 - 9\\n    print(i)', 'for i in range(5, 11): # Sekvens 5 - 10\\n    print(i)', 'for i in range(5,21,3): # Sekvens med steglängd 3\\n    print(i)', \"values = [1, 3, 6, 4, 'hej', 1.0, 42]\\n\\nfor value in values:\\n    print(value)\", 'a = [\"a\", \"b\", \"c\", \"d\", \"e\"]\\nb = [5, 4, 3, 2, 1]\\nfor i in range(len(a)):\\n    print(a[i], \",\", b[i])', \"a = [5, 4, 3, 2, 1]\\nfor i, value in enumerate(a):\\n    print(i, ', ', value)\", 'x_pos = [50, 130, 200, 250]\\ny_pos = [50, 70, 220, 300]\\n\\nfor x, y in zip(x_pos, y_pos):\\n    print(x, y)\\n\\nprint(list(zip(x_pos, y_pos)))', 'points = [[50,50], [130,70], [200,220], [250,300]]\\n\\nfor p in points:\\n    for coord in p:\\n        print(coord)', \"name_dict = {'Petra': '9046112', 'David': '1234145', 'Olle': '534532', 'Peter': 734847}\\n\\nfor key, value in name_dict.items():\\n    print(key, ', ', value)\", \"name_dict = {'Petra': '9046112', 'David': '1234145', 'Olle': '534532', 'Peter': 734847}\\n\\nfor value in name_dict.values():\\n    print(value)\", \"name_dict = {'Petra': '9046112', 'David': '1234145', 'Olle': '534532', 'Peter': 734847}\\n\\nfor key in name_dict.keys():\\n    print(key, ', ', name_dict[key])\", 'from math import *\\n\\nsum = 0.0\\nerr = 1e-2\\nk = 1\\n\\nwhile abs(pi-4*sum)>err:\\n    sum += pow(-1, k+1) / (2*k-1)\\n    k = k + 1\\n    print(\"Iteration\", k, \"pi = \", 4*sum, \"err = \", abs(-pi-4*sum))', 'i = 0\\nif i == 0:\\n    print(\"i = 0\")', 'i = 1\\nif i == 0:\\n    print(\"i = 0\")\\nelse:\\n    print(\"i är inte 0\")', 'if i == 0:\\n    print(\"i == 0\")\\nelif i < 1:\\n    print(\"i < 1\")\\nelif i > 1:\\n    print(\"i > 1\")\\nelse:\\n    print(\"Mittemellan\")', 'for i in range(20):\\n    if i == 10:\\n        print(\"exits loop\")\\n        break\\n    if i == 5:\\n        print(\"Go to next iteration\")\\n        continue\\n    print(i)\\n\\nprint(\"...after the loop\")', 'def print_doc():\\n    print(\"Detta är en utskrift från en funktion\")', 'print_doc()', 'def print_value(a):\\n    print(\"Värdet är \"+str(a))', 'b = 42\\nprint_value(b)', 'b = 42.0\\nprint_value(b)', 'b = True\\nprint_value(b)', 'b = \"Hej\"\\nprint_value(b)', 'def print_value(a):\\n    print(\"Värdet är \"+str(a))\\n    a = 84', 'b = 42\\nprint_value(b)\\nprint(b)', 'from math import *\\n\\ndef f(x):\\n    return sin(x)\\n\\ndef test(x):\\n    return x, x/2\\n\\nx = pi/2\\ny = f(x)\\n\\nprint(y)\\n\\nx, y = test(42)\\n\\nprint(x, y)', 'a = [1, 2, 3, 4]\\n\\ndef modify_list(b):\\n    b[0] = 42\\n\\nmodify_list(a)\\n\\nprint(a)', 'import math\\n\\nprint(math.sin(math.pi/2))', 'from math import *\\n\\nprint(sin(pi/2))', \"get_ipython().system('wget https://raw.githubusercontent.com/jonaslindemann/guide_to_python/master/chapters/kapitel3/notebooks/prime.py')\", 'import prime', 'print(prime.is_prime(3))', 'print(prime.is_prime(8))', \"get_ipython().system('wget https://raw.githubusercontent.com/jonaslindemann/guide_to_python/master/chapters/kapitel3/notebooks/prime_extra.py')\", \"get_ipython().system('wget https://raw.githubusercontent.com/jonaslindemann/guide_to_python/master/chapters/kapitel3/notebooks/prime_main.py')\", 'import prime_extra', \"get_ipython().run_line_magic('run', 'prime_extra')\", \"get_ipython().run_line_magic('run', 'prime_main')\", 'import prime_main', 'a = 2.0\\nb = 45.0\\nc = 1500\\nd = \"My string\"\\n\\nform_string = \"{}, {}, {}, {}\".format(a, b, c, d)\\n\\nprint(form_string)', 'a = 2.0\\nb = 45.0\\nc = 1500\\nd = \"My string\"\\n\\nform_string = \"{}-{}-{}-{}\".format(a, b, c, d)\\n\\nprint(form_string)', 'form_string = \"{3}, {2}, {1}, {0}\".format(a, b, c, d)\\nprint(form_string)', 'form_string = \">{:15}<\".format(\"Python 3\")\\nprint(form_string)', 'form_string = \">{:>15}<\".format(\"Python 3\")\\nprint(form_string)', 'form_string = \">{:^15}<\".format(\"Python 3\")\\nprint(form_string)', 'form_string = \">{:_^15}<\".format(\"Python 3\")\\nprint(form_string)', 'form_string = \">{:d}<\".format(42)\\nprint(form_string)', 'print(\">{:10d}<\".format(42))\\nprint(\">{:>10d}<\".format(42))\\nprint(\">{:<10d}<\".format(42))\\nprint(\">{:^10d}<\".format(42))\\nprint(\">{:_<10d}<\".format(42))\\nprint(\">{:0>10d}<\".format(42))', 'print(\">{:10.2f}<\".format(3.141592653589793))\\nprint(\">{:10.4f}<\".format(3.141592653589793))\\nprint(\">{:10.6f}<\".format(3.141592653589793))', 'print(\">{:15.2e}<\".format(3.141592653589793))\\nprint(\">{:15.4e}<\".format(3.141592653589793))\\nprint(\">{:15.6e}<\".format(3.141592653589793))', 'print(\"({x}, {y})\".format(x = 0.0, y = 2.0))', 'params = {\"value1\": 42, \"value2\": 3.14, \"value3\": \"Python\"}\\nprint(\"{value1}, {value2}, {value3}\".format(**params))', 'print(globals())'], 'Out': {}, 'get_ipython': <bound method InteractiveShell.get_ipython of <google.colab._shell.Shell object at 0x7fb4a0208a10>>, 'exit': <IPython.core.autocall.ZMQExitAutocall object at 0x7fb49cf52a10>, 'quit': <IPython.core.autocall.ZMQExitAutocall object at 0x7fb49cf52a10>, '_': '', '__': '', '___': '', '_i': 'params = {\"value1\": 42, \"value2\": 3.14, \"value3\": \"Python\"}\\nprint(\"{value1}, {value2}, {value3}\".format(**params))', '_ii': 'print(\"({x}, {y})\".format(x = 0.0, y = 2.0))', '_iii': 'print(\">{:15.2e}<\".format(3.141592653589793))\\nprint(\">{:15.4e}<\".format(3.141592653589793))\\nprint(\">{:15.6e}<\".format(3.141592653589793))', '_i1': 'for i in range(5): # Markerar start av kodblock\\n    print(i)       # Indraget kodblock.\\n\\nprint(\"Denna sats tillhör inte kodblocket\")', 'i': 10, '_i2': 'for i in range(5): # Markerar start av kodblock\\n    print(i)       # Indraget kodblock.\\n    print(i*2)\\n\\nprint(\"Denna sats tillhör inte kodblocket\")', '_i3': 'for i in range(5): # Markerar start av kodblock\\n    print(i)       # Indraget kodblock.\\n\\nprint(\"Denna sats tillhör inte kodblocket\")', '_i4': 'for i in range(10):  # Sekvens 0 - 9\\n    print(i)', '_i5': 'for i in range(5, 11): # Sekvens 5 - 10\\n    print(i)', '_i6': 'for i in range(5,21,3): # Sekvens med steglängd 3\\n    print(i)', '_i7': \"values = [1, 3, 6, 4, 'hej', 1.0, 42]\\n\\nfor value in values:\\n    print(value)\", 'values': [1, 3, 6, 4, 'hej', 1.0, 42], 'value': 734847, '_i8': 'a = [\"a\", \"b\", \"c\", \"d\", \"e\"]\\nb = [5, 4, 3, 2, 1]\\nfor i in range(len(a)):\\n    print(a[i], \",\", b[i])', 'a': 2.0, 'b': 45.0, '_i9': \"a = [5, 4, 3, 2, 1]\\nfor i, value in enumerate(a):\\n    print(i, ', ', value)\", '_i10': 'x_pos = [50, 130, 200, 250]\\ny_pos = [50, 70, 220, 300]\\n\\nfor x, y in zip(x_pos, y_pos):\\n    print(x, y)\\n\\nprint(list(zip(x_pos, y_pos)))', 'x_pos': [50, 130, 200, 250], 'y_pos': [50, 70, 220, 300], 'x': 42, 'y': 21.0, '_i11': 'points = [[50,50], [130,70], [200,220], [250,300]]\\n\\nfor p in points:\\n    for coord in p:\\n        print(coord)', 'points': [[50, 50], [130, 70], [200, 220], [250, 300]], 'p': [250, 300], 'coord': 300, '_i12': \"name_dict = {'Petra': '9046112', 'David': '1234145', 'Olle': '534532', 'Peter': 734847}\\n\\nfor key, value in name_dict.items():\\n    print(key, ', ', value)\", 'name_dict': {'Petra': '9046112', 'David': '1234145', 'Olle': '534532', 'Peter': 734847}, 'key': 'Peter', '_i13': \"name_dict = {'Petra': '9046112', 'David': '1234145', 'Olle': '534532', 'Peter': 734847}\\n\\nfor value in name_dict.values():\\n    print(value)\", '_i14': \"name_dict = {'Petra': '9046112', 'David': '1234145', 'Olle': '534532', 'Peter': 734847}\\n\\nfor key in name_dict.keys():\\n    print(key, ', ', name_dict[key])\", '_i15': 'from math import *\\n\\nsum = 0.0\\nerr = 1e-2\\nk = 1\\n\\nwhile abs(pi-4*sum)>err:\\n    sum += pow(-1, k+1) / (2*k-1)\\n    k = k + 1\\n    print(\"Iteration\", k, \"pi = \", 4*sum, \"err = \", abs(-pi-4*sum))', 'acos': <built-in function acos>, 'acosh': <built-in function acosh>, 'asin': <built-in function asin>, 'asinh': <built-in function asinh>, 'atan': <built-in function atan>, 'atan2': <built-in function atan2>, 'atanh': <built-in function atanh>, 'ceil': <built-in function ceil>, 'copysign': <built-in function copysign>, 'cos': <built-in function cos>, 'cosh': <built-in function cosh>, 'degrees': <built-in function degrees>, 'erf': <built-in function erf>, 'erfc': <built-in function erfc>, 'exp': <built-in function exp>, 'expm1': <built-in function expm1>, 'fabs': <built-in function fabs>, 'factorial': <built-in function factorial>, 'floor': <built-in function floor>, 'fmod': <built-in function fmod>, 'frexp': <built-in function frexp>, 'fsum': <built-in function fsum>, 'gamma': <built-in function gamma>, 'gcd': <built-in function gcd>, 'hypot': <built-in function hypot>, 'isclose': <built-in function isclose>, 'isfinite': <built-in function isfinite>, 'isinf': <built-in function isinf>, 'isnan': <built-in function isnan>, 'ldexp': <built-in function ldexp>, 'lgamma': <built-in function lgamma>, 'log': <built-in function log>, 'log1p': <built-in function log1p>, 'log10': <built-in function log10>, 'log2': <built-in function log2>, 'modf': <built-in function modf>, 'pow': <built-in function pow>, 'radians': <built-in function radians>, 'remainder': <built-in function remainder>, 'sin': <built-in function sin>, 'sinh': <built-in function sinh>, 'sqrt': <built-in function sqrt>, 'tan': <built-in function tan>, 'tanh': <built-in function tanh>, 'trunc': <built-in function trunc>, 'pi': 3.141592653589793, 'e': 2.718281828459045, 'tau': 6.283185307179586, 'inf': inf, 'nan': nan, 'sum': 0.7828982258896384, 'err': 0.01, 'k': 101, '_i16': 'i = 0\\nif i == 0:\\n    print(\"i = 0\")', '_i17': 'i = 1\\nif i == 0:\\n    print(\"i = 0\")\\nelse:\\n    print(\"i är inte 0\")', '_i18': 'if i == 0:\\n    print(\"i == 0\")\\nelif i < 1:\\n    print(\"i < 1\")\\nelif i > 1:\\n    print(\"i > 1\")\\nelse:\\n    print(\"Mittemellan\")', '_i19': 'for i in range(20):\\n    if i == 10:\\n        print(\"exits loop\")\\n        break\\n    if i == 5:\\n        print(\"Go to next iteration\")\\n        continue\\n    print(i)\\n\\nprint(\"...after the loop\")', '_i20': 'def print_doc():\\n    print(\"Detta är en utskrift från en funktion\")', 'print_doc': <function print_doc at 0x7fb48e4b6cb0>, '_i21': 'print_doc()', '_i22': 'def print_value(a):\\n    print(\"Värdet är \"+str(a))', 'print_value': <function print_value at 0x7fb48e4d3680>, '_i23': 'b = 42\\nprint_value(b)', '_i24': 'b = 42.0\\nprint_value(b)', '_i25': 'b = True\\nprint_value(b)', '_i26': 'b = \"Hej\"\\nprint_value(b)', '_i27': 'def print_value(a):\\n    print(\"Värdet är \"+str(a))\\n    a = 84', '_i28': 'b = 42\\nprint_value(b)\\nprint(b)', '_i29': 'from math import *\\n\\ndef f(x):\\n    return sin(x)\\n\\ndef test(x):\\n    return x, x/2\\n\\nx = pi/2\\ny = f(x)\\n\\nprint(y)\\n\\nx, y = test(42)\\n\\nprint(x, y)', 'f': <function f at 0x7fb48e52b4d0>, 'test': <function test at 0x7fb48e52b170>, '_i30': 'a = [1, 2, 3, 4]\\n\\ndef modify_list(b):\\n    b[0] = 42\\n\\nmodify_list(a)\\n\\nprint(a)', 'modify_list': <function modify_list at 0x7fb48e566ef0>, '_i31': 'import math\\n\\nprint(math.sin(math.pi/2))', 'math': <module 'math' (built-in)>, '_i32': 'from math import *\\n\\nprint(sin(pi/2))', '_i33': '!wget https://raw.githubusercontent.com/jonaslindemann/guide_to_python/master/chapters/kapitel3/notebooks/prime.py', '_exit_code': 0, '_i34': 'import prime', 'prime': <module 'prime' from '/content/prime.py'>, '_i35': 'print(prime.is_prime(3))', '_i36': 'print(prime.is_prime(8))', '_i37': '!wget https://raw.githubusercontent.com/jonaslindemann/guide_to_python/master/chapters/kapitel3/notebooks/prime_extra.py', '_i38': '!wget https://raw.githubusercontent.com/jonaslindemann/guide_to_python/master/chapters/kapitel3/notebooks/prime_main.py', '_i39': 'import prime_extra', 'prime_extra': <module 'prime_extra' from '/content/prime_extra.py'>, '_i40': 'run prime_extra', '__nonzero__': <function InteractiveShell.new_main_mod.<locals>.<lambda> at 0x7fb48e4b6b90>, 'is_prime': <function is_prime at 0x7fb48e4d3320>, '_i41': 'run prime_main', '_i42': 'import prime_main', 'prime_main': <module 'prime_main' from '/content/prime_main.py'>, '_i43': 'a = 2.0\\nb = 45.0\\nc = 1500\\nd = \"My string\"\\n\\nform_string = \"{}, {}, {}, {}\".format(a, b, c, d)\\n\\nprint(form_string)', 'c': 1500, 'd': 'My string', 'form_string': '>42<', '_i44': 'a = 2.0\\nb = 45.0\\nc = 1500\\nd = \"My string\"\\n\\nform_string = \"{}-{}-{}-{}\".format(a, b, c, d)\\n\\nprint(form_string)', '_i45': 'form_string = \"{3}, {2}, {1}, {0}\".format(a, b, c, d)\\nprint(form_string)', '_i46': 'form_string = \">{:15}<\".format(\"Python 3\")\\nprint(form_string)', '_i47': 'form_string = \">{:>15}<\".format(\"Python 3\")\\nprint(form_string)', '_i48': 'form_string = \">{:^15}<\".format(\"Python 3\")\\nprint(form_string)', '_i49': 'form_string = \">{:_^15}<\".format(\"Python 3\")\\nprint(form_string)', '_i50': 'form_string = \">{:d}<\".format(42)\\nprint(form_string)', '_i51': 'print(\">{:10d}<\".format(42))\\nprint(\">{:>10d}<\".format(42))\\nprint(\">{:<10d}<\".format(42))\\nprint(\">{:^10d}<\".format(42))\\nprint(\">{:_<10d}<\".format(42))\\nprint(\">{:0>10d}<\".format(42))', '_i52': 'print(\">{:10.2f}<\".format(3.141592653589793))\\nprint(\">{:10.4f}<\".format(3.141592653589793))\\nprint(\">{:10.6f}<\".format(3.141592653589793))', '_i53': 'print(\">{:15.2e}<\".format(3.141592653589793))\\nprint(\">{:15.4e}<\".format(3.141592653589793))\\nprint(\">{:15.6e}<\".format(3.141592653589793))', '_i54': 'print(\"({x}, {y})\".format(x = 0.0, y = 2.0))', '_i55': 'params = {\"value1\": 42, \"value2\": 3.14, \"value3\": \"Python\"}\\nprint(\"{value1}, {value2}, {value3}\".format(**params))', 'params': {'value1': 42, 'value2': 3.14, 'value3': 'Python'}, '_i56': 'print(globals())'}\n"
          ]
        }
      ]
    },
    {
      "cell_type": "code",
      "metadata": {
        "id": "E7Ozao4Ormlt",
        "colab": {
          "base_uri": "https://localhost:8080/"
        },
        "outputId": "bb3de6db-8b99-4604-9f84-b64269fa4180"
      },
      "source": [
        "value1 = 34\n",
        "value2 = 84\n",
        "value3 = \"Easy as pie!\"\n",
        "print(\"{value1}, {value2}, {value3}\".format(**globals()))"
      ],
      "execution_count": null,
      "outputs": [
        {
          "output_type": "stream",
          "name": "stdout",
          "text": [
            "34, 84, Easy as pie!\n"
          ]
        }
      ]
    },
    {
      "cell_type": "markdown",
      "metadata": {
        "id": "fq7QJVR3rmlu"
      },
      "source": [
        "# Reading and writing files"
      ]
    },
    {
      "cell_type": "markdown",
      "metadata": {
        "id": "RzbheewRrmlv"
      },
      "source": [
        "One of the most important tasks in many applications is the ability to read and write files. To read and write files in Python, a special file object must be created. This file object creates a link between Python and a file in the file system. With this object you can then write and read from the selected file.\n",
        "\n",
        "A file object is created with the **open()** statement."
      ]
    },
    {
      "cell_type": "markdown",
      "metadata": {
        "id": "qKYfDI79rmlv"
      },
      "source": [
        "## Writing to a file"
      ]
    },
    {
      "cell_type": "markdown",
      "metadata": {
        "id": "rUjW7WwVrmlw"
      },
      "source": [
        "Text files are stored as rows of text. A text file can be opened for writing with the **open()** function.\n"
      ]
    },
    {
      "cell_type": "code",
      "metadata": {
        "id": "D_zvm8lurmlx"
      },
      "source": [
        "text_file = open(\"myfile.txt\", \"w\")"
      ],
      "execution_count": null,
      "outputs": []
    },
    {
      "cell_type": "markdown",
      "metadata": {
        "id": "-ufvtSabrmly"
      },
      "source": [
        "**text_file** is now our link to the file **myfile.txt** to which we will write.\n",
        "\n",
        "Writing to the file is done using the **.write()** method. The method basically acts as the **print()** function except that it adds aging to the control character for a new row after the call. New rows must specify the strings that are written to the file. In the following code writes to the file 3 times to print 2 lines."
      ]
    },
    {
      "cell_type": "code",
      "metadata": {
        "id": "3Mwbm2svrmly",
        "colab": {
          "base_uri": "https://localhost:8080/"
        },
        "outputId": "7ab0c5b6-db54-4f0b-b732-476262f8cd35"
      },
      "source": [
        "text_file.write(\"Filens innehåll. \")\n",
        "text_file.write(\"Detta skrivs ut på samma rad.\\n\")\n",
        "text_file.write(\"Denna text kommer på en ny rad\")"
      ],
      "execution_count": null,
      "outputs": [
        {
          "output_type": "execute_result",
          "data": {
            "text/plain": [
              "30"
            ]
          },
          "metadata": {},
          "execution_count": 59
        }
      ]
    },
    {
      "cell_type": "markdown",
      "metadata": {
        "id": "2jvPhDy5rml0"
      },
      "source": [
        "When we are ready to write to our file, it must be closed so that the operating system does not think it is still open. This is done with the meotden **.close()**."
      ]
    },
    {
      "cell_type": "code",
      "metadata": {
        "id": "7gtWJ2jRrml0"
      },
      "source": [
        "text_file.close()"
      ],
      "execution_count": null,
      "outputs": []
    },
    {
      "cell_type": "markdown",
      "metadata": {
        "id": "MfoZXMTMrml2"
      },
      "source": [
        "The contents of the file is now:"
      ]
    },
    {
      "cell_type": "code",
      "metadata": {
        "id": "Dn_V6WJdrml2",
        "colab": {
          "base_uri": "https://localhost:8080/"
        },
        "outputId": "036675d2-9272-4a5f-9f60-ccf8c8f9a6ec"
      },
      "source": [
        "!cat myfile.txt"
      ],
      "execution_count": null,
      "outputs": [
        {
          "output_type": "stream",
          "name": "stdout",
          "text": [
            "Filens innehåll. Detta skrivs ut på samma rad.\n",
            "Denna text kommer på en ny rad"
          ]
        }
      ]
    },
    {
      "cell_type": "markdown",
      "metadata": {
        "id": "PTYnxdfrrml3"
      },
      "source": [
        "## Reading from a file"
      ]
    },
    {
      "cell_type": "markdown",
      "metadata": {
        "id": "81FMnIktrml3"
      },
      "source": [
        "Opening a file for reading also happens with the **open()** function and the extra parameter \"r\""
      ]
    },
    {
      "cell_type": "code",
      "metadata": {
        "id": "-ch5fWW7rml3"
      },
      "source": [
        "text_file = open(\"myfile.txt\", \"r\")"
      ],
      "execution_count": null,
      "outputs": []
    },
    {
      "cell_type": "markdown",
      "metadata": {
        "id": "AXbf5eKXrml6"
      },
      "source": [
        "The entire file can be read into a string using the **.read()** method."
      ]
    },
    {
      "cell_type": "code",
      "metadata": {
        "id": "KEuu8waCrml6",
        "colab": {
          "base_uri": "https://localhost:8080/"
        },
        "outputId": "fcef64c1-14f1-4e7e-d4aa-1284598a7c68"
      },
      "source": [
        "content = text_file.read()\n",
        "text_file.close()\n",
        "\n",
        "print(content)"
      ],
      "execution_count": null,
      "outputs": [
        {
          "output_type": "stream",
          "name": "stdout",
          "text": [
            "Filens innehåll. Detta skrivs ut på samma rad.\n",
            "Denna text kommer på en ny rad\n"
          ]
        }
      ]
    },
    {
      "cell_type": "code",
      "source": [],
      "metadata": {
        "id": "vED3_kr-Q0xc"
      },
      "execution_count": null,
      "outputs": []
    },
    {
      "cell_type": "markdown",
      "metadata": {
        "id": "Rwcua3Nbrml7"
      },
      "source": [
        "Using **.read()** for large files can be very inefficient as the entire file must be stored in a single string. Then it is better to use the **.readline()** method to read one line at a time."
      ]
    },
    {
      "cell_type": "code",
      "metadata": {
        "id": "Iit_IEvbrml7",
        "colab": {
          "base_uri": "https://localhost:8080/"
        },
        "outputId": "c58cf9da-790f-4b6e-9bac-2827dec0ecd7"
      },
      "source": [
        "text_file = open(\"myfile.txt\", \"r\")\n",
        "\n",
        "line = text_file.readline()\n",
        "while line!='':\n",
        "    print(\">\"+line)\n",
        "    line = text_file.readline()\n",
        "    \n",
        "text_file.close()"
      ],
      "execution_count": null,
      "outputs": [
        {
          "output_type": "stream",
          "name": "stdout",
          "text": [
            ">Filens innehåll. Detta skrivs ut på samma rad.\n",
            "\n",
            ">Denna text kommer på en ny rad\n"
          ]
        }
      ]
    },
    {
      "cell_type": "markdown",
      "metadata": {
        "id": "aSFSkAT6rml9"
      },
      "source": [
        "The line between the print statements is because **.readline()** also reads any return characters from the files. We can use **.rstrip()** to remove these control characters."
      ]
    },
    {
      "cell_type": "code",
      "metadata": {
        "id": "ybHaxOWYrml9",
        "colab": {
          "base_uri": "https://localhost:8080/"
        },
        "outputId": "908bcacf-ecc4-4b77-b53d-dd9e5d493664"
      },
      "source": [
        "text_file = open(\"myfile.txt\", \"r\")\n",
        "\n",
        "line = text_file.readline().rstrip()\n",
        "\n",
        "while line!='':\n",
        "    print(\">\"+line)\n",
        "    line = text_file.readline().rstrip()\n",
        "\n",
        "text_file.close()"
      ],
      "execution_count": null,
      "outputs": [
        {
          "output_type": "stream",
          "name": "stdout",
          "text": [
            ">Filens innehåll. Detta skrivs ut på samma rad.\n",
            ">Denna text kommer på en ny rad\n"
          ]
        }
      ]
    },
    {
      "cell_type": "markdown",
      "metadata": {
        "id": "0TDzNthxrmmA"
      },
      "source": [
        "It is also possible to iterate over a file using the statement:"
      ]
    },
    {
      "cell_type": "code",
      "metadata": {
        "id": "5wxta1ZPrmmA",
        "colab": {
          "base_uri": "https://localhost:8080/"
        },
        "outputId": "37789b44-08b8-42db-cf3e-47e18c7e507f"
      },
      "source": [
        "text_file = open(\"myfile.txt\", \"r\")\n",
        "\n",
        "for line in text_file:\n",
        "    print(\">\"+line.rstrip())\n",
        "\n",
        "text_file.close()"
      ],
      "execution_count": null,
      "outputs": [
        {
          "output_type": "stream",
          "name": "stdout",
          "text": [
            ">Filens innehåll. Detta skrivs ut på samma rad.\n",
            ">Denna text kommer på en ny rad\n"
          ]
        }
      ]
    },
    {
      "cell_type": "markdown",
      "metadata": {
        "id": "x72QcNA7rmmB"
      },
      "source": [
        "Det går att läsa in hela filen till en lista av strängar genom att använda metoden **.readlines()** på filobjektet."
      ]
    },
    {
      "cell_type": "code",
      "metadata": {
        "id": "1fFm4zOcrmmB",
        "colab": {
          "base_uri": "https://localhost:8080/"
        },
        "outputId": "04db0477-5c04-49d1-acc2-d6be439a7717"
      },
      "source": [
        "text_file = open(\"myfile.txt\", \"r\")\n",
        "lines = text_file.readlines()\n",
        "text_file.close()\n",
        "\n",
        "print(lines)"
      ],
      "execution_count": null,
      "outputs": [
        {
          "output_type": "stream",
          "name": "stdout",
          "text": [
            "['Filens innehåll. Detta skrivs ut på samma rad.\\n', 'Denna text kommer på en ny rad']\n"
          ]
        }
      ]
    },
    {
      "cell_type": "markdown",
      "metadata": {
        "id": "_2ayLOWarmmE"
      },
      "source": [
        "## Open files using the with-statement"
      ]
    },
    {
      "cell_type": "markdown",
      "metadata": {
        "id": "BE9iHHorrmmE"
      },
      "source": [
        "Closing files after use is very important. To ensure that **.close()** will always be called, a special language construct, the **with** statement can be used. The code block for a ** with ** statement guarantees that the **.close()** method is always called.\n",
        "\n",
        "The following code opens a file with the **with** statement"
      ]
    },
    {
      "cell_type": "code",
      "metadata": {
        "id": "BXLY7oCirmmE",
        "colab": {
          "base_uri": "https://localhost:8080/"
        },
        "outputId": "1f78ddd9-70a4-4f9d-eec5-0cdb7986ab66"
      },
      "source": [
        "with open(\"myfile.txt\", \"r\") as text_file:\n",
        "    lines = text_file.readlines()\n",
        "\n",
        "print(lines)"
      ],
      "execution_count": null,
      "outputs": [
        {
          "output_type": "stream",
          "name": "stdout",
          "text": [
            "['Filens innehåll. Detta skrivs ut på samma rad.\\n', 'Denna text kommer på en ny rad']\n"
          ]
        }
      ]
    },
    {
      "cell_type": "markdown",
      "metadata": {
        "id": "riNMCKkOrmmG"
      },
      "source": [
        "# Error handling"
      ]
    },
    {
      "cell_type": "markdown",
      "metadata": {
        "id": "zPyY2K1vrmmH"
      },
      "source": [
        "Error management is often handled by calling features to investigate error status and then taking action depending on what the function returns. Handling errors in this way often makes the code easily complex. The following example checks whether a file exists before opening it. However, there may be several reasons why a file cannot be opened, which is not handled by the example:"
      ]
    },
    {
      "cell_type": "code",
      "metadata": {
        "id": "ZopQbIMFrmmH",
        "colab": {
          "base_uri": "https://localhost:8080/"
        },
        "outputId": "99980cd5-0f5b-4581-f0c3-25e9a942d42a"
      },
      "source": [
        "import os\n",
        "\n",
        "filename = \"myfil.txt\"\n",
        "\n",
        "if os.path.exists(filename):\n",
        "    with open(filename, \"r\") as text_file:\n",
        "        lines = text_file.readlines()\n",
        "else:\n",
        "    print(\"Filen \"+filename+\" hittades inte!\")"
      ],
      "execution_count": null,
      "outputs": [
        {
          "output_type": "stream",
          "name": "stdout",
          "text": [
            "Filen myfil.txt hittades inte!\n"
          ]
        }
      ]
    },
    {
      "cell_type": "markdown",
      "metadata": {
        "id": "XzTrhUn7rmmI"
      },
      "source": [
        "## Error handling with exceptions"
      ]
    },
    {
      "cell_type": "markdown",
      "metadata": {
        "id": "MZDFc4ukrmmI"
      },
      "source": [
        "The most common way to handle errors in Python is through exceptions. Most features in Python generate exceptions when an error occurs. You probably have these when your code doesn't work. If you run the following example, an exception is generated."
      ]
    },
    {
      "cell_type": "code",
      "metadata": {
        "id": "M2BxYDGGrmmI",
        "colab": {
          "base_uri": "https://localhost:8080/",
          "height": 183
        },
        "outputId": "e8a0df04-0a8b-4084-8e55-f13c29d3da39"
      },
      "source": [
        "with open(\"myfil.txt\", \"r\") as text_file:\n",
        "    lines = text_file.readlines()"
      ],
      "execution_count": null,
      "outputs": [
        {
          "output_type": "error",
          "ename": "FileNotFoundError",
          "evalue": "ignored",
          "traceback": [
            "\u001b[0;31m---------------------------------------------------------------------------\u001b[0m",
            "\u001b[0;31mFileNotFoundError\u001b[0m                         Traceback (most recent call last)",
            "\u001b[0;32m<ipython-input-71-5ef9f9b286ad>\u001b[0m in \u001b[0;36m<module>\u001b[0;34m\u001b[0m\n\u001b[0;32m----> 1\u001b[0;31m \u001b[0;32mwith\u001b[0m \u001b[0mopen\u001b[0m\u001b[0;34m(\u001b[0m\u001b[0;34m\"myfil.txt\"\u001b[0m\u001b[0;34m,\u001b[0m \u001b[0;34m\"r\"\u001b[0m\u001b[0;34m)\u001b[0m \u001b[0;32mas\u001b[0m \u001b[0mtext_file\u001b[0m\u001b[0;34m:\u001b[0m\u001b[0;34m\u001b[0m\u001b[0;34m\u001b[0m\u001b[0m\n\u001b[0m\u001b[1;32m      2\u001b[0m     \u001b[0mlines\u001b[0m \u001b[0;34m=\u001b[0m \u001b[0mtext_file\u001b[0m\u001b[0;34m.\u001b[0m\u001b[0mreadlines\u001b[0m\u001b[0;34m(\u001b[0m\u001b[0;34m)\u001b[0m\u001b[0;34m\u001b[0m\u001b[0;34m\u001b[0m\u001b[0m\n",
            "\u001b[0;31mFileNotFoundError\u001b[0m: [Errno 2] No such file or directory: 'myfil.txt'"
          ]
        }
      ]
    },
    {
      "cell_type": "markdown",
      "metadata": {
        "id": "Cpn-EjFQrmmK"
      },
      "source": [
        "FileNotFoundError is an exception. We can improve our code to handle all exceptions by using the **try..except** statement."
      ]
    },
    {
      "cell_type": "code",
      "metadata": {
        "id": "H1U0XwdirmmK",
        "colab": {
          "base_uri": "https://localhost:8080/"
        },
        "outputId": "43b59747-4710-496f-926f-75b57c2d8ce5"
      },
      "source": [
        "try:\n",
        "    with open(\"myfil.txt\", \"r\") as text_file:\n",
        "        lines = text_file.readlines()\n",
        "except:\n",
        "    print(\"Filen kunde inte öppnas\")"
      ],
      "execution_count": null,
      "outputs": [
        {
          "output_type": "stream",
          "name": "stdout",
          "text": [
            "Filen kunde inte öppnas\n"
          ]
        }
      ]
    },
    {
      "cell_type": "markdown",
      "metadata": {
        "id": "kurLt5-KrmmL"
      },
      "source": [
        "The problem with the above code is it captures **all** exceptions. The errors cannot be distinguished."
      ]
    },
    {
      "cell_type": "markdown",
      "metadata": {
        "id": "fay28tKJrmmL"
      },
      "source": [
        "## Handling specific exceptions\n"
      ]
    },
    {
      "cell_type": "markdown",
      "metadata": {
        "id": "NOzaavuZrmmL"
      },
      "source": [
        "You can specify which exceptions you are interested in by modifying the **try..except** statement according to:\n"
      ]
    },
    {
      "cell_type": "code",
      "metadata": {
        "id": "nT5IYQSSrmmM",
        "colab": {
          "base_uri": "https://localhost:8080/"
        },
        "outputId": "887bf028-7933-4a29-d59f-338b225c3fdf"
      },
      "source": [
        "try:\n",
        "    with open(\"myfil.txt\", \"r\") as text_file:\n",
        "        lines = text_file.readlines()\n",
        "except FileNotFoundError:\n",
        "    print(\"Filen hittades inte.\")"
      ],
      "execution_count": null,
      "outputs": [
        {
          "output_type": "stream",
          "name": "stdout",
          "text": [
            "Filen hittades inte.\n"
          ]
        }
      ]
    },
    {
      "cell_type": "markdown",
      "metadata": {
        "id": "kd83jHw1rmmN"
      },
      "source": [
        "The code can be extended to even handle the PermissionDenied exception that is generated if you do not have permission to read a file. More exceptions are specified with more **except** blocks in the code for the specific exceptions."
      ]
    },
    {
      "cell_type": "code",
      "metadata": {
        "id": "W1YwlL8zrmmO"
      },
      "source": [
        "try:\n",
        "    with open(\"myfil.txt\", \"r\") as text_file:\n",
        "        lines = text_file.readlines()\n",
        "except FileNotFoundError:\n",
        "    print(\"Filen hittades inte.\")\n",
        "except PermissionError:\n",
        "    print(\"Vi har inte rätt att läsa filen.\")"
      ],
      "execution_count": null,
      "outputs": []
    },
    {
      "cell_type": "markdown",
      "metadata": {
        "id": "nOO8J2DRrmmP"
      },
      "source": [
        "In this way we can handle various exceptions more fine-grained."
      ]
    },
    {
      "cell_type": "markdown",
      "metadata": {
        "id": "8UDi1rKcrmmP"
      },
      "source": [
        "## Additional information from exceptions"
      ]
    },
    {
      "cell_type": "markdown",
      "metadata": {
        "id": "EBVQRcehrmmQ"
      },
      "source": [
        "Many exceptions send with extra information with the exception. To get this information, we need to add an exception item in the **try..except** statement:"
      ]
    },
    {
      "cell_type": "code",
      "metadata": {
        "id": "frmXcA-ormmQ",
        "colab": {
          "base_uri": "https://localhost:8080/"
        },
        "outputId": "47566644-fbf6-4b35-b497-aa33b12feccc"
      },
      "source": [
        "try:\n",
        "    with open(\"myfil.txt\", \"r\") as text_file:\n",
        "        lines = text_file.readlines()\n",
        "except FileNotFoundError as e:\n",
        "    print(\"Filen\", e.filename, \"kunde inte öppnas.\")\n",
        "except PermissionError as e:\n",
        "    print(\"Felsträngen är '\"+e.strerror+\"'\")"
      ],
      "execution_count": null,
      "outputs": [
        {
          "output_type": "stream",
          "name": "stdout",
          "text": [
            "Filen myfil.txt kunde inte öppnas.\n"
          ]
        }
      ]
    },
    {
      "cell_type": "markdown",
      "metadata": {
        "id": "3a0Yrz-KrmmR"
      },
      "source": [
        "## Ensuring code execution after an execption"
      ]
    },
    {
      "cell_type": "markdown",
      "metadata": {
        "id": "SHnCdWZ3rmmR"
      },
      "source": [
        "Python also offers the **try..finally** statement, which ensures that the code in the **finally** block is always executed even if an exception is generated. The following examples illustrate this."
      ]
    },
    {
      "cell_type": "code",
      "metadata": {
        "id": "diLAl6t-f20i"
      },
      "source": [
        "!wget https://raw.githubusercontent.com/jonaslindemann/guide_to_python/master/chapters/kapitel3/notebooks/numbers.txt"
      ],
      "execution_count": null,
      "outputs": []
    },
    {
      "cell_type": "code",
      "metadata": {
        "id": "yBhh0hClrmmS"
      },
      "source": [
        "try:\n",
        "    input_file = open(\"number.txt\", \"r\")\n",
        "    output_file = open(\"sums.txt\", \"w\")\n",
        "    lines = input_file.readlines()\n",
        "    for line in lines:\n",
        "        items = line.strip().split()\n",
        "        numbers = []\n",
        "        for item in items:\n",
        "            numbers.append(int(item))\n",
        "        \n",
        "        output_file.write(\"%d\\n\" % sum(numbers))\n",
        "except ValueError:\n",
        "    print(\"Felaktiga indata på rad\", line)\n",
        "finally:\n",
        "    print(\"Stäng öppna filer.\")\n",
        "    input_file.close()\n",
        "    output_file.close()"
      ],
      "execution_count": null,
      "outputs": []
    },
    {
      "cell_type": "code",
      "metadata": {
        "id": "5tLZnryRrmmS"
      },
      "source": [],
      "execution_count": null,
      "outputs": []
    }
  ]
}