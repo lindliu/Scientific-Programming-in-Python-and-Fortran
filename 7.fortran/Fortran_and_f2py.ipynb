{
  "nbformat": 4,
  "nbformat_minor": 0,
  "metadata": {
    "colab": {
      "provenance": [],
      "collapsed_sections": []
    },
    "kernelspec": {
      "name": "python3",
      "display_name": "Python 3"
    }
  },
  "cells": [
    {
      "cell_type": "markdown",
      "metadata": {
        "id": "x6-_Vs1cAXM6"
      },
      "source": [
        "# Mixed language programming "
      ]
    },
    {
      "cell_type": "code",
      "metadata": {
        "id": "ueJ1bEzcdmn7",
        "colab": {
          "base_uri": "https://localhost:8080/"
        },
        "outputId": "f3737253-7c55-4751-bd77-215438457d17"
      },
      "source": [
        "!git clone https://github.com/jonaslindemann/compute-course-public.git"
      ],
      "execution_count": null,
      "outputs": [
        {
          "output_type": "stream",
          "name": "stdout",
          "text": [
            "Cloning into 'compute-course-public'...\n",
            "remote: Enumerating objects: 704, done.\u001b[K\n",
            "remote: Counting objects: 100% (269/269), done.\u001b[K\n",
            "remote: Compressing objects: 100% (130/130), done.\u001b[K\n",
            "remote: Total 704 (delta 157), reused 241 (delta 136), pack-reused 435\u001b[K\n",
            "Receiving objects: 100% (704/704), 49.08 MiB | 11.95 MiB/s, done.\n",
            "Resolving deltas: 100% (201/201), done.\n",
            "Checking out files: 100% (598/598), done.\n"
          ]
        }
      ]
    },
    {
      "cell_type": "code",
      "metadata": {
        "id": "esAYNIvlf3eS",
        "colab": {
          "base_uri": "https://localhost:8080/"
        },
        "outputId": "cb9ba8c9-b27f-42d3-8d0c-7fa7d48a1236"
      },
      "source": [
        "%cd compute-course-public/f2py"
      ],
      "execution_count": null,
      "outputs": [
        {
          "output_type": "stream",
          "name": "stdout",
          "text": [
            "/content/compute-course-public/f2py\n"
          ]
        }
      ]
    },
    {
      "cell_type": "markdown",
      "metadata": {
        "id": "OJbUz3oMguMq"
      },
      "source": [
        "# Integrating Fortran and Python"
      ]
    },
    {
      "cell_type": "markdown",
      "metadata": {
        "id": "uVseyyXVg2Gq"
      },
      "source": [
        "* External code can be linked into Python using extension modules \n",
        "* Extension modules in Python uses a C Python API\n",
        "* Can be used as normal Python modules\n",
        "* Implementing a Python extension module is hard..."
      ]
    },
    {
      "cell_type": "markdown",
      "metadata": {
        "id": "aUxewbH8g9O1"
      },
      "source": [
        "```C\n",
        "#include \"Python.h\"\n",
        "\n",
        "// The calculation function\n",
        "\n",
        "static PyObject* sum(PyObject *self, PyObject *args)\n",
        "{\n",
        "    double a;\n",
        "    double b;\n",
        "\n",
        "    // Parse input arguments\n",
        "\n",
        "    if (!PyArg_ParseTuple(args, \"dd\", &a, &b)) \n",
        "        return NULL;\n",
        "\n",
        "    // Do our computation\n",
        "\n",
        "    double c = a + b;\n",
        "\n",
        "    // Return the results\n",
        "\n",
        "    return Py_BuildValue(\"d\", c);\n",
        "}\n",
        "\n",
        "// Module function table.\n",
        "\n",
        "static PyMethodDef\n",
        "module_functions[] = {\n",
        "    { \"sum\", sum, METH_VARARGS, \"Calculate sum.\" },\n",
        "    { NULL }\n",
        "};\n",
        "\n",
        "// Module initialisation\n",
        "\n",
        "void\n",
        "initcext(void)\n",
        "{\n",
        "    Py_InitModule3(\"cext\", module_functions, \"A minimal module.\");\n",
        "}\n",
        "```"
      ]
    },
    {
      "cell_type": "markdown",
      "metadata": {
        "id": "R8IG1fKrhBtL"
      },
      "source": [
        "# There is an easier way\n",
        "\n",
        "* F2PY translates Fortran code and creates Python extension code\n",
        "* Automatically passes Numpy Arrays as Fortran arrays\n",
        "* Command line tool - Compiles and links modules automatically\n",
        "* Hard to debug - Make sure existing code works before use"
      ]
    },
    {
      "cell_type": "markdown",
      "metadata": {
        "id": "EKtajHr5hSRK"
      },
      "source": [
        "# Example 1 - simple.f90\n",
        "\n",
        "```fortran\n",
        "subroutine simple(a,b,c)\n",
        "\n",
        "\treal, intent(in) :: a, b\n",
        "\treal, intent(out) :: c\n",
        "\n",
        "\tc = a + b\n",
        "\n",
        "end subroutine simple\n",
        "```"
      ]
    },
    {
      "cell_type": "markdown",
      "metadata": {
        "id": "R_GMQibZhZRi"
      },
      "source": [
        "Convert Fortran code to Python extension module using f2py"
      ]
    },
    {
      "cell_type": "code",
      "metadata": {
        "id": "7Xzgxq1Jheu3",
        "colab": {
          "base_uri": "https://localhost:8080/"
        },
        "outputId": "f4372037-f744-49f9-80eb-753ff0450e1f"
      },
      "source": [
        "!f2py -m simple -c simple.f90\n",
        "%ls"
      ],
      "execution_count": null,
      "outputs": [
        {
          "output_type": "stream",
          "name": "stdout",
          "text": [
            "\u001b[39mrunning build\u001b[0m\n",
            "\u001b[39mrunning config_cc\u001b[0m\n",
            "\u001b[39munifing config_cc, config, build_clib, build_ext, build commands --compiler options\u001b[0m\n",
            "\u001b[39mrunning config_fc\u001b[0m\n",
            "\u001b[39munifing config_fc, config, build_clib, build_ext, build commands --fcompiler options\u001b[0m\n",
            "\u001b[39mrunning build_src\u001b[0m\n",
            "\u001b[39mbuild_src\u001b[0m\n",
            "\u001b[39mbuilding extension \"simple\" sources\u001b[0m\n",
            "\u001b[39mf2py options: []\u001b[0m\n",
            "\u001b[39mf2py:> /tmp/tmpfa95i0l7/src.linux-x86_64-3.7/simplemodule.c\u001b[0m\n",
            "\u001b[39mcreating /tmp/tmpfa95i0l7/src.linux-x86_64-3.7\u001b[0m\n",
            "Reading fortran codes...\n",
            "\tReading file 'simple.f90' (format:free)\n",
            "Post-processing...\n",
            "\tBlock: simple\n",
            "\t\t\tBlock: simple\n",
            "Post-processing (stage 2)...\n",
            "Building modules...\n",
            "\tBuilding module \"simple\"...\n",
            "\t\tConstructing wrapper function \"simple\"...\n",
            "\t\t  c = simple(a,b)\n",
            "\tWrote C/API module \"simple\" to file \"/tmp/tmpfa95i0l7/src.linux-x86_64-3.7/simplemodule.c\"\n",
            "\u001b[39m  adding '/tmp/tmpfa95i0l7/src.linux-x86_64-3.7/fortranobject.c' to sources.\u001b[0m\n",
            "\u001b[39m  adding '/tmp/tmpfa95i0l7/src.linux-x86_64-3.7' to include_dirs.\u001b[0m\n",
            "\u001b[39mcopying /usr/local/lib/python3.7/dist-packages/numpy/f2py/src/fortranobject.c -> /tmp/tmpfa95i0l7/src.linux-x86_64-3.7\u001b[0m\n",
            "\u001b[39mcopying /usr/local/lib/python3.7/dist-packages/numpy/f2py/src/fortranobject.h -> /tmp/tmpfa95i0l7/src.linux-x86_64-3.7\u001b[0m\n",
            "\u001b[39mbuild_src: building npy-pkg config files\u001b[0m\n",
            "\u001b[39mrunning build_ext\u001b[0m\n",
            "\u001b[39mcustomize UnixCCompiler\u001b[0m\n",
            "\u001b[39mcustomize UnixCCompiler using build_ext\u001b[0m\n",
            "\u001b[39mget_default_fcompiler: matching types: '['gnu95', 'intel', 'lahey', 'pg', 'nv', 'absoft', 'nag', 'vast', 'compaq', 'intele', 'intelem', 'gnu', 'g95', 'pathf95', 'nagfor', 'fujitsu']'\u001b[0m\n",
            "\u001b[39mcustomize Gnu95FCompiler\u001b[0m\n",
            "\u001b[39mFound executable /usr/bin/gfortran\u001b[0m\n",
            "\u001b[39mcustomize Gnu95FCompiler\u001b[0m\n",
            "\u001b[39mcustomize Gnu95FCompiler using build_ext\u001b[0m\n",
            "\u001b[39mbuilding 'simple' extension\u001b[0m\n",
            "\u001b[39mcompiling C sources\u001b[0m\n",
            "\u001b[39mC compiler: x86_64-linux-gnu-gcc -pthread -Wno-unused-result -Wsign-compare -DNDEBUG -g -fwrapv -O2 -Wall -g -fstack-protector-strong -Wformat -Werror=format-security -g -fwrapv -O2 -g -fstack-protector-strong -Wformat -Werror=format-security -Wdate-time -D_FORTIFY_SOURCE=2 -fPIC\n",
            "\u001b[0m\n",
            "\u001b[39mcreating /tmp/tmpfa95i0l7/tmp\u001b[0m\n",
            "\u001b[39mcreating /tmp/tmpfa95i0l7/tmp/tmpfa95i0l7\u001b[0m\n",
            "\u001b[39mcreating /tmp/tmpfa95i0l7/tmp/tmpfa95i0l7/src.linux-x86_64-3.7\u001b[0m\n",
            "\u001b[39mcompile options: '-DNPY_DISABLE_OPTIMIZATION=1 -I/tmp/tmpfa95i0l7/src.linux-x86_64-3.7 -I/usr/local/lib/python3.7/dist-packages/numpy/core/include -I/usr/include/python3.7m -c'\u001b[0m\n",
            "\u001b[39mx86_64-linux-gnu-gcc: /tmp/tmpfa95i0l7/src.linux-x86_64-3.7/simplemodule.c\u001b[0m\n",
            "\u001b[39mx86_64-linux-gnu-gcc: /tmp/tmpfa95i0l7/src.linux-x86_64-3.7/fortranobject.c\u001b[0m\n",
            "In file included from \u001b[01m\u001b[K/usr/local/lib/python3.7/dist-packages/numpy/core/include/numpy/ndarraytypes.h:1969:0\u001b[m\u001b[K,\n",
            "                 from \u001b[01m\u001b[K/usr/local/lib/python3.7/dist-packages/numpy/core/include/numpy/ndarrayobject.h:12\u001b[m\u001b[K,\n",
            "                 from \u001b[01m\u001b[K/usr/local/lib/python3.7/dist-packages/numpy/core/include/numpy/arrayobject.h:4\u001b[m\u001b[K,\n",
            "                 from \u001b[01m\u001b[K/tmp/tmpfa95i0l7/src.linux-x86_64-3.7/fortranobject.h:13\u001b[m\u001b[K,\n",
            "                 from \u001b[01m\u001b[K/tmp/tmpfa95i0l7/src.linux-x86_64-3.7/fortranobject.c:2\u001b[m\u001b[K:\n",
            "\u001b[01m\u001b[K/usr/local/lib/python3.7/dist-packages/numpy/core/include/numpy/npy_1_7_deprecated_api.h:17:2:\u001b[m\u001b[K \u001b[01;35m\u001b[Kwarning: \u001b[m\u001b[K#warning \"Using deprecated NumPy API, disable it with \" \"#define NPY_NO_DEPRECATED_API NPY_1_7_API_VERSION\" [\u001b[01;35m\u001b[K-Wcpp\u001b[m\u001b[K]\n",
            " #\u001b[01;35m\u001b[Kwarning\u001b[m\u001b[K \"Using deprecated NumPy API, disable it with \" \\\n",
            "  \u001b[01;35m\u001b[K^~~~~~~\u001b[m\u001b[K\n",
            "In file included from \u001b[01m\u001b[K/usr/local/lib/python3.7/dist-packages/numpy/core/include/numpy/ndarraytypes.h:1969:0\u001b[m\u001b[K,\n",
            "                 from \u001b[01m\u001b[K/usr/local/lib/python3.7/dist-packages/numpy/core/include/numpy/ndarrayobject.h:12\u001b[m\u001b[K,\n",
            "                 from \u001b[01m\u001b[K/usr/local/lib/python3.7/dist-packages/numpy/core/include/numpy/arrayobject.h:4\u001b[m\u001b[K,\n",
            "                 from \u001b[01m\u001b[K/tmp/tmpfa95i0l7/src.linux-x86_64-3.7/fortranobject.h:13\u001b[m\u001b[K,\n",
            "                 from \u001b[01m\u001b[K/tmp/tmpfa95i0l7/src.linux-x86_64-3.7/simplemodule.c:15\u001b[m\u001b[K:\n",
            "\u001b[01m\u001b[K/usr/local/lib/python3.7/dist-packages/numpy/core/include/numpy/npy_1_7_deprecated_api.h:17:2:\u001b[m\u001b[K \u001b[01;35m\u001b[Kwarning: \u001b[m\u001b[K#warning \"Using deprecated NumPy API, disable it with \" \"#define NPY_NO_DEPRECATED_API NPY_1_7_API_VERSION\" [\u001b[01;35m\u001b[K-Wcpp\u001b[m\u001b[K]\n",
            " #\u001b[01;35m\u001b[Kwarning\u001b[m\u001b[K \"Using deprecated NumPy API, disable it with \" \\\n",
            "  \u001b[01;35m\u001b[K^~~~~~~\u001b[m\u001b[K\n",
            "\u001b[39mcompiling Fortran sources\u001b[0m\n",
            "\u001b[39mFortran f77 compiler: /usr/bin/gfortran -Wall -g -ffixed-form -fno-second-underscore -fPIC -O3 -funroll-loops\n",
            "Fortran f90 compiler: /usr/bin/gfortran -Wall -g -fno-second-underscore -fPIC -O3 -funroll-loops\n",
            "Fortran fix compiler: /usr/bin/gfortran -Wall -g -ffixed-form -fno-second-underscore -Wall -g -fno-second-underscore -fPIC -O3 -funroll-loops\u001b[0m\n",
            "\u001b[39mcompile options: '-I/tmp/tmpfa95i0l7/src.linux-x86_64-3.7 -I/usr/local/lib/python3.7/dist-packages/numpy/core/include -I/usr/include/python3.7m -c'\u001b[0m\n",
            "\u001b[39mgfortran:f90: simple.f90\u001b[0m\n",
            "\u001b[01m\u001b[Ksimple.f90:3:1:\u001b[m\u001b[K\n",
            "\n",
            "  real, intent(in) :: a, b\n",
            " \u001b[01;35m\u001b[K1\u001b[m\u001b[K\n",
            "\u001b[01;35m\u001b[KWarning:\u001b[m\u001b[K Nonconforming tab character at (1) [\u001b[01;35m\u001b[K-Wtabs\u001b[m\u001b[K]\n",
            "\u001b[01m\u001b[Ksimple.f90:4:1:\u001b[m\u001b[K\n",
            "\n",
            "  real, intent(out) :: c\n",
            " \u001b[01;35m\u001b[K1\u001b[m\u001b[K\n",
            "\u001b[01;35m\u001b[KWarning:\u001b[m\u001b[K Nonconforming tab character at (1) [\u001b[01;35m\u001b[K-Wtabs\u001b[m\u001b[K]\n",
            "\u001b[01m\u001b[Ksimple.f90:6:1:\u001b[m\u001b[K\n",
            "\n",
            "  c = a + b\n",
            " \u001b[01;35m\u001b[K1\u001b[m\u001b[K\n",
            "\u001b[01;35m\u001b[KWarning:\u001b[m\u001b[K Nonconforming tab character at (1) [\u001b[01;35m\u001b[K-Wtabs\u001b[m\u001b[K]\n",
            "\u001b[39m/usr/bin/gfortran -Wall -g -Wall -g -shared /tmp/tmpfa95i0l7/tmp/tmpfa95i0l7/src.linux-x86_64-3.7/simplemodule.o /tmp/tmpfa95i0l7/tmp/tmpfa95i0l7/src.linux-x86_64-3.7/fortranobject.o /tmp/tmpfa95i0l7/simple.o -L/usr/lib/gcc/x86_64-linux-gnu/7 -L/usr/lib/gcc/x86_64-linux-gnu/7 -lgfortran -o ./simple.cpython-37m-x86_64-linux-gnu.so\u001b[0m\n",
            "Removing build directory /tmp/tmpfa95i0l7\n",
            " arr1.f90  'Fortran and F2PY.ipynb'                   simple.py\n",
            " arr1.py    matrix.f90                                test.py\n",
            " arr2.f90   \u001b[0m\u001b[01;32msimple.cpython-37m-x86_64-linux-gnu.so\u001b[0m*\n",
            " arr2.py    simple.f90\n"
          ]
        }
      ]
    },
    {
      "cell_type": "markdown",
      "metadata": {
        "id": "CElK4xBqVluA"
      },
      "source": [
        "Import the module in Python and print documentation"
      ]
    },
    {
      "cell_type": "code",
      "metadata": {
        "id": "Ku_hufMaVtD3",
        "colab": {
          "base_uri": "https://localhost:8080/"
        },
        "outputId": "32deefea-d53f-4898-a21d-a25f0cedb11e"
      },
      "source": [
        "import simple\n",
        "print(simple.__doc__)"
      ],
      "execution_count": null,
      "outputs": [
        {
          "output_type": "stream",
          "name": "stdout",
          "text": [
            "This module 'simple' is auto-generated with f2py (version:1.21.6).\n",
            "Functions:\n",
            "  c = simple(a,b)\n",
            ".\n"
          ]
        }
      ]
    },
    {
      "cell_type": "code",
      "metadata": {
        "id": "FF6FohMNVxHt",
        "colab": {
          "base_uri": "https://localhost:8080/"
        },
        "outputId": "6e791c38-97ab-42e1-c472-4db4c5e0c7f9"
      },
      "source": [
        "print(simple.simple.__doc__)"
      ],
      "execution_count": null,
      "outputs": [
        {
          "output_type": "stream",
          "name": "stdout",
          "text": [
            "c = simple(a,b)\n",
            "\n",
            "Wrapper for ``simple``.\n",
            "\n",
            "Parameters\n",
            "----------\n",
            "a : input float\n",
            "b : input float\n",
            "\n",
            "Returns\n",
            "-------\n",
            "c : float\n",
            "\n"
          ]
        }
      ]
    },
    {
      "cell_type": "markdown",
      "metadata": {
        "id": "Y1aUqWY1V3Mu"
      },
      "source": [
        "Execute code in the generated extension module."
      ]
    },
    {
      "cell_type": "code",
      "metadata": {
        "id": "fkYT-_-iV7Sj",
        "colab": {
          "base_uri": "https://localhost:8080/"
        },
        "outputId": "9930b6bd-2e68-494a-a8a0-cec618028f66"
      },
      "source": [
        "a = 42\n",
        "b = 42\n",
        "c = simple.simple(a, b)\n",
        "print(c)"
      ],
      "execution_count": null,
      "outputs": [
        {
          "output_type": "stream",
          "name": "stdout",
          "text": [
            "84.0\n"
          ]
        }
      ]
    },
    {
      "cell_type": "markdown",
      "metadata": {
        "id": "N610IeQtWEaA"
      },
      "source": [
        "# Example 2 - arr1.f90\n",
        "\n",
        "In this example we will use a Fortran compiled extension module for multiplying matrices.\n",
        "\n",
        "```fortran\n",
        "! A[r,s] * B[s,t] = C[r,t]\n",
        "subroutine matrix_multiply(A,r,s,B,t,C)\n",
        "\tinteger :: r, s, t\n",
        "\treal, intent(in) :: A(r,s)\n",
        "\treal, intent(in) :: B(s,t)\n",
        "\treal, intent(out) :: C(r,t)\n",
        "\n",
        "\tC = matmul(A,B)\n",
        "end subroutine matrix_multiply\n",
        "```"
      ]
    },
    {
      "cell_type": "code",
      "metadata": {
        "id": "Z5XIyi1kV-Qw",
        "colab": {
          "base_uri": "https://localhost:8080/"
        },
        "outputId": "51f6a59c-8a53-411e-ca2a-265137247bad"
      },
      "source": [
        "!f2py -m arr1 -c arr1.f90"
      ],
      "execution_count": null,
      "outputs": [
        {
          "output_type": "stream",
          "name": "stdout",
          "text": [
            "\u001b[39mrunning build\u001b[0m\n",
            "\u001b[39mrunning config_cc\u001b[0m\n",
            "\u001b[39munifing config_cc, config, build_clib, build_ext, build commands --compiler options\u001b[0m\n",
            "\u001b[39mrunning config_fc\u001b[0m\n",
            "\u001b[39munifing config_fc, config, build_clib, build_ext, build commands --fcompiler options\u001b[0m\n",
            "\u001b[39mrunning build_src\u001b[0m\n",
            "\u001b[39mbuild_src\u001b[0m\n",
            "\u001b[39mbuilding extension \"arr1\" sources\u001b[0m\n",
            "\u001b[39mf2py options: []\u001b[0m\n",
            "\u001b[39mf2py:> /tmp/tmpcye8zcnf/src.linux-x86_64-3.7/arr1module.c\u001b[0m\n",
            "\u001b[39mcreating /tmp/tmpcye8zcnf/src.linux-x86_64-3.7\u001b[0m\n",
            "Reading fortran codes...\n",
            "\tReading file 'arr1.f90' (format:free)\n",
            "Post-processing...\n",
            "\tBlock: arr1\n",
            "\t\t\tBlock: matrix_multiply\n",
            "Post-processing (stage 2)...\n",
            "Building modules...\n",
            "\tBuilding module \"arr1\"...\n",
            "\t\tConstructing wrapper function \"matrix_multiply\"...\n",
            "\t\t  c = matrix_multiply(a,b,[r,s,t])\n",
            "\tWrote C/API module \"arr1\" to file \"/tmp/tmpcye8zcnf/src.linux-x86_64-3.7/arr1module.c\"\n",
            "\u001b[39m  adding '/tmp/tmpcye8zcnf/src.linux-x86_64-3.7/fortranobject.c' to sources.\u001b[0m\n",
            "\u001b[39m  adding '/tmp/tmpcye8zcnf/src.linux-x86_64-3.7' to include_dirs.\u001b[0m\n",
            "\u001b[39mcopying /usr/local/lib/python3.7/dist-packages/numpy/f2py/src/fortranobject.c -> /tmp/tmpcye8zcnf/src.linux-x86_64-3.7\u001b[0m\n",
            "\u001b[39mcopying /usr/local/lib/python3.7/dist-packages/numpy/f2py/src/fortranobject.h -> /tmp/tmpcye8zcnf/src.linux-x86_64-3.7\u001b[0m\n",
            "\u001b[39mbuild_src: building npy-pkg config files\u001b[0m\n",
            "\u001b[39mrunning build_ext\u001b[0m\n",
            "\u001b[39mcustomize UnixCCompiler\u001b[0m\n",
            "\u001b[39mcustomize UnixCCompiler using build_ext\u001b[0m\n",
            "\u001b[39mget_default_fcompiler: matching types: '['gnu95', 'intel', 'lahey', 'pg', 'nv', 'absoft', 'nag', 'vast', 'compaq', 'intele', 'intelem', 'gnu', 'g95', 'pathf95', 'nagfor', 'fujitsu']'\u001b[0m\n",
            "\u001b[39mcustomize Gnu95FCompiler\u001b[0m\n",
            "\u001b[39mFound executable /usr/bin/gfortran\u001b[0m\n",
            "\u001b[39mcustomize Gnu95FCompiler\u001b[0m\n",
            "\u001b[39mcustomize Gnu95FCompiler using build_ext\u001b[0m\n",
            "\u001b[39mbuilding 'arr1' extension\u001b[0m\n",
            "\u001b[39mcompiling C sources\u001b[0m\n",
            "\u001b[39mC compiler: x86_64-linux-gnu-gcc -pthread -Wno-unused-result -Wsign-compare -DNDEBUG -g -fwrapv -O2 -Wall -g -fstack-protector-strong -Wformat -Werror=format-security -g -fwrapv -O2 -g -fstack-protector-strong -Wformat -Werror=format-security -Wdate-time -D_FORTIFY_SOURCE=2 -fPIC\n",
            "\u001b[0m\n",
            "\u001b[39mcreating /tmp/tmpcye8zcnf/tmp\u001b[0m\n",
            "\u001b[39mcreating /tmp/tmpcye8zcnf/tmp/tmpcye8zcnf\u001b[0m\n",
            "\u001b[39mcreating /tmp/tmpcye8zcnf/tmp/tmpcye8zcnf/src.linux-x86_64-3.7\u001b[0m\n",
            "\u001b[39mcompile options: '-DNPY_DISABLE_OPTIMIZATION=1 -I/tmp/tmpcye8zcnf/src.linux-x86_64-3.7 -I/usr/local/lib/python3.7/dist-packages/numpy/core/include -I/usr/include/python3.7m -c'\u001b[0m\n",
            "\u001b[39mx86_64-linux-gnu-gcc: /tmp/tmpcye8zcnf/src.linux-x86_64-3.7/arr1module.c\u001b[0m\n",
            "\u001b[39mx86_64-linux-gnu-gcc: /tmp/tmpcye8zcnf/src.linux-x86_64-3.7/fortranobject.c\u001b[0m\n",
            "In file included from \u001b[01m\u001b[K/usr/local/lib/python3.7/dist-packages/numpy/core/include/numpy/ndarraytypes.h:1969:0\u001b[m\u001b[K,\n",
            "                 from \u001b[01m\u001b[K/usr/local/lib/python3.7/dist-packages/numpy/core/include/numpy/ndarrayobject.h:12\u001b[m\u001b[K,\n",
            "                 from \u001b[01m\u001b[K/usr/local/lib/python3.7/dist-packages/numpy/core/include/numpy/arrayobject.h:4\u001b[m\u001b[K,\n",
            "                 from \u001b[01m\u001b[K/tmp/tmpcye8zcnf/src.linux-x86_64-3.7/fortranobject.h:13\u001b[m\u001b[K,\n",
            "                 from \u001b[01m\u001b[K/tmp/tmpcye8zcnf/src.linux-x86_64-3.7/fortranobject.c:2\u001b[m\u001b[K:\n",
            "\u001b[01m\u001b[K/usr/local/lib/python3.7/dist-packages/numpy/core/include/numpy/npy_1_7_deprecated_api.h:17:2:\u001b[m\u001b[K \u001b[01;35m\u001b[Kwarning: \u001b[m\u001b[K#warning \"Using deprecated NumPy API, disable it with \" \"#define NPY_NO_DEPRECATED_API NPY_1_7_API_VERSION\" [\u001b[01;35m\u001b[K-Wcpp\u001b[m\u001b[K]\n",
            " #\u001b[01;35m\u001b[Kwarning\u001b[m\u001b[K \"Using deprecated NumPy API, disable it with \" \\\n",
            "  \u001b[01;35m\u001b[K^~~~~~~\u001b[m\u001b[K\n",
            "In file included from \u001b[01m\u001b[K/usr/local/lib/python3.7/dist-packages/numpy/core/include/numpy/ndarraytypes.h:1969:0\u001b[m\u001b[K,\n",
            "                 from \u001b[01m\u001b[K/usr/local/lib/python3.7/dist-packages/numpy/core/include/numpy/ndarrayobject.h:12\u001b[m\u001b[K,\n",
            "                 from \u001b[01m\u001b[K/usr/local/lib/python3.7/dist-packages/numpy/core/include/numpy/arrayobject.h:4\u001b[m\u001b[K,\n",
            "                 from \u001b[01m\u001b[K/tmp/tmpcye8zcnf/src.linux-x86_64-3.7/fortranobject.h:13\u001b[m\u001b[K,\n",
            "                 from \u001b[01m\u001b[K/tmp/tmpcye8zcnf/src.linux-x86_64-3.7/arr1module.c:16\u001b[m\u001b[K:\n",
            "\u001b[01m\u001b[K/usr/local/lib/python3.7/dist-packages/numpy/core/include/numpy/npy_1_7_deprecated_api.h:17:2:\u001b[m\u001b[K \u001b[01;35m\u001b[Kwarning: \u001b[m\u001b[K#warning \"Using deprecated NumPy API, disable it with \" \"#define NPY_NO_DEPRECATED_API NPY_1_7_API_VERSION\" [\u001b[01;35m\u001b[K-Wcpp\u001b[m\u001b[K]\n",
            " #\u001b[01;35m\u001b[Kwarning\u001b[m\u001b[K \"Using deprecated NumPy API, disable it with \" \\\n",
            "  \u001b[01;35m\u001b[K^~~~~~~\u001b[m\u001b[K\n",
            "\u001b[01m\u001b[K/tmp/tmpcye8zcnf/src.linux-x86_64-3.7/arr1module.c:109:12:\u001b[m\u001b[K \u001b[01;35m\u001b[Kwarning: \u001b[m\u001b[K‘\u001b[01m\u001b[Kf2py_size\u001b[m\u001b[K’ defined but not used [\u001b[01;35m\u001b[K-Wunused-function\u001b[m\u001b[K]\n",
            " static int \u001b[01;35m\u001b[Kf2py_size\u001b[m\u001b[K(PyArrayObject* var, ...)\n",
            "            \u001b[01;35m\u001b[K^~~~~~~~~\u001b[m\u001b[K\n",
            "\u001b[39mcompiling Fortran sources\u001b[0m\n",
            "\u001b[39mFortran f77 compiler: /usr/bin/gfortran -Wall -g -ffixed-form -fno-second-underscore -fPIC -O3 -funroll-loops\n",
            "Fortran f90 compiler: /usr/bin/gfortran -Wall -g -fno-second-underscore -fPIC -O3 -funroll-loops\n",
            "Fortran fix compiler: /usr/bin/gfortran -Wall -g -ffixed-form -fno-second-underscore -Wall -g -fno-second-underscore -fPIC -O3 -funroll-loops\u001b[0m\n",
            "\u001b[39mcompile options: '-I/tmp/tmpcye8zcnf/src.linux-x86_64-3.7 -I/usr/local/lib/python3.7/dist-packages/numpy/core/include -I/usr/include/python3.7m -c'\u001b[0m\n",
            "\u001b[39mgfortran:f90: arr1.f90\u001b[0m\n",
            "\u001b[01m\u001b[Karr1.f90:3:1:\u001b[m\u001b[K\n",
            "\n",
            "  integer :: r, s, t\n",
            " \u001b[01;35m\u001b[K1\u001b[m\u001b[K\n",
            "\u001b[01;35m\u001b[KWarning:\u001b[m\u001b[K Nonconforming tab character at (1) [\u001b[01;35m\u001b[K-Wtabs\u001b[m\u001b[K]\n",
            "\u001b[01m\u001b[Karr1.f90:4:1:\u001b[m\u001b[K\n",
            "\n",
            "  real, intent(in) :: A(r,s)\n",
            " \u001b[01;35m\u001b[K1\u001b[m\u001b[K\n",
            "\u001b[01;35m\u001b[KWarning:\u001b[m\u001b[K Nonconforming tab character at (1) [\u001b[01;35m\u001b[K-Wtabs\u001b[m\u001b[K]\n",
            "\u001b[01m\u001b[Karr1.f90:5:1:\u001b[m\u001b[K\n",
            "\n",
            "  real, intent(in) :: B(s,t)\n",
            " \u001b[01;35m\u001b[K1\u001b[m\u001b[K\n",
            "\u001b[01;35m\u001b[KWarning:\u001b[m\u001b[K Nonconforming tab character at (1) [\u001b[01;35m\u001b[K-Wtabs\u001b[m\u001b[K]\n",
            "\u001b[01m\u001b[Karr1.f90:6:1:\u001b[m\u001b[K\n",
            "\n",
            "  real, intent(out) :: C(r,t)\n",
            " \u001b[01;35m\u001b[K1\u001b[m\u001b[K\n",
            "\u001b[01;35m\u001b[KWarning:\u001b[m\u001b[K Nonconforming tab character at (1) [\u001b[01;35m\u001b[K-Wtabs\u001b[m\u001b[K]\n",
            "\u001b[01m\u001b[Karr1.f90:8:1:\u001b[m\u001b[K\n",
            "\n",
            "  C = matmul(A,B)\n",
            " \u001b[01;35m\u001b[K1\u001b[m\u001b[K\n",
            "\u001b[01;35m\u001b[KWarning:\u001b[m\u001b[K Nonconforming tab character at (1) [\u001b[01;35m\u001b[K-Wtabs\u001b[m\u001b[K]\n",
            "\u001b[39m/usr/bin/gfortran -Wall -g -Wall -g -shared /tmp/tmpcye8zcnf/tmp/tmpcye8zcnf/src.linux-x86_64-3.7/arr1module.o /tmp/tmpcye8zcnf/tmp/tmpcye8zcnf/src.linux-x86_64-3.7/fortranobject.o /tmp/tmpcye8zcnf/arr1.o -L/usr/lib/gcc/x86_64-linux-gnu/7 -L/usr/lib/gcc/x86_64-linux-gnu/7 -lgfortran -o ./arr1.cpython-37m-x86_64-linux-gnu.so\u001b[0m\n",
            "Removing build directory /tmp/tmpcye8zcnf\n"
          ]
        }
      ]
    },
    {
      "cell_type": "code",
      "metadata": {
        "id": "PjjKPqZmWhYl",
        "colab": {
          "base_uri": "https://localhost:8080/"
        },
        "outputId": "b138a0f2-61d4-4979-8617-785646e90012"
      },
      "source": [
        "import arr1\n",
        "print(arr1.__doc__)"
      ],
      "execution_count": null,
      "outputs": [
        {
          "output_type": "stream",
          "name": "stdout",
          "text": [
            "This module 'arr1' is auto-generated with f2py (version:1.21.6).\n",
            "Functions:\n",
            "  c = matrix_multiply(a,b,r=shape(a,0),s=shape(a,1),t=shape(b,1))\n",
            ".\n"
          ]
        }
      ]
    },
    {
      "cell_type": "code",
      "metadata": {
        "id": "UA61t5SbWqIm",
        "colab": {
          "base_uri": "https://localhost:8080/"
        },
        "outputId": "ac389fa7-7e6e-4a67-90ed-c3e779b62474"
      },
      "source": [
        "print(arr1.matrix_multiply.__doc__)"
      ],
      "execution_count": null,
      "outputs": [
        {
          "output_type": "stream",
          "name": "stdout",
          "text": [
            "c = matrix_multiply(a,b,[r,s,t])\n",
            "\n",
            "Wrapper for ``matrix_multiply``.\n",
            "\n",
            "Parameters\n",
            "----------\n",
            "a : input rank-2 array('f') with bounds (r,s)\n",
            "b : input rank-2 array('f') with bounds (s,t)\n",
            "\n",
            "Other Parameters\n",
            "----------------\n",
            "r : input int, optional\n",
            "    Default: shape(a,0)\n",
            "s : input int, optional\n",
            "    Default: shape(a,1)\n",
            "t : input int, optional\n",
            "    Default: shape(b,1)\n",
            "\n",
            "Returns\n",
            "-------\n",
            "c : rank-2 array('f') with bounds (r,t)\n",
            "\n"
          ]
        }
      ]
    },
    {
      "cell_type": "code",
      "metadata": {
        "id": "K7oICjmpWswa",
        "colab": {
          "base_uri": "https://localhost:8080/"
        },
        "outputId": "0aa69e47-0399-420a-bbc9-2a35919493f0"
      },
      "source": [
        "import numpy as np\n",
        "\n",
        "# --- order='F' is important as Fortran stores arrays\n",
        "# --- columnwise and NumPy by default stores them row wise as\n",
        "# --- in C\n",
        "\n",
        "A = np.ones((6,6), 'f', order='F') * 10.0\n",
        "B = np.ones((6,6), 'f', order='F') * 20.0\n",
        "C = np.zeros((6,6), 'f', order='F')\n",
        "\n",
        "print(\"id of C before multiply =\",id(C))\n",
        "\n",
        "C = arr1.matrix_multiply(A, B)\n",
        "\n",
        "print(\"id of C after multiply =\",id(C))\n",
        "\n",
        "print(C)"
      ],
      "execution_count": null,
      "outputs": [
        {
          "output_type": "stream",
          "name": "stdout",
          "text": [
            "id of C before multiply = 139866421133360\n",
            "id of C after multiply = 139866538889648\n",
            "[[1200. 1200. 1200. 1200. 1200. 1200.]\n",
            " [1200. 1200. 1200. 1200. 1200. 1200.]\n",
            " [1200. 1200. 1200. 1200. 1200. 1200.]\n",
            " [1200. 1200. 1200. 1200. 1200. 1200.]\n",
            " [1200. 1200. 1200. 1200. 1200. 1200.]\n",
            " [1200. 1200. 1200. 1200. 1200. 1200.]]\n"
          ]
        }
      ]
    },
    {
      "cell_type": "markdown",
      "metadata": {
        "id": "xWHPv1cvXE4K"
      },
      "source": [
        "Notice that the id or memory references of C changes before and after the call to our Fortran extension. This is due to the fact that the left assignment will create a new NumPy array reference and data will be copied from Fortran to the NumPy array. \n",
        "\n",
        "In the next example we will show how to avoid this."
      ]
    },
    {
      "cell_type": "markdown",
      "metadata": {
        "id": "RlzXRAlxXtxZ"
      },
      "source": [
        "# Example 3 - arra2.f90\n",
        "\n",
        "In this example we use the variable attribute, intent(inout), to indicate that the array will be passed by reference to the Fortran extension module and modified in place. This requires the NumPy array to be created with the order='F' option.\n",
        "\n",
        "```fortran\n",
        "! A[r,s] * B[s,t] = C[r,t]\n",
        "subroutine matrix_multiply2(A,r,s,B,t,C)\n",
        "\tinteger :: r, s, t\n",
        "\treal, intent(in) :: A(r,s)\n",
        "\treal, intent(in) :: B(s,t)\n",
        "\treal, intent(inout) :: C(r,t)\n",
        "\n",
        "\tC = matmul(A,B)\n",
        "end subroutine matrix_multiply2\n",
        "```"
      ]
    },
    {
      "cell_type": "code",
      "metadata": {
        "id": "7SQhe52nXB51",
        "colab": {
          "base_uri": "https://localhost:8080/"
        },
        "outputId": "7f9d5f3a-17a7-4e7c-fe71-1185cc53b0ca"
      },
      "source": [
        "!f2py -m arr2 -c arr2.f90"
      ],
      "execution_count": null,
      "outputs": [
        {
          "output_type": "stream",
          "name": "stdout",
          "text": [
            "\u001b[39mrunning build\u001b[0m\n",
            "\u001b[39mrunning config_cc\u001b[0m\n",
            "\u001b[39munifing config_cc, config, build_clib, build_ext, build commands --compiler options\u001b[0m\n",
            "\u001b[39mrunning config_fc\u001b[0m\n",
            "\u001b[39munifing config_fc, config, build_clib, build_ext, build commands --fcompiler options\u001b[0m\n",
            "\u001b[39mrunning build_src\u001b[0m\n",
            "\u001b[39mbuild_src\u001b[0m\n",
            "\u001b[39mbuilding extension \"arr2\" sources\u001b[0m\n",
            "\u001b[39mf2py options: []\u001b[0m\n",
            "\u001b[39mf2py:> /tmp/tmp64c3a3_g/src.linux-x86_64-3.7/arr2module.c\u001b[0m\n",
            "\u001b[39mcreating /tmp/tmp64c3a3_g/src.linux-x86_64-3.7\u001b[0m\n",
            "Reading fortran codes...\n",
            "\tReading file 'arr2.f90' (format:free)\n",
            "Post-processing...\n",
            "\tBlock: arr2\n",
            "\t\t\tBlock: matrix_multiply2\n",
            "Post-processing (stage 2)...\n",
            "Building modules...\n",
            "\tBuilding module \"arr2\"...\n",
            "\t\tConstructing wrapper function \"matrix_multiply2\"...\n",
            "\t\t  matrix_multiply2(a,b,c,[r,s,t])\n",
            "\tWrote C/API module \"arr2\" to file \"/tmp/tmp64c3a3_g/src.linux-x86_64-3.7/arr2module.c\"\n",
            "\u001b[39m  adding '/tmp/tmp64c3a3_g/src.linux-x86_64-3.7/fortranobject.c' to sources.\u001b[0m\n",
            "\u001b[39m  adding '/tmp/tmp64c3a3_g/src.linux-x86_64-3.7' to include_dirs.\u001b[0m\n",
            "\u001b[39mcopying /usr/local/lib/python3.7/dist-packages/numpy/f2py/src/fortranobject.c -> /tmp/tmp64c3a3_g/src.linux-x86_64-3.7\u001b[0m\n",
            "\u001b[39mcopying /usr/local/lib/python3.7/dist-packages/numpy/f2py/src/fortranobject.h -> /tmp/tmp64c3a3_g/src.linux-x86_64-3.7\u001b[0m\n",
            "\u001b[39mbuild_src: building npy-pkg config files\u001b[0m\n",
            "\u001b[39mrunning build_ext\u001b[0m\n",
            "\u001b[39mcustomize UnixCCompiler\u001b[0m\n",
            "\u001b[39mcustomize UnixCCompiler using build_ext\u001b[0m\n",
            "\u001b[39mget_default_fcompiler: matching types: '['gnu95', 'intel', 'lahey', 'pg', 'nv', 'absoft', 'nag', 'vast', 'compaq', 'intele', 'intelem', 'gnu', 'g95', 'pathf95', 'nagfor', 'fujitsu']'\u001b[0m\n",
            "\u001b[39mcustomize Gnu95FCompiler\u001b[0m\n",
            "\u001b[39mFound executable /usr/bin/gfortran\u001b[0m\n",
            "\u001b[39mcustomize Gnu95FCompiler\u001b[0m\n",
            "\u001b[39mcustomize Gnu95FCompiler using build_ext\u001b[0m\n",
            "\u001b[39mbuilding 'arr2' extension\u001b[0m\n",
            "\u001b[39mcompiling C sources\u001b[0m\n",
            "\u001b[39mC compiler: x86_64-linux-gnu-gcc -pthread -Wno-unused-result -Wsign-compare -DNDEBUG -g -fwrapv -O2 -Wall -g -fstack-protector-strong -Wformat -Werror=format-security -g -fwrapv -O2 -g -fstack-protector-strong -Wformat -Werror=format-security -Wdate-time -D_FORTIFY_SOURCE=2 -fPIC\n",
            "\u001b[0m\n",
            "\u001b[39mcreating /tmp/tmp64c3a3_g/tmp\u001b[0m\n",
            "\u001b[39mcreating /tmp/tmp64c3a3_g/tmp/tmp64c3a3_g\u001b[0m\n",
            "\u001b[39mcreating /tmp/tmp64c3a3_g/tmp/tmp64c3a3_g/src.linux-x86_64-3.7\u001b[0m\n",
            "\u001b[39mcompile options: '-DNPY_DISABLE_OPTIMIZATION=1 -I/tmp/tmp64c3a3_g/src.linux-x86_64-3.7 -I/usr/local/lib/python3.7/dist-packages/numpy/core/include -I/usr/include/python3.7m -c'\u001b[0m\n",
            "\u001b[39mx86_64-linux-gnu-gcc: /tmp/tmp64c3a3_g/src.linux-x86_64-3.7/arr2module.c\u001b[0m\n",
            "\u001b[39mx86_64-linux-gnu-gcc: /tmp/tmp64c3a3_g/src.linux-x86_64-3.7/fortranobject.c\u001b[0m\n",
            "In file included from \u001b[01m\u001b[K/usr/local/lib/python3.7/dist-packages/numpy/core/include/numpy/ndarraytypes.h:1969:0\u001b[m\u001b[K,\n",
            "                 from \u001b[01m\u001b[K/usr/local/lib/python3.7/dist-packages/numpy/core/include/numpy/ndarrayobject.h:12\u001b[m\u001b[K,\n",
            "                 from \u001b[01m\u001b[K/usr/local/lib/python3.7/dist-packages/numpy/core/include/numpy/arrayobject.h:4\u001b[m\u001b[K,\n",
            "                 from \u001b[01m\u001b[K/tmp/tmp64c3a3_g/src.linux-x86_64-3.7/fortranobject.h:13\u001b[m\u001b[K,\n",
            "                 from \u001b[01m\u001b[K/tmp/tmp64c3a3_g/src.linux-x86_64-3.7/arr2module.c:16\u001b[m\u001b[K:\n",
            "\u001b[01m\u001b[K/usr/local/lib/python3.7/dist-packages/numpy/core/include/numpy/npy_1_7_deprecated_api.h:17:2:\u001b[m\u001b[K \u001b[01;35m\u001b[Kwarning: \u001b[m\u001b[K#warning \"Using deprecated NumPy API, disable it with \" \"#define NPY_NO_DEPRECATED_API NPY_1_7_API_VERSION\" [\u001b[01;35m\u001b[K-Wcpp\u001b[m\u001b[K]\n",
            " #\u001b[01;35m\u001b[Kwarning\u001b[m\u001b[K \"Using deprecated NumPy API, disable it with \" \\\n",
            "  \u001b[01;35m\u001b[K^~~~~~~\u001b[m\u001b[K\n",
            "In file included from \u001b[01m\u001b[K/usr/local/lib/python3.7/dist-packages/numpy/core/include/numpy/ndarraytypes.h:1969:0\u001b[m\u001b[K,\n",
            "                 from \u001b[01m\u001b[K/usr/local/lib/python3.7/dist-packages/numpy/core/include/numpy/ndarrayobject.h:12\u001b[m\u001b[K,\n",
            "                 from \u001b[01m\u001b[K/usr/local/lib/python3.7/dist-packages/numpy/core/include/numpy/arrayobject.h:4\u001b[m\u001b[K,\n",
            "                 from \u001b[01m\u001b[K/tmp/tmp64c3a3_g/src.linux-x86_64-3.7/fortranobject.h:13\u001b[m\u001b[K,\n",
            "                 from \u001b[01m\u001b[K/tmp/tmp64c3a3_g/src.linux-x86_64-3.7/fortranobject.c:2\u001b[m\u001b[K:\n",
            "\u001b[01m\u001b[K/usr/local/lib/python3.7/dist-packages/numpy/core/include/numpy/npy_1_7_deprecated_api.h:17:2:\u001b[m\u001b[K \u001b[01;35m\u001b[Kwarning: \u001b[m\u001b[K#warning \"Using deprecated NumPy API, disable it with \" \"#define NPY_NO_DEPRECATED_API NPY_1_7_API_VERSION\" [\u001b[01;35m\u001b[K-Wcpp\u001b[m\u001b[K]\n",
            " #\u001b[01;35m\u001b[Kwarning\u001b[m\u001b[K \"Using deprecated NumPy API, disable it with \" \\\n",
            "  \u001b[01;35m\u001b[K^~~~~~~\u001b[m\u001b[K\n",
            "\u001b[01m\u001b[K/tmp/tmp64c3a3_g/src.linux-x86_64-3.7/arr2module.c:109:12:\u001b[m\u001b[K \u001b[01;35m\u001b[Kwarning: \u001b[m\u001b[K‘\u001b[01m\u001b[Kf2py_size\u001b[m\u001b[K’ defined but not used [\u001b[01;35m\u001b[K-Wunused-function\u001b[m\u001b[K]\n",
            " static int \u001b[01;35m\u001b[Kf2py_size\u001b[m\u001b[K(PyArrayObject* var, ...)\n",
            "            \u001b[01;35m\u001b[K^~~~~~~~~\u001b[m\u001b[K\n",
            "\u001b[39mcompiling Fortran sources\u001b[0m\n",
            "\u001b[39mFortran f77 compiler: /usr/bin/gfortran -Wall -g -ffixed-form -fno-second-underscore -fPIC -O3 -funroll-loops\n",
            "Fortran f90 compiler: /usr/bin/gfortran -Wall -g -fno-second-underscore -fPIC -O3 -funroll-loops\n",
            "Fortran fix compiler: /usr/bin/gfortran -Wall -g -ffixed-form -fno-second-underscore -Wall -g -fno-second-underscore -fPIC -O3 -funroll-loops\u001b[0m\n",
            "\u001b[39mcompile options: '-I/tmp/tmp64c3a3_g/src.linux-x86_64-3.7 -I/usr/local/lib/python3.7/dist-packages/numpy/core/include -I/usr/include/python3.7m -c'\u001b[0m\n",
            "\u001b[39mgfortran:f90: arr2.f90\u001b[0m\n",
            "\u001b[01m\u001b[Karr2.f90:3:1:\u001b[m\u001b[K\n",
            "\n",
            "  integer :: r, s, t\n",
            " \u001b[01;35m\u001b[K1\u001b[m\u001b[K\n",
            "\u001b[01;35m\u001b[KWarning:\u001b[m\u001b[K Nonconforming tab character at (1) [\u001b[01;35m\u001b[K-Wtabs\u001b[m\u001b[K]\n",
            "\u001b[01m\u001b[Karr2.f90:4:1:\u001b[m\u001b[K\n",
            "\n",
            "  real, intent(in) :: A(r,s)\n",
            " \u001b[01;35m\u001b[K1\u001b[m\u001b[K\n",
            "\u001b[01;35m\u001b[KWarning:\u001b[m\u001b[K Nonconforming tab character at (1) [\u001b[01;35m\u001b[K-Wtabs\u001b[m\u001b[K]\n",
            "\u001b[01m\u001b[Karr2.f90:5:1:\u001b[m\u001b[K\n",
            "\n",
            "  real, intent(in) :: B(s,t)\n",
            " \u001b[01;35m\u001b[K1\u001b[m\u001b[K\n",
            "\u001b[01;35m\u001b[KWarning:\u001b[m\u001b[K Nonconforming tab character at (1) [\u001b[01;35m\u001b[K-Wtabs\u001b[m\u001b[K]\n",
            "\u001b[01m\u001b[Karr2.f90:6:1:\u001b[m\u001b[K\n",
            "\n",
            "  real, intent(inout) :: C(r,t)\n",
            " \u001b[01;35m\u001b[K1\u001b[m\u001b[K\n",
            "\u001b[01;35m\u001b[KWarning:\u001b[m\u001b[K Nonconforming tab character at (1) [\u001b[01;35m\u001b[K-Wtabs\u001b[m\u001b[K]\n",
            "\u001b[01m\u001b[Karr2.f90:8:1:\u001b[m\u001b[K\n",
            "\n",
            "  C = matmul(A,B)\n",
            " \u001b[01;35m\u001b[K1\u001b[m\u001b[K\n",
            "\u001b[01;35m\u001b[KWarning:\u001b[m\u001b[K Nonconforming tab character at (1) [\u001b[01;35m\u001b[K-Wtabs\u001b[m\u001b[K]\n",
            "\u001b[39m/usr/bin/gfortran -Wall -g -Wall -g -shared /tmp/tmp64c3a3_g/tmp/tmp64c3a3_g/src.linux-x86_64-3.7/arr2module.o /tmp/tmp64c3a3_g/tmp/tmp64c3a3_g/src.linux-x86_64-3.7/fortranobject.o /tmp/tmp64c3a3_g/arr2.o -L/usr/lib/gcc/x86_64-linux-gnu/7 -L/usr/lib/gcc/x86_64-linux-gnu/7 -lgfortran -o ./arr2.cpython-37m-x86_64-linux-gnu.so\u001b[0m\n",
            "Removing build directory /tmp/tmp64c3a3_g\n"
          ]
        }
      ]
    },
    {
      "cell_type": "code",
      "metadata": {
        "id": "1pRm5epuYTqW",
        "colab": {
          "base_uri": "https://localhost:8080/"
        },
        "outputId": "40f419c8-22cb-4513-fe17-ff22d42494b7"
      },
      "source": [
        "import arr2\n",
        "print(arr2.__doc__)"
      ],
      "execution_count": null,
      "outputs": [
        {
          "output_type": "stream",
          "name": "stdout",
          "text": [
            "This module 'arr2' is auto-generated with f2py (version:1.21.6).\n",
            "Functions:\n",
            "  matrix_multiply2(a,b,c,r=shape(a,0),s=shape(a,1),t=shape(b,1))\n",
            ".\n"
          ]
        }
      ]
    },
    {
      "cell_type": "code",
      "metadata": {
        "id": "sbYUlixNYZX6",
        "colab": {
          "base_uri": "https://localhost:8080/"
        },
        "outputId": "7b872adf-3a67-4eee-b952-7c6a546ab6ab"
      },
      "source": [
        "print(arr2.matrix_multiply2.__doc__)"
      ],
      "execution_count": null,
      "outputs": [
        {
          "output_type": "stream",
          "name": "stdout",
          "text": [
            "matrix_multiply2(a,b,c,[r,s,t])\n",
            "\n",
            "Wrapper for ``matrix_multiply2``.\n",
            "\n",
            "Parameters\n",
            "----------\n",
            "a : input rank-2 array('f') with bounds (r,s)\n",
            "b : input rank-2 array('f') with bounds (s,t)\n",
            "c : in/output rank-2 array('f') with bounds (r,t)\n",
            "\n",
            "Other Parameters\n",
            "----------------\n",
            "r : input int, optional\n",
            "    Default: shape(a,0)\n",
            "s : input int, optional\n",
            "    Default: shape(a,1)\n",
            "t : input int, optional\n",
            "    Default: shape(b,1)\n",
            "\n"
          ]
        }
      ]
    },
    {
      "cell_type": "code",
      "metadata": {
        "id": "tjWHdBx_YbKS",
        "colab": {
          "base_uri": "https://localhost:8080/"
        },
        "outputId": "e8888d72-0b15-47a9-dcb2-049b43e6fc80"
      },
      "source": [
        "A = np.ones((6,6), 'f', order='F') * 10.0\n",
        "B = np.ones((6,6), 'f', order='F') * 20.0\n",
        "C = np.zeros((6,6), 'f', order='F')\n",
        "\n",
        "print(\"id of C before multiply =\",id(C))\n",
        "\n",
        "arr2.matrix_multiply2(A, B, C)\n",
        "\n",
        "print(\"id of C after multiply =\",id(C))\n",
        "\n",
        "print(C)"
      ],
      "execution_count": null,
      "outputs": [
        {
          "output_type": "stream",
          "name": "stdout",
          "text": [
            "id of C before multiply = 139866421235408\n",
            "id of C after multiply = 139866421235408\n",
            "[[1200. 1200. 1200. 1200. 1200. 1200.]\n",
            " [1200. 1200. 1200. 1200. 1200. 1200.]\n",
            " [1200. 1200. 1200. 1200. 1200. 1200.]\n",
            " [1200. 1200. 1200. 1200. 1200. 1200.]\n",
            " [1200. 1200. 1200. 1200. 1200. 1200.]\n",
            " [1200. 1200. 1200. 1200. 1200. 1200.]]\n"
          ]
        }
      ]
    },
    {
      "cell_type": "markdown",
      "metadata": {
        "id": "OqlUGRQzYilg"
      },
      "source": [
        "No we see that the id or references of the C array are the same before and after the call to our Fortran extension. The Fortran extension now got a direct reference to the memory of the NumPy array. This is the most efficient way of communicating with Fortran code as there will be no copies made. Copying large matrices can consume a lot of memory and CPU time."
      ]
    },
    {
      "cell_type": "markdown",
      "metadata": {
        "id": "EcN-MFX4ZRvz"
      },
      "source": [
        "# Example 4 - matrix.f90\n",
        "\n",
        "In this example we will use the Fortran matmul function for multiplying matrices.\n",
        "\n",
        "```fortran\n",
        "module matrix\n",
        "\n",
        "contains\n",
        "\n",
        "! A[r,s] * B[s,t] = C[r,t]\n",
        "subroutine matrix_multiply(A,r,s,B,t,C)\n",
        "\tinteger :: r, s, t\n",
        "\treal, intent(in) :: A(r,s)\n",
        "\treal, intent(in) :: B(s,t)\n",
        "\treal, intent(out) :: C(r,t)\n",
        "\n",
        "\tC = matmul(A,B)\n",
        "end subroutine matrix_multiply\n",
        "\n",
        "! A[r,s] * B[s,t] = C[r,t]\n",
        "subroutine matrix_multiply2(A,r,s,B,t,C)\n",
        "        integer :: r, s, t\n",
        "        real, intent(in) :: A(r,s)\n",
        "        real, intent(in) :: B(s,t)\n",
        "        real, intent(inout) :: C(r,t)\n",
        "\n",
        "        C = matmul(A,B)\n",
        "end subroutine matrix_multiply2\n",
        "\n",
        "end module matrix\n",
        "```"
      ]
    },
    {
      "cell_type": "code",
      "metadata": {
        "id": "WOskX65QYhD6",
        "colab": {
          "base_uri": "https://localhost:8080/"
        },
        "outputId": "f7f459ab-ffe7-49e0-9348-1dcd21eafc6e"
      },
      "source": [
        "!f2py -m matrix -c matrix.f90"
      ],
      "execution_count": null,
      "outputs": [
        {
          "output_type": "stream",
          "name": "stdout",
          "text": [
            "\u001b[39mrunning build\u001b[0m\n",
            "\u001b[39mrunning config_cc\u001b[0m\n",
            "\u001b[39munifing config_cc, config, build_clib, build_ext, build commands --compiler options\u001b[0m\n",
            "\u001b[39mrunning config_fc\u001b[0m\n",
            "\u001b[39munifing config_fc, config, build_clib, build_ext, build commands --fcompiler options\u001b[0m\n",
            "\u001b[39mrunning build_src\u001b[0m\n",
            "\u001b[39mbuild_src\u001b[0m\n",
            "\u001b[39mbuilding extension \"matrix\" sources\u001b[0m\n",
            "\u001b[39mf2py options: []\u001b[0m\n",
            "\u001b[39mf2py:> /tmp/tmpngh8_7w0/src.linux-x86_64-3.7/matrixmodule.c\u001b[0m\n",
            "\u001b[39mcreating /tmp/tmpngh8_7w0/src.linux-x86_64-3.7\u001b[0m\n",
            "Reading fortran codes...\n",
            "\tReading file 'matrix.f90' (format:free)\n",
            "Post-processing...\n",
            "\tBlock: matrix\n",
            "\t\t\tBlock: matrix\n",
            "\t\t\t\tBlock: matrix_multiply\n",
            "\t\t\t\tBlock: matrix_multiply2\n",
            "Post-processing (stage 2)...\n",
            "\tBlock: matrix\n",
            "\t\tBlock: unknown_interface\n",
            "\t\t\tBlock: matrix\n",
            "\t\t\t\tBlock: matrix_multiply\n",
            "\t\t\t\tBlock: matrix_multiply2\n",
            "Building modules...\n",
            "\tBuilding module \"matrix\"...\n",
            "\t\tConstructing F90 module support for \"matrix\"...\n",
            "\t\t\tConstructing wrapper function \"matrix.matrix_multiply\"...\n",
            "\t\t\t  c = matrix_multiply(a,b,[r,s,t])\n",
            "\t\t\tConstructing wrapper function \"matrix.matrix_multiply2\"...\n",
            "\t\t\t  matrix_multiply2(a,b,c,[r,s,t])\n",
            "\tWrote C/API module \"matrix\" to file \"/tmp/tmpngh8_7w0/src.linux-x86_64-3.7/matrixmodule.c\"\n",
            "\tFortran 90 wrappers are saved to \"/tmp/tmpngh8_7w0/src.linux-x86_64-3.7/matrix-f2pywrappers2.f90\"\n",
            "\u001b[39m  adding '/tmp/tmpngh8_7w0/src.linux-x86_64-3.7/fortranobject.c' to sources.\u001b[0m\n",
            "\u001b[39m  adding '/tmp/tmpngh8_7w0/src.linux-x86_64-3.7' to include_dirs.\u001b[0m\n",
            "\u001b[39mcopying /usr/local/lib/python3.7/dist-packages/numpy/f2py/src/fortranobject.c -> /tmp/tmpngh8_7w0/src.linux-x86_64-3.7\u001b[0m\n",
            "\u001b[39mcopying /usr/local/lib/python3.7/dist-packages/numpy/f2py/src/fortranobject.h -> /tmp/tmpngh8_7w0/src.linux-x86_64-3.7\u001b[0m\n",
            "\u001b[39m  adding '/tmp/tmpngh8_7w0/src.linux-x86_64-3.7/matrix-f2pywrappers2.f90' to sources.\u001b[0m\n",
            "\u001b[39mbuild_src: building npy-pkg config files\u001b[0m\n",
            "\u001b[39mrunning build_ext\u001b[0m\n",
            "\u001b[39mcustomize UnixCCompiler\u001b[0m\n",
            "\u001b[39mcustomize UnixCCompiler using build_ext\u001b[0m\n",
            "\u001b[39mget_default_fcompiler: matching types: '['gnu95', 'intel', 'lahey', 'pg', 'nv', 'absoft', 'nag', 'vast', 'compaq', 'intele', 'intelem', 'gnu', 'g95', 'pathf95', 'nagfor', 'fujitsu']'\u001b[0m\n",
            "\u001b[39mcustomize Gnu95FCompiler\u001b[0m\n",
            "\u001b[39mFound executable /usr/bin/gfortran\u001b[0m\n",
            "\u001b[39mcustomize Gnu95FCompiler\u001b[0m\n",
            "\u001b[39mcustomize Gnu95FCompiler using build_ext\u001b[0m\n",
            "\u001b[39mbuilding 'matrix' extension\u001b[0m\n",
            "\u001b[39mcompiling C sources\u001b[0m\n",
            "\u001b[39mC compiler: x86_64-linux-gnu-gcc -pthread -Wno-unused-result -Wsign-compare -DNDEBUG -g -fwrapv -O2 -Wall -g -fstack-protector-strong -Wformat -Werror=format-security -g -fwrapv -O2 -g -fstack-protector-strong -Wformat -Werror=format-security -Wdate-time -D_FORTIFY_SOURCE=2 -fPIC\n",
            "\u001b[0m\n",
            "\u001b[39mcreating /tmp/tmpngh8_7w0/tmp\u001b[0m\n",
            "\u001b[39mcreating /tmp/tmpngh8_7w0/tmp/tmpngh8_7w0\u001b[0m\n",
            "\u001b[39mcreating /tmp/tmpngh8_7w0/tmp/tmpngh8_7w0/src.linux-x86_64-3.7\u001b[0m\n",
            "\u001b[39mcompile options: '-DNPY_DISABLE_OPTIMIZATION=1 -I/tmp/tmpngh8_7w0/src.linux-x86_64-3.7 -I/usr/local/lib/python3.7/dist-packages/numpy/core/include -I/usr/include/python3.7m -c'\u001b[0m\n",
            "\u001b[39mx86_64-linux-gnu-gcc: /tmp/tmpngh8_7w0/src.linux-x86_64-3.7/matrixmodule.c\u001b[0m\n",
            "\u001b[39mx86_64-linux-gnu-gcc: /tmp/tmpngh8_7w0/src.linux-x86_64-3.7/fortranobject.c\u001b[0m\n",
            "In file included from \u001b[01m\u001b[K/usr/local/lib/python3.7/dist-packages/numpy/core/include/numpy/ndarraytypes.h:1969:0\u001b[m\u001b[K,\n",
            "                 from \u001b[01m\u001b[K/usr/local/lib/python3.7/dist-packages/numpy/core/include/numpy/ndarrayobject.h:12\u001b[m\u001b[K,\n",
            "                 from \u001b[01m\u001b[K/usr/local/lib/python3.7/dist-packages/numpy/core/include/numpy/arrayobject.h:4\u001b[m\u001b[K,\n",
            "                 from \u001b[01m\u001b[K/tmp/tmpngh8_7w0/src.linux-x86_64-3.7/fortranobject.h:13\u001b[m\u001b[K,\n",
            "                 from \u001b[01m\u001b[K/tmp/tmpngh8_7w0/src.linux-x86_64-3.7/matrixmodule.c:16\u001b[m\u001b[K:\n",
            "\u001b[01m\u001b[K/usr/local/lib/python3.7/dist-packages/numpy/core/include/numpy/npy_1_7_deprecated_api.h:17:2:\u001b[m\u001b[K \u001b[01;35m\u001b[Kwarning: \u001b[m\u001b[K#warning \"Using deprecated NumPy API, disable it with \" \"#define NPY_NO_DEPRECATED_API NPY_1_7_API_VERSION\" [\u001b[01;35m\u001b[K-Wcpp\u001b[m\u001b[K]\n",
            " #\u001b[01;35m\u001b[Kwarning\u001b[m\u001b[K \"Using deprecated NumPy API, disable it with \" \\\n",
            "  \u001b[01;35m\u001b[K^~~~~~~\u001b[m\u001b[K\n",
            "In file included from \u001b[01m\u001b[K/usr/local/lib/python3.7/dist-packages/numpy/core/include/numpy/ndarraytypes.h:1969:0\u001b[m\u001b[K,\n",
            "                 from \u001b[01m\u001b[K/usr/local/lib/python3.7/dist-packages/numpy/core/include/numpy/ndarrayobject.h:12\u001b[m\u001b[K,\n",
            "                 from \u001b[01m\u001b[K/usr/local/lib/python3.7/dist-packages/numpy/core/include/numpy/arrayobject.h:4\u001b[m\u001b[K,\n",
            "                 from \u001b[01m\u001b[K/tmp/tmpngh8_7w0/src.linux-x86_64-3.7/fortranobject.h:13\u001b[m\u001b[K,\n",
            "                 from \u001b[01m\u001b[K/tmp/tmpngh8_7w0/src.linux-x86_64-3.7/fortranobject.c:2\u001b[m\u001b[K:\n",
            "\u001b[01m\u001b[K/usr/local/lib/python3.7/dist-packages/numpy/core/include/numpy/npy_1_7_deprecated_api.h:17:2:\u001b[m\u001b[K \u001b[01;35m\u001b[Kwarning: \u001b[m\u001b[K#warning \"Using deprecated NumPy API, disable it with \" \"#define NPY_NO_DEPRECATED_API NPY_1_7_API_VERSION\" [\u001b[01;35m\u001b[K-Wcpp\u001b[m\u001b[K]\n",
            " #\u001b[01;35m\u001b[Kwarning\u001b[m\u001b[K \"Using deprecated NumPy API, disable it with \" \\\n",
            "  \u001b[01;35m\u001b[K^~~~~~~\u001b[m\u001b[K\n",
            "\u001b[01m\u001b[K/tmp/tmpngh8_7w0/src.linux-x86_64-3.7/matrixmodule.c:109:12:\u001b[m\u001b[K \u001b[01;35m\u001b[Kwarning: \u001b[m\u001b[K‘\u001b[01m\u001b[Kf2py_size\u001b[m\u001b[K’ defined but not used [\u001b[01;35m\u001b[K-Wunused-function\u001b[m\u001b[K]\n",
            " static int \u001b[01;35m\u001b[Kf2py_size\u001b[m\u001b[K(PyArrayObject* var, ...)\n",
            "            \u001b[01;35m\u001b[K^~~~~~~~~\u001b[m\u001b[K\n",
            "\u001b[39mcompiling Fortran 90 module sources\u001b[0m\n",
            "\u001b[39mFortran f77 compiler: /usr/bin/gfortran -Wall -g -ffixed-form -fno-second-underscore -fPIC -O3 -funroll-loops\n",
            "Fortran f90 compiler: /usr/bin/gfortran -Wall -g -fno-second-underscore -fPIC -O3 -funroll-loops\n",
            "Fortran fix compiler: /usr/bin/gfortran -Wall -g -ffixed-form -fno-second-underscore -Wall -g -fno-second-underscore -fPIC -O3 -funroll-loops\u001b[0m\n",
            "\u001b[39mcompile options: '-I/tmp/tmpngh8_7w0/src.linux-x86_64-3.7 -I/usr/local/lib/python3.7/dist-packages/numpy/core/include -I/usr/include/python3.7m -c'\n",
            "extra options: '-J/tmp/tmpngh8_7w0/ -I/tmp/tmpngh8_7w0/'\u001b[0m\n",
            "\u001b[39mgfortran:f90: matrix.f90\u001b[0m\n",
            "\u001b[01m\u001b[Kmatrix.f90:7:1:\u001b[m\u001b[K\n",
            "\n",
            "  integer :: r, s, t\n",
            " \u001b[01;35m\u001b[K1\u001b[m\u001b[K\n",
            "\u001b[01;35m\u001b[KWarning:\u001b[m\u001b[K Nonconforming tab character at (1) [\u001b[01;35m\u001b[K-Wtabs\u001b[m\u001b[K]\n",
            "\u001b[01m\u001b[Kmatrix.f90:8:1:\u001b[m\u001b[K\n",
            "\n",
            "  real, intent(in) :: A(r,s)\n",
            " \u001b[01;35m\u001b[K1\u001b[m\u001b[K\n",
            "\u001b[01;35m\u001b[KWarning:\u001b[m\u001b[K Nonconforming tab character at (1) [\u001b[01;35m\u001b[K-Wtabs\u001b[m\u001b[K]\n",
            "\u001b[01m\u001b[Kmatrix.f90:9:1:\u001b[m\u001b[K\n",
            "\n",
            "  real, intent(in) :: B(s,t)\n",
            " \u001b[01;35m\u001b[K1\u001b[m\u001b[K\n",
            "\u001b[01;35m\u001b[KWarning:\u001b[m\u001b[K Nonconforming tab character at (1) [\u001b[01;35m\u001b[K-Wtabs\u001b[m\u001b[K]\n",
            "\u001b[01m\u001b[Kmatrix.f90:10:1:\u001b[m\u001b[K\n",
            "\n",
            "  real, intent(out) :: C(r,t)\n",
            " \u001b[01;35m\u001b[K1\u001b[m\u001b[K\n",
            "\u001b[01;35m\u001b[KWarning:\u001b[m\u001b[K Nonconforming tab character at (1) [\u001b[01;35m\u001b[K-Wtabs\u001b[m\u001b[K]\n",
            "\u001b[01m\u001b[Kmatrix.f90:12:1:\u001b[m\u001b[K\n",
            "\n",
            "  C = matmul(A,B)\n",
            " \u001b[01;35m\u001b[K1\u001b[m\u001b[K\n",
            "\u001b[01;35m\u001b[KWarning:\u001b[m\u001b[K Nonconforming tab character at (1) [\u001b[01;35m\u001b[K-Wtabs\u001b[m\u001b[K]\n",
            "\u001b[39mcompiling Fortran sources\u001b[0m\n",
            "\u001b[39mFortran f77 compiler: /usr/bin/gfortran -Wall -g -ffixed-form -fno-second-underscore -fPIC -O3 -funroll-loops\n",
            "Fortran f90 compiler: /usr/bin/gfortran -Wall -g -fno-second-underscore -fPIC -O3 -funroll-loops\n",
            "Fortran fix compiler: /usr/bin/gfortran -Wall -g -ffixed-form -fno-second-underscore -Wall -g -fno-second-underscore -fPIC -O3 -funroll-loops\u001b[0m\n",
            "\u001b[39mcompile options: '-I/tmp/tmpngh8_7w0/src.linux-x86_64-3.7 -I/usr/local/lib/python3.7/dist-packages/numpy/core/include -I/usr/include/python3.7m -c'\n",
            "extra options: '-J/tmp/tmpngh8_7w0/ -I/tmp/tmpngh8_7w0/'\u001b[0m\n",
            "\u001b[39mgfortran:f90: /tmp/tmpngh8_7w0/src.linux-x86_64-3.7/matrix-f2pywrappers2.f90\u001b[0m\n",
            "\u001b[39m/usr/bin/gfortran -Wall -g -Wall -g -shared /tmp/tmpngh8_7w0/tmp/tmpngh8_7w0/src.linux-x86_64-3.7/matrixmodule.o /tmp/tmpngh8_7w0/tmp/tmpngh8_7w0/src.linux-x86_64-3.7/fortranobject.o /tmp/tmpngh8_7w0/matrix.o /tmp/tmpngh8_7w0/tmp/tmpngh8_7w0/src.linux-x86_64-3.7/matrix-f2pywrappers2.o -L/usr/lib/gcc/x86_64-linux-gnu/7 -L/usr/lib/gcc/x86_64-linux-gnu/7 -lgfortran -o ./matrix.cpython-37m-x86_64-linux-gnu.so\u001b[0m\n",
            "Removing build directory /tmp/tmpngh8_7w0\n"
          ]
        }
      ]
    },
    {
      "cell_type": "code",
      "metadata": {
        "id": "ARudK7e5Zugv",
        "colab": {
          "base_uri": "https://localhost:8080/"
        },
        "outputId": "4f643933-c8c2-42d5-f4c8-13212f09f464"
      },
      "source": [
        "import matrix\n",
        "print(matrix.__doc__)"
      ],
      "execution_count": null,
      "outputs": [
        {
          "output_type": "stream",
          "name": "stdout",
          "text": [
            "This module 'matrix' is auto-generated with f2py (version:1.21.6).\n",
            "Functions:\n",
            "Fortran 90/95 modules:\n",
            "  matrix --- matrix_multiply(),matrix_multiply2().\n"
          ]
        }
      ]
    },
    {
      "cell_type": "code",
      "metadata": {
        "id": "CDk1bfE0ZxDy",
        "colab": {
          "base_uri": "https://localhost:8080/"
        },
        "outputId": "566c77ed-881f-4815-f84f-bc3b02f8bf29"
      },
      "source": [
        "print(matrix.matrix.__doc__)"
      ],
      "execution_count": null,
      "outputs": [
        {
          "output_type": "stream",
          "name": "stdout",
          "text": [
            "c = matrix_multiply(a,b,[r,s,t])\n",
            "\n",
            "Wrapper for ``matrix_multiply``.\n",
            "\n",
            "Parameters\n",
            "----------\n",
            "a : input rank-2 array('f') with bounds (r,s)\n",
            "b : input rank-2 array('f') with bounds (s,t)\n",
            "\n",
            "Other Parameters\n",
            "----------------\n",
            "r : input int, optional\n",
            "    Default: shape(a,0)\n",
            "s : input int, optional\n",
            "    Default: shape(a,1)\n",
            "t : input int, optional\n",
            "    Default: shape(b,1)\n",
            "\n",
            "Returns\n",
            "-------\n",
            "c : rank-2 array('f') with bounds (r,t)\n",
            "matrix_multiply2(a,b,c,[r,s,t])\n",
            "\n",
            "Wrapper for ``matrix_multiply2``.\n",
            "\n",
            "Parameters\n",
            "----------\n",
            "a : input rank-2 array('f') with bounds (r,s)\n",
            "b : input rank-2 array('f') with bounds (s,t)\n",
            "c : in/output rank-2 array('f') with bounds (r,t)\n",
            "\n",
            "Other Parameters\n",
            "----------------\n",
            "r : input int, optional\n",
            "    Default: shape(a,0)\n",
            "s : input int, optional\n",
            "    Default: shape(a,1)\n",
            "t : input int, optional\n",
            "    Default: shape(b,1)\n",
            "\n"
          ]
        }
      ]
    },
    {
      "cell_type": "markdown",
      "metadata": {
        "id": "oZca8Xn3Z2WY"
      },
      "source": [
        "Modules generated by f2py are often better to import by using the from * import statement"
      ]
    },
    {
      "cell_type": "code",
      "metadata": {
        "id": "dzZkh7ZWZzto"
      },
      "source": [
        "del(matrix) # Removes the matrix module"
      ],
      "execution_count": null,
      "outputs": []
    },
    {
      "cell_type": "code",
      "metadata": {
        "id": "PhZEG3GIaEZ0"
      },
      "source": [
        "from matrix import *"
      ],
      "execution_count": null,
      "outputs": []
    },
    {
      "cell_type": "code",
      "metadata": {
        "id": "rMsgKIibaF_u",
        "colab": {
          "base_uri": "https://localhost:8080/"
        },
        "outputId": "e27a6b6b-06b9-406a-c2d1-d1bbd6c53d7f"
      },
      "source": [
        "matrix.matrix_multiply2(A, B, C)\n",
        "print(C)"
      ],
      "execution_count": null,
      "outputs": [
        {
          "output_type": "stream",
          "name": "stdout",
          "text": [
            "[[1200. 1200. 1200. 1200. 1200. 1200.]\n",
            " [1200. 1200. 1200. 1200. 1200. 1200.]\n",
            " [1200. 1200. 1200. 1200. 1200. 1200.]\n",
            " [1200. 1200. 1200. 1200. 1200. 1200.]\n",
            " [1200. 1200. 1200. 1200. 1200. 1200.]\n",
            " [1200. 1200. 1200. 1200. 1200. 1200.]]\n"
          ]
        }
      ]
    },
    {
      "cell_type": "markdown",
      "metadata": {
        "id": "dGybYVt_aKPf"
      },
      "source": [
        "Now the Fortran modules names can be used directly withour the additional matrix prefix."
      ]
    }
  ]
}