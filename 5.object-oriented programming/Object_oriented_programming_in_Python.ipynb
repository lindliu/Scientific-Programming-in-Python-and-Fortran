{
  "nbformat": 4,
  "nbformat_minor": 0,
  "metadata": {
    "colab": {
      "provenance": [],
      "collapsed_sections": []
    },
    "kernelspec": {
      "display_name": "Python 3",
      "language": "python",
      "name": "python3"
    },
    "language_info": {
      "codemirror_mode": {
        "name": "ipython",
        "version": 3
      },
      "file_extension": ".py",
      "mimetype": "text/x-python",
      "name": "python",
      "nbconvert_exporter": "python",
      "pygments_lexer": "ipython3",
      "version": "3.7.3"
    },
    "nbTranslate": {
      "displayLangs": [
        "*"
      ],
      "hotkey": "alt-t",
      "langInMainMenu": true,
      "sourceLang": "sv",
      "targetLang": "en",
      "useGoogleTranslate": true
    }
  },
  "cells": [
    {
      "cell_type": "markdown",
      "metadata": {
        "lang": "en",
        "id": "_TPRt0NJTz9O"
      },
      "source": [
        "# Object-oriented programming\n",
        "\n",
        "The basic concept is the concept of an object that combines data and methods into one entity.\n",
        "     \n",
        "* Objects often describe nouns, such as point, circle, equation, model or square\n",
        "* Objects interact with each other by sending messages.\n",
        "  * Messages are verbs.\n",
        "* An object has\n",
        "  * methods (verbs), which define what the object can do\n",
        "  * properties that describe attributes and links to other objects.\n",
        "* An object is described by a class\n",
        "  * A class is a blueprint for an object.\n"
      ]
    },
    {
      "cell_type": "markdown",
      "metadata": {
        "id": "fnw6gOYXOZnk"
      },
      "source": [
        "# Function based programming"
      ]
    },
    {
      "cell_type": "code",
      "metadata": {
        "id": "SG6jyxw_OZnm"
      },
      "source": [
        "def create_point(x, y):\n",
        "    return [x, y]\n",
        "\n",
        "def move_point(point, dx, dy):\n",
        "    point[0] += dx\n",
        "    point[1] += dy\n",
        "    \n",
        "def zero_point(point):\n",
        "    point[0] = 0.0\n",
        "    point[1] = 0.0\n",
        "    \n",
        "def set_point(point, x, y):\n",
        "    point[0] = x\n",
        "    point[1] = y\n",
        "    \n",
        "def print_point(point):\n",
        "    print(\"x =\",point[0], \"y = \", point[1])\n",
        "    "
      ],
      "execution_count": null,
      "outputs": []
    },
    {
      "cell_type": "code",
      "metadata": {
        "id": "8TQ7RQNSOZnu",
        "colab": {
          "base_uri": "https://localhost:8080/"
        },
        "outputId": "b22da3e8-3513-48d3-a7b7-c5124a5c8460"
      },
      "source": [
        "p = create_point(0.5, 0.0)\n",
        "print_point(p)"
      ],
      "execution_count": null,
      "outputs": [
        {
          "output_type": "stream",
          "name": "stdout",
          "text": [
            "x = 0.5 y =  0.0\n"
          ]
        }
      ]
    },
    {
      "cell_type": "code",
      "metadata": {
        "id": "yLXf2m3nOZn4",
        "colab": {
          "base_uri": "https://localhost:8080/"
        },
        "outputId": "9daf8d30-a1d1-4cd0-ebfd-f64a21e860a8"
      },
      "source": [
        "move_point(p, 3.0, 2.0)\n",
        "print_point(p)"
      ],
      "execution_count": null,
      "outputs": [
        {
          "output_type": "stream",
          "name": "stdout",
          "text": [
            "x = 3.5 y =  2.0\n"
          ]
        }
      ]
    },
    {
      "cell_type": "code",
      "metadata": {
        "id": "dvKiAYXzOZoB",
        "colab": {
          "base_uri": "https://localhost:8080/"
        },
        "outputId": "35284547-f02d-44aa-d16b-1ef875bdca49"
      },
      "source": [
        "set_point(p, -2.0, -1.0)\n",
        "print_point(p)"
      ],
      "execution_count": null,
      "outputs": [
        {
          "output_type": "stream",
          "name": "stdout",
          "text": [
            "x = -2.0 y =  -1.0\n"
          ]
        }
      ]
    },
    {
      "cell_type": "code",
      "metadata": {
        "id": "4PokqmcbOZoH",
        "colab": {
          "base_uri": "https://localhost:8080/"
        },
        "outputId": "0fb2921b-0a65-41c7-88c1-0becdb8b6769"
      },
      "source": [
        "print_point(p)"
      ],
      "execution_count": null,
      "outputs": [
        {
          "output_type": "stream",
          "name": "stdout",
          "text": [
            "x = -2.0 y =  -1.0\n"
          ]
        }
      ]
    },
    {
      "cell_type": "markdown",
      "metadata": {
        "id": "6LX5I2NxOZoO"
      },
      "source": [
        "# Classes"
      ]
    },
    {
      "cell_type": "markdown",
      "metadata": {
        "id": "9hQ2YldzOZoS"
      },
      "source": [
        "## Class definition in Python"
      ]
    },
    {
      "cell_type": "code",
      "metadata": {
        "id": "KW67Gz-COZoW"
      },
      "source": [
        "class Point:\n",
        "    def __init__(self):\n",
        "        self.x = 0.0\n",
        "        self.y = 0.0"
      ],
      "execution_count": null,
      "outputs": []
    },
    {
      "cell_type": "markdown",
      "metadata": {
        "lang": "en",
        "id": "Cr8LcE5cTz-u"
      },
      "source": [
        "**self.x** and **self.y** are instance attributes and will be unique for each instance (object) of a class."
      ]
    },
    {
      "cell_type": "markdown",
      "metadata": {
        "id": "vpjhmONCOZog"
      },
      "source": [
        "## Instanciating classes (creating objects)"
      ]
    },
    {
      "cell_type": "code",
      "metadata": {
        "id": "K9dCN2v2OZok"
      },
      "source": [
        "p = Point()\n",
        "q = Point()"
      ],
      "execution_count": null,
      "outputs": []
    },
    {
      "cell_type": "markdown",
      "metadata": {
        "lang": "en",
        "id": "T8mxrjZ7Tz_F"
      },
      "source": [
        "This means that the **__init__()** method for the **Point** class will be called for both **p** and __q__."
      ]
    },
    {
      "cell_type": "code",
      "metadata": {
        "id": "jUYbESIoOZor",
        "colab": {
          "base_uri": "https://localhost:8080/"
        },
        "outputId": "dfd30c90-5c2d-4117-b80f-322d6b3d51fe"
      },
      "source": [
        "print(p.x)\n",
        "print(p.y)\n",
        "print(q.x)\n",
        "print(q.y)"
      ],
      "execution_count": null,
      "outputs": [
        {
          "output_type": "stream",
          "name": "stdout",
          "text": [
            "0.0\n",
            "0.0\n",
            "0.0\n",
            "0.0\n"
          ]
        }
      ]
    },
    {
      "cell_type": "markdown",
      "metadata": {
        "lang": "en",
        "id": "Q0Khs3nRTz_V"
      },
      "source": [
        "The instance attributes can also be assigned:"
      ]
    },
    {
      "cell_type": "code",
      "metadata": {
        "id": "21QodLpjOZoz",
        "colab": {
          "base_uri": "https://localhost:8080/"
        },
        "outputId": "4584083b-e722-4e32-e22c-66b16c38a38f"
      },
      "source": [
        "p.x = 1.0\n",
        "p.y = 2.0\n",
        "\n",
        "print(p.x)\n",
        "print(p.y)\n",
        "print(q.x)\n",
        "print(q.y)"
      ],
      "execution_count": null,
      "outputs": [
        {
          "output_type": "stream",
          "name": "stdout",
          "text": [
            "1.0\n",
            "2.0\n",
            "0.0\n",
            "0.0\n"
          ]
        }
      ]
    },
    {
      "cell_type": "markdown",
      "metadata": {
        "lang": "en",
        "id": "WBt-m5rZTz_l"
      },
      "source": [
        "Is this a correct form of encapsulation? Python does not explicitly prohibit access to instance attributes. This doesn't have to be a problem, but will come later. First, let's implement the class in the right object-oriented way:"
      ]
    },
    {
      "cell_type": "markdown",
      "metadata": {
        "lang": "en",
        "id": "XOmwdGVeTz_p"
      },
      "source": [
        "# Encapsulation and attribute access"
      ]
    },
    {
      "cell_type": "markdown",
      "metadata": {
        "lang": "en",
        "id": "ugx2yW_TTz_s"
      },
      "source": [
        "An instance attribute can be made private in Python by adding the **__** prefix (two underscores). To assign values ​​to these, we add two additional arguments to the **__ init __ ()** method."
      ]
    },
    {
      "cell_type": "code",
      "metadata": {
        "id": "PuUnS6HPOZo-"
      },
      "source": [
        "class Point:\n",
        "    def __init__(self, x, y):\n",
        "        self.__x = x\n",
        "        self.__y = y"
      ],
      "execution_count": null,
      "outputs": []
    },
    {
      "cell_type": "markdown",
      "metadata": {
        "lang": "en",
        "id": "6Byq_EXrTz_4"
      },
      "source": [
        "We can now create **Point** instances and assign the instance attributes at the same time:"
      ]
    },
    {
      "cell_type": "code",
      "metadata": {
        "id": "ZhNdHvm8OZpE"
      },
      "source": [
        "p = Point(1.0, 2.0)"
      ],
      "execution_count": null,
      "outputs": []
    },
    {
      "cell_type": "markdown",
      "metadata": {
        "lang": "en",
        "id": "B__7hUU4T0AI"
      },
      "source": [
        "We can no longer assign the instance attributes directly anymore. Something goes wrong:"
      ]
    },
    {
      "cell_type": "code",
      "metadata": {
        "id": "IVABAMl0OZpL",
        "scrolled": true,
        "colab": {
          "base_uri": "https://localhost:8080/",
          "height": 183
        },
        "outputId": "d70988ff-2490-410f-a5e1-993d87120306"
      },
      "source": [
        "print(p.x)\n",
        "print(p.y)"
      ],
      "execution_count": null,
      "outputs": [
        {
          "output_type": "error",
          "ename": "AttributeError",
          "evalue": "ignored",
          "traceback": [
            "\u001b[0;31m---------------------------------------------------------------------------\u001b[0m",
            "\u001b[0;31mAttributeError\u001b[0m                            Traceback (most recent call last)",
            "\u001b[0;32m<ipython-input-43-04d32b2fd664>\u001b[0m in \u001b[0;36m<module>\u001b[0;34m\u001b[0m\n\u001b[0;32m----> 1\u001b[0;31m \u001b[0mprint\u001b[0m\u001b[0;34m(\u001b[0m\u001b[0mp\u001b[0m\u001b[0;34m.\u001b[0m\u001b[0mx\u001b[0m\u001b[0;34m)\u001b[0m\u001b[0;34m\u001b[0m\u001b[0;34m\u001b[0m\u001b[0m\n\u001b[0m\u001b[1;32m      2\u001b[0m \u001b[0mprint\u001b[0m\u001b[0;34m(\u001b[0m\u001b[0mp\u001b[0m\u001b[0;34m.\u001b[0m\u001b[0my\u001b[0m\u001b[0;34m)\u001b[0m\u001b[0;34m\u001b[0m\u001b[0;34m\u001b[0m\u001b[0m\n",
            "\u001b[0;31mAttributeError\u001b[0m: 'Point' object has no attribute 'x'"
          ]
        }
      ]
    },
    {
      "cell_type": "markdown",
      "metadata": {
        "lang": "en",
        "id": "t40eQKPoT0AU"
      },
      "source": [
        "The reason for this is that the x and y properties are now private. The internal attributes **__ x** cannot be reached either:"
      ]
    },
    {
      "cell_type": "code",
      "metadata": {
        "id": "WlCgDzfhOZpW",
        "colab": {
          "base_uri": "https://localhost:8080/",
          "height": 166
        },
        "outputId": "1855e0f4-c60b-499b-9d9d-961cbc034a5b"
      },
      "source": [
        "print(p.__x)"
      ],
      "execution_count": null,
      "outputs": [
        {
          "output_type": "error",
          "ename": "AttributeError",
          "evalue": "ignored",
          "traceback": [
            "\u001b[0;31m---------------------------------------------------------------------------\u001b[0m",
            "\u001b[0;31mAttributeError\u001b[0m                            Traceback (most recent call last)",
            "\u001b[0;32m<ipython-input-44-a798b988bea1>\u001b[0m in \u001b[0;36m<module>\u001b[0;34m\u001b[0m\n\u001b[0;32m----> 1\u001b[0;31m \u001b[0mprint\u001b[0m\u001b[0;34m(\u001b[0m\u001b[0mp\u001b[0m\u001b[0;34m.\u001b[0m\u001b[0m__x\u001b[0m\u001b[0;34m)\u001b[0m\u001b[0;34m\u001b[0m\u001b[0;34m\u001b[0m\u001b[0m\n\u001b[0m",
            "\u001b[0;31mAttributeError\u001b[0m: 'Point' object has no attribute '__x'"
          ]
        }
      ]
    },
    {
      "cell_type": "markdown",
      "metadata": {
        "lang": "en",
        "id": "txz4Vso_T0Aj"
      },
      "source": [
        "We have now protected our internal instance variables from a user of the object (encapsulation). To access these, we must now add methods to assign and return values. This is often done with get / set methods in object-oriented programming. We add the set methods to be able to assign the instance variables."
      ]
    },
    {
      "cell_type": "code",
      "metadata": {
        "id": "aXXy8GFlOZpj"
      },
      "source": [
        "class Point:\n",
        "    def __init__(self, x=0.0, y=0.0):\n",
        "        self.__x = x\n",
        "        self.__y = y\n",
        "    \n",
        "    def set_x(self, x):\n",
        "        self.__x = x\n",
        "    \n",
        "    def set_y(self, y):\n",
        "        self.__y = y\n",
        "    \n",
        "    def set(self, x, y):\n",
        "        self.__x = x\n",
        "        self.__y = y"
      ],
      "execution_count": null,
      "outputs": []
    },
    {
      "cell_type": "markdown",
      "metadata": {
        "lang": "en",
        "id": "LcUBFjL-T0Ax"
      },
      "source": [
        "The class can now be created and used as in the code below:"
      ]
    },
    {
      "cell_type": "code",
      "metadata": {
        "id": "H-wCNyLIOZpq"
      },
      "source": [
        "p = Point(12.0, 13.0)\n",
        "\n",
        "p.set(2.0, 3.0)\n",
        "p.set_x(42.0)\n",
        "p.set_y(83.0)"
      ],
      "execution_count": null,
      "outputs": []
    },
    {
      "cell_type": "markdown",
      "metadata": {
        "lang": "en",
        "id": "1BqiKgxlT0A8"
      },
      "source": [
        "To return values, we add the functions **x ()** and **y ()**."
      ]
    },
    {
      "cell_type": "code",
      "metadata": {
        "id": "i_5O5D_tOZpv"
      },
      "source": [
        "class Point:\n",
        "    def __init__(self, x=0.0, y=0.0):\n",
        "        self.__x = x\n",
        "        self.__y = y\n",
        "\n",
        "    def set_x(self, x):\n",
        "        self.__x = x\n",
        "\n",
        "    def set_y(self, y):\n",
        "        self.__y = y\n",
        "    \n",
        "    def set(self, x, y):\n",
        "        self.__x = x\n",
        "        self.__y = y\n",
        "    \n",
        "    def x(self):\n",
        "        return self.__x\n",
        "    \n",
        "    def y(self):\n",
        "        return self.__y"
      ],
      "execution_count": null,
      "outputs": []
    },
    {
      "cell_type": "markdown",
      "metadata": {
        "lang": "en",
        "id": "O1T87ZQHT0BI"
      },
      "source": [
        "Now we have full access to the internal instance variables in the class:"
      ]
    },
    {
      "cell_type": "code",
      "metadata": {
        "id": "H-Df-mdaOZp3",
        "colab": {
          "base_uri": "https://localhost:8080/"
        },
        "outputId": "84c28041-15eb-45e4-d03c-22edc2226c46"
      },
      "source": [
        "p = Point(12.0, 13.0)\n",
        "\n",
        "p.set(2.0, 3.0)\n",
        "p.set_x(42.0)\n",
        "p.set_y(83.0)\n",
        "\n",
        "print(p.x())\n",
        "print(p.y())"
      ],
      "execution_count": null,
      "outputs": [
        {
          "output_type": "stream",
          "name": "stdout",
          "text": [
            "42.0\n",
            "83.0\n"
          ]
        }
      ]
    },
    {
      "cell_type": "markdown",
      "metadata": {
        "id": "47n5ssycOZp7"
      },
      "source": [
        "## Python properties"
      ]
    },
    {
      "cell_type": "markdown",
      "metadata": {
        "lang": "en",
        "id": "p9iNV4yMT0BX"
      },
      "source": [
        "To make it easier to use instance variables in, Python supports the concept of property. This concept means that you still use get / set methods, but you add a special **property** declaration which means that access to instance variables can be made just as if they were variables directly on the object. For example, an assignment will automatically call the set method. The **property** declaration specifies the name of the property and the methods used to assign and return the value of properties.\n",
        "\n",
        "We can add the __x__ and **y** properties to our existing __Point__ class. The modified class will now be:"
      ]
    },
    {
      "cell_type": "code",
      "metadata": {
        "id": "SJFrIoHTOZp-"
      },
      "source": [
        "class Point:\n",
        "    def __init__(self, x=0.0, y=0.0):\n",
        "        self.__x = x\n",
        "        self.__y = y\n",
        "    \n",
        "    def set_x(self, x):\n",
        "        print(\"set_x()\")\n",
        "        self.__x = x\n",
        "    \n",
        "    def set_y(self, y):\n",
        "        print(\"set_y()\")\n",
        "        self.__y = y\n",
        "    \n",
        "    def set(self, x, y):\n",
        "        self.__x = x\n",
        "        self.__y = y\n",
        "    \n",
        "    def get_x(self):\n",
        "        print(\"get_x()\")\n",
        "        return self.__x\n",
        "    \n",
        "    def get_y(self):\n",
        "        print(\"get_y()\")\n",
        "        return self.__y\n",
        "    \n",
        "    x = property(get_x, set_x)\n",
        "    y = property(get_y, set_y)"
      ],
      "execution_count": null,
      "outputs": []
    },
    {
      "cell_type": "markdown",
      "metadata": {
        "lang": "en",
        "id": "Uk9o1APrT0Bh"
      },
      "source": [
        "It is now much easier to access the instance variables:"
      ]
    },
    {
      "cell_type": "code",
      "metadata": {
        "id": "7ElCqo4xOZqH",
        "colab": {
          "base_uri": "https://localhost:8080/"
        },
        "outputId": "6ba22a67-e8d6-4c31-b4fa-23b3256b5691"
      },
      "source": [
        "p = Point()\n",
        "\n",
        "p.x = 42.0\n",
        "p.y = 84.0\n",
        "\n",
        "print(p.x)\n",
        "print(p.y)"
      ],
      "execution_count": null,
      "outputs": [
        {
          "output_type": "stream",
          "name": "stdout",
          "text": [
            "set_x()\n",
            "set_y()\n",
            "get_x()\n",
            "42.0\n",
            "get_y()\n",
            "84.0\n"
          ]
        }
      ]
    },
    {
      "cell_type": "markdown",
      "metadata": {
        "lang": "en",
        "id": "fDWoQ9vET0Bz"
      },
      "source": [
        "Properties give us the protection of get / set methods, but with the simplicity of assigning instance variables directly. It also gives us the opportunity to postpone the decision to add get / set methods and to use direct access to instance variables until you need the added protection.\n",
        "Protection."
      ]
    },
    {
      "cell_type": "markdown",
      "source": [
        "# Python properties using decorators\n",
        "\n",
        "There is a way of simplifying the process of creating properties, using so called decorators. Decorators in Python are a way of automating code generation for certain functionality. There are 2 decorators that are useful for implemeting properties, the @property-decorator and the @xxxx.setter decorator. The @property decorator creates a read-only property from a function method. @xxxx.setter creates a write-property from a function. Below the previous class **Point** is implemented using decorators instead of **property**-declarations."
      ],
      "metadata": {
        "id": "5IGLxRwe45_G"
      }
    },
    {
      "cell_type": "code",
      "source": [
        "class Point:\n",
        "    def __init__(self, x=0.0, y=0.0):\n",
        "        self.__x = x\n",
        "        self.__y = y\n",
        "    \n",
        "    @property\n",
        "    def x(self):\n",
        "        print(\"@property of x\")\n",
        "        return self.__x\n",
        "    \n",
        "    @x.setter\n",
        "    def x(self, x):\n",
        "        print(\"@setter for x\")\n",
        "        self.__x = x\n",
        "\n",
        "    @property\n",
        "    def y(self):\n",
        "        print(\"@property of y\")\n",
        "        return self.__y\n",
        "\n",
        "    @y.setter\n",
        "    def y(self, y):\n",
        "        print(\"@setter for y\")\n",
        "        self.__y = y\n"
      ],
      "metadata": {
        "id": "y4QBwhHt54tv"
      },
      "execution_count": null,
      "outputs": []
    },
    {
      "cell_type": "markdown",
      "source": [
        "The class can be used in exactly the same way as before, but now we don't need the **property**-definitions at the end of the class."
      ],
      "metadata": {
        "id": "713KWStE6Ltd"
      }
    },
    {
      "cell_type": "code",
      "source": [
        "p = Point()\n",
        "\n",
        "p.x = 42.0\n",
        "p.y = 84.0\n",
        "\n",
        "print(p.x)\n",
        "print(p.y)"
      ],
      "metadata": {
        "colab": {
          "base_uri": "https://localhost:8080/"
        },
        "id": "S6GNGFSJ6W3l",
        "outputId": "2700aeb9-d9eb-4cc2-9f85-3bdb61bf075a"
      },
      "execution_count": null,
      "outputs": [
        {
          "output_type": "stream",
          "name": "stdout",
          "text": [
            "@setter for x\n",
            "@setter for y\n",
            "@property of x\n",
            "42.0\n",
            "@property of y\n",
            "84.0\n"
          ]
        }
      ]
    },
    {
      "cell_type": "markdown",
      "source": [
        "If you only want to implement a read-only property the @xxxx.setter decorator can be left out."
      ],
      "metadata": {
        "id": "gcrQ340j6sXF"
      }
    },
    {
      "cell_type": "markdown",
      "metadata": {
        "lang": "en",
        "id": "6WrtW8BPT0B2"
      },
      "source": [
        "# Instance methods\n",
        "\n",
        "*Main way of interacting with objects.* Due to the fact that all data is handled internally in the object, the methods can often be shortened.\n",
        "\n",
        "A typical instance method in the **Point** class can be a method of moving the point a certain distance in the x and y directions."
      ]
    },
    {
      "cell_type": "code",
      "metadata": {
        "id": "oe9iRqCsOZqO"
      },
      "source": [
        "class Point:\n",
        "    def __init__(self, x=0.0, y=0.0):\n",
        "        self.__x = x\n",
        "        self.__y = y\n",
        "    \n",
        "    @property\n",
        "    def x(self):\n",
        "        print(\"@property of x\")\n",
        "        return self.__x\n",
        "    \n",
        "    @x.setter\n",
        "    def x(self, x):\n",
        "        print(\"@setter for x\")\n",
        "        self.__x = x\n",
        "\n",
        "    @property\n",
        "    def y(self):\n",
        "        print(\"@property of y\")\n",
        "        return self.__y\n",
        "\n",
        "    @y.setter\n",
        "    def y(self, y):\n",
        "        print(\"@setter for y\")\n",
        "        self.__y = y\n",
        "    \n",
        "    def set(self, x, y):\n",
        "        self.__x = x\n",
        "        self.__y = y\n",
        "    \n",
        "    def move(self, dx, dy): # <---- Ny move-metod.\n",
        "        self.__x += dx\n",
        "        self.__y += dy\n"
      ],
      "execution_count": null,
      "outputs": []
    },
    {
      "cell_type": "markdown",
      "metadata": {
        "lang": "en",
        "id": "x0HXtAJtT0CC"
      },
      "source": [
        "We can now use **. Move ()** to move our points:"
      ]
    },
    {
      "cell_type": "code",
      "metadata": {
        "id": "p8Kh5SNEOZqR",
        "colab": {
          "base_uri": "https://localhost:8080/"
        },
        "outputId": "a0ad40f7-df93-4e5e-dca9-c863afb1cf3b"
      },
      "source": [
        "p0 = Point()\n",
        "p1 = Point()\n",
        "p0.move(10.0, 20.0)\n",
        "p1.move(-5.0, -5.0)\n",
        "\n",
        "print(p0.x, p0.y)\n",
        "print(p1.x, p1.y)"
      ],
      "execution_count": null,
      "outputs": [
        {
          "output_type": "stream",
          "name": "stdout",
          "text": [
            "@property of x\n",
            "@property of y\n",
            "10.0 20.0\n",
            "@property of x\n",
            "@property of y\n",
            "-5.0 -5.0\n"
          ]
        }
      ]
    },
    {
      "cell_type": "markdown",
      "metadata": {
        "lang": "en",
        "id": "AF2Nyi68T0CS"
      },
      "source": [
        "Another method that can be implemented is a method for copying the attributes from another instance of the same object **.copy_from()**:"
      ]
    },
    {
      "cell_type": "code",
      "metadata": {
        "id": "XHGC8fx5OZqb"
      },
      "source": [
        "class Point:\n",
        "    def __init__(self, x=0.0, y=0.0):\n",
        "        self.__x = x\n",
        "        self.__y = y\n",
        "    \n",
        "    @property\n",
        "    def x(self):\n",
        "        print(\"@property of x\")\n",
        "        return self.__x\n",
        "    \n",
        "    @x.setter\n",
        "    def x(self, x):\n",
        "        print(\"@setter for x\")\n",
        "        self.__x = x\n",
        "\n",
        "    @property\n",
        "    def y(self):\n",
        "        print(\"@property of y\")\n",
        "        return self.__y\n",
        "\n",
        "    @y.setter\n",
        "    def y(self, y):\n",
        "        print(\"@setter for y\")\n",
        "        self.__y = y\n",
        "    \n",
        "    def set(self, x, y):\n",
        "        self.__x = x\n",
        "        self.__y = y\n",
        "    \n",
        "    def move(self, dx, dy): \n",
        "        self.__x += dx\n",
        "        self.__y += dy\n",
        "        \n",
        "    def copy_from(self, p): # <---- Ny metod\n",
        "        self.__x = p.x\n",
        "        self.__y = p.y\n",
        "    "
      ],
      "execution_count": null,
      "outputs": []
    },
    {
      "cell_type": "markdown",
      "metadata": {
        "lang": "en",
        "id": "BhLhKAsPT0CZ"
      },
      "source": [
        "How this method is used is shown below:"
      ]
    },
    {
      "cell_type": "code",
      "metadata": {
        "id": "WVPr0di4OZqd",
        "colab": {
          "base_uri": "https://localhost:8080/"
        },
        "outputId": "52ae9f82-0be4-4ed9-bcda-c78afa003183"
      },
      "source": [
        "p0 = Point()\n",
        "p1 = Point()\n",
        "\n",
        "p0.move(10.0, 20.0)\n",
        "p1.move(-5.0, -5.0)\n",
        "\n",
        "print(p0.x, p0.x)\n",
        "print(p1.x, p1.x)\n",
        "\n",
        "p1.copy_from(p0)\n",
        "\n",
        "print(p1.x, p1.x)"
      ],
      "execution_count": null,
      "outputs": [
        {
          "output_type": "stream",
          "name": "stdout",
          "text": [
            "@property of x\n",
            "@property of x\n",
            "10.0 10.0\n",
            "@property of x\n",
            "@property of x\n",
            "-5.0 -5.0\n",
            "@property of x\n",
            "@property of y\n",
            "@property of x\n",
            "@property of x\n",
            "10.0 10.0\n"
          ]
        }
      ]
    },
    {
      "cell_type": "markdown",
      "metadata": {
        "lang": "en",
        "id": "7j3G21_UT0Cj"
      },
      "source": [
        "# Special instance methods\n",
        "\n",
        "There are a variety of special instance methods for implementing extra functionality on objects **__ init __** is one of them\n",
        "**__str __** is used to convert an object to a printable form with **print()**\n",
        "\n",
        "Using **print()** on an instance without the **__str__** method produces the following printout."
      ]
    },
    {
      "cell_type": "code",
      "metadata": {
        "id": "Ktl2m3p6OZqh",
        "colab": {
          "base_uri": "https://localhost:8080/"
        },
        "outputId": "e227a28e-6bb1-4be3-ec92-75838d83e9cb"
      },
      "source": [
        "p = Point()\n",
        "print(p)"
      ],
      "execution_count": null,
      "outputs": [
        {
          "output_type": "stream",
          "name": "stdout",
          "text": [
            "<__main__.Point object at 0x7fb354ad4bd0>\n"
          ]
        }
      ]
    },
    {
      "cell_type": "markdown",
      "metadata": {
        "lang": "en",
        "id": "YLCPXoS1T0Cr"
      },
      "source": [
        "It would be nicer if the item could print in a more presentable way:"
      ]
    },
    {
      "cell_type": "code",
      "metadata": {
        "id": "QJLZAAs1OZql"
      },
      "source": [
        "class Point:\n",
        "    def __init__(self, x=0.0, y=0.0):\n",
        "        self.__x = x\n",
        "        self.__y = y\n",
        "    \n",
        "    @property\n",
        "    def x(self):\n",
        "        return self.__x\n",
        "    \n",
        "    @x.setter\n",
        "    def x(self, x):\n",
        "        self.__x = x\n",
        "\n",
        "    @property\n",
        "    def y(self):\n",
        "        return self.__y\n",
        "\n",
        "    @y.setter\n",
        "    def y(self, y):\n",
        "        self.__y = y\n",
        "    \n",
        "    def set(self, x, y):\n",
        "        self.__x = x\n",
        "        self.__y = y\n",
        "    \n",
        "    def move(self, dx, dy): \n",
        "        self.__x += dx\n",
        "        self.__y += dy\n",
        "        \n",
        "    def copy_from(self, p):\n",
        "        self.__x = p.x\n",
        "        self.__y = p.y\n",
        "        \n",
        "    def __str__(self): # <---- New __str__ method\n",
        "        return \"Point(\"+str(self.__x)+\", \"+str(self.__y)+\")\""
      ],
      "execution_count": null,
      "outputs": []
    },
    {
      "cell_type": "markdown",
      "metadata": {
        "lang": "en",
        "id": "u8ekw3mhT0Cz"
      },
      "source": [
        "If we use the same code to print, we get instead:"
      ]
    },
    {
      "cell_type": "code",
      "metadata": {
        "id": "HLQsLHXWOZqn",
        "colab": {
          "base_uri": "https://localhost:8080/"
        },
        "outputId": "87a931f7-b247-4998-b99b-d293e3c52682"
      },
      "source": [
        "p = Point()\n",
        "\n",
        "p.x = 42.0\n",
        "p.y = 84.0\n",
        "\n",
        "print(p)"
      ],
      "execution_count": null,
      "outputs": [
        {
          "output_type": "stream",
          "name": "stdout",
          "text": [
            "Point(42.0, 84.0)\n"
          ]
        }
      ]
    },
    {
      "cell_type": "markdown",
      "metadata": {
        "lang": "en",
        "id": "ALCFtAT3T0C6"
      },
      "source": [
        "## Classes as data types\n",
        "\n",
        "Custom classes can be used as any other Python data type. Instances or objects can be stored in lists or reference lists just like any other data type.\n",
        "\n",
        "A list of **Point** objects can be created with the following code:"
      ]
    },
    {
      "cell_type": "code",
      "metadata": {
        "id": "xB261oIqOZqx"
      },
      "source": [
        "import random\n",
        "\n",
        "points = []\n",
        "\n",
        "for i in range(10):\n",
        "    points.append(Point(random.random(), random.random()))"
      ],
      "execution_count": null,
      "outputs": []
    },
    {
      "cell_type": "markdown",
      "metadata": {
        "lang": "en",
        "id": "LJ3E0l1BT0DC"
      },
      "source": [
        "or"
      ]
    },
    {
      "cell_type": "code",
      "metadata": {
        "id": "JR6gOFhMOZq3"
      },
      "source": [
        "points = [Point(random.random(), random.random()) for i in range(10)]"
      ],
      "execution_count": null,
      "outputs": []
    },
    {
      "cell_type": "markdown",
      "metadata": {
        "lang": "en",
        "id": "9rgGvb1CT0DK"
      },
      "source": [
        "Because the **Point** class implements a **__ str __** method, you can easily print the list:"
      ]
    },
    {
      "cell_type": "code",
      "metadata": {
        "id": "PmTSIDwtOZq6",
        "colab": {
          "base_uri": "https://localhost:8080/"
        },
        "outputId": "a524daa8-cbba-4b45-a1ff-adee61f18185"
      },
      "source": [
        "for p in points:\n",
        "    print(p)"
      ],
      "execution_count": null,
      "outputs": [
        {
          "output_type": "stream",
          "name": "stdout",
          "text": [
            "Point(0.3857974537013662, 0.5640742271316854)\n",
            "Point(0.7544535055945951, 0.5846798233886342)\n",
            "Point(0.580484715643752, 0.9046508169199678)\n",
            "Point(0.6061335635767761, 0.827873747062243)\n",
            "Point(0.6092994937800251, 0.10933139636783684)\n",
            "Point(0.1652448911027946, 0.437150595792252)\n",
            "Point(0.4542017348769779, 0.4999706144957433)\n",
            "Point(0.48037711973002206, 0.2108545528121678)\n",
            "Point(0.5753156867812115, 0.5559555206130035)\n",
            "Point(0.7325373374777826, 0.03492599761571502)\n"
          ]
        }
      ]
    },
    {
      "cell_type": "markdown",
      "metadata": {
        "lang": "en",
        "id": "foX9qklZT0DQ"
      },
      "source": [
        "Variable references work the same way as for built-in Python data types:"
      ]
    },
    {
      "cell_type": "code",
      "metadata": {
        "id": "BnngOgHeOZrB",
        "colab": {
          "base_uri": "https://localhost:8080/"
        },
        "outputId": "4ef75312-c51f-4672-c9f8-ad4928e4e921"
      },
      "source": [
        "p0 = Point(0.0, 0.0)\n",
        "p1 = Point(1.0, 2.0)\n",
        "\n",
        "p2 = p0\n",
        "p3 = p1\n",
        "\n",
        "print(id(p0))\n",
        "print(id(p1))\n",
        "print(id(p2))\n",
        "print(id(p3))"
      ],
      "execution_count": null,
      "outputs": [
        {
          "output_type": "stream",
          "name": "stdout",
          "text": [
            "140408196542672\n",
            "140408196542608\n",
            "140408196542672\n",
            "140408196542608\n"
          ]
        }
      ]
    },
    {
      "cell_type": "markdown",
      "metadata": {
        "lang": "en",
        "id": "0QmWlFz2T0Da"
      },
      "source": [
        "# Class inheritance\n",
        "\n"
      ]
    },
    {
      "cell_type": "code",
      "metadata": {
        "id": "osly9MwVOZrH"
      },
      "source": [
        "class Circle(Point):\n",
        "    def __init__(self, x=0.0, y=0.0, r=1.0):\n",
        "        super().__init__(x, y) # <--- Call inherited constructor of Point-class\n",
        "        self.__r = r\n",
        "    \n",
        "    @property\n",
        "    def r(self):\n",
        "        return self.__r\n",
        "\n",
        "    @r.setter\n",
        "    def r(self, r):\n",
        "        self.__r = r\n",
        "        \n",
        "    def copy_from(self, c):\n",
        "        super().copy_from(c)\n",
        "        self.r = c.r\n",
        "    \n",
        "    def __str__(self):\n",
        "        return \"Circle(\"+str(self.x)+\", \"+str(self.y)+\", \"+str(self.__r)+\")\"\n"
      ],
      "execution_count": null,
      "outputs": []
    },
    {
      "cell_type": "markdown",
      "metadata": {
        "id": "z7WaBlZ8OZrI"
      },
      "source": [
        "Vi kan nu använda klassen i följande exempel:\n"
      ]
    },
    {
      "cell_type": "code",
      "metadata": {
        "id": "kF5A0FAaOZrJ",
        "colab": {
          "base_uri": "https://localhost:8080/"
        },
        "outputId": "f78ff631-2959-493e-ce18-30234d2f7037"
      },
      "source": [
        "p = Point(1.0, 2.0)\n",
        "c = Circle(2.0, 4.0, 8.0)\n",
        "\n",
        "c.r = 10.0\n",
        "\n",
        "p.move(1.0, 1.0)\n",
        "c.move(1.0, 1.0)\n",
        "\n",
        "print(p)\n",
        "print(c)"
      ],
      "execution_count": null,
      "outputs": [
        {
          "output_type": "stream",
          "name": "stdout",
          "text": [
            "Point(2.0, 3.0)\n",
            "Circle(3.0, 5.0, 10.0)\n"
          ]
        }
      ]
    },
    {
      "cell_type": "markdown",
      "metadata": {
        "lang": "en",
        "id": "9MVVlIO_T0Du"
      },
      "source": [
        "# Composite classes\n",
        "\n",
        "* In many cases, classes will refer to one or more objects.\n",
        "* This type of object is called composite object\n",
        "* In many cases objects will consist of other objects or references to objects\n",
        "* These kind of objects are referred to as composite objects.\n",
        "\n",
        "A typical example is a **Line** class that handles a line between two **Point** instances."
      ]
    },
    {
      "cell_type": "code",
      "metadata": {
        "id": "EKtgAcuiOZrN"
      },
      "source": [
        "class Line:\n",
        "    def __init__(self):\n",
        "        self.__p0 = Point()\n",
        "        self.__p1 = Point()\n",
        "    \n",
        "    @property\n",
        "    def p0(self):\n",
        "        return self.__p0\n",
        "\n",
        "    @property\n",
        "    def p1(self):\n",
        "        return self.__p1\n",
        "\n",
        "    def __str__(self):\n",
        "        return \"Line from: \" + str(self.__p0) + \" to \" + str(self.__p1)\n",
        "\n"
      ],
      "execution_count": null,
      "outputs": []
    },
    {
      "cell_type": "markdown",
      "metadata": {
        "lang": "en",
        "id": "cNtD5pceT0D6"
      },
      "source": [
        "Note that the **Line** class does not inherit from **Point**. It only refers to instances of type **Point**."
      ]
    },
    {
      "cell_type": "code",
      "metadata": {
        "id": "_Ku6WSAJOZrP",
        "colab": {
          "base_uri": "https://localhost:8080/",
          "height": 218
        },
        "outputId": "c57a30bb-58a7-45f4-f804-63e91d86e5ce"
      },
      "source": [
        "line = Line()\n",
        "line.p0.x = 0.0\n",
        "line.p0.y = 2.0\n",
        "line.p1.x = 3.0\n",
        "line.p1.y = 4.0\n",
        "\n",
        "line.p0 = Point(0.0, 0.0)\n",
        "print(line)\n"
      ],
      "execution_count": null,
      "outputs": [
        {
          "output_type": "error",
          "ename": "AttributeError",
          "evalue": "ignored",
          "traceback": [
            "\u001b[0;31m---------------------------------------------------------------------------\u001b[0m",
            "\u001b[0;31mAttributeError\u001b[0m                            Traceback (most recent call last)",
            "\u001b[0;32m<ipython-input-68-85b886e3ad31>\u001b[0m in \u001b[0;36m<module>\u001b[0;34m\u001b[0m\n\u001b[1;32m      5\u001b[0m \u001b[0mline\u001b[0m\u001b[0;34m.\u001b[0m\u001b[0mp1\u001b[0m\u001b[0;34m.\u001b[0m\u001b[0my\u001b[0m \u001b[0;34m=\u001b[0m \u001b[0;36m4.0\u001b[0m\u001b[0;34m\u001b[0m\u001b[0;34m\u001b[0m\u001b[0m\n\u001b[1;32m      6\u001b[0m \u001b[0;34m\u001b[0m\u001b[0m\n\u001b[0;32m----> 7\u001b[0;31m \u001b[0mline\u001b[0m\u001b[0;34m.\u001b[0m\u001b[0mp0\u001b[0m \u001b[0;34m=\u001b[0m \u001b[0mPoint\u001b[0m\u001b[0;34m(\u001b[0m\u001b[0;36m0.0\u001b[0m\u001b[0;34m,\u001b[0m \u001b[0;36m0.0\u001b[0m\u001b[0;34m)\u001b[0m\u001b[0;34m\u001b[0m\u001b[0;34m\u001b[0m\u001b[0m\n\u001b[0m\u001b[1;32m      8\u001b[0m \u001b[0mprint\u001b[0m\u001b[0;34m(\u001b[0m\u001b[0mline\u001b[0m\u001b[0;34m)\u001b[0m\u001b[0;34m\u001b[0m\u001b[0;34m\u001b[0m\u001b[0m\n",
            "\u001b[0;31mAttributeError\u001b[0m: can't set attribute"
          ]
        }
      ]
    },
    {
      "cell_type": "markdown",
      "metadata": {
        "lang": "en",
        "id": "PN1MbAvQT0EC"
      },
      "source": [
        "In this example, the **Point** instances cannot be modified as they can only be accessed by the **get_p0 ()** and **get_p1 ()** methods. The **x** and **y** attributes of the **Point** class can still be modified.\n",
        "\n",
        "It would also have been possible to modify the class to allow the assignment of the instance properties **p0** and **p1**."
      ]
    },
    {
      "cell_type": "code",
      "metadata": {
        "id": "5xV7kS-XOZrS"
      },
      "source": [
        "class Line:\n",
        "    def __init__(self):\n",
        "        self.__p0 = Point()\n",
        "        self.__p1 = Point()\n",
        "    \n",
        "    @property\n",
        "    def p0(self):\n",
        "        return self.__p0\n",
        "\n",
        "    @p0.setter\n",
        "    def p0(self, p):\n",
        "        self.__p0 = p\n",
        "\n",
        "    @property\n",
        "    def p1(self):\n",
        "        return self.__p1\n",
        "\n",
        "    @p1.setter\n",
        "    def p1(self, p):\n",
        "        self.__p1 = p\n",
        "  \n",
        "    def __str__(self):\n",
        "        return \"Line from: \" + str(self.__p0) + \" to \" + str(self.__p1)\n"
      ],
      "execution_count": null,
      "outputs": []
    },
    {
      "cell_type": "markdown",
      "metadata": {
        "lang": "en",
        "id": "XyvB5XBGT0EK"
      },
      "source": [
        "The class can now be used as follows:"
      ]
    },
    {
      "cell_type": "code",
      "metadata": {
        "id": "HAP2SQAmOZrT",
        "colab": {
          "base_uri": "https://localhost:8080/"
        },
        "outputId": "c7a24887-6d59-4b6e-efb5-696d887a1d91"
      },
      "source": [
        "line = Line()\n",
        "line.p0.x = 0.0\n",
        "line.p0.y = 2.0\n",
        "line.p1.x = 3.0\n",
        "line.p1.y = 4.0\n",
        "\n",
        "print(line)\n",
        "\n",
        "p3 = Point(5.0, 5.0)\n",
        "p4 = Point(10.0, 10.0)\n",
        "line.p0 = p3\n",
        "line.p1 = p4\n",
        "\n",
        "print(line)"
      ],
      "execution_count": null,
      "outputs": [
        {
          "output_type": "stream",
          "name": "stdout",
          "text": [
            "Line from: Point(0.0, 2.0) to Point(3.0, 4.0)\n",
            "Line from: Point(5.0, 5.0) to Point(10.0, 10.0)\n"
          ]
        }
      ]
    },
    {
      "cell_type": "markdown",
      "metadata": {
        "lang": "en",
        "id": "RP7l5P_XT0EU"
      },
      "source": [
        "A method for calculating the length can easily be added:"
      ]
    },
    {
      "cell_type": "code",
      "metadata": {
        "id": "qp1rMBX3OZrY"
      },
      "source": [
        "import math\n",
        "\n",
        "class Line:\n",
        "    def __init__(self):\n",
        "        self.__p0 = Point()\n",
        "        self.__p1 = Point()\n",
        "    \n",
        "    @property\n",
        "    def p0(self):\n",
        "        return self.__p0\n",
        "\n",
        "    @p0.setter\n",
        "    def p0(self, p):\n",
        "        self.__p0 = p\n",
        "\n",
        "    @property\n",
        "    def p1(self):\n",
        "        return self.__p1\n",
        "\n",
        "    @p1.setter\n",
        "    def p1(self, p):\n",
        "        self.__p1 = p\n",
        "    \n",
        "    @property\n",
        "    def length(self):\n",
        "        return math.sqrt(math.pow(self.p1.x - self.p0.x, 2) +\n",
        "            math.pow(self.p1.y - self.p0.y, 2))        \n",
        "    \n",
        "    def __str__(self):\n",
        "        return \"Line from: \" + str(self.__p0) + \" to \" + str(self.__p1)\n"
      ],
      "execution_count": null,
      "outputs": []
    },
    {
      "cell_type": "markdown",
      "metadata": {
        "lang": "en",
        "id": "jG5J8QMST0Eb"
      },
      "source": [
        "Examples of use:"
      ]
    },
    {
      "cell_type": "code",
      "metadata": {
        "id": "Di1LNoqEOZrm",
        "colab": {
          "base_uri": "https://localhost:8080/"
        },
        "outputId": "4b1c55f9-df88-41ad-bfd5-a584044f3bf2"
      },
      "source": [
        "line = Line()\n",
        "line.p0.x = 0.0\n",
        "line.p0.y = 2.0\n",
        "line.p1.x = 3.0\n",
        "line.p1.y = 4.0\n",
        "\n",
        "print(line.length)"
      ],
      "execution_count": null,
      "outputs": [
        {
          "output_type": "stream",
          "name": "stdout",
          "text": [
            "3.605551275463989\n"
          ]
        }
      ]
    },
    {
      "cell_type": "markdown",
      "metadata": {
        "lang": "en",
        "id": "ytzrx-TiT0Ej"
      },
      "source": [
        "# Polymorphism\n",
        "\n",
        "* Means that the correct method is called depending on which class instance is intended.\n",
        "* If a method is not available for the current instance class, the method in the above class will be called.\n",
        "* Polymorphism enables handling a mix of instances of different types and ensures that the correct method is called depending on the actual data type instances have.\n",
        "\n",
        "\n",
        "Example:"
      ]
    },
    {
      "cell_type": "code",
      "metadata": {
        "id": "13aahnZVOZrw",
        "colab": {
          "base_uri": "https://localhost:8080/"
        },
        "outputId": "0eb0e63f-4dc3-4bd6-96ea-011bac9dadd3"
      },
      "source": [
        "shapes = []\n",
        "\n",
        "shapes.append(Point(0.0, 1.0))\n",
        "shapes.append(Circle(2.0, 1.0, 3.0))\n",
        "shapes.append(Line())\n",
        "shapes.append(42.0)\n",
        "shapes.append(42)\n",
        "shapes.append(\"Hello\")\n",
        "\n",
        "for shape in shapes:\n",
        "    print(shape)"
      ],
      "execution_count": null,
      "outputs": [
        {
          "output_type": "stream",
          "name": "stdout",
          "text": [
            "Point(0.0, 1.0)\n",
            "Circle(2.0, 1.0, 3.0)\n",
            "Line from: Point(0.0, 0.0) to Point(0.0, 0.0)\n",
            "42.0\n",
            "42\n",
            "Hello\n"
          ]
        }
      ]
    },
    {
      "cell_type": "markdown",
      "metadata": {
        "lang": "en",
        "id": "pQ46uDZIT0Es"
      },
      "source": [
        "What does print (42.0) really mean?"
      ]
    },
    {
      "cell_type": "code",
      "metadata": {
        "id": "ILMfPtN4OZr3",
        "colab": {
          "base_uri": "https://localhost:8080/"
        },
        "outputId": "abbec1b9-c59e-401d-db9a-3705af55207f"
      },
      "source": [
        "print(42.0.__str__())"
      ],
      "execution_count": null,
      "outputs": [
        {
          "output_type": "stream",
          "name": "stdout",
          "text": [
            "42.0\n"
          ]
        }
      ]
    },
    {
      "cell_type": "code",
      "metadata": {
        "id": "u0zfn3MY1N0y",
        "colab": {
          "base_uri": "https://localhost:8080/"
        },
        "outputId": "917369ec-c2e1-45b9-b0a0-791f1ea82d74"
      },
      "source": [
        "shapes = []\n",
        "\n",
        "shapes.append(Point(0.0, 1.0))\n",
        "shapes.append(Circle(2.0, 1.0, 3.0))\n",
        "\n",
        "for shape in shapes:\n",
        "    shape.move(5,5)\n",
        "\n",
        "for shape in shapes:\n",
        "    print(shape)\n"
      ],
      "execution_count": null,
      "outputs": [
        {
          "output_type": "stream",
          "name": "stdout",
          "text": [
            "Point(5.0, 6.0)\n",
            "Circle(7.0, 6.0, 3.0)\n"
          ]
        }
      ]
    }
  ]
}